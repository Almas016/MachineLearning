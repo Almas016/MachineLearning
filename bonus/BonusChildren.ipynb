{
 "cells": [
  {
   "cell_type": "code",
   "execution_count": 23,
   "metadata": {},
   "outputs": [],
   "source": [
    "import numpy as np\n",
    "import pandas as pd\n",
    "import matplotlib.pyplot as plt\n",
    "\n",
    "import string\n",
    "from collections import Counter\n",
    "from pprint import pprint\n",
    "\n",
    "import nltk\n",
    "from nltk.corpus import stopwords\n",
    "from nltk.stem import PorterStemmer\n",
    "from nltk.tokenize import sent_tokenize, word_tokenize\n",
    "\n",
    "from sklearn.feature_extraction.text import TfidfVectorizer\n",
    "from sklearn.feature_extraction.text import CountVectorizer "
   ]
  },
  {
   "cell_type": "code",
   "execution_count": 24,
   "metadata": {},
   "outputs": [
    {
     "data": {
      "text/html": [
       "<div>\n",
       "<style scoped>\n",
       "    .dataframe tbody tr th:only-of-type {\n",
       "        vertical-align: middle;\n",
       "    }\n",
       "\n",
       "    .dataframe tbody tr th {\n",
       "        vertical-align: top;\n",
       "    }\n",
       "\n",
       "    .dataframe thead th {\n",
       "        text-align: right;\n",
       "    }\n",
       "</style>\n",
       "<table border=\"1\" class=\"dataframe\">\n",
       "  <thead>\n",
       "    <tr style=\"text-align: right;\">\n",
       "      <th></th>\n",
       "      <th>names</th>\n",
       "      <th>cats</th>\n",
       "      <th>desc</th>\n",
       "    </tr>\n",
       "  </thead>\n",
       "  <tbody>\n",
       "    <tr>\n",
       "      <th>0</th>\n",
       "      <td>HIDE AND SEEK</td>\n",
       "      <td>Age 2-9</td>\n",
       "      <td>Was it just another game of hide and seek? No....</td>\n",
       "    </tr>\n",
       "    <tr>\n",
       "      <th>1</th>\n",
       "      <td>GINGER THE GIRAFFE</td>\n",
       "      <td>Age 2-9</td>\n",
       "      <td>Read this warm tale of camaraderie and affecti...</td>\n",
       "    </tr>\n",
       "    <tr>\n",
       "      <th>2</th>\n",
       "      <td>DOING MY CHORES</td>\n",
       "      <td>Age 2-9</td>\n",
       "      <td>Love shines through this great illustrated kid...</td>\n",
       "    </tr>\n",
       "    <tr>\n",
       "      <th>3</th>\n",
       "      <td>ABE THE SERVICE DOG</td>\n",
       "      <td>Age 2-9</td>\n",
       "      <td>Abe was a real Service Dog who dedicated his l...</td>\n",
       "    </tr>\n",
       "    <tr>\n",
       "      <th>4</th>\n",
       "      <td>SUNNY MEADOWS WOODLAND SCHOOL</td>\n",
       "      <td>Age 2-9</td>\n",
       "      <td>The class took a little train and went deep in...</td>\n",
       "    </tr>\n",
       "    <tr>\n",
       "      <th>...</th>\n",
       "      <td>...</td>\n",
       "      <td>...</td>\n",
       "      <td>...</td>\n",
       "    </tr>\n",
       "    <tr>\n",
       "      <th>425</th>\n",
       "      <td>Carrying the Elephant: A Memoir of Love and Loss</td>\n",
       "      <td>Age 11+</td>\n",
       "      <td>In the 72 prose poems that make up this unusua...</td>\n",
       "    </tr>\n",
       "    <tr>\n",
       "      <th>426</th>\n",
       "      <td>War and Peas</td>\n",
       "      <td>Age 8+</td>\n",
       "      <td>Nearly forty years after its original appearan...</td>\n",
       "    </tr>\n",
       "    <tr>\n",
       "      <th>427</th>\n",
       "      <td>Love that Dog</td>\n",
       "      <td>Age 9-12</td>\n",
       "      <td>Jack has a great sadness in his life, but he i...</td>\n",
       "    </tr>\n",
       "    <tr>\n",
       "      <th>428</th>\n",
       "      <td>A Pilgrim's Progress</td>\n",
       "      <td>Age 9+</td>\n",
       "      <td>'I had a dream last night ... large enough to ...</td>\n",
       "    </tr>\n",
       "    <tr>\n",
       "      <th>429</th>\n",
       "      <td>Secret Friends</td>\n",
       "      <td>Age 7-11</td>\n",
       "      <td>At her new school, Rafaella suffers daily name...</td>\n",
       "    </tr>\n",
       "  </tbody>\n",
       "</table>\n",
       "<p>430 rows × 3 columns</p>\n",
       "</div>"
      ],
      "text/plain": [
       "                                                names      cats  \\\n",
       "0                                       HIDE AND SEEK   Age 2-9   \n",
       "1                                 GINGER THE GIRAFFE    Age 2-9   \n",
       "2                                     DOING MY CHORES   Age 2-9   \n",
       "3                                 ABE THE SERVICE DOG   Age 2-9   \n",
       "4                       SUNNY MEADOWS WOODLAND SCHOOL   Age 2-9   \n",
       "..                                                ...       ...   \n",
       "425  Carrying the Elephant: A Memoir of Love and Loss   Age 11+   \n",
       "426                                      War and Peas    Age 8+   \n",
       "427                                     Love that Dog  Age 9-12   \n",
       "428                              A Pilgrim's Progress    Age 9+   \n",
       "429                                    Secret Friends  Age 7-11   \n",
       "\n",
       "                                                  desc  \n",
       "0    Was it just another game of hide and seek? No....  \n",
       "1    Read this warm tale of camaraderie and affecti...  \n",
       "2    Love shines through this great illustrated kid...  \n",
       "3    Abe was a real Service Dog who dedicated his l...  \n",
       "4    The class took a little train and went deep in...  \n",
       "..                                                 ...  \n",
       "425  In the 72 prose poems that make up this unusua...  \n",
       "426  Nearly forty years after its original appearan...  \n",
       "427  Jack has a great sadness in his life, but he i...  \n",
       "428  'I had a dream last night ... large enough to ...  \n",
       "429  At her new school, Rafaella suffers daily name...  \n",
       "\n",
       "[430 rows x 3 columns]"
      ]
     },
     "execution_count": 24,
     "metadata": {},
     "output_type": "execute_result"
    }
   ],
   "source": [
    "children = pd.read_csv('children_stories.Csv', encoding= 'unicode_escape')\n",
    "children"
   ]
  },
  {
   "cell_type": "code",
   "execution_count": 25,
   "metadata": {},
   "outputs": [
    {
     "data": {
      "text/plain": [
       "8"
      ]
     },
     "execution_count": 25,
     "metadata": {},
     "output_type": "execute_result"
    }
   ],
   "source": [
    "children.duplicated().sum()"
   ]
  },
  {
   "cell_type": "markdown",
   "metadata": {},
   "source": [
    "# Stopwords and Stemming"
   ]
  },
  {
   "cell_type": "code",
   "execution_count": 26,
   "metadata": {},
   "outputs": [
    {
     "name": "stdout",
     "output_type": "stream",
     "text": [
      "0      another game hide seek? no. not. first fell de...\n",
      "1      read warm tale camaraderie affection set wild ...\n",
      "2      love shines great illustrated kidsâ book . r...\n",
      "3      abe real service dog dedicated life assisting ...\n",
      "4      class took little train went deep woods first ...\n",
      "                             ...                        \n",
      "425    72 prose poems make unusual moving collection,...\n",
      "426    nearly forty years original appearance, shamef...\n",
      "427    jack great sadness life, share feelings anyone...\n",
      "428    'i dream last night ... large enough fill rest...\n",
      "429    new school, rafaella suffers daily name-callin...\n",
      "Name: desc, Length: 430, dtype: object\n"
     ]
    }
   ],
   "source": [
    "stopWords = set(stopwords.words('english'))\n",
    "children['desc'] = children['desc'].apply(lambda x: \" \".join([item for item in (x.lower()).split(\" \") if item not in stopWords]))\n",
    "print(children['desc'])"
   ]
  },
  {
   "cell_type": "code",
   "execution_count": 27,
   "metadata": {},
   "outputs": [
    {
     "name": "stdout",
     "output_type": "stream",
     "text": [
      "0      another game hide seek? no. not. first fell de...\n",
      "1      read warm tale camaraderie affection set wild ...\n",
      "2      love shines great illustrated kidsâ book . r...\n",
      "3      abe real service dog dedicated life assisting ...\n",
      "4      class took little train went deep woods first ...\n",
      "                             ...                        \n",
      "425    72 prose poems make unusual moving collection,...\n",
      "426    nearly forty years original appearance, shamef...\n",
      "427    jack great sadness life, share feelings anyone...\n",
      "428    'i dream last night ... large enough fill rest...\n",
      "429    new school, rafaella suffers daily name-callin...\n",
      "Name: desc, Length: 430, dtype: object\n"
     ]
    }
   ],
   "source": [
    "pstemmer = PorterStemmer()\n",
    "children['desc'] = children['desc'].apply(lambda x: pstemmer.stem(x))\n",
    "print(children['desc'])"
   ]
  },
  {
   "cell_type": "markdown",
   "metadata": {},
   "source": [
    "# Bag of words and tfIdf"
   ]
  },
  {
   "cell_type": "code",
   "execution_count": 28,
   "metadata": {},
   "outputs": [
    {
     "name": "stdout",
     "output_type": "stream",
     "text": [
      "Bag of Words: (430, 6920)\n"
     ]
    }
   ],
   "source": [
    "wordsbag = CountVectorizer()\n",
    "Xwordsbag = wordsbag.fit_transform(children['desc'])\n",
    "print(\"Bag of Words:\", Xwordsbag.shape)"
   ]
  },
  {
   "cell_type": "code",
   "execution_count": 29,
   "metadata": {},
   "outputs": [
    {
     "name": "stdout",
     "output_type": "stream",
     "text": [
      "Words Vectorizer: (430, 6920)\n"
     ]
    }
   ],
   "source": [
    "vectorizer = TfidfVectorizer()\n",
    "XtfIdf = vectorizer.fit_transform(children['desc'])\n",
    "print(\"Words Vectorizer:\", XtfIdf.shape)"
   ]
  },
  {
   "cell_type": "markdown",
   "metadata": {},
   "source": [
    "# Tokenization"
   ]
  },
  {
   "cell_type": "code",
   "execution_count": 30,
   "metadata": {},
   "outputs": [
    {
     "data": {
      "text/plain": [
       "'another game hide seek? no. not. first fell deep, dark hole ground found treasure. end there? no! not. read thrilling adventure sally friends free illustrated kidsâ\\x80\\x99 book. fun never ends sallyâ\\x80\\x99s around! '"
      ]
     },
     "execution_count": 30,
     "metadata": {},
     "output_type": "execute_result"
    }
   ],
   "source": [
    "text = children['desc'][0]\n",
    "text"
   ]
  },
  {
   "cell_type": "code",
   "execution_count": 31,
   "metadata": {},
   "outputs": [],
   "source": [
    "ListWords = []\n",
    "for word in text.split():\n",
    "    while word[0] in string.punctuation:  word = word[1:]\n",
    "    while word[-1] in string.punctuation: word = word[:-1]\n",
    "    ListWords.append(word.lower())        "
   ]
  },
  {
   "cell_type": "code",
   "execution_count": 32,
   "metadata": {},
   "outputs": [
    {
     "name": "stdout",
     "output_type": "stream",
     "text": [
      "{'adventure': 18,\n",
      " 'another': 0,\n",
      " 'around': 29,\n",
      " 'book': 24,\n",
      " 'dark': 9,\n",
      " 'deep': 8,\n",
      " 'end': 14,\n",
      " 'ends': 27,\n",
      " 'fell': 7,\n",
      " 'first': 6,\n",
      " 'found': 12,\n",
      " 'free': 21,\n",
      " 'friends': 20,\n",
      " 'fun': 25,\n",
      " 'game': 1,\n",
      " 'ground': 11,\n",
      " 'hide': 2,\n",
      " 'hole': 10,\n",
      " 'illustrated': 22,\n",
      " 'kidsâ\\x80\\x99': 23,\n",
      " 'never': 26,\n",
      " 'no': 4,\n",
      " 'not': 5,\n",
      " 'read': 16,\n",
      " 'sally': 19,\n",
      " 'sallyâ\\x80\\x99s': 28,\n",
      " 'seek': 3,\n",
      " 'there': 15,\n",
      " 'thrilling': 17,\n",
      " 'treasure': 13}\n"
     ]
    }
   ],
   "source": [
    "dictionaryWords = {}\n",
    "vocabulary_size = 0\n",
    "\n",
    "for word in ListWords:\n",
    "    if word not in dictionaryWords:\n",
    "        dictionaryWords[word] = vocabulary_size\n",
    "        vocabulary_size += 1\n",
    "        \n",
    "pprint(dictionaryWords)"
   ]
  },
  {
   "cell_type": "markdown",
   "metadata": {},
   "source": [
    "# One-hot encoding"
   ]
  },
  {
   "cell_type": "code",
   "execution_count": 33,
   "metadata": {},
   "outputs": [
    {
     "name": "stdout",
     "output_type": "stream",
     "text": [
      "[0. 0. 0. 0. 0. 0. 0. 0. 0. 0. 0. 0. 0. 0. 0. 0. 0. 0. 1. 0. 0. 0. 0. 0.\n",
      " 0. 0. 0. 0. 0. 0.]\n"
     ]
    }
   ],
   "source": [
    "def one_hot(word, dictionaryWords):\n",
    "    vector = np.zeros(len(dictionaryWords))\n",
    "    vector[dictionaryWords[word]] = 1\n",
    "    return vector\n",
    "print(one_hot(\"adventure\", dictionaryWords))"
   ]
  },
  {
   "cell_type": "markdown",
   "metadata": {},
   "source": [
    "# Bag of words"
   ]
  },
  {
   "cell_type": "code",
   "execution_count": 20,
   "metadata": {},
   "outputs": [
    {
     "name": "stdout",
     "output_type": "stream",
     "text": [
      "Counter({'no': 2,\n",
      "         'not': 2,\n",
      "         'another': 1,\n",
      "         'game': 1,\n",
      "         'hide': 1,\n",
      "         'seek': 1,\n",
      "         'first': 1,\n",
      "         'fell': 1,\n",
      "         'deep': 1,\n",
      "         'dark': 1,\n",
      "         'hole': 1,\n",
      "         'ground': 1,\n",
      "         'found': 1,\n",
      "         'treasure': 1,\n",
      "         'end': 1,\n",
      "         'there': 1,\n",
      "         'read': 1,\n",
      "         'thrilling': 1,\n",
      "         'adventure': 1,\n",
      "         'sally': 1,\n",
      "         'friends': 1,\n",
      "         'free': 1,\n",
      "         'illustrated': 1,\n",
      "         'kidsâ\\x80\\x99': 1,\n",
      "         'book': 1,\n",
      "         'fun': 1,\n",
      "         'never': 1,\n",
      "         'ends': 1,\n",
      "         'sallyâ\\x80\\x99s': 1,\n",
      "         'around': 1})\n"
     ]
    }
   ],
   "source": [
    "vectorText = np.zeros(vocabulary_size)\n",
    "\n",
    "for word in ListWords: vectorText[dictionaryWords[word]] += 1\n",
    "    \n",
    "vectorText[dictionaryWords[\"another\"]]\n",
    "\n",
    "word_counts = Counter(ListWords)\n",
    "pprint(word_counts)"
   ]
  },
  {
   "cell_type": "code",
   "execution_count": 34,
   "metadata": {},
   "outputs": [
    {
     "name": "stdout",
     "output_type": "stream",
     "text": [
      "{'adventure': 18,\n",
      " 'another': 0,\n",
      " 'around': 29,\n",
      " 'book': 24,\n",
      " 'dark': 9,\n",
      " 'deep': 8,\n",
      " 'end': 14,\n",
      " 'ends': 27,\n",
      " 'fell': 7,\n",
      " 'first': 6,\n",
      " 'found': 12,\n",
      " 'free': 21,\n",
      " 'friends': 20,\n",
      " 'fun': 25,\n",
      " 'game': 1,\n",
      " 'ground': 11,\n",
      " 'hide': 2,\n",
      " 'hole': 10,\n",
      " 'illustrated': 22,\n",
      " 'kidsâ\\x80\\x99': 23,\n",
      " 'never': 26,\n",
      " 'no': 4,\n",
      " 'not': 5,\n",
      " 'read': 16,\n",
      " 'sally': 19,\n",
      " 'sallyâ\\x80\\x99s': 28,\n",
      " 'seek': 3,\n",
      " 'there': 15,\n",
      " 'thrilling': 17,\n",
      " 'treasure': 13}\n"
     ]
    }
   ],
   "source": [
    "items = list(word_counts.items())\n",
    "dictionaryWords2 = dict([[items[i][0], i] for i in range(len(items))])\n",
    "pprint(dictionaryWords2)"
   ]
  }
 ],
 "metadata": {
  "kernelspec": {
   "display_name": "Python 3",
   "language": "python",
   "name": "python3"
  },
  "language_info": {
   "codemirror_mode": {
    "name": "ipython",
    "version": 3
   },
   "file_extension": ".py",
   "mimetype": "text/x-python",
   "name": "python",
   "nbconvert_exporter": "python",
   "pygments_lexer": "ipython3",
   "version": "3.8.3"
  }
 },
 "nbformat": 4,
 "nbformat_minor": 4
}
