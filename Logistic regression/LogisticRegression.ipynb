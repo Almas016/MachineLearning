{
 "cells": [
  {
   "cell_type": "code",
   "execution_count": 1,
   "metadata": {},
   "outputs": [],
   "source": [
    "import random\n",
    "import numpy as np\n",
    "import matplotlib.pyplot as plt\n",
    "import matplotlib.cm as cm\n",
    "import scipy.io\n",
    "from scipy.io import loadmat\n",
    "import scipy.optimize"
   ]
  },
  {
   "cell_type": "markdown",
   "metadata": {},
   "source": [
    "#### Data"
   ]
  },
  {
   "cell_type": "code",
   "execution_count": 2,
   "metadata": {},
   "outputs": [
    {
     "name": "stdout",
     "output_type": "stream",
     "text": [
      "Y shape: (5000, 1)\n",
      "Class labels: [1, 2, 3, 4, 5, 6, 7, 8, 9, 10]\n",
      "X shape: (5000, 400). X[0]shape: 400\n"
     ]
    }
   ],
   "source": [
    "mat = loadmat('digits.mat')\n",
    "X = mat['X']\n",
    "y = mat['y']\n",
    "label = [1,2,3,4,5,6,7,8,9,10]\n",
    "\n",
    "print(\"Y shape: {}\".format(y.shape))\n",
    "print(\"Class labels: {0}\".format(label))\n",
    "print(\"X shape: {0}. X[0]shape: {1}\".format(X.shape, X.shape[1]))\n",
    "\n",
    "#Convert 2D matrix to 1D array. Thanks to the squeeze function.\n",
    "y = np.squeeze(mat['y'])\n",
    "#Because of array indexing issues in Matlab. We are replacing the label 10 with 0.\n",
    "np.place(y, y == 10, 0)"
   ]
  },
  {
   "cell_type": "markdown",
   "metadata": {},
   "source": [
    "#### Data visualization"
   ]
  },
  {
   "cell_type": "code",
   "execution_count": 3,
   "metadata": {},
   "outputs": [],
   "source": [
    "def displayData():\n",
    "    #Random digit image\n",
    "    rdi = X[random.randint(0,len(X))]\n",
    "    rdis = rdi.reshape(20,20) #random digit image shaped\n",
    "    plt.imshow(rdis)"
   ]
  },
  {
   "cell_type": "code",
   "execution_count": 4,
   "metadata": {},
   "outputs": [
    {
     "data": {
      "image/png": "[encoded data removed]",
      "text/plain": [
       "<Figure size 432x288 with 1 Axes>"
      ]
     },
     "metadata": {
      "needs_background": "light"
     },
     "output_type": "display_data"
    }
   ],
   "source": [
    "displayData()"
   ]
  },
  {
   "cell_type": "markdown",
   "metadata": {},
   "source": [
    "#### Hypothesis and cost fucntions"
   ]
  },
  {
   "cell_type": "code",
   "execution_count": 5,
   "metadata": {},
   "outputs": [],
   "source": [
    "def hypothesis(X, theta):\n",
    "    return np.dot(X, theta)\n",
    "\n",
    "\"\"\"\n",
    "If the output is 0.5, both classes are equally probable as far as the classifier is concerned.\n",
    "If the output is 1, the classifier is 100% confident about class 1.\n",
    "If the output is 0, the classifier is 100% confident about class 0.\n",
    "\"\"\"\n",
    "def sigmoid(z):\n",
    "    return 1 / (1 + np.exp(-z))\n",
    "\n",
    "#Cost Function\n",
    "def costF(theta, X, y):\n",
    "    predictions = sigmoid(hypothesis(X, theta))\n",
    "    #if log(1)=0, it will cause a division error\n",
    "    predictions[predictions == 1] = 0.999 \n",
    "    error = (-y * np.log(predictions )) - ((1-y)*np.log(1-predictions ))\n",
    "    return sum(error) / len(y);"
   ]
  },
  {
   "cell_type": "markdown",
   "metadata": {
    "collapsed": true
   },
   "source": [
    "#### Gradient descent algorithm"
   ]
  },
  {
   "cell_type": "code",
   "execution_count": 6,
   "metadata": {},
   "outputs": [],
   "source": [
    "def Gradient(theta, X, y):\n",
    "    predictions = sigmoid(hypothesis(X, theta))\n",
    "    return np.dot(X.transpose(),(predictions - y)) / len(y)"
   ]
  },
  {
   "cell_type": "markdown",
   "metadata": {},
   "source": [
    "#### One vs all classification"
   ]
  },
  {
   "cell_type": "code",
   "execution_count": 7,
   "metadata": {},
   "outputs": [],
   "source": [
    "x = np.ones(shape=(X.shape[0], X.shape[1] + 1)) \n",
    "x[:, 1 :] = X\n",
    "\n",
    "#We need 10 sets of model parameters, each consisting of 401 parameters including the intercept term\n",
    "sorter = np.zeros(shape=(len(label), x.shape[1]))\n",
    "\n",
    "for i in range(len(label)):\n",
    "    sticker = (y==i).astype(int) #sticker vector in each iteration\n",
    "    theta = np.zeros(x.shape[1])\n",
    "    sorter[i,:] = scipy.optimize.fmin_cg(costF, theta, Gradient, (x, sticker), disp=0)\n",
    "    \n",
    "#This gives us a matrix of 5000 rows and 10 columns.\n",
    "#Each column corresponds to the class probability estimates for all images.\n",
    "CP = sigmoid(hypothesis(x, sorter.transpose()))#Class Probabilities\n",
    "\n",
    "predictions = CP.argmax(axis=1) #select the sticker with the highest probability in each row"
   ]
  },
  {
   "cell_type": "markdown",
   "metadata": {},
   "source": [
    "#### Calculate accuracy"
   ]
  },
  {
   "cell_type": "code",
   "execution_count": 8,
   "metadata": {},
   "outputs": [
    {
     "name": "stdout",
     "output_type": "stream",
     "text": [
      "Accuracy:98.16%\n"
     ]
    }
   ],
   "source": [
    "print(\"Accuracy:{0}%\".format(np.mean(predictions == y)*100))"
   ]
  }
 ],
 "metadata": {
  "kernelspec": {
   "display_name": "Python 3",
   "language": "python",
   "name": "python3"
  },
  "language_info": {
   "codemirror_mode": {
    "name": "ipython",
    "version": 3
   },
   "file_extension": ".py",
   "mimetype": "text/x-python",
   "name": "python",
   "nbconvert_exporter": "python",
   "pygments_lexer": "ipython3",
   "version": "3.8.3"
  }
 },
 "nbformat": 4,
 "nbformat_minor": 1
}
