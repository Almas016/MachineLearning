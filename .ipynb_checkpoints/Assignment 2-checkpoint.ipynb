{
 "cells": [
  {
   "cell_type": "markdown",
   "metadata": {},
   "source": [
    "Import needed libraries:"
   ]
  },
  {
   "cell_type": "code",
   "execution_count": 1,
   "metadata": {},
   "outputs": [],
   "source": [
    "import numpy as np\n",
    "import pandas as pd\n",
    "import matplotlib.pyplot as plt"
   ]
  },
  {
   "cell_type": "markdown",
   "metadata": {},
   "source": [
    "read the dataset:"
   ]
  },
  {
   "cell_type": "code",
   "execution_count": 2,
   "metadata": {},
   "outputs": [],
   "source": [
    "data = pd.read_csv(\"student_scores.csv\")"
   ]
  },
  {
   "cell_type": "markdown",
   "metadata": {},
   "source": [
    "visualize the dataset using scatterplot:"
   ]
  },
  {
   "cell_type": "code",
   "execution_count": 3,
   "metadata": {},
   "outputs": [
    {
     "data": {
      "text/plain": [
       "Text(0, 0.5, 'Scores')"
      ]
     },
     "execution_count": 3,
     "metadata": {},
     "output_type": "execute_result"
    },
    {
     "data": {
      "image/png": "[encoded data removed]",
      "text/plain": [
       "<Figure size 432x288 with 1 Axes>"
      ]
     },
     "metadata": {
      "needs_background": "light"
     },
     "output_type": "display_data"
    }
   ],
   "source": [
    "fig, ax = plt.subplots()\n",
    "ax.grid()#сетка\n",
    "ax.scatter(data['Hours'], data['Scores'])\n",
    "ax.set_xlabel('Hours')#name column\n",
    "ax.set_ylabel('Scores')#name row"
   ]
  },
  {
   "cell_type": "markdown",
   "metadata": {},
   "source": [
    "write a hypothesis function:"
   ]
  },
  {
   "cell_type": "code",
   "execution_count": 4,
   "metadata": {},
   "outputs": [
    {
     "name": "stdout",
     "output_type": "stream",
     "text": [
      "3264.04\n"
     ]
    }
   ],
   "source": [
    "x = data['Hours'].values\n",
    "y = data['Scores'].values\n",
    "\n",
    "slope, intersept = 0, 0\n",
    "MSE = 0 #MSE = (y1 - (mx1+b))**2 + y2 - (mx2+b))**2 +...+ yn - (m * xn + b))**2) / n\n",
    "for i in range(len(x)):\n",
    "    MSE += (y[i] - (slope * x[i] + intersept))**2\n",
    "print(MSE / float(len(x)))"
   ]
  },
  {
   "cell_type": "code",
   "execution_count": 5,
   "metadata": {},
   "outputs": [],
   "source": [
    "def hypothesis(theta1, theta0, hours):\n",
    "    return(theta1 * hours + theta0)"
   ]
  },
  {
   "cell_type": "markdown",
   "metadata": {},
   "source": [
    "write a gradient descent function:"
   ]
  },
  {
   "cell_type": "code",
   "execution_count": 6,
   "metadata": {},
   "outputs": [
    {
     "name": "stdout",
     "output_type": "stream",
     "text": [
      "Theta1(slope) = 9.775870950745283, theta0(intercept) = 2.4832548596168906\n"
     ]
    }
   ],
   "source": [
    "alpha = 0.01\n",
    "theta = [0, 0]\n",
    "n = len(x)\n",
    "\n",
    "def gradient(alpha, theta):\n",
    "    b, m = theta[0], theta[1]\n",
    "    for i in range(2000):\n",
    "        mg, bg = 0, 0\n",
    "        for i in range(n):\n",
    "            xd = data['Hours'][i]\n",
    "            yd = data['Scores'][i]\n",
    "            bg += -(2/n) * (yd - hypothesis(m, b, xd))\n",
    "            mg += -(2/n) * xd * (yd - hypothesis(m, b, xd))\n",
    "        b -= alpha * bg\n",
    "        m -= alpha * mg\n",
    "    return [b, m]\n",
    "\n",
    "theta = gradient(alpha, theta)\n",
    "print(\"Theta1(slope) = {0}, theta0(intercept) = {1}\".format(theta[1],theta[0]))"
   ]
  },
  {
   "cell_type": "markdown",
   "metadata": {},
   "source": [
    "visualize the dataset with a hypothesis line"
   ]
  },
  {
   "cell_type": "code",
   "execution_count": 8,
   "metadata": {
    "pycharm": {
     "name": "#%%\n"
    }
   },
   "outputs": [
    {
     "data": {
      "image/png": "[encoded data removed]",
      "text/plain": [
       "<Figure size 432x288 with 1 Axes>"
      ]
     },
     "metadata": {
      "needs_background": "light"
     },
     "output_type": "display_data"
    }
   ],
   "source": [
    "xmax = np.max(x)\n",
    "xmin = np.min(x)\n",
    "\n",
    "# Calculating line values x and y\n",
    "xline = np.linspace(xmin, xmax)\n",
    "yline = theta[0] + theta[1] * xline\n",
    "\n",
    "plt.plot(xline, yline)\n",
    "plt.scatter(x, y)\n",
    "\n",
    "plt.grid()\n",
    "plt.show()"
   ]
  }
 ],
 "metadata": {
  "kernelspec": {
   "display_name": "Python 3",
   "language": "python",
   "name": "python3"
  },
  "language_info": {
   "codemirror_mode": {
    "name": "ipython",
    "version": 3
   },
   "file_extension": ".py",
   "mimetype": "text/x-python",
   "name": "python",
   "nbconvert_exporter": "python",
   "pygments_lexer": "ipython3",
   "version": "3.8.3"
  }
 },
 "nbformat": 4,
 "nbformat_minor": 2
}
