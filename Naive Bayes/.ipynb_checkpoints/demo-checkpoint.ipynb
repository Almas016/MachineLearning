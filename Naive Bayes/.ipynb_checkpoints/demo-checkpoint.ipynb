{
 "cells": [
  {
   "cell_type": "code",
   "execution_count": 11,
   "metadata": {},
   "outputs": [],
   "source": [
    "from sklearn.datasets import load_breast_cancer\n",
    "from sklearn.model_selection import train_test_split\n",
    "from sklearn.naive_bayes import GaussianNB\n",
    "from sklearn.metrics import accuracy_score"
   ]
  },
  {
   "cell_type": "code",
   "execution_count": 12,
   "metadata": {},
   "outputs": [
    {
     "name": "stdout",
     "output_type": "stream",
     "text": [
      "Features.shape: (569, 30)\n",
      "Labels are 0, and 1 for benign and malignant cancer\n"
     ]
    }
   ],
   "source": [
    "cancer = load_breast_cancer()\n",
    "print(\"Features.shape: {0}\".format(cancer['data'].shape))\n",
    "print(\"Labels are {0}, and {1} for {2} and {3} cancer\".format(cancer.target.min(),cancer.target.max(),cancer.target_names[1],cancer.target_names[0]))"
   ]
  },
  {
   "cell_type": "code",
   "execution_count": 13,
   "metadata": {},
   "outputs": [
    {
     "name": "stdout",
     "output_type": "stream",
     "text": [
      "train size 70% and test size 30%\n"
     ]
    }
   ],
   "source": [
    "train, test, traint, testt = train_test_split(cancer.data, cancer.target, test_size=0.3, random_state=100)\n",
    "print(\"train size {0}% and test size {1}%\".format(round(train.shape[0]*100 / cancer.data.shape[0]), \n",
    "                                                  round(test.shape[0]*100 / cancer.data.shape[0])))"
   ]
  },
  {
   "cell_type": "code",
   "execution_count": 14,
   "metadata": {},
   "outputs": [
    {
     "name": "stdout",
     "output_type": "stream",
     "text": [
      "109\n"
     ]
    }
   ],
   "source": [
    "gnb = GaussianNB()\n",
    "ypred = gnb.fit(train, traint).predict(test)\n",
    "print(ypred.sum())"
   ]
  },
  {
   "cell_type": "code",
   "execution_count": 15,
   "metadata": {},
   "outputs": [
    {
     "name": "stdout",
     "output_type": "stream",
     "text": [
      "Accuracy is about: 92.39766081871345\n"
     ]
    }
   ],
   "source": [
    "#Implementing precision option 1\n",
    "def accuracy(target, ypred):\n",
    "    correct = 0\n",
    "    for i in range(len(target)):\n",
    "        if target[i] == ypred[i]: correct += 1\n",
    "            \n",
    "    return correct / float(len(target)) \n",
    "\n",
    "print(\"Accuracy is about: {0}\".format(accuracy(testt, ypred)* 100))"
   ]
  },
  {
   "cell_type": "code",
   "execution_count": 16,
   "metadata": {},
   "outputs": [
    {
     "name": "stdout",
     "output_type": "stream",
     "text": [
      "Accuracy is about: 92.39766081871345\n"
     ]
    }
   ],
   "source": [
    "#Implementing precision option 2\n",
    "print(\"Accuracy is about: {0}\".format(accuracy_score(testt, ypred)*100))"
   ]
  }
 ],
 "metadata": {
  "kernelspec": {
   "display_name": "Python 3",
   "language": "python",
   "name": "python3"
  },
  "language_info": {
   "codemirror_mode": {
    "name": "ipython",
    "version": 3
   },
   "file_extension": ".py",
   "mimetype": "text/x-python",
   "name": "python",
   "nbconvert_exporter": "python",
   "pygments_lexer": "ipython3",
   "version": "3.8.3"
  }
 },
 "nbformat": 4,
 "nbformat_minor": 4
}
