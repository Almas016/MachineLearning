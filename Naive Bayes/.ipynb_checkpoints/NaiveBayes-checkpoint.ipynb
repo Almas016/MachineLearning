{
 "cells": [
  {
   "cell_type": "markdown",
   "metadata": {
    "colab_type": "text",
    "id": "hXHImriWMGj4"
   },
   "source": [
    "Your name: Namazbayev Almas"
   ]
  },
  {
   "cell_type": "markdown",
   "metadata": {
    "colab_type": "text",
    "id": "Oixob1YcMAsg"
   },
   "source": [
    "# import breast_cancer dataset using \n",
    "from sklearn.datasets import load_breast_cancer"
   ]
  },
  {
   "cell_type": "code",
   "execution_count": 1,
   "metadata": {
    "colab": {},
    "colab_type": "code",
    "id": "P6E0jQ3LMAsk",
    "outputId": "024d0888-5a0e-46b2-a927-1c5e3628a32d"
   },
   "outputs": [
    {
     "name": "stdout",
     "output_type": "stream",
     "text": [
      "Features.shape: (569, 30)\n",
      "Labels are 0, and 1 for benign and malignant cancer\n"
     ]
    }
   ],
   "source": [
    "from sklearn.datasets import load_breast_cancer\n",
    "from sklearn.model_selection import train_test_split\n",
    "from sklearn.naive_bayes import GaussianNB\n",
    "from sklearn.metrics import accuracy_score\n",
    "\n",
    "cancer = load_breast_cancer()\n",
    "print(\"Features.shape: {0}\".format(cancer['data'].shape))\n",
    "print(\"Labels are {0}, and {1} for {2} and {3} cancer\".format(cancer.target.min(),cancer.target.max(),cancer.target_names[1],cancer.target_names[0]))"
   ]
  },
  {
   "cell_type": "markdown",
   "metadata": {
    "colab_type": "text",
    "id": "uXyaZ_rKMAs8"
   },
   "source": [
    "# divide the dataset for train and test\n",
    "train size 70% and test size 30%"
   ]
  },
  {
   "cell_type": "code",
   "execution_count": 2,
   "metadata": {
    "colab": {},
    "colab_type": "code",
    "id": "arjWPSO6MAtE"
   },
   "outputs": [
    {
     "name": "stdout",
     "output_type": "stream",
     "text": [
      "train size 70% and test size 30%\n"
     ]
    }
   ],
   "source": [
    "train, test, traint, testt = train_test_split(cancer.data, cancer.target, test_size=0.3, random_state=100)\n",
    "print(\"train size {0}% and test size {1}%\".format(round(train.shape[0]*100 / cancer.data.shape[0]), \n",
    "                                                  round(test.shape[0]*100 / cancer.data.shape[0])))"
   ]
  },
  {
   "cell_type": "markdown",
   "metadata": {
    "colab_type": "text",
    "id": "FklWlkZ7MAtU"
   },
   "source": [
    "# Predict values using GaussianNB\n",
    "from sklearn.naive_bayes import GaussianNB then\n",
    "store your predicted values in np.array pred"
   ]
  },
  {
   "cell_type": "code",
   "execution_count": 3,
   "metadata": {
    "colab": {},
    "colab_type": "code",
    "id": "5mUnJjx1MAtb"
   },
   "outputs": [
    {
     "name": "stdout",
     "output_type": "stream",
     "text": [
      "109\n"
     ]
    }
   ],
   "source": [
    "gnb = GaussianNB()\n",
    "ypred = gnb.fit(train, traint).predict(test)\n",
    "print(ypred.sum())"
   ]
  },
  {
   "cell_type": "markdown",
   "metadata": {
    "colab_type": "text",
    "id": "zm-Uz9N-MAtn"
   },
   "source": [
    "# Write a function that calculates accuracy\n",
    "You need to write your own function that works for any dataset"
   ]
  },
  {
   "cell_type": "code",
   "execution_count": 4,
   "metadata": {
    "colab": {},
    "colab_type": "code",
    "id": "9u-PL-IhMAto",
    "outputId": "847bb7a7-50a0-445c-e005-149d7b2cbe60"
   },
   "outputs": [
    {
     "name": "stdout",
     "output_type": "stream",
     "text": [
      "Accuracy is about: 92.39766081871345\n",
      "Accuracy is about: 92.39766081871345\n"
     ]
    }
   ],
   "source": [
    "#Implementing precision option 1\n",
    "def accuracy(target, ypred):\n",
    "    correct = 0\n",
    "    for i in range(len(target)):\n",
    "        if target[i] == ypred[i]: correct += 1\n",
    "            \n",
    "    return correct / float(len(target)) \n",
    "\n",
    "print(\"Accuracy is about: {0}\".format(accuracy(testt, ypred)* 100))\n",
    "\n",
    "\n",
    "#Implementing precision option 2\n",
    "print(\"Accuracy is about: {0}\".format(accuracy_score(testt, ypred)*100))"
   ]
  }
 ],
 "metadata": {
  "colab": {
   "collapsed_sections": [],
   "name": "Assignment4_template.ipynb",
   "provenance": []
  },
  "kernelspec": {
   "display_name": "Python 3",
   "language": "python",
   "name": "python3"
  },
  "language_info": {
   "codemirror_mode": {
    "name": "ipython",
    "version": 3
   },
   "file_extension": ".py",
   "mimetype": "text/x-python",
   "name": "python",
   "nbconvert_exporter": "python",
   "pygments_lexer": "ipython3",
   "version": "3.8.3"
  }
 },
 "nbformat": 4,
 "nbformat_minor": 1
}
