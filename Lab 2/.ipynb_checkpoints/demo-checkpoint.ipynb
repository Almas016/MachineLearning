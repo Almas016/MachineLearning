{
 "cells": [
  {
   "cell_type": "code",
   "execution_count": 96,
   "metadata": {},
   "outputs": [],
   "source": [
    "import numpy as np\n",
    "import scipy.io as sio\n",
    "import scipy.optimize as opt\n",
    "\n",
    "data = sio.loadmat(\"digits.mat\")\n",
    "x = data['X'] # the feature matrix is labeled with 'X' inside the file\n",
    "y = np.squeeze(data['y']) # the target variable vector is labeled with 'y' inside the file\n",
    "np.place(y, y == 10, 0) # replace the label 10 with 0\n",
    "numExamples = x.shape[0] # 5000 examples\n",
    "numFeatures = x.shape[1] # 400 features\n",
    "numLabels = 10 # digits from 0 to 9"
   ]
  },
  {
   "cell_type": "code",
   "execution_count": 97,
   "metadata": {},
   "outputs": [],
   "source": [
    "def sigmoid(z):\n",
    "    return 1 / (1 + np.exp(-z))\n",
    "\n",
    "def cost(theta, X, y):\n",
    "    predictions = sigmoid(X @ theta)\n",
    "    predictions[predictions == 1] = 0.999 # log(1)=0 causes error in division\n",
    "    error = -y * np.log(predictions) - (1 - y) * np.log(1 - predictions);\n",
    "    return sum(error) / len(y);\n",
    "\n",
    "def cost_gradient(theta, X, y):\n",
    "    predictions = sigmoid(X @ theta);\n",
    "    return X.transpose() @ (predictions - y) / len(y)"
   ]
  },
  {
   "cell_type": "code",
   "execution_count": 98,
   "metadata": {},
   "outputs": [],
   "source": [
    "X = np.ones(shape=(x.shape[0], x.shape[1] + 1))\n",
    "X[:, 1:] = x"
   ]
  },
  {
   "cell_type": "code",
   "execution_count": 99,
   "metadata": {},
   "outputs": [],
   "source": [
    "classifiers = np.zeros(shape=(numLabels, numFeatures + 1))"
   ]
  },
  {
   "cell_type": "code",
   "execution_count": 95,
   "metadata": {},
   "outputs": [],
   "source": [
    "for c in range(0, numLabels):\n",
    "    label = (y == c).astype(int)\n",
    "    initial_theta = np.zeros(X.shape[1])\n",
    "    classifiers[c, :] = opt.fmin_cg(cost, initial_theta, cost_gradient, (X, label), disp=0)"
   ]
  },
  {
   "cell_type": "code",
   "execution_count": 100,
   "metadata": {},
   "outputs": [],
   "source": [
    "classProbabilities = sigmoid(X @ classifiers.transpose())"
   ]
  },
  {
   "cell_type": "code",
   "execution_count": 101,
   "metadata": {},
   "outputs": [],
   "source": [
    "predictions = classProbabilities.argmax(axis=1)"
   ]
  },
  {
   "cell_type": "code",
   "execution_count": 102,
   "metadata": {},
   "outputs": [
    {
     "name": "stdout",
     "output_type": "stream",
     "text": [
      "Training accuracy: 10.0%\n"
     ]
    }
   ],
   "source": [
    "print(\"Training accuracy:\", str(100 * np.mean(predictions == y)) + \"%\")"
   ]
  },
  {
   "cell_type": "code",
   "execution_count": null,
   "metadata": {},
   "outputs": [],
   "source": []
  }
 ],
 "metadata": {
  "kernelspec": {
   "display_name": "Python 3",
   "language": "python",
   "name": "python3"
  },
  "language_info": {
   "codemirror_mode": {
    "name": "ipython",
    "version": 3
   },
   "file_extension": ".py",
   "mimetype": "text/x-python",
   "name": "python",
   "nbconvert_exporter": "python",
   "pygments_lexer": "ipython3",
   "version": "3.8.3"
  }
 },
 "nbformat": 4,
 "nbformat_minor": 4
}
