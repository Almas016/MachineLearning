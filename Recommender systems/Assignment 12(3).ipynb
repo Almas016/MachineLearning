{
 "cells": [
  {
   "cell_type": "markdown",
   "metadata": {},
   "source": [
    "# Namazbayev Almas 180107192"
   ]
  },
  {
   "cell_type": "code",
   "execution_count": 1,
   "metadata": {},
   "outputs": [],
   "source": [
    "from math import sqrt"
   ]
  },
  {
   "cell_type": "code",
   "execution_count": 2,
   "metadata": {},
   "outputs": [],
   "source": [
    "#The information was taken from the book\n",
    "critics={'Lisa Rose': {'Lady in the Water': 2.5, 'Snakes on a Plane': 3.5,\n",
    "        'Just My Luck': 3.0, 'Superman Returns': 3.5, 'You, Me and Dupree': 2.5,\n",
    "        'The Night Listener': 3.0},\n",
    "        'Gene Seymour': {'Lady in the Water': 3.0, 'Snakes on a Plane': 3.5,\n",
    "        'Just My Luck': 1.5, 'Superman Returns': 5.0, 'The Night Listener': 3.0,\n",
    "        'You, Me and Dupree': 3.5},\n",
    "        'Michael Phillips': {'Lady in the Water': 2.5, 'Snakes on a Plane': 3.0,\n",
    "        'Superman Returns': 3.5, 'The Night Listener': 4.0},\n",
    "        'Claudia Puig': {'Snakes on a Plane': 3.5, 'Just My Luck': 3.0,\n",
    "        'The Night Listener': 4.5, 'Superman Returns': 4.0,\n",
    "        'You, Me and Dupree': 2.5},\n",
    "        'Mick LaSalle': {'Lady in the Water': 3.0, 'Snakes on a Plane': 4.0,\n",
    "        'Just My Luck': 2.0, 'Superman Returns': 3.0, 'The Night Listener': 3.0,\n",
    "        'You, Me and Dupree': 2.0},\n",
    "        'Jack Matthews': {'Lady in the Water': 3.0, 'Snakes on a Plane': 4.0,\n",
    "        'The Night Listener': 3.0, 'Superman Returns': 5.0, 'You, Me and Dupree': 3.5},\n",
    "        'Toby': {'Snakes on a Plane':4.5,'You, Me and Dupree':1.0,'Superman Returns':4.0}}"
   ]
  },
  {
   "cell_type": "markdown",
   "metadata": {},
   "source": [
    "1. Tanimoto score. Find out what a Tanimoto similarity score is. In what cases could this be used as the similarity metric instead of Euclidean distance or Pearson coefficient? Create a new similarity function using the Tanimoto score.\n"
   ]
  },
  {
   "cell_type": "code",
   "execution_count": 3,
   "metadata": {},
   "outputs": [],
   "source": [
    "def distance(prefs, person1, person2):\n",
    "    sharedItems = {}\n",
    "    for item in prefs[person1]:\n",
    "        if item in prefs[person2]:\n",
    "            sharedItems[item] = 1\n",
    "\n",
    "    if len(sharedItems) == 0: \n",
    "        return 0\n",
    "\n",
    "    sumSquares = sum([pow(prefs[person1][item] - prefs[person2][item], 2)for item in prefs[person1] if item in prefs[person2]])\n",
    "    return 1 / (1 + sumSquares)"
   ]
  },
  {
   "cell_type": "code",
   "execution_count": 51,
   "metadata": {},
   "outputs": [],
   "source": [
    "def pearson(prefs, p1, p2):\n",
    "    si={}\n",
    "    for item in prefs[p1]:\n",
    "        if item in prefs[p2]:\n",
    "            si[item] = 1\n",
    "\n",
    "    n = len(si)\n",
    "\n",
    "    if n == 0: return 0\n",
    "\n",
    "    sum1 = sum([prefs[p1][it] for it in si])\n",
    "    sum2 = sum([prefs[p2][it] for it in si])\n",
    "\n",
    "    sum1Sq = sum([pow(prefs[p1][it], 2) for it in si])\n",
    "    sum2Sq = sum([pow(prefs[p2][it], 2) for it in si])\n",
    "\n",
    "    pSum = sum([prefs[p1][it]*prefs[p2][it] for it in si])\n",
    "\n",
    "    num = pSum - (sum1 * sum2 / n)\n",
    "    den = sqrt((sum1Sq - pow(sum1, 2) / n) * (sum2Sq - pow(sum2, 2) / n))\n",
    "    if den == 0: return 0\n",
    "    return num / den"
   ]
  },
  {
   "cell_type": "code",
   "execution_count": 5,
   "metadata": {},
   "outputs": [
    {
     "name": "stdout",
     "output_type": "stream",
     "text": [
      "Euclidian: 0.12903225806451613\n",
      "Pearson: 0.41176470588235276\n"
     ]
    }
   ],
   "source": [
    "print(\"Euclidian: {0}\".format(distance(critics, 'Mick LaSalle','Gene Seymour')))\n",
    "print(\"Pearson: {0}\".format(pearson(critics, 'Mick LaSalle','Gene Seymour')))"
   ]
  },
  {
   "cell_type": "code",
   "execution_count": 45,
   "metadata": {},
   "outputs": [
    {
     "name": "stdout",
     "output_type": "stream",
     "text": [
      "0.2\n"
     ]
    }
   ],
   "source": [
    "def tanimoto(critics, person1, person2):\n",
    "    i = 0\n",
    "                \n",
    "    for film in critics[person1]:\n",
    "        if critics[person1][film] is critics[person2][film]:\n",
    "            i+=1;\n",
    "    \n",
    "    return i / (len(critics[person1]) + len(critics[person2]) - i)\n",
    "\n",
    "print(tanimoto(critics, 'Mick LaSalle','Gene Seymour'))"
   ]
  },
  {
   "cell_type": "code",
   "execution_count": 50,
   "metadata": {},
   "outputs": [
    {
     "name": "stdout",
     "output_type": "stream",
     "text": [
      "0.2\n"
     ]
    }
   ],
   "source": [
    "def tanimoto2():\n",
    "    a = [1,0,3,4,9,8]\n",
    "    b = [1,3,7,2,5,6]\n",
    "    i = 0\n",
    "    \n",
    "    for j in a:\n",
    "        if j in b:\n",
    "            i+=1\n",
    "    return i / (len(a)+len(b)-i)\n",
    "print(tanimoto2())"
   ]
  },
  {
   "cell_type": "markdown",
   "metadata": {},
   "source": [
    "3. User-based efficiency. The user-based filtering algorithm is inefficient because it compares a user to all other users every time a recommendation is needed. Write a function to precompute user similarities, and alter the recommendation code to use only the top five other users to get recommendations."
   ]
  },
  {
   "cell_type": "code",
   "execution_count": 52,
   "metadata": {},
   "outputs": [],
   "source": [
    "def topMatches(prefs, person, n=5):\n",
    "    scores=[(pearson(prefs, person, other), other) for other in prefs if other!=person]\n",
    "    scores.sort()\n",
    "    scores.reverse()\n",
    "    return scores"
   ]
  },
  {
   "cell_type": "code",
   "execution_count": 20,
   "metadata": {},
   "outputs": [
    {
     "name": "stdout",
     "output_type": "stream",
     "text": [
      "Lisa Rose : (0.9912407071619299, 'Toby')\n",
      "Lisa Rose : (0.7470178808339965, 'Jack Matthews')\n",
      "Lisa Rose : (0.5940885257860044, 'Mick LaSalle')\n",
      "Lisa Rose : (0.5669467095138396, 'Claudia Puig')\n",
      "Lisa Rose : (0.40451991747794525, 'Michael Phillips')\n",
      "Lisa Rose : (0.39605901719066977, 'Gene Seymour')\n",
      "\n",
      "\n",
      "Gene Seymour : (0.963795681875635, 'Jack Matthews')\n",
      "Gene Seymour : (0.41176470588235276, 'Mick LaSalle')\n",
      "Gene Seymour : (0.39605901719066977, 'Lisa Rose')\n",
      "Gene Seymour : (0.38124642583151164, 'Toby')\n",
      "Gene Seymour : (0.31497039417435607, 'Claudia Puig')\n",
      "Gene Seymour : (0.20459830184114206, 'Michael Phillips')\n",
      "\n",
      "\n",
      "Michael Phillips : (1.0, 'Claudia Puig')\n",
      "Michael Phillips : (0.40451991747794525, 'Lisa Rose')\n",
      "Michael Phillips : (0.20459830184114206, 'Gene Seymour')\n",
      "Michael Phillips : (0.13483997249264842, 'Jack Matthews')\n",
      "Michael Phillips : (-0.2581988897471611, 'Mick LaSalle')\n",
      "Michael Phillips : (-1.0, 'Toby')\n",
      "\n",
      "\n",
      "Claudia Puig : (1.0, 'Michael Phillips')\n",
      "Claudia Puig : (0.8934051474415647, 'Toby')\n",
      "Claudia Puig : (0.5669467095138411, 'Mick LaSalle')\n",
      "Claudia Puig : (0.5669467095138396, 'Lisa Rose')\n",
      "Claudia Puig : (0.31497039417435607, 'Gene Seymour')\n",
      "Claudia Puig : (0.02857142857142857, 'Jack Matthews')\n",
      "\n",
      "\n",
      "Mick LaSalle : (0.9244734516419049, 'Toby')\n",
      "Mick LaSalle : (0.5940885257860044, 'Lisa Rose')\n",
      "Mick LaSalle : (0.5669467095138411, 'Claudia Puig')\n",
      "Mick LaSalle : (0.41176470588235276, 'Gene Seymour')\n",
      "Mick LaSalle : (0.21128856368212925, 'Jack Matthews')\n",
      "Mick LaSalle : (-0.2581988897471611, 'Michael Phillips')\n",
      "\n",
      "\n",
      "Jack Matthews : (0.963795681875635, 'Gene Seymour')\n",
      "Jack Matthews : (0.7470178808339965, 'Lisa Rose')\n",
      "Jack Matthews : (0.66284898035987, 'Toby')\n",
      "Jack Matthews : (0.21128856368212925, 'Mick LaSalle')\n",
      "Jack Matthews : (0.13483997249264842, 'Michael Phillips')\n",
      "Jack Matthews : (0.02857142857142857, 'Claudia Puig')\n",
      "\n",
      "\n",
      "Toby : (0.9912407071619299, 'Lisa Rose')\n",
      "Toby : (0.9244734516419049, 'Mick LaSalle')\n",
      "Toby : (0.8934051474415647, 'Claudia Puig')\n",
      "Toby : (0.66284898035987, 'Jack Matthews')\n",
      "Toby : (0.38124642583151164, 'Gene Seymour')\n",
      "Toby : (-1.0, 'Michael Phillips')\n",
      "\n",
      "\n"
     ]
    }
   ],
   "source": [
    "for i in critics:\n",
    "    list = topMatches(critics, i, n=len(critics))\n",
    "    for j in list: print(\"{0} : {1}\".format(i,j))\n",
    "    print(\"\\n\")"
   ]
  },
  {
   "cell_type": "code",
   "execution_count": 113,
   "metadata": {},
   "outputs": [
    {
     "data": {
      "text/plain": [
       "'1 1 1 0 0 0 0 0 0 0 0 0 0 0 0 0 0 0 0 0'"
      ]
     },
     "execution_count": 113,
     "metadata": {},
     "output_type": "execute_result"
    }
   ],
   "source": [
    "import pandas as pd\n",
    "data = pd.read_table('test-label.dat',header=None)\n",
    "labels = pd.read_csv('labels.txt',header=None)\n",
    "data[0][0]"
   ]
  },
  {
   "cell_type": "code",
   "execution_count": 133,
   "metadata": {},
   "outputs": [],
   "source": [
    "tags = {}\n",
    "\n",
    "url_index = 1\n",
    "for url_tags in data[0]:\n",
    "    urlX = url_tags.split(' ')\n",
    "    for j in range( len(urlX) ):\n",
    "         if( urlX[j] == '1' ):\n",
    "            if labels[0][j] not in tags:\n",
    "                tags[ labels[0][j] ] = []\n",
    "            tags[ labels[0][j] ].append( url_index )     \n",
    "    url_index+=1"
   ]
  },
  {
   "cell_type": "code",
   "execution_count": 138,
   "metadata": {},
   "outputs": [
    {
     "data": {
      "text/plain": [
       "[(0.2378627323159414, 'web'),\n",
       " (0.19593093622404326, 'style'),\n",
       " (0.1185628330735857, 'programming'),\n",
       " (0.006621744718512846, 'culture'),\n",
       " (-0.005317525107700023, 'reference'),\n",
       " (-0.013824245785493685, 'internet'),\n",
       " (-0.019223470443377935, 'computer'),\n",
       " (-0.023314688177870115, 'java'),\n",
       " (-0.04064967285227775, 'books'),\n",
       " (-0.07064685609396855, 'history'),\n",
       " (-0.07816244931968264, 'philosophy'),\n",
       " (-0.08699888135322974, 'writing'),\n",
       " (-0.09497826417161026, 'science'),\n",
       " (-0.10686821592883847, 'religion'),\n",
       " (-0.11205049518274146, 'grammar'),\n",
       " (-0.133900515794953, 'politics'),\n",
       " (-0.14582725370005942, 'education'),\n",
       " (-0.14873442478997276, 'english'),\n",
       " (-0.15065221176596144, 'language')]"
      ]
     },
     "execution_count": 138,
     "metadata": {},
     "output_type": "execute_result"
    }
   ],
   "source": [
    "def PreprocessData(tags):\n",
    "    tag_data = {}\n",
    "    all_url = []\n",
    "    for url_list in tags.values():\n",
    "        for url in url_list:\n",
    "            all_url.append(url)\n",
    "    for tag in tags.keys():\n",
    "        tag_data[tag] = {}\n",
    "        for url in all_url:\n",
    "            if url in tags[tag]:\n",
    "                tag_data[tag][url] = 1.0\n",
    "            else: tag_data[tag][url] = 0.0\n",
    "    return tag_data\n",
    "\n",
    "def CalculateTagSimilarity(tag1):\n",
    "    return topMatches(PreprocessData(tags), tag1,5)\n",
    "\n",
    "CalculateTagSimilarity('design')"
   ]
  },
  {
   "cell_type": "code",
   "execution_count": null,
   "metadata": {},
   "outputs": [],
   "source": []
  }
 ],
 "metadata": {
  "kernelspec": {
   "display_name": "Python 3",
   "language": "python",
   "name": "python3"
  },
  "language_info": {
   "codemirror_mode": {
    "name": "ipython",
    "version": 3
   },
   "file_extension": ".py",
   "mimetype": "text/x-python",
   "name": "python",
   "nbconvert_exporter": "python",
   "pygments_lexer": "ipython3",
   "version": "3.8.3"
  }
 },
 "nbformat": 4,
 "nbformat_minor": 4
}
