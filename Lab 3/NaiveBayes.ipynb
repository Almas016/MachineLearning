{
  "nbformat": 4,
  "nbformat_minor": 0,
  "metadata": {
    "kernelspec": {
      "display_name": "Python 3",
      "language": "python",
      "name": "python3"
    },
    "language_info": {
      "codemirror_mode": {
        "name": "ipython",
        "version": 3
      },
      "file_extension": ".py",
      "mimetype": "text/x-python",
      "name": "python",
      "nbconvert_exporter": "python",
      "pygments_lexer": "ipython3",
      "version": "3.6.5"
    },
    "colab": {
      "name": "Assignment4_template.ipynb",
      "provenance": [],
      "collapsed_sections": []
    }
  },
  "cells": [
    {
      "cell_type": "markdown",
      "metadata": {
        "id": "hXHImriWMGj4",
        "colab_type": "text"
      },
      "source": [
        "Your name:"
      ]
    },
    {
      "cell_type": "markdown",
      "metadata": {
        "id": "Oixob1YcMAsg",
        "colab_type": "text"
      },
      "source": [
        "# import breast_cancer dataset using \n",
        "from sklearn.datasets import load_breast_cancer"
      ]
    },
    {
      "cell_type": "code",
      "metadata": {
        "id": "P6E0jQ3LMAsk",
        "colab_type": "code",
        "colab": {},
        "outputId": "024d0888-5a0e-46b2-a927-1c5e3628a32d"
      },
      "source": [
        ""
      ],
      "execution_count": null,
      "outputs": [
        {
          "output_type": "stream",
          "text": [
            "Features.shape:  (569, 30)\n",
            "Labels are 0, and 1 for benign and malignant cancer\n"
          ],
          "name": "stdout"
        }
      ]
    },
    {
      "cell_type": "markdown",
      "metadata": {
        "id": "uXyaZ_rKMAs8",
        "colab_type": "text"
      },
      "source": [
        "# divide the dataset for train and test\n",
        "train size 70% and test size 30%"
      ]
    },
    {
      "cell_type": "code",
      "metadata": {
        "id": "arjWPSO6MAtE",
        "colab_type": "code",
        "colab": {}
      },
      "source": [
        ""
      ],
      "execution_count": null,
      "outputs": []
    },
    {
      "cell_type": "markdown",
      "metadata": {
        "id": "FklWlkZ7MAtU",
        "colab_type": "text"
      },
      "source": [
        "# Predict values using GaussianNB\n",
        "from sklearn.naive_bayes import GaussianNB then\n",
        "store your predicted values in np.array pred"
      ]
    },
    {
      "cell_type": "code",
      "metadata": {
        "id": "5mUnJjx1MAtb",
        "colab_type": "code",
        "colab": {}
      },
      "source": [
        ""
      ],
      "execution_count": null,
      "outputs": []
    },
    {
      "cell_type": "markdown",
      "metadata": {
        "id": "zm-Uz9N-MAtn",
        "colab_type": "text"
      },
      "source": [
        "# Write a function that calculates accuracy\n",
        "You need to write your own function that works for any dataset"
      ]
    },
    {
      "cell_type": "code",
      "metadata": {
        "id": "9u-PL-IhMAto",
        "colab_type": "code",
        "colab": {},
        "outputId": "847bb7a7-50a0-445c-e005-149d7b2cbe60"
      },
      "source": [
        ""
      ],
      "execution_count": null,
      "outputs": [
        {
          "output_type": "stream",
          "text": [
            "Accuracy is about  94.15204678362574 %\n"
          ],
          "name": "stdout"
        }
      ]
    }
  ]
}