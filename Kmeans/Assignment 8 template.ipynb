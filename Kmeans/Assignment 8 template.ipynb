{
 "cells": [
  {
   "cell_type": "markdown",
   "metadata": {},
   "source": [
    "Namazbayev Almas 180107192"
   ]
  },
  {
   "cell_type": "markdown",
   "metadata": {},
   "source": [
    "### Before importing you need to install pygmaps library"
   ]
  },
  {
   "cell_type": "code",
   "execution_count": 37,
   "metadata": {},
   "outputs": [],
   "source": [
    "from time import sleep\n",
    "import numpy as np\n",
    "import pandas as pd\n",
    "import geopy\n",
    "from sklearn.cluster import KMeans\n",
    "from pygmaps import gmaps\n",
    "import pygmaps\n",
    "#almatyPlaces.txt"
   ]
  },
  {
   "cell_type": "markdown",
   "metadata": {},
   "source": [
    "### Here is the function that returns the lattitude and longitude"
   ]
  },
  {
   "cell_type": "code",
   "execution_count": 38,
   "metadata": {},
   "outputs": [],
   "source": [
    "def geoGrab(address):\n",
    "    from geopy.geocoders import Nominatim\n",
    "    geolocator = Nominatim(user_agent=\"180107192@stu.sdu.edu.kz\")\n",
    "    location = geolocator.geocode(address)\n",
    "    if location is not None:\n",
    "        loc = {}\n",
    "        loc['latitude'] = location.latitude\n",
    "        loc['longitude'] = location.longitude\n",
    "        return loc\n",
    "    else:\n",
    "        return None"
   ]
  },
  {
   "cell_type": "markdown",
   "metadata": {},
   "source": [
    "### Fill out this function placeFind()"
   ]
  },
  {
   "cell_type": "code",
   "execution_count": 39,
   "metadata": {},
   "outputs": [
    {
     "name": "stdout",
     "output_type": "stream",
     "text": [
      "Error ['Caspian Training Group', 'Kablukov St 270 Almaty\\n']\n",
      "Error ['Salamat-5', 'Almaty, ul. Shevchenko, 204\\n']\n"
     ]
    }
   ],
   "source": [
    "def placeFind(fileName):\n",
    "    fw = open('places.txt', 'w')\n",
    "    for line in open(fileName).readlines():\n",
    "        place = line.split('\\t')\n",
    "        Coordinate  = geoGrab(place[1])\n",
    "        if type(Coordinate) is dict:\n",
    "            fw.write(\"{0} {1}\\n\".format(Coordinate [\"latitude\"],Coordinate [\"longitude\"]))\n",
    "        else:\n",
    "            print(\"Error {0}\".format(place))\n",
    "        sleep(2)\n",
    "    fw.close()\n",
    "\n",
    "placeFind('almatyPlaces.txt')"
   ]
  },
  {
   "cell_type": "markdown",
   "metadata": {},
   "source": [
    "### Write your own function k-means:"
   ]
  },
  {
   "cell_type": "code",
   "execution_count": 40,
   "metadata": {},
   "outputs": [],
   "source": [
    "def clusterPlaces(numClust):\n",
    "    pylist = []\n",
    "    for line in open('places.txt').readlines():\n",
    "        loc = line.split()\n",
    "        pylist.append([float(loc[0]), float(loc[1])])\n",
    "        \n",
    "    nplist = np.array(pylist)\n",
    "    kmeans = KMeans(n_clusters = numClust).fit(nplist)\n",
    "    return kmeans.predict(nplist)"
   ]
  },
  {
   "cell_type": "code",
   "execution_count": 43,
   "metadata": {},
   "outputs": [],
   "source": [
    "from pygmaps import gmaps\n",
    "\n",
    "# red \"#FF0000\", Blue \"#0000FF\", Green \"#00FF00\"\n",
    "colors = [\"#FF0000\",\"#0000FF\",\"#00FF00\"]\n",
    "\n",
    "# PARAMETER1:latitude (float) latittude of map center point\n",
    "# PARAMETER2:longitude (float) latittude of map center point\n",
    "# PARAMETER3:zoom (int) map zoom level 0~20\n",
    "mymap = pygmaps.gmaps.maps()"
   ]
  },
  {
   "cell_type": "code",
   "execution_count": 44,
   "metadata": {},
   "outputs": [],
   "source": [
    "predictions = clusterPlaces(3)\n",
    "\n",
    "file = open('places.txt').readlines()\n",
    "\n",
    "for i in range(len(file)):\n",
    "    array = file[i].split()\n",
    "    \n",
    "    # PARAMETER1:latitude (float) latitude of the point\n",
    "    # PARAMETER2:longitude (float) longitude of the point\n",
    "    # PARAMETER3:color (string) color of the point showed in map, using HTML color code\n",
    "    mymap.add_point(float(array[0]), float(array[1]), colors[predictions[i]])\n",
    "    \n",
    "mymap.draw('mymap.html')"
   ]
  },
  {
   "cell_type": "markdown",
   "metadata": {},
   "source": [
    "At the end you need to obtain html file with points on the maps"
   ]
  }
 ],
 "metadata": {
  "kernelspec": {
   "display_name": "Python 3",
   "language": "python",
   "name": "python3"
  },
  "language_info": {
   "codemirror_mode": {
    "name": "ipython",
    "version": 3
   },
   "file_extension": ".py",
   "mimetype": "text/x-python",
   "name": "python",
   "nbconvert_exporter": "python",
   "pygments_lexer": "ipython3",
   "version": "3.8.3"
  }
 },
 "nbformat": 4,
 "nbformat_minor": 2
}
