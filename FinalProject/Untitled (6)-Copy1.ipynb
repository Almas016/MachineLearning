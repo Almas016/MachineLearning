{
 "cells": [
  {
   "cell_type": "code",
   "execution_count": 64,
   "metadata": {},
   "outputs": [],
   "source": [
    "#Libraries import\n",
    "import pandas as pd\n",
    "import numpy as np\n",
    "import matplotlib \n",
    "import matplotlib.pyplot as plt\n",
    "\n",
    "from sklearn import preprocessing\n",
    "from sklearn.preprocessing import StandardScaler\n",
    "from sklearn.preprocessing import MinMaxScaler\n",
    "\n",
    "from sklearn.metrics import mean_squared_log_error,r2_score,mean_squared_error\n",
    "from sklearn.model_selection import train_test_split\n",
    "\n",
    "import seaborn as sns"
   ]
  },
  {
   "cell_type": "markdown",
   "metadata": {},
   "source": [
    "# Data preprocessing"
   ]
  },
  {
   "cell_type": "code",
   "execution_count": 114,
   "metadata": {
    "scrolled": true
   },
   "outputs": [
    {
     "data": {
      "text/html": [
       "<div>\n",
       "<style scoped>\n",
       "    .dataframe tbody tr th:only-of-type {\n",
       "        vertical-align: middle;\n",
       "    }\n",
       "\n",
       "    .dataframe tbody tr th {\n",
       "        vertical-align: top;\n",
       "    }\n",
       "\n",
       "    .dataframe thead th {\n",
       "        text-align: right;\n",
       "    }\n",
       "</style>\n",
       "<table border=\"1\" class=\"dataframe\">\n",
       "  <thead>\n",
       "    <tr style=\"text-align: right;\">\n",
       "      <th></th>\n",
       "      <th>City</th>\n",
       "      <th>Year</th>\n",
       "      <th>Shell</th>\n",
       "      <th>Volume</th>\n",
       "      <th>Mileage</th>\n",
       "      <th>Transmission</th>\n",
       "      <th>Rudder</th>\n",
       "      <th>Gear</th>\n",
       "      <th>CustomsCleared</th>\n",
       "      <th>Type Engine</th>\n",
       "      <th>Company</th>\n",
       "      <th>Model</th>\n",
       "      <th>Price</th>\n",
       "    </tr>\n",
       "  </thead>\n",
       "  <tbody>\n",
       "    <tr>\n",
       "      <th>0</th>\n",
       "      <td>Уральск</td>\n",
       "      <td>2014</td>\n",
       "      <td>внедорожник</td>\n",
       "      <td>1.7</td>\n",
       "      <td>31000</td>\n",
       "      <td>механика</td>\n",
       "      <td>слева</td>\n",
       "      <td>полный привод</td>\n",
       "      <td>Да</td>\n",
       "      <td>бензин</td>\n",
       "      <td>Chevrolet</td>\n",
       "      <td>Niva</td>\n",
       "      <td>2900000</td>\n",
       "    </tr>\n",
       "    <tr>\n",
       "      <th>1</th>\n",
       "      <td>Нур-Султан (Астана)</td>\n",
       "      <td>2014</td>\n",
       "      <td>седан</td>\n",
       "      <td>3.5</td>\n",
       "      <td>59800</td>\n",
       "      <td>автомат</td>\n",
       "      <td>слева</td>\n",
       "      <td>передний привод</td>\n",
       "      <td>Да</td>\n",
       "      <td>бензин</td>\n",
       "      <td>Kia</td>\n",
       "      <td>Cadenza</td>\n",
       "      <td>8600000</td>\n",
       "    </tr>\n",
       "    <tr>\n",
       "      <th>2</th>\n",
       "      <td>Тараз</td>\n",
       "      <td>1995</td>\n",
       "      <td>фургон</td>\n",
       "      <td>2.3</td>\n",
       "      <td>450650</td>\n",
       "      <td>механика</td>\n",
       "      <td>слева</td>\n",
       "      <td>задний привод</td>\n",
       "      <td>Да</td>\n",
       "      <td>дизель</td>\n",
       "      <td>Volkswagen</td>\n",
       "      <td>LT</td>\n",
       "      <td>1100000</td>\n",
       "    </tr>\n",
       "    <tr>\n",
       "      <th>3</th>\n",
       "      <td>Алматы</td>\n",
       "      <td>2018</td>\n",
       "      <td>седан</td>\n",
       "      <td>2.5</td>\n",
       "      <td>48000</td>\n",
       "      <td>типтроник</td>\n",
       "      <td>слева</td>\n",
       "      <td>передний привод</td>\n",
       "      <td>Да</td>\n",
       "      <td>бензин</td>\n",
       "      <td>Toyota</td>\n",
       "      <td>Camry</td>\n",
       "      <td>11300000</td>\n",
       "    </tr>\n",
       "    <tr>\n",
       "      <th>4</th>\n",
       "      <td>Караганда</td>\n",
       "      <td>1997</td>\n",
       "      <td>внедорожник</td>\n",
       "      <td>3.5</td>\n",
       "      <td>153000</td>\n",
       "      <td>автомат</td>\n",
       "      <td>справа</td>\n",
       "      <td>полный привод</td>\n",
       "      <td>Нет</td>\n",
       "      <td>бензин</td>\n",
       "      <td>Mitsubishi</td>\n",
       "      <td>Pajero</td>\n",
       "      <td>3350000</td>\n",
       "    </tr>\n",
       "    <tr>\n",
       "      <th>...</th>\n",
       "      <td>...</td>\n",
       "      <td>...</td>\n",
       "      <td>...</td>\n",
       "      <td>...</td>\n",
       "      <td>...</td>\n",
       "      <td>...</td>\n",
       "      <td>...</td>\n",
       "      <td>...</td>\n",
       "      <td>...</td>\n",
       "      <td>...</td>\n",
       "      <td>...</td>\n",
       "      <td>...</td>\n",
       "      <td>...</td>\n",
       "    </tr>\n",
       "    <tr>\n",
       "      <th>16030</th>\n",
       "      <td>Костанай</td>\n",
       "      <td>2014</td>\n",
       "      <td>седан</td>\n",
       "      <td>1.6</td>\n",
       "      <td>160000</td>\n",
       "      <td>механика</td>\n",
       "      <td>слева</td>\n",
       "      <td>передний привод</td>\n",
       "      <td>Нет</td>\n",
       "      <td>бензин</td>\n",
       "      <td>Datsun</td>\n",
       "      <td>on-DO</td>\n",
       "      <td>1550000</td>\n",
       "    </tr>\n",
       "    <tr>\n",
       "      <th>16031</th>\n",
       "      <td>Сайхин</td>\n",
       "      <td>2008</td>\n",
       "      <td>внедорожник</td>\n",
       "      <td>1.8</td>\n",
       "      <td>175000</td>\n",
       "      <td>механика</td>\n",
       "      <td>слева</td>\n",
       "      <td>полный привод</td>\n",
       "      <td>Да</td>\n",
       "      <td>бензин</td>\n",
       "      <td>Chevrolet</td>\n",
       "      <td>Niva</td>\n",
       "      <td>1500000</td>\n",
       "    </tr>\n",
       "    <tr>\n",
       "      <th>16032</th>\n",
       "      <td>Нур-Султан (Астана)</td>\n",
       "      <td>2014</td>\n",
       "      <td>седан</td>\n",
       "      <td>1.5</td>\n",
       "      <td>103000</td>\n",
       "      <td>механика</td>\n",
       "      <td>слева</td>\n",
       "      <td>передний привод</td>\n",
       "      <td>Да</td>\n",
       "      <td>бензин</td>\n",
       "      <td>Daewoo</td>\n",
       "      <td>Gentra</td>\n",
       "      <td>3300000</td>\n",
       "    </tr>\n",
       "    <tr>\n",
       "      <th>16033</th>\n",
       "      <td>Алматы</td>\n",
       "      <td>2014</td>\n",
       "      <td>внедорожник</td>\n",
       "      <td>4.0</td>\n",
       "      <td>87000</td>\n",
       "      <td>автомат</td>\n",
       "      <td>слева</td>\n",
       "      <td>полный привод</td>\n",
       "      <td>Да</td>\n",
       "      <td>бензин</td>\n",
       "      <td>Toyota</td>\n",
       "      <td>Land Cruiser Prado</td>\n",
       "      <td>18500000</td>\n",
       "    </tr>\n",
       "    <tr>\n",
       "      <th>16034</th>\n",
       "      <td>Нур-Султан (Астана)</td>\n",
       "      <td>1991</td>\n",
       "      <td>седан</td>\n",
       "      <td>2.3</td>\n",
       "      <td>241321</td>\n",
       "      <td>механика</td>\n",
       "      <td>слева</td>\n",
       "      <td>задний привод</td>\n",
       "      <td>Да</td>\n",
       "      <td>бензин</td>\n",
       "      <td>Mercedes-Benz</td>\n",
       "      <td>E 230</td>\n",
       "      <td>1400000</td>\n",
       "    </tr>\n",
       "  </tbody>\n",
       "</table>\n",
       "<p>16035 rows × 13 columns</p>\n",
       "</div>"
      ],
      "text/plain": [
       "                      City  Year        Shell  Volume  Mileage Transmission  \\\n",
       "0                  Уральск  2014  внедорожник     1.7    31000     механика   \n",
       "1      Нур-Султан (Астана)  2014        седан     3.5    59800      автомат   \n",
       "2                    Тараз  1995       фургон     2.3   450650     механика   \n",
       "3                   Алматы  2018        седан     2.5    48000    типтроник   \n",
       "4                Караганда  1997  внедорожник     3.5   153000      автомат   \n",
       "...                    ...   ...          ...     ...      ...          ...   \n",
       "16030             Костанай  2014        седан     1.6   160000     механика   \n",
       "16031               Сайхин  2008  внедорожник     1.8   175000     механика   \n",
       "16032  Нур-Султан (Астана)  2014        седан     1.5   103000     механика   \n",
       "16033               Алматы  2014  внедорожник     4.0    87000      автомат   \n",
       "16034  Нур-Султан (Астана)  1991        седан     2.3   241321     механика   \n",
       "\n",
       "       Rudder             Gear CustomsCleared Type Engine        Company  \\\n",
       "0       слева    полный привод             Да      бензин      Chevrolet   \n",
       "1       слева  передний привод             Да      бензин            Kia   \n",
       "2       слева    задний привод             Да      дизель     Volkswagen   \n",
       "3       слева  передний привод             Да      бензин         Toyota   \n",
       "4      справа    полный привод            Нет      бензин     Mitsubishi   \n",
       "...       ...              ...            ...         ...            ...   \n",
       "16030   слева  передний привод            Нет      бензин         Datsun   \n",
       "16031   слева    полный привод             Да      бензин      Chevrolet   \n",
       "16032   слева  передний привод             Да      бензин         Daewoo   \n",
       "16033   слева    полный привод             Да      бензин         Toyota   \n",
       "16034   слева    задний привод             Да      бензин  Mercedes-Benz   \n",
       "\n",
       "                    Model     Price  \n",
       "0                    Niva   2900000  \n",
       "1                 Cadenza   8600000  \n",
       "2                      LT   1100000  \n",
       "3                   Camry  11300000  \n",
       "4                  Pajero   3350000  \n",
       "...                   ...       ...  \n",
       "16030               on-DO   1550000  \n",
       "16031                Niva   1500000  \n",
       "16032              Gentra   3300000  \n",
       "16033  Land Cruiser Prado  18500000  \n",
       "16034               E 230   1400000  \n",
       "\n",
       "[16035 rows x 13 columns]"
      ]
     },
     "execution_count": 114,
     "metadata": {},
     "output_type": "execute_result"
    }
   ],
   "source": [
    "#Load data\n",
    "data = pd.read_csv('FinalData.csv')\n",
    "data"
   ]
  },
  {
   "cell_type": "code",
   "execution_count": 66,
   "metadata": {},
   "outputs": [
    {
     "data": {
      "text/plain": [
       "City              0\n",
       "Year              0\n",
       "Shell             0\n",
       "Volume            0\n",
       "Mileage           0\n",
       "Transmission      0\n",
       "Rudder            0\n",
       "Gear              0\n",
       "CustomsCleared    0\n",
       "Type Engine       0\n",
       "Company           0\n",
       "Model             0\n",
       "Price             0\n",
       "dtype: int64"
      ]
     },
     "execution_count": 66,
     "metadata": {},
     "output_type": "execute_result"
    }
   ],
   "source": [
    "# Checking for the nulls in columns\n",
    "data.isnull().sum()"
   ]
  },
  {
   "cell_type": "code",
   "execution_count": 115,
   "metadata": {},
   "outputs": [
    {
     "name": "stdout",
     "output_type": "stream",
     "text": [
      "False\n"
     ]
    }
   ],
   "source": [
    "print(data.isnull().values.any())"
   ]
  },
  {
   "cell_type": "markdown",
   "metadata": {},
   "source": [
    "## Checking and dropping outliers"
   ]
  },
  {
   "cell_type": "markdown",
   "metadata": {},
   "source": [
    "So we see,that we have 4 numerical and 9 categorical columns. And there's no any null values in each column"
   ]
  },
  {
   "cell_type": "code",
   "execution_count": 68,
   "metadata": {},
   "outputs": [
    {
     "data": {
      "text/plain": [
       "<matplotlib.axes._subplots.AxesSubplot at 0x1b0e3ba1460>"
      ]
     },
     "execution_count": 68,
     "metadata": {},
     "output_type": "execute_result"
    },
    {
     "data": {
      "image/png": "[encoded data removed]",
      "text/plain": [
       "<Figure size 1440x1008 with 4 Axes>"
      ]
     },
     "metadata": {
      "needs_background": "light"
     },
     "output_type": "display_data"
    }
   ],
   "source": [
    "# Visualizing outliers using boxplots\n",
    "fig, axes = plt.subplots(2, 2, figsize=(20, 14))\n",
    "fig.suptitle('Distributions of num Columns')\n",
    "sns.boxplot(ax=axes[0, 0], data=data, x='Price')\n",
    "sns.boxplot(ax=axes[0, 1], data=data, x='Mileage')\n",
    "sns.boxplot(ax=axes[1, 0], data=data, x='Volume')\n",
    "sns.boxplot(ax=axes[1, 1], data=data, x='Year')"
   ]
  },
  {
   "cell_type": "code",
   "execution_count": 69,
   "metadata": {},
   "outputs": [
    {
     "name": "stdout",
     "output_type": "stream",
     "text": [
      "Price outliers:  742\n",
      "Mileage outliers:  340\n",
      "Volume outliers:  880\n",
      "Year outliers:  43\n",
      "Amount of outliers:  1733\n",
      "Count of rows with outliers 16035\n",
      "Count of rows without of outliers:  14302\n"
     ]
    }
   ],
   "source": [
    "#Print an information about outliers\n",
    "#For specific column\n",
    "print('Price outliers: ',len(data[data['Price'] >= 0.2 * 10**8]))\n",
    "print('Mileage outliers: ',len(data[data['Mileage'] >= 0.1 * 10**7]))\n",
    "print('Volume outliers: ',len(data[data['Volume'] >= 4.7]))\n",
    "print('Year outliers: ',len(data[data['Year'] <= 1985]))\n",
    "\n",
    "#Total count of outliers\n",
    "count_outliers = len(data[(data['Year'] <= 1985) | (data['Volume'] >= 4.7) | (data['Mileage'] >= 1000000) | (data['Price'] >= 20000000)])\n",
    "\n",
    "#Total count of all outliers and count of rows with and without its\n",
    "print('Amount of outliers: ', count_outliers)\n",
    "print('Count of rows with outliers', len(data))\n",
    "print('Count of rows without of outliers: ', len(data) - count_outliers)"
   ]
  },
  {
   "cell_type": "code",
   "execution_count": 116,
   "metadata": {},
   "outputs": [],
   "source": [
    "# Dropping all outliers\n",
    "data.drop(data[data['Mileage'] >= 0.1 * 10**7].index, inplace=True)\n",
    "data.drop(data[data['Price'] >= 0.2 * 10**8].index, inplace=True)\n",
    "data.drop(data[data['Volume'] >= 4.7].index,inplace=True)\n",
    "data.drop(data[data['Year'] <= 1985].index, inplace=True)"
   ]
  },
  {
   "cell_type": "code",
   "execution_count": 117,
   "metadata": {},
   "outputs": [
    {
     "data": {
      "text/html": [
       "<div>\n",
       "<style scoped>\n",
       "    .dataframe tbody tr th:only-of-type {\n",
       "        vertical-align: middle;\n",
       "    }\n",
       "\n",
       "    .dataframe tbody tr th {\n",
       "        vertical-align: top;\n",
       "    }\n",
       "\n",
       "    .dataframe thead th {\n",
       "        text-align: right;\n",
       "    }\n",
       "</style>\n",
       "<table border=\"1\" class=\"dataframe\">\n",
       "  <thead>\n",
       "    <tr style=\"text-align: right;\">\n",
       "      <th></th>\n",
       "      <th>City</th>\n",
       "      <th>Year</th>\n",
       "      <th>Shell</th>\n",
       "      <th>Volume</th>\n",
       "      <th>Mileage</th>\n",
       "      <th>Transmission</th>\n",
       "      <th>Rudder</th>\n",
       "      <th>Gear</th>\n",
       "      <th>CustomsCleared</th>\n",
       "      <th>Type Engine</th>\n",
       "      <th>Company</th>\n",
       "      <th>Model</th>\n",
       "      <th>Price</th>\n",
       "    </tr>\n",
       "  </thead>\n",
       "  <tbody>\n",
       "    <tr>\n",
       "      <th>0</th>\n",
       "      <td>Уральск</td>\n",
       "      <td>2014</td>\n",
       "      <td>внедорожник</td>\n",
       "      <td>1.7</td>\n",
       "      <td>31000</td>\n",
       "      <td>механика</td>\n",
       "      <td>слева</td>\n",
       "      <td>полный привод</td>\n",
       "      <td>Да</td>\n",
       "      <td>бензин</td>\n",
       "      <td>Chevrolet</td>\n",
       "      <td>Niva</td>\n",
       "      <td>2900000</td>\n",
       "    </tr>\n",
       "    <tr>\n",
       "      <th>1</th>\n",
       "      <td>Нур-Султан (Астана)</td>\n",
       "      <td>2014</td>\n",
       "      <td>седан</td>\n",
       "      <td>3.5</td>\n",
       "      <td>59800</td>\n",
       "      <td>автомат</td>\n",
       "      <td>слева</td>\n",
       "      <td>передний привод</td>\n",
       "      <td>Да</td>\n",
       "      <td>бензин</td>\n",
       "      <td>Kia</td>\n",
       "      <td>Cadenza</td>\n",
       "      <td>8600000</td>\n",
       "    </tr>\n",
       "    <tr>\n",
       "      <th>2</th>\n",
       "      <td>Тараз</td>\n",
       "      <td>1995</td>\n",
       "      <td>фургон</td>\n",
       "      <td>2.3</td>\n",
       "      <td>450650</td>\n",
       "      <td>механика</td>\n",
       "      <td>слева</td>\n",
       "      <td>задний привод</td>\n",
       "      <td>Да</td>\n",
       "      <td>дизель</td>\n",
       "      <td>Volkswagen</td>\n",
       "      <td>LT</td>\n",
       "      <td>1100000</td>\n",
       "    </tr>\n",
       "    <tr>\n",
       "      <th>3</th>\n",
       "      <td>Алматы</td>\n",
       "      <td>2018</td>\n",
       "      <td>седан</td>\n",
       "      <td>2.5</td>\n",
       "      <td>48000</td>\n",
       "      <td>типтроник</td>\n",
       "      <td>слева</td>\n",
       "      <td>передний привод</td>\n",
       "      <td>Да</td>\n",
       "      <td>бензин</td>\n",
       "      <td>Toyota</td>\n",
       "      <td>Camry</td>\n",
       "      <td>11300000</td>\n",
       "    </tr>\n",
       "    <tr>\n",
       "      <th>4</th>\n",
       "      <td>Караганда</td>\n",
       "      <td>1997</td>\n",
       "      <td>внедорожник</td>\n",
       "      <td>3.5</td>\n",
       "      <td>153000</td>\n",
       "      <td>автомат</td>\n",
       "      <td>справа</td>\n",
       "      <td>полный привод</td>\n",
       "      <td>Нет</td>\n",
       "      <td>бензин</td>\n",
       "      <td>Mitsubishi</td>\n",
       "      <td>Pajero</td>\n",
       "      <td>3350000</td>\n",
       "    </tr>\n",
       "    <tr>\n",
       "      <th>...</th>\n",
       "      <td>...</td>\n",
       "      <td>...</td>\n",
       "      <td>...</td>\n",
       "      <td>...</td>\n",
       "      <td>...</td>\n",
       "      <td>...</td>\n",
       "      <td>...</td>\n",
       "      <td>...</td>\n",
       "      <td>...</td>\n",
       "      <td>...</td>\n",
       "      <td>...</td>\n",
       "      <td>...</td>\n",
       "      <td>...</td>\n",
       "    </tr>\n",
       "    <tr>\n",
       "      <th>16030</th>\n",
       "      <td>Костанай</td>\n",
       "      <td>2014</td>\n",
       "      <td>седан</td>\n",
       "      <td>1.6</td>\n",
       "      <td>160000</td>\n",
       "      <td>механика</td>\n",
       "      <td>слева</td>\n",
       "      <td>передний привод</td>\n",
       "      <td>Нет</td>\n",
       "      <td>бензин</td>\n",
       "      <td>Datsun</td>\n",
       "      <td>on-DO</td>\n",
       "      <td>1550000</td>\n",
       "    </tr>\n",
       "    <tr>\n",
       "      <th>16031</th>\n",
       "      <td>Сайхин</td>\n",
       "      <td>2008</td>\n",
       "      <td>внедорожник</td>\n",
       "      <td>1.8</td>\n",
       "      <td>175000</td>\n",
       "      <td>механика</td>\n",
       "      <td>слева</td>\n",
       "      <td>полный привод</td>\n",
       "      <td>Да</td>\n",
       "      <td>бензин</td>\n",
       "      <td>Chevrolet</td>\n",
       "      <td>Niva</td>\n",
       "      <td>1500000</td>\n",
       "    </tr>\n",
       "    <tr>\n",
       "      <th>16032</th>\n",
       "      <td>Нур-Султан (Астана)</td>\n",
       "      <td>2014</td>\n",
       "      <td>седан</td>\n",
       "      <td>1.5</td>\n",
       "      <td>103000</td>\n",
       "      <td>механика</td>\n",
       "      <td>слева</td>\n",
       "      <td>передний привод</td>\n",
       "      <td>Да</td>\n",
       "      <td>бензин</td>\n",
       "      <td>Daewoo</td>\n",
       "      <td>Gentra</td>\n",
       "      <td>3300000</td>\n",
       "    </tr>\n",
       "    <tr>\n",
       "      <th>16033</th>\n",
       "      <td>Алматы</td>\n",
       "      <td>2014</td>\n",
       "      <td>внедорожник</td>\n",
       "      <td>4.0</td>\n",
       "      <td>87000</td>\n",
       "      <td>автомат</td>\n",
       "      <td>слева</td>\n",
       "      <td>полный привод</td>\n",
       "      <td>Да</td>\n",
       "      <td>бензин</td>\n",
       "      <td>Toyota</td>\n",
       "      <td>Land Cruiser Prado</td>\n",
       "      <td>18500000</td>\n",
       "    </tr>\n",
       "    <tr>\n",
       "      <th>16034</th>\n",
       "      <td>Нур-Султан (Астана)</td>\n",
       "      <td>1991</td>\n",
       "      <td>седан</td>\n",
       "      <td>2.3</td>\n",
       "      <td>241321</td>\n",
       "      <td>механика</td>\n",
       "      <td>слева</td>\n",
       "      <td>задний привод</td>\n",
       "      <td>Да</td>\n",
       "      <td>бензин</td>\n",
       "      <td>Mercedes-Benz</td>\n",
       "      <td>E 230</td>\n",
       "      <td>1400000</td>\n",
       "    </tr>\n",
       "  </tbody>\n",
       "</table>\n",
       "<p>14302 rows × 13 columns</p>\n",
       "</div>"
      ],
      "text/plain": [
       "                      City  Year        Shell  Volume  Mileage Transmission  \\\n",
       "0                  Уральск  2014  внедорожник     1.7    31000     механика   \n",
       "1      Нур-Султан (Астана)  2014        седан     3.5    59800      автомат   \n",
       "2                    Тараз  1995       фургон     2.3   450650     механика   \n",
       "3                   Алматы  2018        седан     2.5    48000    типтроник   \n",
       "4                Караганда  1997  внедорожник     3.5   153000      автомат   \n",
       "...                    ...   ...          ...     ...      ...          ...   \n",
       "16030             Костанай  2014        седан     1.6   160000     механика   \n",
       "16031               Сайхин  2008  внедорожник     1.8   175000     механика   \n",
       "16032  Нур-Султан (Астана)  2014        седан     1.5   103000     механика   \n",
       "16033               Алматы  2014  внедорожник     4.0    87000      автомат   \n",
       "16034  Нур-Султан (Астана)  1991        седан     2.3   241321     механика   \n",
       "\n",
       "       Rudder             Gear CustomsCleared Type Engine        Company  \\\n",
       "0       слева    полный привод             Да      бензин      Chevrolet   \n",
       "1       слева  передний привод             Да      бензин            Kia   \n",
       "2       слева    задний привод             Да      дизель     Volkswagen   \n",
       "3       слева  передний привод             Да      бензин         Toyota   \n",
       "4      справа    полный привод            Нет      бензин     Mitsubishi   \n",
       "...       ...              ...            ...         ...            ...   \n",
       "16030   слева  передний привод            Нет      бензин         Datsun   \n",
       "16031   слева    полный привод             Да      бензин      Chevrolet   \n",
       "16032   слева  передний привод             Да      бензин         Daewoo   \n",
       "16033   слева    полный привод             Да      бензин         Toyota   \n",
       "16034   слева    задний привод             Да      бензин  Mercedes-Benz   \n",
       "\n",
       "                    Model     Price  \n",
       "0                    Niva   2900000  \n",
       "1                 Cadenza   8600000  \n",
       "2                      LT   1100000  \n",
       "3                   Camry  11300000  \n",
       "4                  Pajero   3350000  \n",
       "...                   ...       ...  \n",
       "16030               on-DO   1550000  \n",
       "16031                Niva   1500000  \n",
       "16032              Gentra   3300000  \n",
       "16033  Land Cruiser Prado  18500000  \n",
       "16034               E 230   1400000  \n",
       "\n",
       "[14302 rows x 13 columns]"
      ]
     },
     "execution_count": 117,
     "metadata": {},
     "output_type": "execute_result"
    }
   ],
   "source": [
    "# Looking at the result\n",
    "data"
   ]
  },
  {
   "cell_type": "markdown",
   "metadata": {},
   "source": [
    "## Checking on outliers again"
   ]
  },
  {
   "cell_type": "markdown",
   "metadata": {},
   "source": [
    "Well, we didn't drop all the outliers ,only most of them,now we can take a detail look and check our dataset for outliers again"
   ]
  },
  {
   "cell_type": "code",
   "execution_count": 72,
   "metadata": {},
   "outputs": [
    {
     "data": {
      "text/plain": [
       "<matplotlib.axes._subplots.AxesSubplot at 0x1b0ddcbd490>"
      ]
     },
     "execution_count": 72,
     "metadata": {},
     "output_type": "execute_result"
    },
    {
     "data": {
      "image/png": "[encoded data removed]",
      "text/plain": [
       "<Figure size 1440x1008 with 4 Axes>"
      ]
     },
     "metadata": {
      "needs_background": "light"
     },
     "output_type": "display_data"
    }
   ],
   "source": [
    "fig, axes = plt.subplots(2, 2, figsize=(20, 14))\n",
    "fig.suptitle('Distributions of num Columns')\n",
    "sns.boxplot(ax=axes[0, 0], data=data, x='Price')\n",
    "sns.boxplot(ax=axes[0, 1], data=data, x='Mileage')\n",
    "sns.boxplot(ax=axes[1, 0], data=data, x='Volume')\n",
    "sns.boxplot(ax=axes[1, 1], data=data, x='Year')"
   ]
  },
  {
   "cell_type": "code",
   "execution_count": 118,
   "metadata": {},
   "outputs": [
    {
     "name": "stdout",
     "output_type": "stream",
     "text": [
      "Price outliers:  879\n",
      "Mileage outliers:  222\n",
      "Volume outliers:  503\n",
      "Amount of outliers:  1604\n",
      "Count of rows with outliers 14302\n",
      "Count of rows without of outliers:  12698\n"
     ]
    }
   ],
   "source": [
    "# Recording the count of outliers for each column\n",
    "price_outliers = len(data[data['Price'] >= 1.22 * 10**7])\n",
    "mileage_outliers = len(data[data['Mileage'] >= 0.48 * 10**6])\n",
    "volume_outliers = len(data[(data['Volume'] >= 3.7) | (data['Volume'] < 0.3)])\n",
    "\n",
    "# Print amount of outliers for each column\n",
    "print('Price outliers: ',len(data[data['Price'] >= 1.22 * 10**7]))\n",
    "print('Mileage outliers: ',len(data[data['Mileage'] >= 0.48 * 10**6]))\n",
    "print('Volume outliers: ',len(data[(data['Volume'] >= 3.7) | (data['Volume'] < 0.3)]))\n",
    "\n",
    "count_outliers = price_outliers + mileage_outliers + volume_outliers\n",
    "\n",
    "# Print total count of outliers and count of rows with and without outliers\n",
    "print('Amount of outliers: ', count_outliers)\n",
    "print('Count of rows with outliers', len(data))\n",
    "print('Count of rows without of outliers: ', len(data) - count_outliers)"
   ]
  },
  {
   "cell_type": "code",
   "execution_count": 119,
   "metadata": {},
   "outputs": [],
   "source": [
    "# Dropping all outliers\n",
    "data.drop(data[data['Price'] >= 1.22 * 10**7].index, inplace=True)\n",
    "data.drop(data[data['Mileage'] >= 0.48 * 10**6].index, inplace=True)\n",
    "data.drop(data[(data['Volume'] >= 3.7) | (data['Volume'] < 0.3)].index,inplace=True)"
   ]
  },
  {
   "cell_type": "code",
   "execution_count": 120,
   "metadata": {},
   "outputs": [
    {
     "data": {
      "text/html": [
       "<div>\n",
       "<style scoped>\n",
       "    .dataframe tbody tr th:only-of-type {\n",
       "        vertical-align: middle;\n",
       "    }\n",
       "\n",
       "    .dataframe tbody tr th {\n",
       "        vertical-align: top;\n",
       "    }\n",
       "\n",
       "    .dataframe thead th {\n",
       "        text-align: right;\n",
       "    }\n",
       "</style>\n",
       "<table border=\"1\" class=\"dataframe\">\n",
       "  <thead>\n",
       "    <tr style=\"text-align: right;\">\n",
       "      <th></th>\n",
       "      <th>City</th>\n",
       "      <th>Year</th>\n",
       "      <th>Shell</th>\n",
       "      <th>Volume</th>\n",
       "      <th>Mileage</th>\n",
       "      <th>Transmission</th>\n",
       "      <th>Rudder</th>\n",
       "      <th>Gear</th>\n",
       "      <th>CustomsCleared</th>\n",
       "      <th>Type Engine</th>\n",
       "      <th>Company</th>\n",
       "      <th>Model</th>\n",
       "      <th>Price</th>\n",
       "    </tr>\n",
       "  </thead>\n",
       "  <tbody>\n",
       "    <tr>\n",
       "      <th>0</th>\n",
       "      <td>Уральск</td>\n",
       "      <td>2014</td>\n",
       "      <td>внедорожник</td>\n",
       "      <td>1.7</td>\n",
       "      <td>31000</td>\n",
       "      <td>механика</td>\n",
       "      <td>слева</td>\n",
       "      <td>полный привод</td>\n",
       "      <td>Да</td>\n",
       "      <td>бензин</td>\n",
       "      <td>Chevrolet</td>\n",
       "      <td>Niva</td>\n",
       "      <td>2900000</td>\n",
       "    </tr>\n",
       "    <tr>\n",
       "      <th>1</th>\n",
       "      <td>Нур-Султан (Астана)</td>\n",
       "      <td>2014</td>\n",
       "      <td>седан</td>\n",
       "      <td>3.5</td>\n",
       "      <td>59800</td>\n",
       "      <td>автомат</td>\n",
       "      <td>слева</td>\n",
       "      <td>передний привод</td>\n",
       "      <td>Да</td>\n",
       "      <td>бензин</td>\n",
       "      <td>Kia</td>\n",
       "      <td>Cadenza</td>\n",
       "      <td>8600000</td>\n",
       "    </tr>\n",
       "    <tr>\n",
       "      <th>2</th>\n",
       "      <td>Тараз</td>\n",
       "      <td>1995</td>\n",
       "      <td>фургон</td>\n",
       "      <td>2.3</td>\n",
       "      <td>450650</td>\n",
       "      <td>механика</td>\n",
       "      <td>слева</td>\n",
       "      <td>задний привод</td>\n",
       "      <td>Да</td>\n",
       "      <td>дизель</td>\n",
       "      <td>Volkswagen</td>\n",
       "      <td>LT</td>\n",
       "      <td>1100000</td>\n",
       "    </tr>\n",
       "    <tr>\n",
       "      <th>3</th>\n",
       "      <td>Алматы</td>\n",
       "      <td>2018</td>\n",
       "      <td>седан</td>\n",
       "      <td>2.5</td>\n",
       "      <td>48000</td>\n",
       "      <td>типтроник</td>\n",
       "      <td>слева</td>\n",
       "      <td>передний привод</td>\n",
       "      <td>Да</td>\n",
       "      <td>бензин</td>\n",
       "      <td>Toyota</td>\n",
       "      <td>Camry</td>\n",
       "      <td>11300000</td>\n",
       "    </tr>\n",
       "    <tr>\n",
       "      <th>4</th>\n",
       "      <td>Караганда</td>\n",
       "      <td>1997</td>\n",
       "      <td>внедорожник</td>\n",
       "      <td>3.5</td>\n",
       "      <td>153000</td>\n",
       "      <td>автомат</td>\n",
       "      <td>справа</td>\n",
       "      <td>полный привод</td>\n",
       "      <td>Нет</td>\n",
       "      <td>бензин</td>\n",
       "      <td>Mitsubishi</td>\n",
       "      <td>Pajero</td>\n",
       "      <td>3350000</td>\n",
       "    </tr>\n",
       "    <tr>\n",
       "      <th>...</th>\n",
       "      <td>...</td>\n",
       "      <td>...</td>\n",
       "      <td>...</td>\n",
       "      <td>...</td>\n",
       "      <td>...</td>\n",
       "      <td>...</td>\n",
       "      <td>...</td>\n",
       "      <td>...</td>\n",
       "      <td>...</td>\n",
       "      <td>...</td>\n",
       "      <td>...</td>\n",
       "      <td>...</td>\n",
       "      <td>...</td>\n",
       "    </tr>\n",
       "    <tr>\n",
       "      <th>16029</th>\n",
       "      <td>Тараз</td>\n",
       "      <td>1989</td>\n",
       "      <td>седан</td>\n",
       "      <td>2.0</td>\n",
       "      <td>338065</td>\n",
       "      <td>механика</td>\n",
       "      <td>слева</td>\n",
       "      <td>передний привод</td>\n",
       "      <td>Да</td>\n",
       "      <td>бензин</td>\n",
       "      <td>Audi</td>\n",
       "      <td>80</td>\n",
       "      <td>570000</td>\n",
       "    </tr>\n",
       "    <tr>\n",
       "      <th>16030</th>\n",
       "      <td>Костанай</td>\n",
       "      <td>2014</td>\n",
       "      <td>седан</td>\n",
       "      <td>1.6</td>\n",
       "      <td>160000</td>\n",
       "      <td>механика</td>\n",
       "      <td>слева</td>\n",
       "      <td>передний привод</td>\n",
       "      <td>Нет</td>\n",
       "      <td>бензин</td>\n",
       "      <td>Datsun</td>\n",
       "      <td>on-DO</td>\n",
       "      <td>1550000</td>\n",
       "    </tr>\n",
       "    <tr>\n",
       "      <th>16031</th>\n",
       "      <td>Сайхин</td>\n",
       "      <td>2008</td>\n",
       "      <td>внедорожник</td>\n",
       "      <td>1.8</td>\n",
       "      <td>175000</td>\n",
       "      <td>механика</td>\n",
       "      <td>слева</td>\n",
       "      <td>полный привод</td>\n",
       "      <td>Да</td>\n",
       "      <td>бензин</td>\n",
       "      <td>Chevrolet</td>\n",
       "      <td>Niva</td>\n",
       "      <td>1500000</td>\n",
       "    </tr>\n",
       "    <tr>\n",
       "      <th>16032</th>\n",
       "      <td>Нур-Султан (Астана)</td>\n",
       "      <td>2014</td>\n",
       "      <td>седан</td>\n",
       "      <td>1.5</td>\n",
       "      <td>103000</td>\n",
       "      <td>механика</td>\n",
       "      <td>слева</td>\n",
       "      <td>передний привод</td>\n",
       "      <td>Да</td>\n",
       "      <td>бензин</td>\n",
       "      <td>Daewoo</td>\n",
       "      <td>Gentra</td>\n",
       "      <td>3300000</td>\n",
       "    </tr>\n",
       "    <tr>\n",
       "      <th>16034</th>\n",
       "      <td>Нур-Султан (Астана)</td>\n",
       "      <td>1991</td>\n",
       "      <td>седан</td>\n",
       "      <td>2.3</td>\n",
       "      <td>241321</td>\n",
       "      <td>механика</td>\n",
       "      <td>слева</td>\n",
       "      <td>задний привод</td>\n",
       "      <td>Да</td>\n",
       "      <td>бензин</td>\n",
       "      <td>Mercedes-Benz</td>\n",
       "      <td>E 230</td>\n",
       "      <td>1400000</td>\n",
       "    </tr>\n",
       "  </tbody>\n",
       "</table>\n",
       "<p>12838 rows × 13 columns</p>\n",
       "</div>"
      ],
      "text/plain": [
       "                      City  Year        Shell  Volume  Mileage Transmission  \\\n",
       "0                  Уральск  2014  внедорожник     1.7    31000     механика   \n",
       "1      Нур-Султан (Астана)  2014        седан     3.5    59800      автомат   \n",
       "2                    Тараз  1995       фургон     2.3   450650     механика   \n",
       "3                   Алматы  2018        седан     2.5    48000    типтроник   \n",
       "4                Караганда  1997  внедорожник     3.5   153000      автомат   \n",
       "...                    ...   ...          ...     ...      ...          ...   \n",
       "16029                Тараз  1989        седан     2.0   338065     механика   \n",
       "16030             Костанай  2014        седан     1.6   160000     механика   \n",
       "16031               Сайхин  2008  внедорожник     1.8   175000     механика   \n",
       "16032  Нур-Султан (Астана)  2014        седан     1.5   103000     механика   \n",
       "16034  Нур-Султан (Астана)  1991        седан     2.3   241321     механика   \n",
       "\n",
       "       Rudder             Gear CustomsCleared Type Engine        Company  \\\n",
       "0       слева    полный привод             Да      бензин      Chevrolet   \n",
       "1       слева  передний привод             Да      бензин            Kia   \n",
       "2       слева    задний привод             Да      дизель     Volkswagen   \n",
       "3       слева  передний привод             Да      бензин         Toyota   \n",
       "4      справа    полный привод            Нет      бензин     Mitsubishi   \n",
       "...       ...              ...            ...         ...            ...   \n",
       "16029   слева  передний привод             Да      бензин           Audi   \n",
       "16030   слева  передний привод            Нет      бензин         Datsun   \n",
       "16031   слева    полный привод             Да      бензин      Chevrolet   \n",
       "16032   слева  передний привод             Да      бензин         Daewoo   \n",
       "16034   слева    задний привод             Да      бензин  Mercedes-Benz   \n",
       "\n",
       "         Model     Price  \n",
       "0         Niva   2900000  \n",
       "1      Cadenza   8600000  \n",
       "2           LT   1100000  \n",
       "3        Camry  11300000  \n",
       "4       Pajero   3350000  \n",
       "...        ...       ...  \n",
       "16029       80    570000  \n",
       "16030    on-DO   1550000  \n",
       "16031     Niva   1500000  \n",
       "16032   Gentra   3300000  \n",
       "16034    E 230   1400000  \n",
       "\n",
       "[12838 rows x 13 columns]"
      ]
     },
     "execution_count": 120,
     "metadata": {},
     "output_type": "execute_result"
    }
   ],
   "source": [
    "data"
   ]
  },
  {
   "cell_type": "code",
   "execution_count": 14,
   "metadata": {},
   "outputs": [
    {
     "data": {
      "text/plain": [
       "<matplotlib.axes._subplots.AxesSubplot at 0x7f68e61d1150>"
      ]
     },
     "execution_count": 14,
     "metadata": {},
     "output_type": "execute_result"
    },
    {
     "data": {
      "image/png": "[encoded data removed]",
      "text/plain": [
       "<Figure size 1440x1008 with 4 Axes>"
      ]
     },
     "metadata": {
      "needs_background": "light"
     },
     "output_type": "display_data"
    }
   ],
   "source": [
    "fig, axes = plt.subplots(2, 2, figsize=(20, 14))\n",
    "fig.suptitle('Distributions of num Columns')\n",
    "sns.boxplot(ax=axes[0, 0], data=data, x='Price')\n",
    "sns.boxplot(ax=axes[0, 1], data=data, x='Mileage')\n",
    "sns.boxplot(ax=axes[1, 0], data=data, x='Volume')\n",
    "sns.boxplot(ax=axes[1, 1], data=data, x='Year')"
   ]
  },
  {
   "cell_type": "markdown",
   "metadata": {},
   "source": [
    "We've got rid of the most part of outliers and the rest count of them is not too essential.So then we can go ahead"
   ]
  },
  {
   "cell_type": "markdown",
   "metadata": {},
   "source": [
    "## Transforming data"
   ]
  },
  {
   "cell_type": "code",
   "execution_count": 121,
   "metadata": {},
   "outputs": [],
   "source": [
    "# Splitting our columns on categorical and numerical\n",
    "\n",
    "# Numerical columns names\n",
    "num_cols = data.select_dtypes(include=np.number).columns\n",
    "\n",
    "# Categorical columns names\n",
    "cat_cols = data.select_dtypes(exclude=np.number).columns"
   ]
  },
  {
   "cell_type": "code",
   "execution_count": 122,
   "metadata": {},
   "outputs": [
    {
     "name": "stdout",
     "output_type": "stream",
     "text": [
      "Index(['Year', 'Volume', 'Mileage', 'Price'], dtype='object')\n",
      "Index(['City', 'Shell', 'Transmission', 'Rudder', 'Gear', 'CustomsCleared',\n",
      "       'Type Engine', 'Company', 'Model'],\n",
      "      dtype='object')\n"
     ]
    }
   ],
   "source": [
    "print(num_cols)\n",
    "print(cat_cols)"
   ]
  },
  {
   "cell_type": "markdown",
   "metadata": {},
   "source": [
    "Now we need to transform our categorical data to numerical for the training our model"
   ]
  },
  {
   "cell_type": "code",
   "execution_count": 123,
   "metadata": {},
   "outputs": [
    {
     "name": "stdout",
     "output_type": "stream",
     "text": [
      "City : 193\n",
      "Shell : 17\n",
      "Transmission : 5\n",
      "Rudder : 2\n",
      "Gear : 3\n",
      "CustomsCleared : 2\n",
      "Type Engine : 5\n",
      "Company : 72\n",
      "Model : 765\n"
     ]
    }
   ],
   "source": [
    "# Print how much unique values has each categorical column\n",
    "for col in cat_cols:\n",
    "    print('%s : %d' % (col,data[col].nunique()))"
   ]
  },
  {
   "cell_type": "code",
   "execution_count": 124,
   "metadata": {},
   "outputs": [
    {
     "data": {
      "text/html": [
       "<div>\n",
       "<style scoped>\n",
       "    .dataframe tbody tr th:only-of-type {\n",
       "        vertical-align: middle;\n",
       "    }\n",
       "\n",
       "    .dataframe tbody tr th {\n",
       "        vertical-align: top;\n",
       "    }\n",
       "\n",
       "    .dataframe thead th {\n",
       "        text-align: right;\n",
       "    }\n",
       "</style>\n",
       "<table border=\"1\" class=\"dataframe\">\n",
       "  <thead>\n",
       "    <tr style=\"text-align: right;\">\n",
       "      <th></th>\n",
       "      <th>City</th>\n",
       "      <th>Shell</th>\n",
       "      <th>Transmission</th>\n",
       "      <th>Rudder</th>\n",
       "      <th>Gear</th>\n",
       "      <th>CustomsCleared</th>\n",
       "      <th>Type Engine</th>\n",
       "      <th>Company</th>\n",
       "      <th>Model</th>\n",
       "    </tr>\n",
       "  </thead>\n",
       "  <tbody>\n",
       "    <tr>\n",
       "      <th>0</th>\n",
       "      <td>161</td>\n",
       "      <td>0</td>\n",
       "      <td>2</td>\n",
       "      <td>0</td>\n",
       "      <td>2</td>\n",
       "      <td>0</td>\n",
       "      <td>0</td>\n",
       "      <td>11</td>\n",
       "      <td>495</td>\n",
       "    </tr>\n",
       "    <tr>\n",
       "      <th>1</th>\n",
       "      <td>113</td>\n",
       "      <td>11</td>\n",
       "      <td>0</td>\n",
       "      <td>0</td>\n",
       "      <td>1</td>\n",
       "      <td>0</td>\n",
       "      <td>0</td>\n",
       "      <td>34</td>\n",
       "      <td>197</td>\n",
       "    </tr>\n",
       "    <tr>\n",
       "      <th>2</th>\n",
       "      <td>146</td>\n",
       "      <td>14</td>\n",
       "      <td>2</td>\n",
       "      <td>0</td>\n",
       "      <td>0</td>\n",
       "      <td>0</td>\n",
       "      <td>4</td>\n",
       "      <td>60</td>\n",
       "      <td>417</td>\n",
       "    </tr>\n",
       "    <tr>\n",
       "      <th>3</th>\n",
       "      <td>15</td>\n",
       "      <td>11</td>\n",
       "      <td>4</td>\n",
       "      <td>0</td>\n",
       "      <td>1</td>\n",
       "      <td>0</td>\n",
       "      <td>0</td>\n",
       "      <td>59</td>\n",
       "      <td>202</td>\n",
       "    </tr>\n",
       "    <tr>\n",
       "      <th>4</th>\n",
       "      <td>77</td>\n",
       "      <td>0</td>\n",
       "      <td>0</td>\n",
       "      <td>1</td>\n",
       "      <td>2</td>\n",
       "      <td>1</td>\n",
       "      <td>0</td>\n",
       "      <td>42</td>\n",
       "      <td>513</td>\n",
       "    </tr>\n",
       "  </tbody>\n",
       "</table>\n",
       "</div>"
      ],
      "text/plain": [
       "   City  Shell  Transmission  Rudder  Gear  CustomsCleared  Type Engine  \\\n",
       "0   161      0             2       0     2               0            0   \n",
       "1   113     11             0       0     1               0            0   \n",
       "2   146     14             2       0     0               0            4   \n",
       "3    15     11             4       0     1               0            0   \n",
       "4    77      0             0       1     2               1            0   \n",
       "\n",
       "   Company  Model  \n",
       "0       11    495  \n",
       "1       34    197  \n",
       "2       60    417  \n",
       "3       59    202  \n",
       "4       42    513  "
      ]
     },
     "execution_count": 124,
     "metadata": {},
     "output_type": "execute_result"
    }
   ],
   "source": [
    "# We gonna encode label using LabelEncoder\n",
    "le = preprocessing.LabelEncoder()\n",
    "data[cat_cols] = data[cat_cols].apply(le.fit_transform)\n",
    "data[cat_cols].head()"
   ]
  },
  {
   "cell_type": "code",
   "execution_count": 125,
   "metadata": {},
   "outputs": [],
   "source": [
    "#scaling numerical data\n",
    "\n",
    "norm = StandardScaler()\n",
    "data['Price'] = np.log(data['Price'])\n",
    "data['Mileage'] = norm.fit_transform(np.array(data['Mileage']).reshape(-1,1))\n",
    "data['Year'] = norm.fit_transform(np.array(data['Year']).reshape(-1,1))\n",
    "data['Company'] = norm.fit_transform(np.array(data['Company']).reshape(-1,1))\n",
    "data['Model'] = norm.fit_transform(np.array(data['Model']).reshape(-1,1))\n",
    "data['City'] = norm.fit_transform(np.array(data['City']).reshape(-1,1))\n",
    "\n",
    "\n",
    "#scaling target variable\n",
    "q1,q3=(data['Price'].quantile([0.25,0.75]))\n",
    "o1=q1-1.5*(q3-q1)\n",
    "o2=q3+1.5*(q3-q1)\n",
    "data=data[(data.Price>=o1) & (data.Price<=o2)]"
   ]
  },
  {
   "cell_type": "code",
   "execution_count": 126,
   "metadata": {},
   "outputs": [
    {
     "data": {
      "text/html": [
       "<div>\n",
       "<style scoped>\n",
       "    .dataframe tbody tr th:only-of-type {\n",
       "        vertical-align: middle;\n",
       "    }\n",
       "\n",
       "    .dataframe tbody tr th {\n",
       "        vertical-align: top;\n",
       "    }\n",
       "\n",
       "    .dataframe thead th {\n",
       "        text-align: right;\n",
       "    }\n",
       "</style>\n",
       "<table border=\"1\" class=\"dataframe\">\n",
       "  <thead>\n",
       "    <tr style=\"text-align: right;\">\n",
       "      <th></th>\n",
       "      <th>City</th>\n",
       "      <th>Year</th>\n",
       "      <th>Shell</th>\n",
       "      <th>Volume</th>\n",
       "      <th>Mileage</th>\n",
       "      <th>Transmission</th>\n",
       "      <th>Rudder</th>\n",
       "      <th>Gear</th>\n",
       "      <th>CustomsCleared</th>\n",
       "      <th>Type Engine</th>\n",
       "      <th>Company</th>\n",
       "      <th>Model</th>\n",
       "      <th>Price</th>\n",
       "    </tr>\n",
       "  </thead>\n",
       "  <tbody>\n",
       "    <tr>\n",
       "      <th>0</th>\n",
       "      <td>1.222430</td>\n",
       "      <td>0.887418</td>\n",
       "      <td>0</td>\n",
       "      <td>1.7</td>\n",
       "      <td>-1.222239</td>\n",
       "      <td>2</td>\n",
       "      <td>0</td>\n",
       "      <td>2</td>\n",
       "      <td>0</td>\n",
       "      <td>0</td>\n",
       "      <td>-1.761043</td>\n",
       "      <td>0.771504</td>\n",
       "      <td>14.880221</td>\n",
       "    </tr>\n",
       "    <tr>\n",
       "      <th>1</th>\n",
       "      <td>0.458107</td>\n",
       "      <td>0.887418</td>\n",
       "      <td>11</td>\n",
       "      <td>3.5</td>\n",
       "      <td>-0.942271</td>\n",
       "      <td>0</td>\n",
       "      <td>0</td>\n",
       "      <td>1</td>\n",
       "      <td>0</td>\n",
       "      <td>0</td>\n",
       "      <td>-0.549343</td>\n",
       "      <td>-0.571722</td>\n",
       "      <td>15.967273</td>\n",
       "    </tr>\n",
       "    <tr>\n",
       "      <th>2</th>\n",
       "      <td>0.983579</td>\n",
       "      <td>-1.515886</td>\n",
       "      <td>14</td>\n",
       "      <td>2.3</td>\n",
       "      <td>2.857233</td>\n",
       "      <td>2</td>\n",
       "      <td>0</td>\n",
       "      <td>0</td>\n",
       "      <td>0</td>\n",
       "      <td>4</td>\n",
       "      <td>0.820405</td>\n",
       "      <td>0.419921</td>\n",
       "      <td>13.910821</td>\n",
       "    </tr>\n",
       "    <tr>\n",
       "      <th>3</th>\n",
       "      <td>-1.102385</td>\n",
       "      <td>1.393377</td>\n",
       "      <td>11</td>\n",
       "      <td>2.5</td>\n",
       "      <td>-1.056980</td>\n",
       "      <td>4</td>\n",
       "      <td>0</td>\n",
       "      <td>1</td>\n",
       "      <td>0</td>\n",
       "      <td>0</td>\n",
       "      <td>0.767723</td>\n",
       "      <td>-0.549185</td>\n",
       "      <td>16.240313</td>\n",
       "    </tr>\n",
       "    <tr>\n",
       "      <th>4</th>\n",
       "      <td>-0.115135</td>\n",
       "      <td>-1.262907</td>\n",
       "      <td>0</td>\n",
       "      <td>3.5</td>\n",
       "      <td>-0.036261</td>\n",
       "      <td>0</td>\n",
       "      <td>1</td>\n",
       "      <td>2</td>\n",
       "      <td>1</td>\n",
       "      <td>0</td>\n",
       "      <td>-0.127882</td>\n",
       "      <td>0.852638</td>\n",
       "      <td>15.024471</td>\n",
       "    </tr>\n",
       "  </tbody>\n",
       "</table>\n",
       "</div>"
      ],
      "text/plain": [
       "       City      Year  Shell  Volume   Mileage  Transmission  Rudder  Gear  \\\n",
       "0  1.222430  0.887418      0     1.7 -1.222239             2       0     2   \n",
       "1  0.458107  0.887418     11     3.5 -0.942271             0       0     1   \n",
       "2  0.983579 -1.515886     14     2.3  2.857233             2       0     0   \n",
       "3 -1.102385  1.393377     11     2.5 -1.056980             4       0     1   \n",
       "4 -0.115135 -1.262907      0     3.5 -0.036261             0       1     2   \n",
       "\n",
       "   CustomsCleared  Type Engine   Company     Model      Price  \n",
       "0               0            0 -1.761043  0.771504  14.880221  \n",
       "1               0            0 -0.549343 -0.571722  15.967273  \n",
       "2               0            4  0.820405  0.419921  13.910821  \n",
       "3               0            0  0.767723 -0.549185  16.240313  \n",
       "4               1            0 -0.127882  0.852638  15.024471  "
      ]
     },
     "execution_count": 126,
     "metadata": {},
     "output_type": "execute_result"
    }
   ],
   "source": [
    "data.head()"
   ]
  },
  {
   "cell_type": "markdown",
   "metadata": {},
   "source": [
    "## Data split"
   ]
  },
  {
   "cell_type": "code",
   "execution_count": 127,
   "metadata": {},
   "outputs": [],
   "source": [
    "X = np.array(data.iloc[:, :-1])\n",
    "y = np.array(data.iloc[:, -1:])"
   ]
  },
  {
   "cell_type": "code",
   "execution_count": 128,
   "metadata": {},
   "outputs": [],
   "source": [
    "X_train,X_test,y_train,y_test=train_test_split(X,y,train_size=0.8,test_size=0.2,random_state=0)"
   ]
  },
  {
   "cell_type": "markdown",
   "metadata": {},
   "source": [
    "Perhaps, during predictions our model will get negative values,so to prevent it,we need to create a specific function,that would remove all negative values"
   ]
  },
  {
   "cell_type": "code",
   "execution_count": 129,
   "metadata": {},
   "outputs": [],
   "source": [
    "# function that removes all negative predictions\n",
    "def remove_neg(y_test, pred):\n",
    "    indexes = [index for index in range(len(pred)) if(pred[index] > 0)]\n",
    "    pred = pred[indexes]\n",
    "    y_test = y_test[indexes]\n",
    "    pred[pred < 0]\n",
    "    return (y_test, pred)"
   ]
  },
  {
   "cell_type": "code",
   "execution_count": 130,
   "metadata": {},
   "outputs": [],
   "source": [
    "# function for evaluating our models. Returns MSE, Root MSE, R2 score, and R2 score in %\n",
    "def result(y_test,pred):\n",
    "    result=[]\n",
    "    result.append(mean_squared_log_error(y_test, pred))\n",
    "    result.append(np.sqrt(result[0]))\n",
    "    result.append(r2_score(y_test,pred))\n",
    "    result.append(round(r2_score(y_test,pred)*100,4))\n",
    "    result.append(mean_absolute_error(y_test,pred))\n",
    "    return (result)"
   ]
  },
  {
   "cell_type": "markdown",
   "metadata": {},
   "source": [
    "## Model preparing"
   ]
  },
  {
   "cell_type": "markdown",
   "metadata": {},
   "source": [
    "As we need to predict price we are going to use regression algoritms.We selected the some of the regression models such as:"
   ]
  },
  {
   "cell_type": "markdown",
   "metadata": {},
   "source": [
    "* Linear Regression\n",
    "* KNN\n",
    "* Random Forest Regressor\n",
    "* Decision Tree Regressor\n",
    "* Multiple Linear Regression\n",
    "* Lasso Regression\n",
    "* Bagging Regression"
   ]
  },
  {
   "cell_type": "code",
   "execution_count": 131,
   "metadata": {},
   "outputs": [],
   "source": [
    "# Libraries import\n",
    "from sklearn.linear_model import LinearRegression\n",
    "from sklearn.neighbors import KNeighborsRegressor\n",
    "from sklearn.ensemble import RandomForestRegressor\n",
    "from sklearn.tree import DecisionTreeRegressor\n",
    "\n",
    "from sklearn.linear_model import LassoCV\n",
    "\n",
    "from sklearn.model_selection import GridSearchCV"
   ]
  },
  {
   "cell_type": "markdown",
   "metadata": {},
   "source": [
    "### Linear Regression"
   ]
  },
  {
   "cell_type": "code",
   "execution_count": 132,
   "metadata": {},
   "outputs": [],
   "source": [
    "# Model fitting\n",
    "linReg = LinearRegression()\n",
    "linReg.fit(X_train,y_train)\n",
    "linReg_pred = linReg.predict(X_test)"
   ]
  },
  {
   "cell_type": "markdown",
   "metadata": {},
   "source": [
    "#### Feature selection"
   ]
  },
  {
   "cell_type": "code",
   "execution_count": 133,
   "metadata": {},
   "outputs": [
    {
     "name": "stderr",
     "output_type": "stream",
     "text": [
      "C:\\1\\Anaconda\\lib\\site-packages\\sklearn\\utils\\validation.py:73: DataConversionWarning: A column-vector y was passed when a 1d array was expected. Please change the shape of y to (n_samples, ), for example using ravel().\n",
      "  return f(**kwargs)\n"
     ]
    },
    {
     "data": {
      "text/plain": [
       "LassoCV(cv=10)"
      ]
     },
     "execution_count": 133,
     "metadata": {},
     "output_type": "execute_result"
    }
   ],
   "source": [
    "# Feature selection\n",
    "# Embedded method with LassoCV\n",
    "lin_lassoCV = LassoCV(cv=10)\n",
    "lin_lassoCV.fit(X,y)"
   ]
  },
  {
   "cell_type": "code",
   "execution_count": 134,
   "metadata": {},
   "outputs": [
    {
     "name": "stdout",
     "output_type": "stream",
     "text": [
      "Best alpha using sklearn built-in LassoCV method is: 0.001427\n",
      "Best score using sklearn built-in LassoCV method is : 0.755614\n",
      "Lasso picked 11 variables and eliminated the other 1 variables\n"
     ]
    }
   ],
   "source": [
    "print(\"Best alpha using sklearn built-in LassoCV method is: %f\" % lin_lassoCV.alpha_)\n",
    "print(\"Best score using sklearn built-in LassoCV method is : %f\" % lin_lassoCV.score(X,y))\n",
    "\n",
    "coef = pd.Series(lin_lassoCV.coef_, index = data.drop('Price',axis=1).columns)\n",
    "\n",
    "print(\"Lasso picked \" + str(sum(coef != 0)) + \" variables and eliminated the other \" +  str(sum(coef == 0)) + \" variables\")"
   ]
  },
  {
   "cell_type": "code",
   "execution_count": 135,
   "metadata": {},
   "outputs": [
    {
     "data": {
      "text/plain": [
       "Text(0.5, 1.0, 'Feature importance using LassoCV Model')"
      ]
     },
     "execution_count": 135,
     "metadata": {},
     "output_type": "execute_result"
    },
    {
     "data": {
      "image/png": "[encoded data removed]",
      "text/plain": [
       "<Figure size 1080x720 with 1 Axes>"
      ]
     },
     "metadata": {
      "needs_background": "light"
     },
     "output_type": "display_data"
    }
   ],
   "source": [
    "imp_coef = coef.sort_values()\n",
    "import matplotlib\n",
    "matplotlib.rcParams['figure.figsize'] = (15.0, 10.0)\n",
    "imp_coef.plot(kind = \"barh\")\n",
    "plt.title(\"Feature importance using LassoCV Model\")"
   ]
  },
  {
   "cell_type": "code",
   "execution_count": 136,
   "metadata": {},
   "outputs": [
    {
     "data": {
      "text/plain": [
       "CustomsCleared   -0.559480\n",
       "Transmission     -0.081195\n",
       "Company          -0.041944\n",
       "City             -0.014091\n",
       "Shell            -0.013723\n",
       "Gear             -0.012987\n",
       "Mileage          -0.002299\n",
       "Type Engine      -0.000000\n",
       "Model             0.082095\n",
       "Rudder            0.101535\n",
       "Year              0.524053\n",
       "Volume            0.588623\n",
       "dtype: float64"
      ]
     },
     "execution_count": 136,
     "metadata": {},
     "output_type": "execute_result"
    }
   ],
   "source": [
    "imp_coef"
   ]
  },
  {
   "cell_type": "code",
   "execution_count": 137,
   "metadata": {},
   "outputs": [
    {
     "name": "stdout",
     "output_type": "stream",
     "text": [
      "1 Year True 1\n",
      "3 Volume True 1\n",
      "6 Rudder True 1\n",
      "8 CustomsCleared True 1\n",
      "Num Features: 4\n",
      "Selected Features: [False  True False  True False False  True False  True False False False]\n",
      "Feature Ranking: [6 1 7 1 8 3 1 5 1 9 4 2]\n"
     ]
    },
    {
     "name": "stderr",
     "output_type": "stream",
     "text": [
      "C:\\1\\Anaconda\\lib\\site-packages\\sklearn\\utils\\validation.py:68: FutureWarning: Pass n_features_to_select=4 as keyword args. From version 0.25 passing these as positional arguments will result in an error\n",
      "  warnings.warn(\"Pass {} as keyword args. From version 0.25 \"\n"
     ]
    }
   ],
   "source": [
    "# Feature selection \n",
    "# Recursive Feature Elimination\n",
    "\n",
    "from sklearn.feature_selection import RFE\n",
    "\n",
    "rfe = RFE(linReg, 4)\n",
    "fit = rfe.fit(X, y)\n",
    "\n",
    "for i in range(len(data.columns.values) - 1):\n",
    "    if(fit.support_[i] == True):\n",
    "        print(i, data.columns.values[i],fit.support_[i],fit.ranking_[i])\n",
    "\n",
    "print(\"Num Features: %d\" % fit.n_features_)\n",
    "print(\"Selected Features: %s\" % fit.support_)\n",
    "print(\"Feature Ranking: %s\" % fit.ranking_)"
   ]
  },
  {
   "cell_type": "markdown",
   "metadata": {},
   "source": [
    "Two different methodics give as slightly different results,but as we can see, in the both of them there're Year,Mileage and Volume as the features with the highest coefficients or importance"
   ]
  },
  {
   "cell_type": "code",
   "execution_count": 138,
   "metadata": {},
   "outputs": [],
   "source": [
    "lin_X = np.array(data[['Year','Volume','Mileage']])\n",
    "lin_X_train,lin_X_test,lin_y_train,lin_y_test=train_test_split(lin_X,y,train_size=0.8,test_size=0.2,random_state=0)"
   ]
  },
  {
   "cell_type": "markdown",
   "metadata": {},
   "source": [
    "#### Cross Validation and Grid Search for hyperparameter tuning"
   ]
  },
  {
   "cell_type": "markdown",
   "metadata": {},
   "source": [
    "Since we used simple model of Linear Regression we didn't need to perform any hyperparameters tuning"
   ]
  },
  {
   "cell_type": "code",
   "execution_count": 139,
   "metadata": {},
   "outputs": [
    {
     "data": {
      "text/plain": [
       "0.24612301054658628"
      ]
     },
     "execution_count": 139,
     "metadata": {},
     "output_type": "execute_result"
    }
   ],
   "source": [
    "linReg.fit(lin_X_train,lin_y_train)\n",
    "linReg.predict(lin_X_test)\n",
    "\n",
    "from sklearn.model_selection import cross_val_score\n",
    "lin_score = cross_val_score(linReg,lin_X_test,lin_y_test,cv=10,scoring='neg_mean_squared_error')\n",
    "-lin_score.mean()"
   ]
  },
  {
   "cell_type": "markdown",
   "metadata": {},
   "source": [
    "### Regularization: Lasso and Ridge Regressions "
   ]
  },
  {
   "cell_type": "markdown",
   "metadata": {},
   "source": [
    "**Lasso Regression** (Least Absolute Shrinkage and Selection Operatior) is a modification of linear regression, but in Lasso the lost function is modified to minimize the complexity of the model by limiting the sum of the absolute values of the model coefficients(also called as the l1-norm)\n",
    "\n",
    "**Ridge Regression** is also an extension of linear ,but within the Ridge loss function is modified to minimize the complexity of the model. This modification is done by adding a penalty parameter that is equivalent to the square of the magnitude of the coefficients.Also known as l2-norm\n",
    "\n",
    "As the Ridge and Lasso are modifications of Linear so we can use the same feautures for training these models.\n",
    "\n",
    "Lasso works better when we need have more features and we need to make our model simpler and interpretable,but it's not good decision if our features have high correlation and vice cetera \n",
    "Ridge works better when we have less features or when we have features with high correlation ,but otherwise, in most cases, should be avoided due to higher complexity and lower interpretability(which is really important for practical data evaluation).\n",
    "\n",
    "For our case, most preferably to use Ridge Regression Model,but just for experiment,we explored and Lasso too."
   ]
  },
  {
   "cell_type": "code",
   "execution_count": 140,
   "metadata": {},
   "outputs": [],
   "source": [
    "alpha = [np.around(0.1**i,i) for i in range(10)]"
   ]
  },
  {
   "cell_type": "code",
   "execution_count": 141,
   "metadata": {},
   "outputs": [
    {
     "data": {
      "text/plain": [
       "[1.0,\n",
       " 0.1,\n",
       " 0.01,\n",
       " 0.001,\n",
       " 0.0001,\n",
       " 1e-05,\n",
       " 1e-06,\n",
       " 1e-07,\n",
       " 1e-08,\n",
       " 1e-09,\n",
       " 1,\n",
       " 2,\n",
       " 3,\n",
       " 4,\n",
       " 5,\n",
       " 10,\n",
       " 20,\n",
       " 30,\n",
       " 40,\n",
       " 50]"
      ]
     },
     "execution_count": 141,
     "metadata": {},
     "output_type": "execute_result"
    }
   ],
   "source": [
    "alpha_values = alpha + [1,2,3,4,5,10,20,30,40,50]\n",
    "alpha_values"
   ]
  },
  {
   "cell_type": "code",
   "execution_count": 142,
   "metadata": {},
   "outputs": [],
   "source": [
    "from sklearn.linear_model import Ridge, Lasso\n",
    "grid_lasso = GridSearchCV(estimator = Lasso(), param_grid = {'alpha':alpha_values},cv=10,scoring='neg_mean_squared_error')"
   ]
  },
  {
   "cell_type": "code",
   "execution_count": 143,
   "metadata": {},
   "outputs": [
    {
     "data": {
      "text/plain": [
       "GridSearchCV(cv=10, estimator=Lasso(),\n",
       "             param_grid={'alpha': [1.0, 0.1, 0.01, 0.001, 0.0001, 1e-05, 1e-06,\n",
       "                                   1e-07, 1e-08, 1e-09, 1, 2, 3, 4, 5, 10, 20,\n",
       "                                   30, 40, 50]},\n",
       "             scoring='neg_mean_squared_error')"
      ]
     },
     "execution_count": 143,
     "metadata": {},
     "output_type": "execute_result"
    }
   ],
   "source": [
    "grid_lasso.fit(lin_X,y)"
   ]
  },
  {
   "cell_type": "code",
   "execution_count": 144,
   "metadata": {},
   "outputs": [
    {
     "data": {
      "text/plain": [
       "Lasso(alpha=0.001)"
      ]
     },
     "execution_count": 144,
     "metadata": {},
     "output_type": "execute_result"
    }
   ],
   "source": [
    "grid_lasso.best_estimator_"
   ]
  },
  {
   "cell_type": "code",
   "execution_count": 145,
   "metadata": {},
   "outputs": [],
   "source": [
    "lasso_score = -grid_lasso.best_score_"
   ]
  },
  {
   "cell_type": "code",
   "execution_count": 146,
   "metadata": {},
   "outputs": [],
   "source": [
    "grid_ridge = GridSearchCV(estimator = Ridge(), param_grid = {'alpha':alpha_values},cv=10,scoring='neg_mean_squared_error')"
   ]
  },
  {
   "cell_type": "code",
   "execution_count": 147,
   "metadata": {},
   "outputs": [
    {
     "data": {
      "text/plain": [
       "GridSearchCV(cv=10, estimator=Ridge(),\n",
       "             param_grid={'alpha': [1.0, 0.1, 0.01, 0.001, 0.0001, 1e-05, 1e-06,\n",
       "                                   1e-07, 1e-08, 1e-09, 1, 2, 3, 4, 5, 10, 20,\n",
       "                                   30, 40, 50]},\n",
       "             scoring='neg_mean_squared_error')"
      ]
     },
     "execution_count": 147,
     "metadata": {},
     "output_type": "execute_result"
    }
   ],
   "source": [
    "grid_ridge.fit(lin_X,y)"
   ]
  },
  {
   "cell_type": "code",
   "execution_count": 148,
   "metadata": {},
   "outputs": [
    {
     "data": {
      "text/plain": [
       "Ridge(alpha=1e-09)"
      ]
     },
     "execution_count": 148,
     "metadata": {},
     "output_type": "execute_result"
    }
   ],
   "source": [
    "grid_ridge.best_estimator_"
   ]
  },
  {
   "cell_type": "code",
   "execution_count": 149,
   "metadata": {},
   "outputs": [],
   "source": [
    "ridge_score = -grid_ridge.best_score_"
   ]
  },
  {
   "cell_type": "code",
   "execution_count": 150,
   "metadata": {},
   "outputs": [
    {
     "data": {
      "text/plain": [
       "False"
      ]
     },
     "execution_count": 150,
     "metadata": {},
     "output_type": "execute_result"
    }
   ],
   "source": [
    "lasso_score > ridge_score"
   ]
  },
  {
   "cell_type": "markdown",
   "metadata": {},
   "source": [
    "Ridge is smaller than lasso,what means,that Ridge has better score"
   ]
  },
  {
   "cell_type": "markdown",
   "metadata": {},
   "source": [
    "### KNN"
   ]
  },
  {
   "cell_type": "code",
   "execution_count": 151,
   "metadata": {},
   "outputs": [],
   "source": [
    "knn = KNeighborsRegressor()\n",
    "knn.fit(X_train, y_train)\n",
    "knn_pred = knn.predict(X_test)"
   ]
  },
  {
   "cell_type": "code",
   "execution_count": 152,
   "metadata": {},
   "outputs": [
    {
     "name": "stderr",
     "output_type": "stream",
     "text": [
      "C:\\1\\Anaconda\\lib\\site-packages\\sklearn\\utils\\validation.py:73: DataConversionWarning: A column-vector y was passed when a 1d array was expected. Please change the shape of y to (n_samples, ), for example using ravel().\n",
      "  return f(**kwargs)\n"
     ]
    },
    {
     "data": {
      "text/plain": [
       "LassoCV()"
      ]
     },
     "execution_count": 152,
     "metadata": {},
     "output_type": "execute_result"
    }
   ],
   "source": [
    "# Feature selection\n",
    "# Embedded method with LassoCV\n",
    "knn_lassoCV = LassoCV()\n",
    "knn_lassoCV.fit(X,y)"
   ]
  },
  {
   "cell_type": "code",
   "execution_count": 153,
   "metadata": {},
   "outputs": [
    {
     "name": "stdout",
     "output_type": "stream",
     "text": [
      "Best alpha using sklearn built-in LassoCV method is: 0.001427\n",
      "Best score using sklearn built-in LassoCV method is : 0.755614\n",
      "Lasso picked 11 variables and eliminated the other 1 variables\n"
     ]
    }
   ],
   "source": [
    "print(\"Best alpha using sklearn built-in LassoCV method is: %f\" % knn_lassoCV.alpha_)\n",
    "print(\"Best score using sklearn built-in LassoCV method is : %f\" % knn_lassoCV.score(X,y))\n",
    "\n",
    "coef = pd.Series(knn_lassoCV.coef_, index = data.drop('Price',axis=1).columns)\n",
    "\n",
    "print(\"Lasso picked \" + str(sum(coef != 0)) + \" variables and eliminated the other \" +  str(sum(coef == 0)) + \" variables\")"
   ]
  },
  {
   "cell_type": "code",
   "execution_count": 154,
   "metadata": {},
   "outputs": [
    {
     "data": {
      "text/plain": [
       "Text(0.5, 1.0, 'Feature importance using LassoCV Model')"
      ]
     },
     "execution_count": 154,
     "metadata": {},
     "output_type": "execute_result"
    },
    {
     "data": {
      "image/png": "[encoded data removed]",
      "text/plain": [
       "<Figure size 1080x720 with 1 Axes>"
      ]
     },
     "metadata": {
      "needs_background": "light"
     },
     "output_type": "display_data"
    }
   ],
   "source": [
    "imp_coef = coef.sort_values()\n",
    "import matplotlib\n",
    "matplotlib.rcParams['figure.figsize'] = (15.0, 10.0)\n",
    "imp_coef.plot(kind = \"barh\")\n",
    "plt.title(\"Feature importance using LassoCV Model\")"
   ]
  },
  {
   "cell_type": "code",
   "execution_count": 155,
   "metadata": {},
   "outputs": [
    {
     "data": {
      "text/plain": [
       "CustomsCleared   -0.559480\n",
       "Transmission     -0.081195\n",
       "Company          -0.041944\n",
       "City             -0.014091\n",
       "Shell            -0.013723\n",
       "Gear             -0.012987\n",
       "Mileage          -0.002299\n",
       "Type Engine      -0.000000\n",
       "Model             0.082095\n",
       "Rudder            0.101535\n",
       "Year              0.524053\n",
       "Volume            0.588623\n",
       "dtype: float64"
      ]
     },
     "execution_count": 155,
     "metadata": {},
     "output_type": "execute_result"
    }
   ],
   "source": [
    "imp_coef"
   ]
  },
  {
   "cell_type": "code",
   "execution_count": 156,
   "metadata": {},
   "outputs": [],
   "source": [
    "# Model fitting\n",
    "cv_n_neighbors = list(range(1,31))\n",
    "params_knn = {\n",
    "    'n_neighbors' : cv_n_neighbors\n",
    "}\n",
    "\n",
    "grid_knn = GridSearchCV(estimator = KNeighborsRegressor(), param_grid = params_knn,cv=10,scoring='neg_mean_squared_error')"
   ]
  },
  {
   "cell_type": "code",
   "execution_count": 157,
   "metadata": {},
   "outputs": [
    {
     "data": {
      "text/plain": [
       "GridSearchCV(cv=10, estimator=KNeighborsRegressor(),\n",
       "             param_grid={'n_neighbors': [1, 2, 3, 4, 5, 6, 7, 8, 9, 10, 11, 12,\n",
       "                                         13, 14, 15, 16, 17, 18, 19, 20, 21, 22,\n",
       "                                         23, 24, 25, 26, 27, 28, 29, 30]},\n",
       "             scoring='neg_mean_squared_error')"
      ]
     },
     "execution_count": 157,
     "metadata": {},
     "output_type": "execute_result"
    }
   ],
   "source": [
    "grid_knn.fit(X,y)"
   ]
  },
  {
   "cell_type": "code",
   "execution_count": 158,
   "metadata": {},
   "outputs": [
    {
     "data": {
      "text/plain": [
       "KNeighborsRegressor()"
      ]
     },
     "execution_count": 158,
     "metadata": {},
     "output_type": "execute_result"
    }
   ],
   "source": [
    "grid_knn.best_estimator_"
   ]
  },
  {
   "cell_type": "code",
   "execution_count": 159,
   "metadata": {},
   "outputs": [
    {
     "data": {
      "text/plain": [
       "0.10388728597845535"
      ]
     },
     "execution_count": 159,
     "metadata": {},
     "output_type": "execute_result"
    }
   ],
   "source": [
    "knn_score = -grid_knn.best_score_\n",
    "knn_score"
   ]
  },
  {
   "cell_type": "markdown",
   "metadata": {},
   "source": [
    "### Random Forest Tree"
   ]
  },
  {
   "cell_type": "code",
   "execution_count": 160,
   "metadata": {},
   "outputs": [
    {
     "name": "stderr",
     "output_type": "stream",
     "text": [
      "<ipython-input-160-deb4ff6b2828>:2: DataConversionWarning: A column-vector y was passed when a 1d array was expected. Please change the shape of y to (n_samples,), for example using ravel().\n",
      "  rft.fit(X_train,y_train)\n"
     ]
    },
    {
     "data": {
      "text/plain": [
       "array([15.62343745, 15.41334188, 14.74897285, ..., 15.42740198,\n",
       "       15.52269902, 14.80339273])"
      ]
     },
     "execution_count": 160,
     "metadata": {},
     "output_type": "execute_result"
    }
   ],
   "source": [
    "rft = RandomForestRegressor()\n",
    "rft.fit(X_train,y_train)\n",
    "rft.predict(X_test)"
   ]
  },
  {
   "cell_type": "code",
   "execution_count": 161,
   "metadata": {},
   "outputs": [],
   "source": [
    "# Creating a DataFrame of feature importance for each feature\n",
    "rft_feature_importance = pd.DataFrame(rft.feature_importances_, index=data.drop('Price',axis=1).columns.values,columns=['feature importance']).sort_values('feature importance', ascending=True)"
   ]
  },
  {
   "cell_type": "code",
   "execution_count": 162,
   "metadata": {},
   "outputs": [
    {
     "data": {
      "text/plain": [
       "<matplotlib.axes._subplots.AxesSubplot at 0x1b0e4d030a0>"
      ]
     },
     "execution_count": 162,
     "metadata": {},
     "output_type": "execute_result"
    },
    {
     "data": {
      "image/png": "[encoded data removed]",
      "text/plain": [
       "<Figure size 720x720 with 1 Axes>"
      ]
     },
     "metadata": {
      "needs_background": "light"
     },
     "output_type": "display_data"
    }
   ],
   "source": [
    "rft_feature_importance.plot(kind='barh',figsize=(10,10))"
   ]
  },
  {
   "cell_type": "code",
   "execution_count": 163,
   "metadata": {},
   "outputs": [
    {
     "data": {
      "text/html": [
       "<div>\n",
       "<style scoped>\n",
       "    .dataframe tbody tr th:only-of-type {\n",
       "        vertical-align: middle;\n",
       "    }\n",
       "\n",
       "    .dataframe tbody tr th {\n",
       "        vertical-align: top;\n",
       "    }\n",
       "\n",
       "    .dataframe thead th {\n",
       "        text-align: right;\n",
       "    }\n",
       "</style>\n",
       "<table border=\"1\" class=\"dataframe\">\n",
       "  <thead>\n",
       "    <tr style=\"text-align: right;\">\n",
       "      <th></th>\n",
       "      <th>feature importance</th>\n",
       "    </tr>\n",
       "  </thead>\n",
       "  <tbody>\n",
       "    <tr>\n",
       "      <th>Rudder</th>\n",
       "      <td>0.001217</td>\n",
       "    </tr>\n",
       "    <tr>\n",
       "      <th>Type Engine</th>\n",
       "      <td>0.002807</td>\n",
       "    </tr>\n",
       "    <tr>\n",
       "      <th>Gear</th>\n",
       "      <td>0.006288</td>\n",
       "    </tr>\n",
       "    <tr>\n",
       "      <th>Shell</th>\n",
       "      <td>0.012741</td>\n",
       "    </tr>\n",
       "    <tr>\n",
       "      <th>City</th>\n",
       "      <td>0.013637</td>\n",
       "    </tr>\n",
       "    <tr>\n",
       "      <th>Mileage</th>\n",
       "      <td>0.027478</td>\n",
       "    </tr>\n",
       "    <tr>\n",
       "      <th>Company</th>\n",
       "      <td>0.042897</td>\n",
       "    </tr>\n",
       "    <tr>\n",
       "      <th>CustomsCleared</th>\n",
       "      <td>0.070128</td>\n",
       "    </tr>\n",
       "    <tr>\n",
       "      <th>Transmission</th>\n",
       "      <td>0.085066</td>\n",
       "    </tr>\n",
       "    <tr>\n",
       "      <th>Volume</th>\n",
       "      <td>0.126336</td>\n",
       "    </tr>\n",
       "    <tr>\n",
       "      <th>Model</th>\n",
       "      <td>0.278000</td>\n",
       "    </tr>\n",
       "    <tr>\n",
       "      <th>Year</th>\n",
       "      <td>0.333406</td>\n",
       "    </tr>\n",
       "  </tbody>\n",
       "</table>\n",
       "</div>"
      ],
      "text/plain": [
       "                feature importance\n",
       "Rudder                    0.001217\n",
       "Type Engine               0.002807\n",
       "Gear                      0.006288\n",
       "Shell                     0.012741\n",
       "City                      0.013637\n",
       "Mileage                   0.027478\n",
       "Company                   0.042897\n",
       "CustomsCleared            0.070128\n",
       "Transmission              0.085066\n",
       "Volume                    0.126336\n",
       "Model                     0.278000\n",
       "Year                      0.333406"
      ]
     },
     "execution_count": 163,
     "metadata": {},
     "output_type": "execute_result"
    }
   ],
   "source": [
    "# The lower importance the better it is\n",
    "rft_feature_importance"
   ]
  },
  {
   "cell_type": "code",
   "execution_count": 164,
   "metadata": {},
   "outputs": [],
   "source": [
    "rft_X = np.array(data[['Year','Volume','Mileage','Model','CustomsCleared','Transmission','Company']])\n",
    "rft_X_train,rft_X_test,rft_y_train,rft_y_test=train_test_split(rft_X,y,train_size=0.8,test_size=0.2,random_state=0)"
   ]
  },
  {
   "cell_type": "code",
   "execution_count": 165,
   "metadata": {},
   "outputs": [],
   "source": [
    "# Model fitting\n",
    "cv_n_estimators = list(range(100,500,100))\n",
    "cv_random_state = list(range(1,5))\n",
    "cv_min_samples_leaf = list(range(1,10))\n",
    "cv_oob_score = [True, False]\n",
    "max_depth=list(range(1,9))\n",
    "params_rfr = {\n",
    "    'n_estimators' : cv_n_estimators,\n",
    "    'random_state': cv_random_state,\n",
    "    'min_samples_leaf': cv_min_samples_leaf,\n",
    "    'oob_score': cv_oob_score,\n",
    "    'max_depth':max_depth\n",
    "}\n",
    "\n",
    "grid_rft = GridSearchCV(estimator = RandomForestRegressor(), param_grid = params_rfr,cv=10,n_jobs=-1)"
   ]
  },
  {
   "cell_type": "code",
   "execution_count": 166,
   "metadata": {},
   "outputs": [
    {
     "name": "stderr",
     "output_type": "stream",
     "text": [
      "C:\\1\\Anaconda\\lib\\site-packages\\sklearn\\model_selection\\_search.py:765: DataConversionWarning: A column-vector y was passed when a 1d array was expected. Please change the shape of y to (n_samples,), for example using ravel().\n",
      "  self.best_estimator_.fit(X, y, **fit_params)\n"
     ]
    },
    {
     "data": {
      "text/plain": [
       "GridSearchCV(cv=10, estimator=RandomForestRegressor(), n_jobs=-1,\n",
       "             param_grid={'max_depth': [1, 2, 3, 4, 5, 6, 7, 8],\n",
       "                         'min_samples_leaf': [1, 2, 3, 4, 5, 6, 7, 8, 9],\n",
       "                         'n_estimators': [100, 200, 300, 400],\n",
       "                         'oob_score': [True, False],\n",
       "                         'random_state': [1, 2, 3, 4]})"
      ]
     },
     "execution_count": 166,
     "metadata": {},
     "output_type": "execute_result"
    }
   ],
   "source": [
    "grid_rft.fit(rft_X,y)"
   ]
  },
  {
   "cell_type": "code",
   "execution_count": 25,
   "metadata": {},
   "outputs": [
    {
     "data": {
      "text/plain": [
       "RandomForestRegressor(max_depth=8, min_samples_leaf=2, n_estimators=200,\n",
       "                      oob_score=True, random_state=2)"
      ]
     },
     "execution_count": 25,
     "metadata": {},
     "output_type": "execute_result"
    }
   ],
   "source": [
    "grid_rft.best_estimator_"
   ]
  },
  {
   "cell_type": "code",
   "execution_count": 167,
   "metadata": {},
   "outputs": [],
   "source": [
    "rft_score = -grid_rft.score(rft_X_test,y_test)"
   ]
  },
  {
   "cell_type": "code",
   "execution_count": 168,
   "metadata": {},
   "outputs": [
    {
     "data": {
      "text/plain": [
       "-0.8852404479716109"
      ]
     },
     "execution_count": 168,
     "metadata": {},
     "output_type": "execute_result"
    }
   ],
   "source": [
    "rft_score"
   ]
  },
  {
   "cell_type": "code",
   "execution_count": 169,
   "metadata": {},
   "outputs": [
    {
     "name": "stderr",
     "output_type": "stream",
     "text": [
      "<ipython-input-169-d866796417d5>:3: DataConversionWarning: A column-vector y was passed when a 1d array was expected. Please change the shape of y to (n_samples,), for example using ravel().\n",
      "  rft.fit(rft_X_train,rft_y_train)\n"
     ]
    },
    {
     "data": {
      "text/plain": [
       "RandomForestRegressor(max_depth=8, min_samples_leaf=2, n_estimators=200,\n",
       "                      oob_score=True, random_state=2)"
      ]
     },
     "execution_count": 169,
     "metadata": {},
     "output_type": "execute_result"
    }
   ],
   "source": [
    "rft = RandomForestRegressor(max_depth=8, min_samples_leaf=2, n_estimators=200,\n",
    "                      oob_score=True, random_state=2)\n",
    "rft.fit(rft_X_train,rft_y_train)"
   ]
  },
  {
   "cell_type": "code",
   "execution_count": 170,
   "metadata": {},
   "outputs": [],
   "source": [
    "import pickle\n",
    "file = open('betaV1.pkl','wb')\n",
    "pickle.dump(rft,file)\n",
    "file.close()"
   ]
  },
  {
   "cell_type": "code",
   "execution_count": 171,
   "metadata": {},
   "outputs": [
    {
     "data": {
      "text/html": [
       "<div>\n",
       "<style scoped>\n",
       "    .dataframe tbody tr th:only-of-type {\n",
       "        vertical-align: middle;\n",
       "    }\n",
       "\n",
       "    .dataframe tbody tr th {\n",
       "        vertical-align: top;\n",
       "    }\n",
       "\n",
       "    .dataframe thead th {\n",
       "        text-align: right;\n",
       "    }\n",
       "</style>\n",
       "<table border=\"1\" class=\"dataframe\">\n",
       "  <thead>\n",
       "    <tr style=\"text-align: right;\">\n",
       "      <th></th>\n",
       "      <th>City</th>\n",
       "      <th>Year</th>\n",
       "      <th>Shell</th>\n",
       "      <th>Volume</th>\n",
       "      <th>Mileage</th>\n",
       "      <th>Transmission</th>\n",
       "      <th>Rudder</th>\n",
       "      <th>Gear</th>\n",
       "      <th>CustomsCleared</th>\n",
       "      <th>Type Engine</th>\n",
       "      <th>Company</th>\n",
       "      <th>Model</th>\n",
       "      <th>Price</th>\n",
       "    </tr>\n",
       "  </thead>\n",
       "  <tbody>\n",
       "    <tr>\n",
       "      <th>0</th>\n",
       "      <td>1.222430</td>\n",
       "      <td>0.887418</td>\n",
       "      <td>0</td>\n",
       "      <td>1.7</td>\n",
       "      <td>-1.222239</td>\n",
       "      <td>2</td>\n",
       "      <td>0</td>\n",
       "      <td>2</td>\n",
       "      <td>0</td>\n",
       "      <td>0</td>\n",
       "      <td>-1.761043</td>\n",
       "      <td>0.771504</td>\n",
       "      <td>14.880221</td>\n",
       "    </tr>\n",
       "    <tr>\n",
       "      <th>1</th>\n",
       "      <td>0.458107</td>\n",
       "      <td>0.887418</td>\n",
       "      <td>11</td>\n",
       "      <td>3.5</td>\n",
       "      <td>-0.942271</td>\n",
       "      <td>0</td>\n",
       "      <td>0</td>\n",
       "      <td>1</td>\n",
       "      <td>0</td>\n",
       "      <td>0</td>\n",
       "      <td>-0.549343</td>\n",
       "      <td>-0.571722</td>\n",
       "      <td>15.967273</td>\n",
       "    </tr>\n",
       "    <tr>\n",
       "      <th>2</th>\n",
       "      <td>0.983579</td>\n",
       "      <td>-1.515886</td>\n",
       "      <td>14</td>\n",
       "      <td>2.3</td>\n",
       "      <td>2.857233</td>\n",
       "      <td>2</td>\n",
       "      <td>0</td>\n",
       "      <td>0</td>\n",
       "      <td>0</td>\n",
       "      <td>4</td>\n",
       "      <td>0.820405</td>\n",
       "      <td>0.419921</td>\n",
       "      <td>13.910821</td>\n",
       "    </tr>\n",
       "    <tr>\n",
       "      <th>3</th>\n",
       "      <td>-1.102385</td>\n",
       "      <td>1.393377</td>\n",
       "      <td>11</td>\n",
       "      <td>2.5</td>\n",
       "      <td>-1.056980</td>\n",
       "      <td>4</td>\n",
       "      <td>0</td>\n",
       "      <td>1</td>\n",
       "      <td>0</td>\n",
       "      <td>0</td>\n",
       "      <td>0.767723</td>\n",
       "      <td>-0.549185</td>\n",
       "      <td>16.240313</td>\n",
       "    </tr>\n",
       "    <tr>\n",
       "      <th>4</th>\n",
       "      <td>-0.115135</td>\n",
       "      <td>-1.262907</td>\n",
       "      <td>0</td>\n",
       "      <td>3.5</td>\n",
       "      <td>-0.036261</td>\n",
       "      <td>0</td>\n",
       "      <td>1</td>\n",
       "      <td>2</td>\n",
       "      <td>1</td>\n",
       "      <td>0</td>\n",
       "      <td>-0.127882</td>\n",
       "      <td>0.852638</td>\n",
       "      <td>15.024471</td>\n",
       "    </tr>\n",
       "  </tbody>\n",
       "</table>\n",
       "</div>"
      ],
      "text/plain": [
       "       City      Year  Shell  Volume   Mileage  Transmission  Rudder  Gear  \\\n",
       "0  1.222430  0.887418      0     1.7 -1.222239             2       0     2   \n",
       "1  0.458107  0.887418     11     3.5 -0.942271             0       0     1   \n",
       "2  0.983579 -1.515886     14     2.3  2.857233             2       0     0   \n",
       "3 -1.102385  1.393377     11     2.5 -1.056980             4       0     1   \n",
       "4 -0.115135 -1.262907      0     3.5 -0.036261             0       1     2   \n",
       "\n",
       "   CustomsCleared  Type Engine   Company     Model      Price  \n",
       "0               0            0 -1.761043  0.771504  14.880221  \n",
       "1               0            0 -0.549343 -0.571722  15.967273  \n",
       "2               0            4  0.820405  0.419921  13.910821  \n",
       "3               0            0  0.767723 -0.549185  16.240313  \n",
       "4               1            0 -0.127882  0.852638  15.024471  "
      ]
     },
     "execution_count": 171,
     "metadata": {},
     "output_type": "execute_result"
    }
   ],
   "source": [
    "data.head()"
   ]
  },
  {
   "cell_type": "code",
   "execution_count": 177,
   "metadata": {},
   "outputs": [
    {
     "name": "stdout",
     "output_type": "stream",
     "text": [
      "8748386.0\n"
     ]
    }
   ],
   "source": [
    "model = pickle.load(open('betaV1.pkl','rb'))\n",
    "#'Year','Volume','Mileage','Model','CustomsCleared','Transmission','Company'\n",
    "# p = model.predict([[0.887418,1.7,-1.222239,0.771504,0,2,-1.761043]])\n",
    "p = model.predict([[0.887418,3.5,-0.942271,-0.571722,0,0,-0.549343]])\n",
    "print(round(np.e**p[0]))"
   ]
  },
  {
   "cell_type": "markdown",
   "metadata": {},
   "source": [
    "### Decision Tree"
   ]
  },
  {
   "cell_type": "markdown",
   "metadata": {},
   "source": [
    "#### Feature selection"
   ]
  },
  {
   "cell_type": "markdown",
   "metadata": {},
   "source": [
    "Before training our model. We need to select hyperparameters,what means that we need to choose only those features,with biggest weights or importance in predicting. So that will help up avoid such problems as overfitting"
   ]
  },
  {
   "cell_type": "markdown",
   "metadata": {},
   "source": [
    "**Forward/Backward methods.** As the name suggest, we feed all the possible features to the model at first. We check the performance of the model and then iteratively remove the worst performing features one by one till the overall performance of the model comes in acceptable range."
   ]
  },
  {
   "cell_type": "code",
   "execution_count": 178,
   "metadata": {},
   "outputs": [],
   "source": [
    "# Feature selection\n",
    "# Forward/Backward Selection\n",
    "dtr = DecisionTreeRegressor(random_state=0)\n",
    "dtr.fit(X_train,y_train)\n",
    "dtr_pred = dtr.predict(X_test)"
   ]
  },
  {
   "cell_type": "code",
   "execution_count": 179,
   "metadata": {},
   "outputs": [],
   "source": [
    "# Creating a DataFrame of feature importance for each feature\n",
    "dtr_feature_importance = pd.DataFrame(dtr.feature_importances_, index=data.drop('Price',axis=1).columns.values,columns=['feature importance']).sort_values('feature importance', ascending=True)"
   ]
  },
  {
   "cell_type": "code",
   "execution_count": 180,
   "metadata": {},
   "outputs": [
    {
     "data": {
      "text/plain": [
       "<matplotlib.axes._subplots.AxesSubplot at 0x1b0e45b55e0>"
      ]
     },
     "execution_count": 180,
     "metadata": {},
     "output_type": "execute_result"
    },
    {
     "data": {
      "image/png": "[encoded data removed]",
      "text/plain": [
       "<Figure size 720x720 with 1 Axes>"
      ]
     },
     "metadata": {
      "needs_background": "light"
     },
     "output_type": "display_data"
    }
   ],
   "source": [
    "dtr_feature_importance.plot(kind='barh',figsize=(10,10))"
   ]
  },
  {
   "cell_type": "markdown",
   "metadata": {},
   "source": [
    "\n",
    "**Embedded methods** are iterative in a sense that takes care of each iteration of the model training process and carefully extract those features which contribute the most to the training for a particular iteration. Regularization methods are the most commonly used embedded methods which penalize a feature given a coefficient threshold."
   ]
  },
  {
   "cell_type": "code",
   "execution_count": 181,
   "metadata": {},
   "outputs": [
    {
     "name": "stderr",
     "output_type": "stream",
     "text": [
      "C:\\1\\Anaconda\\lib\\site-packages\\sklearn\\utils\\validation.py:73: DataConversionWarning: A column-vector y was passed when a 1d array was expected. Please change the shape of y to (n_samples, ), for example using ravel().\n",
      "  return f(**kwargs)\n"
     ]
    },
    {
     "data": {
      "text/plain": [
       "LassoCV()"
      ]
     },
     "execution_count": 181,
     "metadata": {},
     "output_type": "execute_result"
    }
   ],
   "source": [
    "# Feature selection\n",
    "# Embedded method with LassoCV\n",
    "dtr_lassoCV = LassoCV()\n",
    "dtr_lassoCV.fit(X,y)"
   ]
  },
  {
   "cell_type": "code",
   "execution_count": 182,
   "metadata": {},
   "outputs": [
    {
     "name": "stdout",
     "output_type": "stream",
     "text": [
      "Best alpha using sklearn built-in LassoCV method is: 0.001427\n",
      "Best score using sklearn built-in LassoCV method is : 0.755614\n",
      "Lasso picked 11 variables and eliminated the other 1 variables\n"
     ]
    }
   ],
   "source": [
    "print(\"Best alpha using sklearn built-in LassoCV method is: %f\" % dtr_lassoCV.alpha_)\n",
    "print(\"Best score using sklearn built-in LassoCV method is : %f\" %dtr_lassoCV.score(X,y))\n",
    "\n",
    "coef = pd.Series(dtr_lassoCV.coef_, index = data.drop('Price',axis=1).columns)\n",
    "\n",
    "print(\"Lasso picked \" + str(sum(coef != 0)) + \" variables and eliminated the other \" +  str(sum(coef == 0)) + \" variables\")"
   ]
  },
  {
   "cell_type": "code",
   "execution_count": 183,
   "metadata": {
    "scrolled": true
   },
   "outputs": [
    {
     "data": {
      "text/plain": [
       "Text(0.5, 1.0, 'Feature importance using LassoCV Model')"
      ]
     },
     "execution_count": 183,
     "metadata": {},
     "output_type": "execute_result"
    },
    {
     "data": {
      "image/png": "[encoded data removed]",
      "text/plain": [
       "<Figure size 1080x720 with 1 Axes>"
      ]
     },
     "metadata": {
      "needs_background": "light"
     },
     "output_type": "display_data"
    }
   ],
   "source": [
    "imp_coef = coef.sort_values()\n",
    "import matplotlib\n",
    "matplotlib.rcParams['figure.figsize'] = (15.0, 10.0)\n",
    "imp_coef.plot(kind = \"barh\")\n",
    "plt.title(\"Feature importance using LassoCV Model\")"
   ]
  },
  {
   "cell_type": "code",
   "execution_count": 184,
   "metadata": {
    "scrolled": true
   },
   "outputs": [],
   "source": [
    "dtr_X = np.array(data[['Year','Volume','Mileage','Model','CustomsCleared','Transmission','Company']])\n",
    "dtr_X_train,dtr_X_test,dtr_y_train,dtr_y_test=train_test_split(dtr_X,y,train_size=0.8,test_size=0.2,random_state=0)"
   ]
  },
  {
   "cell_type": "code",
   "execution_count": 185,
   "metadata": {},
   "outputs": [],
   "source": [
    "# Model fitting\n",
    "cv_random_state = list(range(1,50))\n",
    "cv_max_depth = list(range(1,6))\n",
    "cv_criterion = ['mse','mae','friedman_mse']\n",
    "\n",
    "params_dtr = {\n",
    "    \"criterion\":cv_criterion,\n",
    "    \"max_depth\":cv_max_depth,\n",
    "    \"random_state\":cv_random_state\n",
    "}\n",
    "\n",
    "grid_dtr = GridSearchCV(estimator = DecisionTreeRegressor(), param_grid = params_dtr,cv=10,scoring=\"neg_mean_squared_error\")"
   ]
  },
  {
   "cell_type": "code",
   "execution_count": 186,
   "metadata": {},
   "outputs": [
    {
     "ename": "KeyboardInterrupt",
     "evalue": "",
     "output_type": "error",
     "traceback": [
      "\u001b[1;31m---------------------------------------------------------------------------\u001b[0m",
      "\u001b[1;31mKeyboardInterrupt\u001b[0m                         Traceback (most recent call last)",
      "\u001b[1;32m<ipython-input-186-d3d39e49df04>\u001b[0m in \u001b[0;36m<module>\u001b[1;34m\u001b[0m\n\u001b[1;32m----> 1\u001b[1;33m \u001b[0mgrid_dtr\u001b[0m\u001b[1;33m.\u001b[0m\u001b[0mfit\u001b[0m\u001b[1;33m(\u001b[0m\u001b[0mdtr_X\u001b[0m\u001b[1;33m,\u001b[0m\u001b[0my\u001b[0m\u001b[1;33m)\u001b[0m\u001b[1;33m\u001b[0m\u001b[1;33m\u001b[0m\u001b[0m\n\u001b[0m",
      "\u001b[1;32mC:\\1\\Anaconda\\lib\\site-packages\\sklearn\\utils\\validation.py\u001b[0m in \u001b[0;36minner_f\u001b[1;34m(*args, **kwargs)\u001b[0m\n\u001b[0;32m     71\u001b[0m                           FutureWarning)\n\u001b[0;32m     72\u001b[0m         \u001b[0mkwargs\u001b[0m\u001b[1;33m.\u001b[0m\u001b[0mupdate\u001b[0m\u001b[1;33m(\u001b[0m\u001b[1;33m{\u001b[0m\u001b[0mk\u001b[0m\u001b[1;33m:\u001b[0m \u001b[0marg\u001b[0m \u001b[1;32mfor\u001b[0m \u001b[0mk\u001b[0m\u001b[1;33m,\u001b[0m \u001b[0marg\u001b[0m \u001b[1;32min\u001b[0m \u001b[0mzip\u001b[0m\u001b[1;33m(\u001b[0m\u001b[0msig\u001b[0m\u001b[1;33m.\u001b[0m\u001b[0mparameters\u001b[0m\u001b[1;33m,\u001b[0m \u001b[0margs\u001b[0m\u001b[1;33m)\u001b[0m\u001b[1;33m}\u001b[0m\u001b[1;33m)\u001b[0m\u001b[1;33m\u001b[0m\u001b[1;33m\u001b[0m\u001b[0m\n\u001b[1;32m---> 73\u001b[1;33m         \u001b[1;32mreturn\u001b[0m \u001b[0mf\u001b[0m\u001b[1;33m(\u001b[0m\u001b[1;33m**\u001b[0m\u001b[0mkwargs\u001b[0m\u001b[1;33m)\u001b[0m\u001b[1;33m\u001b[0m\u001b[1;33m\u001b[0m\u001b[0m\n\u001b[0m\u001b[0;32m     74\u001b[0m     \u001b[1;32mreturn\u001b[0m \u001b[0minner_f\u001b[0m\u001b[1;33m\u001b[0m\u001b[1;33m\u001b[0m\u001b[0m\n\u001b[0;32m     75\u001b[0m \u001b[1;33m\u001b[0m\u001b[0m\n",
      "\u001b[1;32mC:\\1\\Anaconda\\lib\\site-packages\\sklearn\\model_selection\\_search.py\u001b[0m in \u001b[0;36mfit\u001b[1;34m(self, X, y, groups, **fit_params)\u001b[0m\n\u001b[0;32m    734\u001b[0m                 \u001b[1;32mreturn\u001b[0m \u001b[0mresults\u001b[0m\u001b[1;33m\u001b[0m\u001b[1;33m\u001b[0m\u001b[0m\n\u001b[0;32m    735\u001b[0m \u001b[1;33m\u001b[0m\u001b[0m\n\u001b[1;32m--> 736\u001b[1;33m             \u001b[0mself\u001b[0m\u001b[1;33m.\u001b[0m\u001b[0m_run_search\u001b[0m\u001b[1;33m(\u001b[0m\u001b[0mevaluate_candidates\u001b[0m\u001b[1;33m)\u001b[0m\u001b[1;33m\u001b[0m\u001b[1;33m\u001b[0m\u001b[0m\n\u001b[0m\u001b[0;32m    737\u001b[0m \u001b[1;33m\u001b[0m\u001b[0m\n\u001b[0;32m    738\u001b[0m         \u001b[1;31m# For multi-metric evaluation, store the best_index_, best_params_ and\u001b[0m\u001b[1;33m\u001b[0m\u001b[1;33m\u001b[0m\u001b[1;33m\u001b[0m\u001b[0m\n",
      "\u001b[1;32mC:\\1\\Anaconda\\lib\\site-packages\\sklearn\\model_selection\\_search.py\u001b[0m in \u001b[0;36m_run_search\u001b[1;34m(self, evaluate_candidates)\u001b[0m\n\u001b[0;32m   1186\u001b[0m     \u001b[1;32mdef\u001b[0m \u001b[0m_run_search\u001b[0m\u001b[1;33m(\u001b[0m\u001b[0mself\u001b[0m\u001b[1;33m,\u001b[0m \u001b[0mevaluate_candidates\u001b[0m\u001b[1;33m)\u001b[0m\u001b[1;33m:\u001b[0m\u001b[1;33m\u001b[0m\u001b[1;33m\u001b[0m\u001b[0m\n\u001b[0;32m   1187\u001b[0m         \u001b[1;34m\"\"\"Search all candidates in param_grid\"\"\"\u001b[0m\u001b[1;33m\u001b[0m\u001b[1;33m\u001b[0m\u001b[0m\n\u001b[1;32m-> 1188\u001b[1;33m         \u001b[0mevaluate_candidates\u001b[0m\u001b[1;33m(\u001b[0m\u001b[0mParameterGrid\u001b[0m\u001b[1;33m(\u001b[0m\u001b[0mself\u001b[0m\u001b[1;33m.\u001b[0m\u001b[0mparam_grid\u001b[0m\u001b[1;33m)\u001b[0m\u001b[1;33m)\u001b[0m\u001b[1;33m\u001b[0m\u001b[1;33m\u001b[0m\u001b[0m\n\u001b[0m\u001b[0;32m   1189\u001b[0m \u001b[1;33m\u001b[0m\u001b[0m\n\u001b[0;32m   1190\u001b[0m \u001b[1;33m\u001b[0m\u001b[0m\n",
      "\u001b[1;32mC:\\1\\Anaconda\\lib\\site-packages\\sklearn\\model_selection\\_search.py\u001b[0m in \u001b[0;36mevaluate_candidates\u001b[1;34m(candidate_params)\u001b[0m\n\u001b[0;32m    706\u001b[0m                               n_splits, n_candidates, n_candidates * n_splits))\n\u001b[0;32m    707\u001b[0m \u001b[1;33m\u001b[0m\u001b[0m\n\u001b[1;32m--> 708\u001b[1;33m                 out = parallel(delayed(_fit_and_score)(clone(base_estimator),\n\u001b[0m\u001b[0;32m    709\u001b[0m                                                        \u001b[0mX\u001b[0m\u001b[1;33m,\u001b[0m \u001b[0my\u001b[0m\u001b[1;33m,\u001b[0m\u001b[1;33m\u001b[0m\u001b[1;33m\u001b[0m\u001b[0m\n\u001b[0;32m    710\u001b[0m                                                        \u001b[0mtrain\u001b[0m\u001b[1;33m=\u001b[0m\u001b[0mtrain\u001b[0m\u001b[1;33m,\u001b[0m \u001b[0mtest\u001b[0m\u001b[1;33m=\u001b[0m\u001b[0mtest\u001b[0m\u001b[1;33m,\u001b[0m\u001b[1;33m\u001b[0m\u001b[1;33m\u001b[0m\u001b[0m\n",
      "\u001b[1;32mC:\\1\\Anaconda\\lib\\site-packages\\joblib\\parallel.py\u001b[0m in \u001b[0;36m__call__\u001b[1;34m(self, iterable)\u001b[0m\n\u001b[0;32m   1030\u001b[0m                 \u001b[0mself\u001b[0m\u001b[1;33m.\u001b[0m\u001b[0m_iterating\u001b[0m \u001b[1;33m=\u001b[0m \u001b[0mself\u001b[0m\u001b[1;33m.\u001b[0m\u001b[0m_original_iterator\u001b[0m \u001b[1;32mis\u001b[0m \u001b[1;32mnot\u001b[0m \u001b[1;32mNone\u001b[0m\u001b[1;33m\u001b[0m\u001b[1;33m\u001b[0m\u001b[0m\n\u001b[0;32m   1031\u001b[0m \u001b[1;33m\u001b[0m\u001b[0m\n\u001b[1;32m-> 1032\u001b[1;33m             \u001b[1;32mwhile\u001b[0m \u001b[0mself\u001b[0m\u001b[1;33m.\u001b[0m\u001b[0mdispatch_one_batch\u001b[0m\u001b[1;33m(\u001b[0m\u001b[0miterator\u001b[0m\u001b[1;33m)\u001b[0m\u001b[1;33m:\u001b[0m\u001b[1;33m\u001b[0m\u001b[1;33m\u001b[0m\u001b[0m\n\u001b[0m\u001b[0;32m   1033\u001b[0m                 \u001b[1;32mpass\u001b[0m\u001b[1;33m\u001b[0m\u001b[1;33m\u001b[0m\u001b[0m\n\u001b[0;32m   1034\u001b[0m \u001b[1;33m\u001b[0m\u001b[0m\n",
      "\u001b[1;32mC:\\1\\Anaconda\\lib\\site-packages\\joblib\\parallel.py\u001b[0m in \u001b[0;36mdispatch_one_batch\u001b[1;34m(self, iterator)\u001b[0m\n\u001b[0;32m    845\u001b[0m                 \u001b[1;32mreturn\u001b[0m \u001b[1;32mFalse\u001b[0m\u001b[1;33m\u001b[0m\u001b[1;33m\u001b[0m\u001b[0m\n\u001b[0;32m    846\u001b[0m             \u001b[1;32melse\u001b[0m\u001b[1;33m:\u001b[0m\u001b[1;33m\u001b[0m\u001b[1;33m\u001b[0m\u001b[0m\n\u001b[1;32m--> 847\u001b[1;33m                 \u001b[0mself\u001b[0m\u001b[1;33m.\u001b[0m\u001b[0m_dispatch\u001b[0m\u001b[1;33m(\u001b[0m\u001b[0mtasks\u001b[0m\u001b[1;33m)\u001b[0m\u001b[1;33m\u001b[0m\u001b[1;33m\u001b[0m\u001b[0m\n\u001b[0m\u001b[0;32m    848\u001b[0m                 \u001b[1;32mreturn\u001b[0m \u001b[1;32mTrue\u001b[0m\u001b[1;33m\u001b[0m\u001b[1;33m\u001b[0m\u001b[0m\n\u001b[0;32m    849\u001b[0m \u001b[1;33m\u001b[0m\u001b[0m\n",
      "\u001b[1;32mC:\\1\\Anaconda\\lib\\site-packages\\joblib\\parallel.py\u001b[0m in \u001b[0;36m_dispatch\u001b[1;34m(self, batch)\u001b[0m\n\u001b[0;32m    763\u001b[0m         \u001b[1;32mwith\u001b[0m \u001b[0mself\u001b[0m\u001b[1;33m.\u001b[0m\u001b[0m_lock\u001b[0m\u001b[1;33m:\u001b[0m\u001b[1;33m\u001b[0m\u001b[1;33m\u001b[0m\u001b[0m\n\u001b[0;32m    764\u001b[0m             \u001b[0mjob_idx\u001b[0m \u001b[1;33m=\u001b[0m \u001b[0mlen\u001b[0m\u001b[1;33m(\u001b[0m\u001b[0mself\u001b[0m\u001b[1;33m.\u001b[0m\u001b[0m_jobs\u001b[0m\u001b[1;33m)\u001b[0m\u001b[1;33m\u001b[0m\u001b[1;33m\u001b[0m\u001b[0m\n\u001b[1;32m--> 765\u001b[1;33m             \u001b[0mjob\u001b[0m \u001b[1;33m=\u001b[0m \u001b[0mself\u001b[0m\u001b[1;33m.\u001b[0m\u001b[0m_backend\u001b[0m\u001b[1;33m.\u001b[0m\u001b[0mapply_async\u001b[0m\u001b[1;33m(\u001b[0m\u001b[0mbatch\u001b[0m\u001b[1;33m,\u001b[0m \u001b[0mcallback\u001b[0m\u001b[1;33m=\u001b[0m\u001b[0mcb\u001b[0m\u001b[1;33m)\u001b[0m\u001b[1;33m\u001b[0m\u001b[1;33m\u001b[0m\u001b[0m\n\u001b[0m\u001b[0;32m    766\u001b[0m             \u001b[1;31m# A job can complete so quickly than its callback is\u001b[0m\u001b[1;33m\u001b[0m\u001b[1;33m\u001b[0m\u001b[1;33m\u001b[0m\u001b[0m\n\u001b[0;32m    767\u001b[0m             \u001b[1;31m# called before we get here, causing self._jobs to\u001b[0m\u001b[1;33m\u001b[0m\u001b[1;33m\u001b[0m\u001b[1;33m\u001b[0m\u001b[0m\n",
      "\u001b[1;32mC:\\1\\Anaconda\\lib\\site-packages\\joblib\\_parallel_backends.py\u001b[0m in \u001b[0;36mapply_async\u001b[1;34m(self, func, callback)\u001b[0m\n\u001b[0;32m    206\u001b[0m     \u001b[1;32mdef\u001b[0m \u001b[0mapply_async\u001b[0m\u001b[1;33m(\u001b[0m\u001b[0mself\u001b[0m\u001b[1;33m,\u001b[0m \u001b[0mfunc\u001b[0m\u001b[1;33m,\u001b[0m \u001b[0mcallback\u001b[0m\u001b[1;33m=\u001b[0m\u001b[1;32mNone\u001b[0m\u001b[1;33m)\u001b[0m\u001b[1;33m:\u001b[0m\u001b[1;33m\u001b[0m\u001b[1;33m\u001b[0m\u001b[0m\n\u001b[0;32m    207\u001b[0m         \u001b[1;34m\"\"\"Schedule a func to be run\"\"\"\u001b[0m\u001b[1;33m\u001b[0m\u001b[1;33m\u001b[0m\u001b[0m\n\u001b[1;32m--> 208\u001b[1;33m         \u001b[0mresult\u001b[0m \u001b[1;33m=\u001b[0m \u001b[0mImmediateResult\u001b[0m\u001b[1;33m(\u001b[0m\u001b[0mfunc\u001b[0m\u001b[1;33m)\u001b[0m\u001b[1;33m\u001b[0m\u001b[1;33m\u001b[0m\u001b[0m\n\u001b[0m\u001b[0;32m    209\u001b[0m         \u001b[1;32mif\u001b[0m \u001b[0mcallback\u001b[0m\u001b[1;33m:\u001b[0m\u001b[1;33m\u001b[0m\u001b[1;33m\u001b[0m\u001b[0m\n\u001b[0;32m    210\u001b[0m             \u001b[0mcallback\u001b[0m\u001b[1;33m(\u001b[0m\u001b[0mresult\u001b[0m\u001b[1;33m)\u001b[0m\u001b[1;33m\u001b[0m\u001b[1;33m\u001b[0m\u001b[0m\n",
      "\u001b[1;32mC:\\1\\Anaconda\\lib\\site-packages\\joblib\\_parallel_backends.py\u001b[0m in \u001b[0;36m__init__\u001b[1;34m(self, batch)\u001b[0m\n\u001b[0;32m    570\u001b[0m         \u001b[1;31m# Don't delay the application, to avoid keeping the input\u001b[0m\u001b[1;33m\u001b[0m\u001b[1;33m\u001b[0m\u001b[1;33m\u001b[0m\u001b[0m\n\u001b[0;32m    571\u001b[0m         \u001b[1;31m# arguments in memory\u001b[0m\u001b[1;33m\u001b[0m\u001b[1;33m\u001b[0m\u001b[1;33m\u001b[0m\u001b[0m\n\u001b[1;32m--> 572\u001b[1;33m         \u001b[0mself\u001b[0m\u001b[1;33m.\u001b[0m\u001b[0mresults\u001b[0m \u001b[1;33m=\u001b[0m \u001b[0mbatch\u001b[0m\u001b[1;33m(\u001b[0m\u001b[1;33m)\u001b[0m\u001b[1;33m\u001b[0m\u001b[1;33m\u001b[0m\u001b[0m\n\u001b[0m\u001b[0;32m    573\u001b[0m \u001b[1;33m\u001b[0m\u001b[0m\n\u001b[0;32m    574\u001b[0m     \u001b[1;32mdef\u001b[0m \u001b[0mget\u001b[0m\u001b[1;33m(\u001b[0m\u001b[0mself\u001b[0m\u001b[1;33m)\u001b[0m\u001b[1;33m:\u001b[0m\u001b[1;33m\u001b[0m\u001b[1;33m\u001b[0m\u001b[0m\n",
      "\u001b[1;32mC:\\1\\Anaconda\\lib\\site-packages\\joblib\\parallel.py\u001b[0m in \u001b[0;36m__call__\u001b[1;34m(self)\u001b[0m\n\u001b[0;32m    250\u001b[0m         \u001b[1;31m# change the default number of processes to -1\u001b[0m\u001b[1;33m\u001b[0m\u001b[1;33m\u001b[0m\u001b[1;33m\u001b[0m\u001b[0m\n\u001b[0;32m    251\u001b[0m         \u001b[1;32mwith\u001b[0m \u001b[0mparallel_backend\u001b[0m\u001b[1;33m(\u001b[0m\u001b[0mself\u001b[0m\u001b[1;33m.\u001b[0m\u001b[0m_backend\u001b[0m\u001b[1;33m,\u001b[0m \u001b[0mn_jobs\u001b[0m\u001b[1;33m=\u001b[0m\u001b[0mself\u001b[0m\u001b[1;33m.\u001b[0m\u001b[0m_n_jobs\u001b[0m\u001b[1;33m)\u001b[0m\u001b[1;33m:\u001b[0m\u001b[1;33m\u001b[0m\u001b[1;33m\u001b[0m\u001b[0m\n\u001b[1;32m--> 252\u001b[1;33m             return [func(*args, **kwargs)\n\u001b[0m\u001b[0;32m    253\u001b[0m                     for func, args, kwargs in self.items]\n\u001b[0;32m    254\u001b[0m \u001b[1;33m\u001b[0m\u001b[0m\n",
      "\u001b[1;32mC:\\1\\Anaconda\\lib\\site-packages\\joblib\\parallel.py\u001b[0m in \u001b[0;36m<listcomp>\u001b[1;34m(.0)\u001b[0m\n\u001b[0;32m    250\u001b[0m         \u001b[1;31m# change the default number of processes to -1\u001b[0m\u001b[1;33m\u001b[0m\u001b[1;33m\u001b[0m\u001b[1;33m\u001b[0m\u001b[0m\n\u001b[0;32m    251\u001b[0m         \u001b[1;32mwith\u001b[0m \u001b[0mparallel_backend\u001b[0m\u001b[1;33m(\u001b[0m\u001b[0mself\u001b[0m\u001b[1;33m.\u001b[0m\u001b[0m_backend\u001b[0m\u001b[1;33m,\u001b[0m \u001b[0mn_jobs\u001b[0m\u001b[1;33m=\u001b[0m\u001b[0mself\u001b[0m\u001b[1;33m.\u001b[0m\u001b[0m_n_jobs\u001b[0m\u001b[1;33m)\u001b[0m\u001b[1;33m:\u001b[0m\u001b[1;33m\u001b[0m\u001b[1;33m\u001b[0m\u001b[0m\n\u001b[1;32m--> 252\u001b[1;33m             return [func(*args, **kwargs)\n\u001b[0m\u001b[0;32m    253\u001b[0m                     for func, args, kwargs in self.items]\n\u001b[0;32m    254\u001b[0m \u001b[1;33m\u001b[0m\u001b[0m\n",
      "\u001b[1;32mC:\\1\\Anaconda\\lib\\site-packages\\sklearn\\model_selection\\_validation.py\u001b[0m in \u001b[0;36m_fit_and_score\u001b[1;34m(estimator, X, y, scorer, train, test, verbose, parameters, fit_params, return_train_score, return_parameters, return_n_test_samples, return_times, return_estimator, error_score)\u001b[0m\n\u001b[0;32m    529\u001b[0m             \u001b[0mestimator\u001b[0m\u001b[1;33m.\u001b[0m\u001b[0mfit\u001b[0m\u001b[1;33m(\u001b[0m\u001b[0mX_train\u001b[0m\u001b[1;33m,\u001b[0m \u001b[1;33m**\u001b[0m\u001b[0mfit_params\u001b[0m\u001b[1;33m)\u001b[0m\u001b[1;33m\u001b[0m\u001b[1;33m\u001b[0m\u001b[0m\n\u001b[0;32m    530\u001b[0m         \u001b[1;32melse\u001b[0m\u001b[1;33m:\u001b[0m\u001b[1;33m\u001b[0m\u001b[1;33m\u001b[0m\u001b[0m\n\u001b[1;32m--> 531\u001b[1;33m             \u001b[0mestimator\u001b[0m\u001b[1;33m.\u001b[0m\u001b[0mfit\u001b[0m\u001b[1;33m(\u001b[0m\u001b[0mX_train\u001b[0m\u001b[1;33m,\u001b[0m \u001b[0my_train\u001b[0m\u001b[1;33m,\u001b[0m \u001b[1;33m**\u001b[0m\u001b[0mfit_params\u001b[0m\u001b[1;33m)\u001b[0m\u001b[1;33m\u001b[0m\u001b[1;33m\u001b[0m\u001b[0m\n\u001b[0m\u001b[0;32m    532\u001b[0m \u001b[1;33m\u001b[0m\u001b[0m\n\u001b[0;32m    533\u001b[0m     \u001b[1;32mexcept\u001b[0m \u001b[0mException\u001b[0m \u001b[1;32mas\u001b[0m \u001b[0me\u001b[0m\u001b[1;33m:\u001b[0m\u001b[1;33m\u001b[0m\u001b[1;33m\u001b[0m\u001b[0m\n",
      "\u001b[1;32mC:\\1\\Anaconda\\lib\\site-packages\\sklearn\\tree\\_classes.py\u001b[0m in \u001b[0;36mfit\u001b[1;34m(self, X, y, sample_weight, check_input, X_idx_sorted)\u001b[0m\n\u001b[0;32m   1240\u001b[0m         \"\"\"\n\u001b[0;32m   1241\u001b[0m \u001b[1;33m\u001b[0m\u001b[0m\n\u001b[1;32m-> 1242\u001b[1;33m         super().fit(\n\u001b[0m\u001b[0;32m   1243\u001b[0m             \u001b[0mX\u001b[0m\u001b[1;33m,\u001b[0m \u001b[0my\u001b[0m\u001b[1;33m,\u001b[0m\u001b[1;33m\u001b[0m\u001b[1;33m\u001b[0m\u001b[0m\n\u001b[0;32m   1244\u001b[0m             \u001b[0msample_weight\u001b[0m\u001b[1;33m=\u001b[0m\u001b[0msample_weight\u001b[0m\u001b[1;33m,\u001b[0m\u001b[1;33m\u001b[0m\u001b[1;33m\u001b[0m\u001b[0m\n",
      "\u001b[1;32mC:\\1\\Anaconda\\lib\\site-packages\\sklearn\\tree\\_classes.py\u001b[0m in \u001b[0;36mfit\u001b[1;34m(self, X, y, sample_weight, check_input, X_idx_sorted)\u001b[0m\n\u001b[0;32m    373\u001b[0m                                            min_impurity_split)\n\u001b[0;32m    374\u001b[0m \u001b[1;33m\u001b[0m\u001b[0m\n\u001b[1;32m--> 375\u001b[1;33m         \u001b[0mbuilder\u001b[0m\u001b[1;33m.\u001b[0m\u001b[0mbuild\u001b[0m\u001b[1;33m(\u001b[0m\u001b[0mself\u001b[0m\u001b[1;33m.\u001b[0m\u001b[0mtree_\u001b[0m\u001b[1;33m,\u001b[0m \u001b[0mX\u001b[0m\u001b[1;33m,\u001b[0m \u001b[0my\u001b[0m\u001b[1;33m,\u001b[0m \u001b[0msample_weight\u001b[0m\u001b[1;33m,\u001b[0m \u001b[0mX_idx_sorted\u001b[0m\u001b[1;33m)\u001b[0m\u001b[1;33m\u001b[0m\u001b[1;33m\u001b[0m\u001b[0m\n\u001b[0m\u001b[0;32m    376\u001b[0m \u001b[1;33m\u001b[0m\u001b[0m\n\u001b[0;32m    377\u001b[0m         \u001b[1;32mif\u001b[0m \u001b[0mself\u001b[0m\u001b[1;33m.\u001b[0m\u001b[0mn_outputs_\u001b[0m \u001b[1;33m==\u001b[0m \u001b[1;36m1\u001b[0m \u001b[1;32mand\u001b[0m \u001b[0mis_classifier\u001b[0m\u001b[1;33m(\u001b[0m\u001b[0mself\u001b[0m\u001b[1;33m)\u001b[0m\u001b[1;33m:\u001b[0m\u001b[1;33m\u001b[0m\u001b[1;33m\u001b[0m\u001b[0m\n",
      "\u001b[1;31mKeyboardInterrupt\u001b[0m: "
     ]
    }
   ],
   "source": [
    "grid_dtr.fit(dtr_X,y)"
   ]
  },
  {
   "cell_type": "code",
   "execution_count": 96,
   "metadata": {},
   "outputs": [
    {
     "data": {
      "text/plain": [
       "DecisionTreeRegressor(ccp_alpha=0.0, criterion='mse', max_depth=5,\n",
       "                      max_features=None, max_leaf_nodes=None,\n",
       "                      min_impurity_decrease=0.0, min_impurity_split=None,\n",
       "                      min_samples_leaf=1, min_samples_split=2,\n",
       "                      min_weight_fraction_leaf=0.0, presort='deprecated',\n",
       "                      random_state=1, splitter='best')"
      ]
     },
     "execution_count": 96,
     "metadata": {},
     "output_type": "execute_result"
    }
   ],
   "source": [
    "# Print the best estimator\n",
    "grid_dtr.best_estimator_"
   ]
  },
  {
   "cell_type": "code",
   "execution_count": 182,
   "metadata": {},
   "outputs": [
    {
     "data": {
      "text/plain": [
       "0.0019182566489762934"
      ]
     },
     "execution_count": 182,
     "metadata": {},
     "output_type": "execute_result"
    }
   ],
   "source": [
    "# Print the best CV mean score\n",
    "# The less this parameter ,the more better this model\n",
    "dtr_score = -grid_dtr.best_score_\n",
    "dtr_score"
   ]
  },
  {
   "cell_type": "code",
   "execution_count": 87,
   "metadata": {},
   "outputs": [],
   "source": [
    "# Building a model according to the best_estimator parameters\n",
    "dtr = DecisionTreeRegressor(ccp_alpha=0.0, criterion='mse', max_depth=5,\n",
    "                      max_features=None, max_leaf_nodes=None,\n",
    "                      min_impurity_decrease=0.0, min_impurity_split=None,\n",
    "                      min_samples_leaf=1, min_samples_split=2,\n",
    "                      min_weight_fraction_leaf=0.0, presort='deprecated',\n",
    "                      random_state=1, splitter='best')\n",
    "dtr.fit(dtr_X_train,dtr_y_train)\n",
    "dtr_pred = dtr.predict(dtr_X_test)"
   ]
  },
  {
   "cell_type": "code",
   "execution_count": 91,
   "metadata": {},
   "outputs": [
    {
     "data": {
      "text/plain": [
       "0.9976185411796433"
      ]
     },
     "execution_count": 91,
     "metadata": {},
     "output_type": "execute_result"
    }
   ],
   "source": [
    "from sklearn.metrics import r2_score\n",
    "r2_score(dtr_y_test,dtr_pred)"
   ]
  },
  {
   "cell_type": "markdown",
   "metadata": {},
   "source": [
    "## Score evaluation"
   ]
  },
  {
   "cell_type": "code",
   "execution_count": null,
   "metadata": {},
   "outputs": [],
   "source": [
    "print('KNN score: ', knn_score)\n",
    "print('RidgeR score: ', ridge_score)\n",
    "print('LassoR score: ', lasso_score)\n",
    "print('LinearR score: ', linReg_score)\n",
    "print('DecTreeReg score: ', dtr_score)\n",
    "print('RandomForest score: ', rft_score)\n",
    "\n",
    "best_score = min([knn_score,ridge_score,lasso_score,linReg_score,dtr_score,rft_score])\n",
    "\n",
    "print('Best score: ', best_score)"
   ]
  }
 ],
 "metadata": {
  "kernelspec": {
   "display_name": "Python 3",
   "language": "python",
   "name": "python3"
  },
  "language_info": {
   "codemirror_mode": {
    "name": "ipython",
    "version": 3
   },
   "file_extension": ".py",
   "mimetype": "text/x-python",
   "name": "python",
   "nbconvert_exporter": "python",
   "pygments_lexer": "ipython3",
   "version": "3.8.3"
  }
 },
 "nbformat": 4,
 "nbformat_minor": 4
}
