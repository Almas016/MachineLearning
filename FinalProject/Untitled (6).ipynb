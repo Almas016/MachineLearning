{
 "cells": [
  {
   "cell_type": "code",
   "execution_count": 1,
   "metadata": {},
   "outputs": [],
   "source": [
    "#Libraries import\n",
    "import pandas as pd\n",
    "import numpy as np\n",
    "import matplotlib \n",
    "import matplotlib.pyplot as plt\n",
    "\n",
    "from sklearn import preprocessing\n",
    "from sklearn.preprocessing import StandardScaler\n",
    "from sklearn.preprocessing import MinMaxScaler\n",
    "\n",
    "from sklearn.metrics import mean_squared_log_error,r2_score,mean_squared_error\n",
    "from sklearn.model_selection import train_test_split\n",
    "\n",
    "import seaborn as sns"
   ]
  },
  {
   "cell_type": "markdown",
   "metadata": {},
   "source": [
    "# Data preprocessing"
   ]
  },
  {
   "cell_type": "code",
   "execution_count": 2,
   "metadata": {
    "scrolled": true
   },
   "outputs": [
    {
     "data": {
      "text/html": [
       "<div>\n",
       "<style scoped>\n",
       "    .dataframe tbody tr th:only-of-type {\n",
       "        vertical-align: middle;\n",
       "    }\n",
       "\n",
       "    .dataframe tbody tr th {\n",
       "        vertical-align: top;\n",
       "    }\n",
       "\n",
       "    .dataframe thead th {\n",
       "        text-align: right;\n",
       "    }\n",
       "</style>\n",
       "<table border=\"1\" class=\"dataframe\">\n",
       "  <thead>\n",
       "    <tr style=\"text-align: right;\">\n",
       "      <th></th>\n",
       "      <th>City</th>\n",
       "      <th>Year</th>\n",
       "      <th>Shell</th>\n",
       "      <th>Volume</th>\n",
       "      <th>Mileage</th>\n",
       "      <th>Transmission</th>\n",
       "      <th>Rudder</th>\n",
       "      <th>Gear</th>\n",
       "      <th>CustomsCleared</th>\n",
       "      <th>Type Engine</th>\n",
       "      <th>Company</th>\n",
       "      <th>Model</th>\n",
       "      <th>Price</th>\n",
       "    </tr>\n",
       "  </thead>\n",
       "  <tbody>\n",
       "    <tr>\n",
       "      <th>0</th>\n",
       "      <td>Уральск</td>\n",
       "      <td>2014</td>\n",
       "      <td>внедорожник</td>\n",
       "      <td>1.7</td>\n",
       "      <td>31000</td>\n",
       "      <td>механика</td>\n",
       "      <td>слева</td>\n",
       "      <td>полный привод</td>\n",
       "      <td>Да</td>\n",
       "      <td>бензин</td>\n",
       "      <td>Chevrolet</td>\n",
       "      <td>Niva</td>\n",
       "      <td>2900000</td>\n",
       "    </tr>\n",
       "    <tr>\n",
       "      <th>1</th>\n",
       "      <td>Нур-Султан (Астана)</td>\n",
       "      <td>2014</td>\n",
       "      <td>седан</td>\n",
       "      <td>3.5</td>\n",
       "      <td>59800</td>\n",
       "      <td>автомат</td>\n",
       "      <td>слева</td>\n",
       "      <td>передний привод</td>\n",
       "      <td>Да</td>\n",
       "      <td>бензин</td>\n",
       "      <td>Kia</td>\n",
       "      <td>Cadenza</td>\n",
       "      <td>8600000</td>\n",
       "    </tr>\n",
       "    <tr>\n",
       "      <th>2</th>\n",
       "      <td>Тараз</td>\n",
       "      <td>1995</td>\n",
       "      <td>фургон</td>\n",
       "      <td>2.3</td>\n",
       "      <td>450650</td>\n",
       "      <td>механика</td>\n",
       "      <td>слева</td>\n",
       "      <td>задний привод</td>\n",
       "      <td>Да</td>\n",
       "      <td>дизель</td>\n",
       "      <td>Volkswagen</td>\n",
       "      <td>LT</td>\n",
       "      <td>1100000</td>\n",
       "    </tr>\n",
       "    <tr>\n",
       "      <th>3</th>\n",
       "      <td>Алматы</td>\n",
       "      <td>2018</td>\n",
       "      <td>седан</td>\n",
       "      <td>2.5</td>\n",
       "      <td>48000</td>\n",
       "      <td>типтроник</td>\n",
       "      <td>слева</td>\n",
       "      <td>передний привод</td>\n",
       "      <td>Да</td>\n",
       "      <td>бензин</td>\n",
       "      <td>Toyota</td>\n",
       "      <td>Camry</td>\n",
       "      <td>11300000</td>\n",
       "    </tr>\n",
       "    <tr>\n",
       "      <th>4</th>\n",
       "      <td>Караганда</td>\n",
       "      <td>1997</td>\n",
       "      <td>внедорожник</td>\n",
       "      <td>3.5</td>\n",
       "      <td>153000</td>\n",
       "      <td>автомат</td>\n",
       "      <td>справа</td>\n",
       "      <td>полный привод</td>\n",
       "      <td>Нет</td>\n",
       "      <td>бензин</td>\n",
       "      <td>Mitsubishi</td>\n",
       "      <td>Pajero</td>\n",
       "      <td>3350000</td>\n",
       "    </tr>\n",
       "    <tr>\n",
       "      <th>...</th>\n",
       "      <td>...</td>\n",
       "      <td>...</td>\n",
       "      <td>...</td>\n",
       "      <td>...</td>\n",
       "      <td>...</td>\n",
       "      <td>...</td>\n",
       "      <td>...</td>\n",
       "      <td>...</td>\n",
       "      <td>...</td>\n",
       "      <td>...</td>\n",
       "      <td>...</td>\n",
       "      <td>...</td>\n",
       "      <td>...</td>\n",
       "    </tr>\n",
       "    <tr>\n",
       "      <th>16030</th>\n",
       "      <td>Костанай</td>\n",
       "      <td>2014</td>\n",
       "      <td>седан</td>\n",
       "      <td>1.6</td>\n",
       "      <td>160000</td>\n",
       "      <td>механика</td>\n",
       "      <td>слева</td>\n",
       "      <td>передний привод</td>\n",
       "      <td>Нет</td>\n",
       "      <td>бензин</td>\n",
       "      <td>Datsun</td>\n",
       "      <td>on-DO</td>\n",
       "      <td>1550000</td>\n",
       "    </tr>\n",
       "    <tr>\n",
       "      <th>16031</th>\n",
       "      <td>Сайхин</td>\n",
       "      <td>2008</td>\n",
       "      <td>внедорожник</td>\n",
       "      <td>1.8</td>\n",
       "      <td>175000</td>\n",
       "      <td>механика</td>\n",
       "      <td>слева</td>\n",
       "      <td>полный привод</td>\n",
       "      <td>Да</td>\n",
       "      <td>бензин</td>\n",
       "      <td>Chevrolet</td>\n",
       "      <td>Niva</td>\n",
       "      <td>1500000</td>\n",
       "    </tr>\n",
       "    <tr>\n",
       "      <th>16032</th>\n",
       "      <td>Нур-Султан (Астана)</td>\n",
       "      <td>2014</td>\n",
       "      <td>седан</td>\n",
       "      <td>1.5</td>\n",
       "      <td>103000</td>\n",
       "      <td>механика</td>\n",
       "      <td>слева</td>\n",
       "      <td>передний привод</td>\n",
       "      <td>Да</td>\n",
       "      <td>бензин</td>\n",
       "      <td>Daewoo</td>\n",
       "      <td>Gentra</td>\n",
       "      <td>3300000</td>\n",
       "    </tr>\n",
       "    <tr>\n",
       "      <th>16033</th>\n",
       "      <td>Алматы</td>\n",
       "      <td>2014</td>\n",
       "      <td>внедорожник</td>\n",
       "      <td>4.0</td>\n",
       "      <td>87000</td>\n",
       "      <td>автомат</td>\n",
       "      <td>слева</td>\n",
       "      <td>полный привод</td>\n",
       "      <td>Да</td>\n",
       "      <td>бензин</td>\n",
       "      <td>Toyota</td>\n",
       "      <td>Land Cruiser Prado</td>\n",
       "      <td>18500000</td>\n",
       "    </tr>\n",
       "    <tr>\n",
       "      <th>16034</th>\n",
       "      <td>Нур-Султан (Астана)</td>\n",
       "      <td>1991</td>\n",
       "      <td>седан</td>\n",
       "      <td>2.3</td>\n",
       "      <td>241321</td>\n",
       "      <td>механика</td>\n",
       "      <td>слева</td>\n",
       "      <td>задний привод</td>\n",
       "      <td>Да</td>\n",
       "      <td>бензин</td>\n",
       "      <td>Mercedes-Benz</td>\n",
       "      <td>E 230</td>\n",
       "      <td>1400000</td>\n",
       "    </tr>\n",
       "  </tbody>\n",
       "</table>\n",
       "<p>16035 rows × 13 columns</p>\n",
       "</div>"
      ],
      "text/plain": [
       "                      City  Year        Shell  Volume  Mileage Transmission  \\\n",
       "0                  Уральск  2014  внедорожник     1.7    31000     механика   \n",
       "1      Нур-Султан (Астана)  2014        седан     3.5    59800      автомат   \n",
       "2                    Тараз  1995       фургон     2.3   450650     механика   \n",
       "3                   Алматы  2018        седан     2.5    48000    типтроник   \n",
       "4                Караганда  1997  внедорожник     3.5   153000      автомат   \n",
       "...                    ...   ...          ...     ...      ...          ...   \n",
       "16030             Костанай  2014        седан     1.6   160000     механика   \n",
       "16031               Сайхин  2008  внедорожник     1.8   175000     механика   \n",
       "16032  Нур-Султан (Астана)  2014        седан     1.5   103000     механика   \n",
       "16033               Алматы  2014  внедорожник     4.0    87000      автомат   \n",
       "16034  Нур-Султан (Астана)  1991        седан     2.3   241321     механика   \n",
       "\n",
       "       Rudder             Gear CustomsCleared Type Engine        Company  \\\n",
       "0       слева    полный привод             Да      бензин      Chevrolet   \n",
       "1       слева  передний привод             Да      бензин            Kia   \n",
       "2       слева    задний привод             Да      дизель     Volkswagen   \n",
       "3       слева  передний привод             Да      бензин         Toyota   \n",
       "4      справа    полный привод            Нет      бензин     Mitsubishi   \n",
       "...       ...              ...            ...         ...            ...   \n",
       "16030   слева  передний привод            Нет      бензин         Datsun   \n",
       "16031   слева    полный привод             Да      бензин      Chevrolet   \n",
       "16032   слева  передний привод             Да      бензин         Daewoo   \n",
       "16033   слева    полный привод             Да      бензин         Toyota   \n",
       "16034   слева    задний привод             Да      бензин  Mercedes-Benz   \n",
       "\n",
       "                    Model     Price  \n",
       "0                    Niva   2900000  \n",
       "1                 Cadenza   8600000  \n",
       "2                      LT   1100000  \n",
       "3                   Camry  11300000  \n",
       "4                  Pajero   3350000  \n",
       "...                   ...       ...  \n",
       "16030               on-DO   1550000  \n",
       "16031                Niva   1500000  \n",
       "16032              Gentra   3300000  \n",
       "16033  Land Cruiser Prado  18500000  \n",
       "16034               E 230   1400000  \n",
       "\n",
       "[16035 rows x 13 columns]"
      ]
     },
     "execution_count": 2,
     "metadata": {},
     "output_type": "execute_result"
    }
   ],
   "source": [
    "#Load data\n",
    "data = pd.read_csv('FinalData.csv')\n",
    "data"
   ]
  },
  {
   "cell_type": "code",
   "execution_count": 3,
   "metadata": {},
   "outputs": [
    {
     "data": {
      "text/plain": [
       "City              0\n",
       "Year              0\n",
       "Shell             0\n",
       "Volume            0\n",
       "Mileage           0\n",
       "Transmission      0\n",
       "Rudder            0\n",
       "Gear              0\n",
       "CustomsCleared    0\n",
       "Type Engine       0\n",
       "Company           0\n",
       "Model             0\n",
       "Price             0\n",
       "dtype: int64"
      ]
     },
     "execution_count": 3,
     "metadata": {},
     "output_type": "execute_result"
    }
   ],
   "source": [
    "# Checking for the nulls in columns\n",
    "data.isnull().sum()"
   ]
  },
  {
   "cell_type": "code",
   "execution_count": 4,
   "metadata": {},
   "outputs": [
    {
     "name": "stdout",
     "output_type": "stream",
     "text": [
      "False\n"
     ]
    }
   ],
   "source": [
    "print(data.isnull().values.any())"
   ]
  },
  {
   "cell_type": "markdown",
   "metadata": {},
   "source": [
    "## Checking and dropping outliers"
   ]
  },
  {
   "cell_type": "markdown",
   "metadata": {},
   "source": [
    "So we see,that we have 4 numerical and 9 categorical columns. And there's no any null values in each column"
   ]
  },
  {
   "cell_type": "code",
   "execution_count": 6,
   "metadata": {},
   "outputs": [
    {
     "data": {
      "text/plain": [
       "<matplotlib.axes._subplots.AxesSubplot at 0x7f68e6584990>"
      ]
     },
     "execution_count": 6,
     "metadata": {},
     "output_type": "execute_result"
    },
    {
     "data": {
      "image/png": "[encoded data removed]",
      "text/plain": [
       "<Figure size 1440x1008 with 4 Axes>"
      ]
     },
     "metadata": {
      "needs_background": "light"
     },
     "output_type": "display_data"
    }
   ],
   "source": [
    "# Visualizing outliers using boxplots\n",
    "fig, axes = plt.subplots(2, 2, figsize=(20, 14))\n",
    "fig.suptitle('Distributions of num Columns')\n",
    "sns.boxplot(ax=axes[0, 0], data=data, x='Price')\n",
    "sns.boxplot(ax=axes[0, 1], data=data, x='Mileage')\n",
    "sns.boxplot(ax=axes[1, 0], data=data, x='Volume')\n",
    "sns.boxplot(ax=axes[1, 1], data=data, x='Year')"
   ]
  },
  {
   "cell_type": "code",
   "execution_count": 3,
   "metadata": {},
   "outputs": [
    {
     "name": "stdout",
     "output_type": "stream",
     "text": [
      "Price outliers:  742\n",
      "Mileage outliers:  340\n",
      "Volume outliers:  880\n",
      "Year outliers:  43\n",
      "Amount of outliers:  1733\n",
      "Count of rows with outliers 16035\n",
      "Count of rows without of outliers:  14302\n"
     ]
    }
   ],
   "source": [
    "#Print an information about outliers\n",
    "#For specific column\n",
    "print('Price outliers: ',len(data[data['Price'] >= 0.2 * 10**8]))\n",
    "print('Mileage outliers: ',len(data[data['Mileage'] >= 0.1 * 10**7]))\n",
    "print('Volume outliers: ',len(data[data['Volume'] >= 4.7]))\n",
    "print('Year outliers: ',len(data[data['Year'] <= 1985]))\n",
    "\n",
    "#Total count of outliers\n",
    "count_outliers = len(data[(data['Year'] <= 1985) | (data['Volume'] >= 4.7) | (data['Mileage'] >= 1000000) | (data['Price'] >= 20000000)])\n",
    "\n",
    "#Total count of all outliers and count of rows with and without its\n",
    "print('Amount of outliers: ', count_outliers)\n",
    "print('Count of rows with outliers', len(data))\n",
    "print('Count of rows without of outliers: ', len(data) - count_outliers)"
   ]
  },
  {
   "cell_type": "code",
   "execution_count": 4,
   "metadata": {},
   "outputs": [],
   "source": [
    "# Dropping all outliers\n",
    "data.drop(data[data['Mileage'] >= 0.1 * 10**7].index, inplace=True)\n",
    "data.drop(data[data['Price'] >= 0.2 * 10**8].index, inplace=True)\n",
    "data.drop(data[data['Volume'] >= 4.7].index,inplace=True)\n",
    "data.drop(data[data['Year'] <= 1985].index, inplace=True)"
   ]
  },
  {
   "cell_type": "code",
   "execution_count": 16,
   "metadata": {},
   "outputs": [
    {
     "data": {
      "text/html": [
       "<div>\n",
       "<style scoped>\n",
       "    .dataframe tbody tr th:only-of-type {\n",
       "        vertical-align: middle;\n",
       "    }\n",
       "\n",
       "    .dataframe tbody tr th {\n",
       "        vertical-align: top;\n",
       "    }\n",
       "\n",
       "    .dataframe thead th {\n",
       "        text-align: right;\n",
       "    }\n",
       "</style>\n",
       "<table border=\"1\" class=\"dataframe\">\n",
       "  <thead>\n",
       "    <tr style=\"text-align: right;\">\n",
       "      <th></th>\n",
       "      <th>City</th>\n",
       "      <th>Year</th>\n",
       "      <th>Shell</th>\n",
       "      <th>Volume</th>\n",
       "      <th>Mileage</th>\n",
       "      <th>Transmission</th>\n",
       "      <th>Rudder</th>\n",
       "      <th>Gear</th>\n",
       "      <th>CustomsCleared</th>\n",
       "      <th>Type Engine</th>\n",
       "      <th>Company</th>\n",
       "      <th>Model</th>\n",
       "      <th>Price</th>\n",
       "    </tr>\n",
       "  </thead>\n",
       "  <tbody>\n",
       "    <tr>\n",
       "      <th>0</th>\n",
       "      <td>Уральск</td>\n",
       "      <td>2014</td>\n",
       "      <td>внедорожник</td>\n",
       "      <td>1.7</td>\n",
       "      <td>31000</td>\n",
       "      <td>механика</td>\n",
       "      <td>слева</td>\n",
       "      <td>полный привод</td>\n",
       "      <td>Да</td>\n",
       "      <td>бензин</td>\n",
       "      <td>Chevrolet</td>\n",
       "      <td>Niva</td>\n",
       "      <td>2900000</td>\n",
       "    </tr>\n",
       "    <tr>\n",
       "      <th>1</th>\n",
       "      <td>Нур-Султан (Астана)</td>\n",
       "      <td>2014</td>\n",
       "      <td>седан</td>\n",
       "      <td>3.5</td>\n",
       "      <td>59800</td>\n",
       "      <td>автомат</td>\n",
       "      <td>слева</td>\n",
       "      <td>передний привод</td>\n",
       "      <td>Да</td>\n",
       "      <td>бензин</td>\n",
       "      <td>Kia</td>\n",
       "      <td>Cadenza</td>\n",
       "      <td>8600000</td>\n",
       "    </tr>\n",
       "    <tr>\n",
       "      <th>2</th>\n",
       "      <td>Тараз</td>\n",
       "      <td>1995</td>\n",
       "      <td>фургон</td>\n",
       "      <td>2.3</td>\n",
       "      <td>450650</td>\n",
       "      <td>механика</td>\n",
       "      <td>слева</td>\n",
       "      <td>задний привод</td>\n",
       "      <td>Да</td>\n",
       "      <td>дизель</td>\n",
       "      <td>Volkswagen</td>\n",
       "      <td>LT</td>\n",
       "      <td>1100000</td>\n",
       "    </tr>\n",
       "    <tr>\n",
       "      <th>3</th>\n",
       "      <td>Алматы</td>\n",
       "      <td>2018</td>\n",
       "      <td>седан</td>\n",
       "      <td>2.5</td>\n",
       "      <td>48000</td>\n",
       "      <td>типтроник</td>\n",
       "      <td>слева</td>\n",
       "      <td>передний привод</td>\n",
       "      <td>Да</td>\n",
       "      <td>бензин</td>\n",
       "      <td>Toyota</td>\n",
       "      <td>Camry</td>\n",
       "      <td>11300000</td>\n",
       "    </tr>\n",
       "    <tr>\n",
       "      <th>4</th>\n",
       "      <td>Караганда</td>\n",
       "      <td>1997</td>\n",
       "      <td>внедорожник</td>\n",
       "      <td>3.5</td>\n",
       "      <td>153000</td>\n",
       "      <td>автомат</td>\n",
       "      <td>справа</td>\n",
       "      <td>полный привод</td>\n",
       "      <td>Нет</td>\n",
       "      <td>бензин</td>\n",
       "      <td>Mitsubishi</td>\n",
       "      <td>Pajero</td>\n",
       "      <td>3350000</td>\n",
       "    </tr>\n",
       "    <tr>\n",
       "      <th>...</th>\n",
       "      <td>...</td>\n",
       "      <td>...</td>\n",
       "      <td>...</td>\n",
       "      <td>...</td>\n",
       "      <td>...</td>\n",
       "      <td>...</td>\n",
       "      <td>...</td>\n",
       "      <td>...</td>\n",
       "      <td>...</td>\n",
       "      <td>...</td>\n",
       "      <td>...</td>\n",
       "      <td>...</td>\n",
       "      <td>...</td>\n",
       "    </tr>\n",
       "    <tr>\n",
       "      <th>16030</th>\n",
       "      <td>Костанай</td>\n",
       "      <td>2014</td>\n",
       "      <td>седан</td>\n",
       "      <td>1.6</td>\n",
       "      <td>160000</td>\n",
       "      <td>механика</td>\n",
       "      <td>слева</td>\n",
       "      <td>передний привод</td>\n",
       "      <td>Нет</td>\n",
       "      <td>бензин</td>\n",
       "      <td>Datsun</td>\n",
       "      <td>on-DO</td>\n",
       "      <td>1550000</td>\n",
       "    </tr>\n",
       "    <tr>\n",
       "      <th>16031</th>\n",
       "      <td>Сайхин</td>\n",
       "      <td>2008</td>\n",
       "      <td>внедорожник</td>\n",
       "      <td>1.8</td>\n",
       "      <td>175000</td>\n",
       "      <td>механика</td>\n",
       "      <td>слева</td>\n",
       "      <td>полный привод</td>\n",
       "      <td>Да</td>\n",
       "      <td>бензин</td>\n",
       "      <td>Chevrolet</td>\n",
       "      <td>Niva</td>\n",
       "      <td>1500000</td>\n",
       "    </tr>\n",
       "    <tr>\n",
       "      <th>16032</th>\n",
       "      <td>Нур-Султан (Астана)</td>\n",
       "      <td>2014</td>\n",
       "      <td>седан</td>\n",
       "      <td>1.5</td>\n",
       "      <td>103000</td>\n",
       "      <td>механика</td>\n",
       "      <td>слева</td>\n",
       "      <td>передний привод</td>\n",
       "      <td>Да</td>\n",
       "      <td>бензин</td>\n",
       "      <td>Daewoo</td>\n",
       "      <td>Gentra</td>\n",
       "      <td>3300000</td>\n",
       "    </tr>\n",
       "    <tr>\n",
       "      <th>16033</th>\n",
       "      <td>Алматы</td>\n",
       "      <td>2014</td>\n",
       "      <td>внедорожник</td>\n",
       "      <td>4.0</td>\n",
       "      <td>87000</td>\n",
       "      <td>автомат</td>\n",
       "      <td>слева</td>\n",
       "      <td>полный привод</td>\n",
       "      <td>Да</td>\n",
       "      <td>бензин</td>\n",
       "      <td>Toyota</td>\n",
       "      <td>Land Cruiser Prado</td>\n",
       "      <td>18500000</td>\n",
       "    </tr>\n",
       "    <tr>\n",
       "      <th>16034</th>\n",
       "      <td>Нур-Султан (Астана)</td>\n",
       "      <td>1991</td>\n",
       "      <td>седан</td>\n",
       "      <td>2.3</td>\n",
       "      <td>241321</td>\n",
       "      <td>механика</td>\n",
       "      <td>слева</td>\n",
       "      <td>задний привод</td>\n",
       "      <td>Да</td>\n",
       "      <td>бензин</td>\n",
       "      <td>Mercedes-Benz</td>\n",
       "      <td>E 230</td>\n",
       "      <td>1400000</td>\n",
       "    </tr>\n",
       "  </tbody>\n",
       "</table>\n",
       "<p>14302 rows × 13 columns</p>\n",
       "</div>"
      ],
      "text/plain": [
       "                      City  Year        Shell  Volume  Mileage Transmission  \\\n",
       "0                  Уральск  2014  внедорожник     1.7    31000     механика   \n",
       "1      Нур-Султан (Астана)  2014        седан     3.5    59800      автомат   \n",
       "2                    Тараз  1995       фургон     2.3   450650     механика   \n",
       "3                   Алматы  2018        седан     2.5    48000    типтроник   \n",
       "4                Караганда  1997  внедорожник     3.5   153000      автомат   \n",
       "...                    ...   ...          ...     ...      ...          ...   \n",
       "16030             Костанай  2014        седан     1.6   160000     механика   \n",
       "16031               Сайхин  2008  внедорожник     1.8   175000     механика   \n",
       "16032  Нур-Султан (Астана)  2014        седан     1.5   103000     механика   \n",
       "16033               Алматы  2014  внедорожник     4.0    87000      автомат   \n",
       "16034  Нур-Султан (Астана)  1991        седан     2.3   241321     механика   \n",
       "\n",
       "       Rudder             Gear CustomsCleared Type Engine        Company  \\\n",
       "0       слева    полный привод             Да      бензин      Chevrolet   \n",
       "1       слева  передний привод             Да      бензин            Kia   \n",
       "2       слева    задний привод             Да      дизель     Volkswagen   \n",
       "3       слева  передний привод             Да      бензин         Toyota   \n",
       "4      справа    полный привод            Нет      бензин     Mitsubishi   \n",
       "...       ...              ...            ...         ...            ...   \n",
       "16030   слева  передний привод            Нет      бензин         Datsun   \n",
       "16031   слева    полный привод             Да      бензин      Chevrolet   \n",
       "16032   слева  передний привод             Да      бензин         Daewoo   \n",
       "16033   слева    полный привод             Да      бензин         Toyota   \n",
       "16034   слева    задний привод             Да      бензин  Mercedes-Benz   \n",
       "\n",
       "                    Model     Price  \n",
       "0                    Niva   2900000  \n",
       "1                 Cadenza   8600000  \n",
       "2                      LT   1100000  \n",
       "3                   Camry  11300000  \n",
       "4                  Pajero   3350000  \n",
       "...                   ...       ...  \n",
       "16030               on-DO   1550000  \n",
       "16031                Niva   1500000  \n",
       "16032              Gentra   3300000  \n",
       "16033  Land Cruiser Prado  18500000  \n",
       "16034               E 230   1400000  \n",
       "\n",
       "[14302 rows x 13 columns]"
      ]
     },
     "execution_count": 16,
     "metadata": {},
     "output_type": "execute_result"
    }
   ],
   "source": [
    "# Looking at the result\n",
    "data"
   ]
  },
  {
   "cell_type": "markdown",
   "metadata": {},
   "source": [
    "## Checking on outliers again"
   ]
  },
  {
   "cell_type": "markdown",
   "metadata": {},
   "source": [
    "Well, we didn't drop all the outliers ,only most of them,now we can take a detail look and check our dataset for outliers again"
   ]
  },
  {
   "cell_type": "code",
   "execution_count": 10,
   "metadata": {},
   "outputs": [
    {
     "data": {
      "text/plain": [
       "<matplotlib.axes._subplots.AxesSubplot at 0x7f68e63b2610>"
      ]
     },
     "execution_count": 10,
     "metadata": {},
     "output_type": "execute_result"
    },
    {
     "data": {
      "image/png": "[encoded data removed]",
      "text/plain": [
       "<Figure size 1440x1008 with 4 Axes>"
      ]
     },
     "metadata": {
      "needs_background": "light"
     },
     "output_type": "display_data"
    }
   ],
   "source": [
    "fig, axes = plt.subplots(2, 2, figsize=(20, 14))\n",
    "fig.suptitle('Distributions of num Columns')\n",
    "sns.boxplot(ax=axes[0, 0], data=data, x='Price')\n",
    "sns.boxplot(ax=axes[0, 1], data=data, x='Mileage')\n",
    "sns.boxplot(ax=axes[1, 0], data=data, x='Volume')\n",
    "sns.boxplot(ax=axes[1, 1], data=data, x='Year')"
   ]
  },
  {
   "cell_type": "code",
   "execution_count": 6,
   "metadata": {},
   "outputs": [
    {
     "name": "stdout",
     "output_type": "stream",
     "text": [
      "Price outliers:  879\n",
      "Mileage outliers:  222\n",
      "Volume outliers:  503\n",
      "Amount of outliers:  1604\n",
      "Count of rows with outliers 14302\n",
      "Count of rows without of outliers:  12698\n"
     ]
    }
   ],
   "source": [
    "# Recording the count of outliers for each column\n",
    "price_outliers = len(data[data['Price'] >= 1.22 * 10**7])\n",
    "mileage_outliers = len(data[data['Mileage'] >= 0.48 * 10**6])\n",
    "volume_outliers = len(data[(data['Volume'] >= 3.7) | (data['Volume'] < 0.3)])\n",
    "\n",
    "# Print amount of outliers for each column\n",
    "print('Price outliers: ',len(data[data['Price'] >= 1.22 * 10**7]))\n",
    "print('Mileage outliers: ',len(data[data['Mileage'] >= 0.48 * 10**6]))\n",
    "print('Volume outliers: ',len(data[(data['Volume'] >= 3.7) | (data['Volume'] < 0.3)]))\n",
    "\n",
    "count_outliers = price_outliers + mileage_outliers + volume_outliers\n",
    "\n",
    "# Print total count of outliers and count of rows with and without outliers\n",
    "print('Amount of outliers: ', count_outliers)\n",
    "print('Count of rows with outliers', len(data))\n",
    "print('Count of rows without of outliers: ', len(data) - count_outliers)"
   ]
  },
  {
   "cell_type": "code",
   "execution_count": 7,
   "metadata": {},
   "outputs": [],
   "source": [
    "# Dropping all outliers\n",
    "data.drop(data[data['Price'] >= 1.22 * 10**7].index, inplace=True)\n",
    "data.drop(data[data['Mileage'] >= 0.48 * 10**6].index, inplace=True)\n",
    "data.drop(data[(data['Volume'] >= 3.7) | (data['Volume'] < 0.3)].index,inplace=True)"
   ]
  },
  {
   "cell_type": "code",
   "execution_count": 8,
   "metadata": {},
   "outputs": [
    {
     "data": {
      "text/html": [
       "<div>\n",
       "<style scoped>\n",
       "    .dataframe tbody tr th:only-of-type {\n",
       "        vertical-align: middle;\n",
       "    }\n",
       "\n",
       "    .dataframe tbody tr th {\n",
       "        vertical-align: top;\n",
       "    }\n",
       "\n",
       "    .dataframe thead th {\n",
       "        text-align: right;\n",
       "    }\n",
       "</style>\n",
       "<table border=\"1\" class=\"dataframe\">\n",
       "  <thead>\n",
       "    <tr style=\"text-align: right;\">\n",
       "      <th></th>\n",
       "      <th>City</th>\n",
       "      <th>Year</th>\n",
       "      <th>Shell</th>\n",
       "      <th>Volume</th>\n",
       "      <th>Mileage</th>\n",
       "      <th>Transmission</th>\n",
       "      <th>Rudder</th>\n",
       "      <th>Gear</th>\n",
       "      <th>CustomsCleared</th>\n",
       "      <th>Type Engine</th>\n",
       "      <th>Company</th>\n",
       "      <th>Model</th>\n",
       "      <th>Price</th>\n",
       "    </tr>\n",
       "  </thead>\n",
       "  <tbody>\n",
       "    <tr>\n",
       "      <th>0</th>\n",
       "      <td>Уральск</td>\n",
       "      <td>2014</td>\n",
       "      <td>внедорожник</td>\n",
       "      <td>1.7</td>\n",
       "      <td>31000</td>\n",
       "      <td>механика</td>\n",
       "      <td>слева</td>\n",
       "      <td>полный привод</td>\n",
       "      <td>Да</td>\n",
       "      <td>бензин</td>\n",
       "      <td>Chevrolet</td>\n",
       "      <td>Niva</td>\n",
       "      <td>2900000</td>\n",
       "    </tr>\n",
       "    <tr>\n",
       "      <th>1</th>\n",
       "      <td>Нур-Султан (Астана)</td>\n",
       "      <td>2014</td>\n",
       "      <td>седан</td>\n",
       "      <td>3.5</td>\n",
       "      <td>59800</td>\n",
       "      <td>автомат</td>\n",
       "      <td>слева</td>\n",
       "      <td>передний привод</td>\n",
       "      <td>Да</td>\n",
       "      <td>бензин</td>\n",
       "      <td>Kia</td>\n",
       "      <td>Cadenza</td>\n",
       "      <td>8600000</td>\n",
       "    </tr>\n",
       "    <tr>\n",
       "      <th>2</th>\n",
       "      <td>Тараз</td>\n",
       "      <td>1995</td>\n",
       "      <td>фургон</td>\n",
       "      <td>2.3</td>\n",
       "      <td>450650</td>\n",
       "      <td>механика</td>\n",
       "      <td>слева</td>\n",
       "      <td>задний привод</td>\n",
       "      <td>Да</td>\n",
       "      <td>дизель</td>\n",
       "      <td>Volkswagen</td>\n",
       "      <td>LT</td>\n",
       "      <td>1100000</td>\n",
       "    </tr>\n",
       "    <tr>\n",
       "      <th>3</th>\n",
       "      <td>Алматы</td>\n",
       "      <td>2018</td>\n",
       "      <td>седан</td>\n",
       "      <td>2.5</td>\n",
       "      <td>48000</td>\n",
       "      <td>типтроник</td>\n",
       "      <td>слева</td>\n",
       "      <td>передний привод</td>\n",
       "      <td>Да</td>\n",
       "      <td>бензин</td>\n",
       "      <td>Toyota</td>\n",
       "      <td>Camry</td>\n",
       "      <td>11300000</td>\n",
       "    </tr>\n",
       "    <tr>\n",
       "      <th>4</th>\n",
       "      <td>Караганда</td>\n",
       "      <td>1997</td>\n",
       "      <td>внедорожник</td>\n",
       "      <td>3.5</td>\n",
       "      <td>153000</td>\n",
       "      <td>автомат</td>\n",
       "      <td>справа</td>\n",
       "      <td>полный привод</td>\n",
       "      <td>Нет</td>\n",
       "      <td>бензин</td>\n",
       "      <td>Mitsubishi</td>\n",
       "      <td>Pajero</td>\n",
       "      <td>3350000</td>\n",
       "    </tr>\n",
       "    <tr>\n",
       "      <th>...</th>\n",
       "      <td>...</td>\n",
       "      <td>...</td>\n",
       "      <td>...</td>\n",
       "      <td>...</td>\n",
       "      <td>...</td>\n",
       "      <td>...</td>\n",
       "      <td>...</td>\n",
       "      <td>...</td>\n",
       "      <td>...</td>\n",
       "      <td>...</td>\n",
       "      <td>...</td>\n",
       "      <td>...</td>\n",
       "      <td>...</td>\n",
       "    </tr>\n",
       "    <tr>\n",
       "      <th>16029</th>\n",
       "      <td>Тараз</td>\n",
       "      <td>1989</td>\n",
       "      <td>седан</td>\n",
       "      <td>2.0</td>\n",
       "      <td>338065</td>\n",
       "      <td>механика</td>\n",
       "      <td>слева</td>\n",
       "      <td>передний привод</td>\n",
       "      <td>Да</td>\n",
       "      <td>бензин</td>\n",
       "      <td>Audi</td>\n",
       "      <td>80</td>\n",
       "      <td>570000</td>\n",
       "    </tr>\n",
       "    <tr>\n",
       "      <th>16030</th>\n",
       "      <td>Костанай</td>\n",
       "      <td>2014</td>\n",
       "      <td>седан</td>\n",
       "      <td>1.6</td>\n",
       "      <td>160000</td>\n",
       "      <td>механика</td>\n",
       "      <td>слева</td>\n",
       "      <td>передний привод</td>\n",
       "      <td>Нет</td>\n",
       "      <td>бензин</td>\n",
       "      <td>Datsun</td>\n",
       "      <td>on-DO</td>\n",
       "      <td>1550000</td>\n",
       "    </tr>\n",
       "    <tr>\n",
       "      <th>16031</th>\n",
       "      <td>Сайхин</td>\n",
       "      <td>2008</td>\n",
       "      <td>внедорожник</td>\n",
       "      <td>1.8</td>\n",
       "      <td>175000</td>\n",
       "      <td>механика</td>\n",
       "      <td>слева</td>\n",
       "      <td>полный привод</td>\n",
       "      <td>Да</td>\n",
       "      <td>бензин</td>\n",
       "      <td>Chevrolet</td>\n",
       "      <td>Niva</td>\n",
       "      <td>1500000</td>\n",
       "    </tr>\n",
       "    <tr>\n",
       "      <th>16032</th>\n",
       "      <td>Нур-Султан (Астана)</td>\n",
       "      <td>2014</td>\n",
       "      <td>седан</td>\n",
       "      <td>1.5</td>\n",
       "      <td>103000</td>\n",
       "      <td>механика</td>\n",
       "      <td>слева</td>\n",
       "      <td>передний привод</td>\n",
       "      <td>Да</td>\n",
       "      <td>бензин</td>\n",
       "      <td>Daewoo</td>\n",
       "      <td>Gentra</td>\n",
       "      <td>3300000</td>\n",
       "    </tr>\n",
       "    <tr>\n",
       "      <th>16034</th>\n",
       "      <td>Нур-Султан (Астана)</td>\n",
       "      <td>1991</td>\n",
       "      <td>седан</td>\n",
       "      <td>2.3</td>\n",
       "      <td>241321</td>\n",
       "      <td>механика</td>\n",
       "      <td>слева</td>\n",
       "      <td>задний привод</td>\n",
       "      <td>Да</td>\n",
       "      <td>бензин</td>\n",
       "      <td>Mercedes-Benz</td>\n",
       "      <td>E 230</td>\n",
       "      <td>1400000</td>\n",
       "    </tr>\n",
       "  </tbody>\n",
       "</table>\n",
       "<p>12838 rows × 13 columns</p>\n",
       "</div>"
      ],
      "text/plain": [
       "                      City  Year        Shell  Volume  Mileage Transmission  \\\n",
       "0                  Уральск  2014  внедорожник     1.7    31000     механика   \n",
       "1      Нур-Султан (Астана)  2014        седан     3.5    59800      автомат   \n",
       "2                    Тараз  1995       фургон     2.3   450650     механика   \n",
       "3                   Алматы  2018        седан     2.5    48000    типтроник   \n",
       "4                Караганда  1997  внедорожник     3.5   153000      автомат   \n",
       "...                    ...   ...          ...     ...      ...          ...   \n",
       "16029                Тараз  1989        седан     2.0   338065     механика   \n",
       "16030             Костанай  2014        седан     1.6   160000     механика   \n",
       "16031               Сайхин  2008  внедорожник     1.8   175000     механика   \n",
       "16032  Нур-Султан (Астана)  2014        седан     1.5   103000     механика   \n",
       "16034  Нур-Султан (Астана)  1991        седан     2.3   241321     механика   \n",
       "\n",
       "       Rudder             Gear CustomsCleared Type Engine        Company  \\\n",
       "0       слева    полный привод             Да      бензин      Chevrolet   \n",
       "1       слева  передний привод             Да      бензин            Kia   \n",
       "2       слева    задний привод             Да      дизель     Volkswagen   \n",
       "3       слева  передний привод             Да      бензин         Toyota   \n",
       "4      справа    полный привод            Нет      бензин     Mitsubishi   \n",
       "...       ...              ...            ...         ...            ...   \n",
       "16029   слева  передний привод             Да      бензин           Audi   \n",
       "16030   слева  передний привод            Нет      бензин         Datsun   \n",
       "16031   слева    полный привод             Да      бензин      Chevrolet   \n",
       "16032   слева  передний привод             Да      бензин         Daewoo   \n",
       "16034   слева    задний привод             Да      бензин  Mercedes-Benz   \n",
       "\n",
       "         Model     Price  \n",
       "0         Niva   2900000  \n",
       "1      Cadenza   8600000  \n",
       "2           LT   1100000  \n",
       "3        Camry  11300000  \n",
       "4       Pajero   3350000  \n",
       "...        ...       ...  \n",
       "16029       80    570000  \n",
       "16030    on-DO   1550000  \n",
       "16031     Niva   1500000  \n",
       "16032   Gentra   3300000  \n",
       "16034    E 230   1400000  \n",
       "\n",
       "[12838 rows x 13 columns]"
      ]
     },
     "execution_count": 8,
     "metadata": {},
     "output_type": "execute_result"
    }
   ],
   "source": [
    "data"
   ]
  },
  {
   "cell_type": "code",
   "execution_count": 14,
   "metadata": {},
   "outputs": [
    {
     "data": {
      "text/plain": [
       "<matplotlib.axes._subplots.AxesSubplot at 0x7f68e61d1150>"
      ]
     },
     "execution_count": 14,
     "metadata": {},
     "output_type": "execute_result"
    },
    {
     "data": {
      "image/png": "[encoded data removed]",
      "text/plain": [
       "<Figure size 1440x1008 with 4 Axes>"
      ]
     },
     "metadata": {
      "needs_background": "light"
     },
     "output_type": "display_data"
    }
   ],
   "source": [
    "fig, axes = plt.subplots(2, 2, figsize=(20, 14))\n",
    "fig.suptitle('Distributions of num Columns')\n",
    "sns.boxplot(ax=axes[0, 0], data=data, x='Price')\n",
    "sns.boxplot(ax=axes[0, 1], data=data, x='Mileage')\n",
    "sns.boxplot(ax=axes[1, 0], data=data, x='Volume')\n",
    "sns.boxplot(ax=axes[1, 1], data=data, x='Year')"
   ]
  },
  {
   "cell_type": "markdown",
   "metadata": {},
   "source": [
    "We've got rid of the most part of outliers and the rest count of them is not too essential.So then we can go ahead"
   ]
  },
  {
   "cell_type": "markdown",
   "metadata": {},
   "source": [
    "## Transforming data"
   ]
  },
  {
   "cell_type": "code",
   "execution_count": 9,
   "metadata": {},
   "outputs": [],
   "source": [
    "# Splitting our columns on categorical and numerical\n",
    "\n",
    "# Numerical columns names\n",
    "num_cols = data.select_dtypes(include=np.number).columns\n",
    "\n",
    "# Categorical columns names\n",
    "cat_cols = data.select_dtypes(exclude=np.number).columns"
   ]
  },
  {
   "cell_type": "code",
   "execution_count": 10,
   "metadata": {},
   "outputs": [
    {
     "name": "stdout",
     "output_type": "stream",
     "text": [
      "Index(['Year', 'Volume', 'Mileage', 'Price'], dtype='object')\n",
      "Index(['City', 'Shell', 'Transmission', 'Rudder', 'Gear', 'CustomsCleared',\n",
      "       'Type Engine', 'Company', 'Model'],\n",
      "      dtype='object')\n"
     ]
    }
   ],
   "source": [
    "print(num_cols)\n",
    "print(cat_cols)"
   ]
  },
  {
   "cell_type": "markdown",
   "metadata": {},
   "source": [
    "Now we need to transform our categorical data to numerical for the training our model"
   ]
  },
  {
   "cell_type": "code",
   "execution_count": 11,
   "metadata": {},
   "outputs": [
    {
     "name": "stdout",
     "output_type": "stream",
     "text": [
      "City : 193\n",
      "Shell : 17\n",
      "Transmission : 5\n",
      "Rudder : 2\n",
      "Gear : 3\n",
      "CustomsCleared : 2\n",
      "Type Engine : 5\n",
      "Company : 72\n",
      "Model : 765\n"
     ]
    }
   ],
   "source": [
    "# Print how much unique values has each categorical column\n",
    "for col in cat_cols:\n",
    "    print('%s : %d' % (col,data[col].nunique()))"
   ]
  },
  {
   "cell_type": "code",
   "execution_count": 12,
   "metadata": {},
   "outputs": [
    {
     "data": {
      "text/html": [
       "<div>\n",
       "<style scoped>\n",
       "    .dataframe tbody tr th:only-of-type {\n",
       "        vertical-align: middle;\n",
       "    }\n",
       "\n",
       "    .dataframe tbody tr th {\n",
       "        vertical-align: top;\n",
       "    }\n",
       "\n",
       "    .dataframe thead th {\n",
       "        text-align: right;\n",
       "    }\n",
       "</style>\n",
       "<table border=\"1\" class=\"dataframe\">\n",
       "  <thead>\n",
       "    <tr style=\"text-align: right;\">\n",
       "      <th></th>\n",
       "      <th>City</th>\n",
       "      <th>Shell</th>\n",
       "      <th>Transmission</th>\n",
       "      <th>Rudder</th>\n",
       "      <th>Gear</th>\n",
       "      <th>CustomsCleared</th>\n",
       "      <th>Type Engine</th>\n",
       "      <th>Company</th>\n",
       "      <th>Model</th>\n",
       "    </tr>\n",
       "  </thead>\n",
       "  <tbody>\n",
       "    <tr>\n",
       "      <th>0</th>\n",
       "      <td>161</td>\n",
       "      <td>0</td>\n",
       "      <td>2</td>\n",
       "      <td>0</td>\n",
       "      <td>2</td>\n",
       "      <td>0</td>\n",
       "      <td>0</td>\n",
       "      <td>11</td>\n",
       "      <td>495</td>\n",
       "    </tr>\n",
       "    <tr>\n",
       "      <th>1</th>\n",
       "      <td>113</td>\n",
       "      <td>11</td>\n",
       "      <td>0</td>\n",
       "      <td>0</td>\n",
       "      <td>1</td>\n",
       "      <td>0</td>\n",
       "      <td>0</td>\n",
       "      <td>34</td>\n",
       "      <td>197</td>\n",
       "    </tr>\n",
       "    <tr>\n",
       "      <th>2</th>\n",
       "      <td>146</td>\n",
       "      <td>14</td>\n",
       "      <td>2</td>\n",
       "      <td>0</td>\n",
       "      <td>0</td>\n",
       "      <td>0</td>\n",
       "      <td>4</td>\n",
       "      <td>60</td>\n",
       "      <td>417</td>\n",
       "    </tr>\n",
       "    <tr>\n",
       "      <th>3</th>\n",
       "      <td>15</td>\n",
       "      <td>11</td>\n",
       "      <td>4</td>\n",
       "      <td>0</td>\n",
       "      <td>1</td>\n",
       "      <td>0</td>\n",
       "      <td>0</td>\n",
       "      <td>59</td>\n",
       "      <td>202</td>\n",
       "    </tr>\n",
       "    <tr>\n",
       "      <th>4</th>\n",
       "      <td>77</td>\n",
       "      <td>0</td>\n",
       "      <td>0</td>\n",
       "      <td>1</td>\n",
       "      <td>2</td>\n",
       "      <td>1</td>\n",
       "      <td>0</td>\n",
       "      <td>42</td>\n",
       "      <td>513</td>\n",
       "    </tr>\n",
       "  </tbody>\n",
       "</table>\n",
       "</div>"
      ],
      "text/plain": [
       "   City  Shell  Transmission  Rudder  Gear  CustomsCleared  Type Engine  \\\n",
       "0   161      0             2       0     2               0            0   \n",
       "1   113     11             0       0     1               0            0   \n",
       "2   146     14             2       0     0               0            4   \n",
       "3    15     11             4       0     1               0            0   \n",
       "4    77      0             0       1     2               1            0   \n",
       "\n",
       "   Company  Model  \n",
       "0       11    495  \n",
       "1       34    197  \n",
       "2       60    417  \n",
       "3       59    202  \n",
       "4       42    513  "
      ]
     },
     "execution_count": 12,
     "metadata": {},
     "output_type": "execute_result"
    }
   ],
   "source": [
    "# We gonna encode label using LabelEncoder\n",
    "le = preprocessing.LabelEncoder()\n",
    "data[cat_cols] = data[cat_cols].apply(le.fit_transform)\n",
    "data[cat_cols].head()"
   ]
  },
  {
   "cell_type": "code",
   "execution_count": 13,
   "metadata": {},
   "outputs": [],
   "source": [
    "# For the best productivity we gonna scale all numerical data. For this purposes we used StandardScaler\n",
    "standardScaller = StandardScaler()\n",
    "\n",
    "# Scalling all numerical data\n",
    "for col in num_cols:\n",
    "    # We not scalling only price,cause later we need to tranform it back\n",
    "    # But also we need to optimize it,so we can apply natural logarithm using np.log\n",
    "    if(col == 'Price'):\n",
    "        data[col] = np.log(data[col])\n",
    "    else:\n",
    "        data[col] = standardScaller.fit_transform(np.array(data['Price']).reshape(-1,1))"
   ]
  },
  {
   "cell_type": "code",
   "execution_count": 20,
   "metadata": {},
   "outputs": [
    {
     "data": {
      "text/html": [
       "<div>\n",
       "<style scoped>\n",
       "    .dataframe tbody tr th:only-of-type {\n",
       "        vertical-align: middle;\n",
       "    }\n",
       "\n",
       "    .dataframe tbody tr th {\n",
       "        vertical-align: top;\n",
       "    }\n",
       "\n",
       "    .dataframe thead th {\n",
       "        text-align: right;\n",
       "    }\n",
       "</style>\n",
       "<table border=\"1\" class=\"dataframe\">\n",
       "  <thead>\n",
       "    <tr style=\"text-align: right;\">\n",
       "      <th></th>\n",
       "      <th>City</th>\n",
       "      <th>Year</th>\n",
       "      <th>Shell</th>\n",
       "      <th>Volume</th>\n",
       "      <th>Mileage</th>\n",
       "      <th>Transmission</th>\n",
       "      <th>Rudder</th>\n",
       "      <th>Gear</th>\n",
       "      <th>CustomsCleared</th>\n",
       "      <th>Type Engine</th>\n",
       "      <th>Company</th>\n",
       "      <th>Model</th>\n",
       "      <th>Price</th>\n",
       "    </tr>\n",
       "  </thead>\n",
       "  <tbody>\n",
       "    <tr>\n",
       "      <th>0</th>\n",
       "      <td>161</td>\n",
       "      <td>-0.326838</td>\n",
       "      <td>0</td>\n",
       "      <td>-0.326838</td>\n",
       "      <td>-0.326838</td>\n",
       "      <td>2</td>\n",
       "      <td>0</td>\n",
       "      <td>2</td>\n",
       "      <td>0</td>\n",
       "      <td>0</td>\n",
       "      <td>11</td>\n",
       "      <td>495</td>\n",
       "      <td>14.880221</td>\n",
       "    </tr>\n",
       "    <tr>\n",
       "      <th>1</th>\n",
       "      <td>113</td>\n",
       "      <td>1.808978</td>\n",
       "      <td>11</td>\n",
       "      <td>1.808978</td>\n",
       "      <td>1.808978</td>\n",
       "      <td>0</td>\n",
       "      <td>0</td>\n",
       "      <td>1</td>\n",
       "      <td>0</td>\n",
       "      <td>0</td>\n",
       "      <td>34</td>\n",
       "      <td>197</td>\n",
       "      <td>15.967273</td>\n",
       "    </tr>\n",
       "    <tr>\n",
       "      <th>2</th>\n",
       "      <td>146</td>\n",
       "      <td>-1.001306</td>\n",
       "      <td>14</td>\n",
       "      <td>-1.001306</td>\n",
       "      <td>-1.001306</td>\n",
       "      <td>2</td>\n",
       "      <td>0</td>\n",
       "      <td>0</td>\n",
       "      <td>0</td>\n",
       "      <td>4</td>\n",
       "      <td>60</td>\n",
       "      <td>417</td>\n",
       "      <td>13.910821</td>\n",
       "    </tr>\n",
       "    <tr>\n",
       "      <th>3</th>\n",
       "      <td>15</td>\n",
       "      <td>2.820681</td>\n",
       "      <td>11</td>\n",
       "      <td>2.820681</td>\n",
       "      <td>2.820681</td>\n",
       "      <td>4</td>\n",
       "      <td>0</td>\n",
       "      <td>1</td>\n",
       "      <td>0</td>\n",
       "      <td>0</td>\n",
       "      <td>59</td>\n",
       "      <td>202</td>\n",
       "      <td>16.240313</td>\n",
       "    </tr>\n",
       "    <tr>\n",
       "      <th>4</th>\n",
       "      <td>77</td>\n",
       "      <td>-0.158221</td>\n",
       "      <td>0</td>\n",
       "      <td>-0.158221</td>\n",
       "      <td>-0.158221</td>\n",
       "      <td>0</td>\n",
       "      <td>1</td>\n",
       "      <td>2</td>\n",
       "      <td>1</td>\n",
       "      <td>0</td>\n",
       "      <td>42</td>\n",
       "      <td>513</td>\n",
       "      <td>15.024471</td>\n",
       "    </tr>\n",
       "  </tbody>\n",
       "</table>\n",
       "</div>"
      ],
      "text/plain": [
       "   City      Year  Shell    Volume   Mileage  Transmission  Rudder  Gear  \\\n",
       "0   161 -0.326838      0 -0.326838 -0.326838             2       0     2   \n",
       "1   113  1.808978     11  1.808978  1.808978             0       0     1   \n",
       "2   146 -1.001306     14 -1.001306 -1.001306             2       0     0   \n",
       "3    15  2.820681     11  2.820681  2.820681             4       0     1   \n",
       "4    77 -0.158221      0 -0.158221 -0.158221             0       1     2   \n",
       "\n",
       "   CustomsCleared  Type Engine  Company  Model      Price  \n",
       "0               0            0       11    495  14.880221  \n",
       "1               0            0       34    197  15.967273  \n",
       "2               0            4       60    417  13.910821  \n",
       "3               0            0       59    202  16.240313  \n",
       "4               1            0       42    513  15.024471  "
      ]
     },
     "execution_count": 20,
     "metadata": {},
     "output_type": "execute_result"
    }
   ],
   "source": [
    "data.head()"
   ]
  },
  {
   "cell_type": "code",
   "execution_count": 14,
   "metadata": {},
   "outputs": [
    {
     "data": {
      "text/plain": [
       "array([[ 0.02258166],\n",
       "       [ 1.37355962],\n",
       "       [-1.18218078],\n",
       "       ...,\n",
       "       [-0.79672298],\n",
       "       [ 0.18316486],\n",
       "       [-0.88246671]])"
      ]
     },
     "execution_count": 14,
     "metadata": {},
     "output_type": "execute_result"
    }
   ],
   "source": [
    "# If we used StandardScaler\n",
    "c = StandardScaler()\n",
    "c.fit_transform(np.array(data['Price']).reshape(-1,1))"
   ]
  },
  {
   "cell_type": "markdown",
   "metadata": {},
   "source": [
    "## Data split"
   ]
  },
  {
   "cell_type": "code",
   "execution_count": 15,
   "metadata": {},
   "outputs": [],
   "source": [
    "X = np.array(data.drop(['Price'],axis=1))\n",
    "y = np.array(data['Price'])"
   ]
  },
  {
   "cell_type": "code",
   "execution_count": 16,
   "metadata": {},
   "outputs": [],
   "source": [
    "X_train,X_test,y_train,y_test=train_test_split(X,y,train_size=0.8,test_size=0.2,random_state=0)"
   ]
  },
  {
   "cell_type": "markdown",
   "metadata": {},
   "source": [
    "Perhaps, during predictions our model will get negative values,so to prevent it,we need to create a specific function,that would remove all negative values"
   ]
  },
  {
   "cell_type": "code",
   "execution_count": 17,
   "metadata": {},
   "outputs": [],
   "source": [
    "# function that removes all negative predictions\n",
    "def remove_neg(y_test, pred):\n",
    "    indexes = [index for index in range(len(pred)) if(pred[index] > 0)]\n",
    "    pred = pred[indexes]\n",
    "    y_test = y_test[indexes]\n",
    "    pred[pred < 0]\n",
    "    return (y_test, pred)"
   ]
  },
  {
   "cell_type": "code",
   "execution_count": 18,
   "metadata": {},
   "outputs": [],
   "source": [
    "# function for evaluating our models. Returns MSE, Root MSE, R2 score, and R2 score in %\n",
    "def result(y_test,pred):\n",
    "    result=[]\n",
    "    result.append(mean_squared_log_error(y_test, pred))\n",
    "    result.append(np.sqrt(result[0]))\n",
    "    result.append(r2_score(y_test,pred))\n",
    "    result.append(round(r2_score(y_test,pred)*100,4))\n",
    "    result.append(mean_absolute_error(y_test,pred))\n",
    "    return (result)"
   ]
  },
  {
   "cell_type": "markdown",
   "metadata": {},
   "source": [
    "## Model preparing"
   ]
  },
  {
   "cell_type": "markdown",
   "metadata": {},
   "source": [
    "As we need to predict price we are going to use regression algoritms.We selected the some of the regression models such as:"
   ]
  },
  {
   "cell_type": "markdown",
   "metadata": {},
   "source": [
    "* Linear Regression\n",
    "* KNN\n",
    "* Random Forest Regressor\n",
    "* Decision Tree Regressor\n",
    "* Multiple Linear Regression\n",
    "* Lasso Regression\n",
    "* Bagging Regression"
   ]
  },
  {
   "cell_type": "code",
   "execution_count": 19,
   "metadata": {},
   "outputs": [],
   "source": [
    "# Libraries import\n",
    "from sklearn.linear_model import LinearRegression\n",
    "from sklearn.neighbors import KNeighborsRegressor\n",
    "from sklearn.ensemble import RandomForestRegressor\n",
    "from sklearn.tree import DecisionTreeRegressor\n",
    "\n",
    "from sklearn.linear_model import LassoCV\n",
    "\n",
    "from sklearn.model_selection import GridSearchCV"
   ]
  },
  {
   "cell_type": "markdown",
   "metadata": {},
   "source": [
    "### Linear Regression"
   ]
  },
  {
   "cell_type": "code",
   "execution_count": 130,
   "metadata": {},
   "outputs": [],
   "source": [
    "# Model fitting\n",
    "linReg = LinearRegression()\n",
    "linReg.fit(X_train,y_train)\n",
    "linReg_pred = linReg.predict(X_test)"
   ]
  },
  {
   "cell_type": "markdown",
   "metadata": {},
   "source": [
    "#### Feature selection"
   ]
  },
  {
   "cell_type": "code",
   "execution_count": 136,
   "metadata": {},
   "outputs": [
    {
     "data": {
      "text/plain": [
       "LassoCV(alphas=None, copy_X=True, cv=10, eps=0.001, fit_intercept=True,\n",
       "        max_iter=1000, n_alphas=100, n_jobs=None, normalize=False,\n",
       "        positive=False, precompute='auto', random_state=None,\n",
       "        selection='cyclic', tol=0.0001, verbose=False)"
      ]
     },
     "execution_count": 136,
     "metadata": {},
     "output_type": "execute_result"
    }
   ],
   "source": [
    "# Feature selection\n",
    "# Embedded method with LassoCV\n",
    "lin_lassoCV = LassoCV(cv=10)\n",
    "lin_lassoCV.fit(X,y)"
   ]
  },
  {
   "cell_type": "code",
   "execution_count": 137,
   "metadata": {},
   "outputs": [
    {
     "name": "stdout",
     "output_type": "stream",
     "text": [
      "Best alpha using sklearn built-in LassoCV method is: 0.059272\n",
      "Best score using sklearn built-in LassoCV method is : 0.837921\n",
      "Lasso picked 8 variables and eliminated the other 4 variables\n"
     ]
    }
   ],
   "source": [
    "print(\"Best alpha using sklearn built-in LassoCV method is: %f\" % lin_lassoCV.alpha_)\n",
    "print(\"Best score using sklearn built-in LassoCV method is : %f\" % lin_lassoCV.score(X,y))\n",
    "\n",
    "coef = pd.Series(lin_lassoCV.coef_, index = data.drop('Price',axis=1).columns)\n",
    "\n",
    "print(\"Lasso picked \" + str(sum(coef != 0)) + \" variables and eliminated the other \" +  str(sum(coef == 0)) + \" variables\")"
   ]
  },
  {
   "cell_type": "code",
   "execution_count": 138,
   "metadata": {},
   "outputs": [
    {
     "data": {
      "text/plain": [
       "Text(0.5, 1.0, 'Feature importance using LassoCV Model')"
      ]
     },
     "execution_count": 138,
     "metadata": {},
     "output_type": "execute_result"
    },
    {
     "data": {
      "image/png": "[encoded data removed]",
      "text/plain": [
       "<Figure size 1080x720 with 1 Axes>"
      ]
     },
     "metadata": {
      "needs_background": "light"
     },
     "output_type": "display_data"
    }
   ],
   "source": [
    "imp_coef = coef.sort_values()\n",
    "import matplotlib\n",
    "matplotlib.rcParams['figure.figsize'] = (15.0, 10.0)\n",
    "imp_coef.plot(kind = \"barh\")\n",
    "plt.title(\"Feature importance using LassoCV Model\")"
   ]
  },
  {
   "cell_type": "code",
   "execution_count": 135,
   "metadata": {},
   "outputs": [
    {
     "data": {
      "text/plain": [
       "Transmission     -9.815792e-03\n",
       "Shell            -6.825976e-03\n",
       "Company          -1.287875e-03\n",
       "City             -1.687733e-04\n",
       "Rudder            0.000000e+00\n",
       "Gear              0.000000e+00\n",
       "CustomsCleared   -0.000000e+00\n",
       "Type Engine       0.000000e+00\n",
       "Mileage           1.771099e-17\n",
       "Model             2.872859e-04\n",
       "Volume            4.111766e-03\n",
       "Year              6.359698e-01\n",
       "dtype: float64"
      ]
     },
     "execution_count": 135,
     "metadata": {},
     "output_type": "execute_result"
    }
   ],
   "source": [
    "imp_coef"
   ]
  },
  {
   "cell_type": "code",
   "execution_count": 157,
   "metadata": {},
   "outputs": [
    {
     "name": "stdout",
     "output_type": "stream",
     "text": [
      "1 Year True 1\n",
      "3 Volume True 1\n",
      "4 Mileage True 1\n",
      "6 Rudder True 1\n",
      "Num Features: 4\n",
      "Selected Features: [False  True False  True  True False  True False False False False False]\n",
      "Feature Ranking: [9 1 6 1 1 3 1 4 2 5 7 8]\n"
     ]
    }
   ],
   "source": [
    "# Feature selection \n",
    "# Recursive Feature Elimination\n",
    "\n",
    "from sklearn.feature_selection import RFE\n",
    "\n",
    "rfe = RFE(linReg, 4)\n",
    "fit = rfe.fit(X, y)\n",
    "\n",
    "for i in range(len(data.columns.values) - 1):\n",
    "    if(fit.support_[i] == True):\n",
    "        print(i, data.columns.values[i],fit.support_[i],fit.ranking_[i])\n",
    "\n",
    "print(\"Num Features: %d\" % fit.n_features_)\n",
    "print(\"Selected Features: %s\" % fit.support_)\n",
    "print(\"Feature Ranking: %s\" % fit.ranking_)"
   ]
  },
  {
   "cell_type": "markdown",
   "metadata": {},
   "source": [
    "Two different methodics give as slightly different results,but as we can see, in the both of them there're Year,Mileage and Volume as the features with the highest coefficients or importance"
   ]
  },
  {
   "cell_type": "code",
   "execution_count": 158,
   "metadata": {},
   "outputs": [],
   "source": [
    "lin_X = np.array(data[['Year','Volume','Mileage']])\n",
    "lin_X_train,lin_X_test,lin_y_train,lin_y_test=train_test_split(lin_X,y,train_size=0.8,test_size=0.2,random_state=0)"
   ]
  },
  {
   "cell_type": "markdown",
   "metadata": {},
   "source": [
    "#### Cross Validation and Grid Search for hyperparameter tuning"
   ]
  },
  {
   "cell_type": "markdown",
   "metadata": {},
   "source": [
    "Since we used simple model of Linear Regression we didn't need to perform any hyperparameters tuning"
   ]
  },
  {
   "cell_type": "code",
   "execution_count": 161,
   "metadata": {},
   "outputs": [
    {
     "data": {
      "text/plain": [
       "0.0954475566255381"
      ]
     },
     "execution_count": 161,
     "metadata": {},
     "output_type": "execute_result"
    }
   ],
   "source": [
    "linReg.fit(lin_X_train,lin_y_train)\n",
    "linReg.predict(lin_X_test)\n",
    "\n",
    "from sklearn.model_selection import cross_val_score\n",
    "lin_score = cross_val_score(linReg,lin_X_test,lin_y_test,cv=10,scoring='neg_mean_squared_error')\n",
    "-lin_score.mean()"
   ]
  },
  {
   "cell_type": "markdown",
   "metadata": {},
   "source": [
    "### Regularization: Lasso and Ridge Regressions "
   ]
  },
  {
   "cell_type": "markdown",
   "metadata": {},
   "source": [
    "**Lasso Regression** (Least Absolute Shrinkage and Selection Operatior) is a modification of linear regression, but in Lasso the lost function is modified to minimize the complexity of the model by limiting the sum of the absolute values of the model coefficients(also called as the l1-norm)\n",
    "\n",
    "**Ridge Regression** is also an extension of linear ,but within the Ridge loss function is modified to minimize the complexity of the model. This modification is done by adding a penalty parameter that is equivalent to the square of the magnitude of the coefficients.Also known as l2-norm\n",
    "\n",
    "As the Ridge and Lasso are modifications of Linear so we can use the same feautures for training these models.\n",
    "\n",
    "Lasso works better when we need have more features and we need to make our model simpler and interpretable,but it's not good decision if our features have high correlation and vice cetera \n",
    "Ridge works better when we have less features or when we have features with high correlation ,but otherwise, in most cases, should be avoided due to higher complexity and lower interpretability(which is really important for practical data evaluation).\n",
    "\n",
    "For our case, most preferably to use Ridge Regression Model,but just for experiment,we explored and Lasso too."
   ]
  },
  {
   "cell_type": "code",
   "execution_count": 126,
   "metadata": {},
   "outputs": [],
   "source": [
    "alpha = [np.around(0.1**i,i) for i in range(10)]"
   ]
  },
  {
   "cell_type": "code",
   "execution_count": 129,
   "metadata": {},
   "outputs": [
    {
     "data": {
      "text/plain": [
       "[1.0,\n",
       " 0.1,\n",
       " 0.01,\n",
       " 0.001,\n",
       " 0.0001,\n",
       " 1e-05,\n",
       " 1e-06,\n",
       " 1e-07,\n",
       " 1e-08,\n",
       " 1e-09,\n",
       " 1,\n",
       " 2,\n",
       " 3,\n",
       " 4,\n",
       " 5,\n",
       " 10,\n",
       " 20,\n",
       " 30,\n",
       " 40,\n",
       " 50]"
      ]
     },
     "execution_count": 129,
     "metadata": {},
     "output_type": "execute_result"
    }
   ],
   "source": [
    "alpha_values = alpha + [1,2,3,4,5,10,20,30,40,50]\n",
    "alpha_values"
   ]
  },
  {
   "cell_type": "code",
   "execution_count": 164,
   "metadata": {},
   "outputs": [],
   "source": [
    "from sklearn.linear_model import Ridge, Lasso\n",
    "grid_lasso = GridSearchCV(estimator = Lasso(), param_grid = {'alpha':alpha_values},cv=10,scoring='neg_mean_squared_error')"
   ]
  },
  {
   "cell_type": "code",
   "execution_count": 165,
   "metadata": {},
   "outputs": [
    {
     "data": {
      "text/plain": [
       "GridSearchCV(cv=10, error_score=nan,\n",
       "             estimator=Lasso(alpha=1.0, copy_X=True, fit_intercept=True,\n",
       "                             max_iter=1000, normalize=False, positive=False,\n",
       "                             precompute=False, random_state=None,\n",
       "                             selection='cyclic', tol=0.0001, warm_start=False),\n",
       "             iid='deprecated', n_jobs=None,\n",
       "             param_grid={'alpha': [1.0, 0.1, 0.01, 0.001, 0.0001, 1e-05, 1e-06,\n",
       "                                   1e-07, 1e-08, 1e-09, 1, 2, 3, 4, 5, 10, 20,\n",
       "                                   30, 40, 50]},\n",
       "             pre_dispatch='2*n_jobs', refit=True, return_train_score=False,\n",
       "             scoring='neg_mean_squared_error', verbose=0)"
      ]
     },
     "execution_count": 165,
     "metadata": {},
     "output_type": "execute_result"
    }
   ],
   "source": [
    "grid_lasso.fit(lin_X,y)"
   ]
  },
  {
   "cell_type": "code",
   "execution_count": 166,
   "metadata": {},
   "outputs": [
    {
     "data": {
      "text/plain": [
       "Lasso(alpha=1e-09, copy_X=True, fit_intercept=True, max_iter=1000,\n",
       "      normalize=False, positive=False, precompute=False, random_state=None,\n",
       "      selection='cyclic', tol=0.0001, warm_start=False)"
      ]
     },
     "execution_count": 166,
     "metadata": {},
     "output_type": "execute_result"
    }
   ],
   "source": [
    "grid_lasso.best_estimator_"
   ]
  },
  {
   "cell_type": "code",
   "execution_count": 177,
   "metadata": {},
   "outputs": [],
   "source": [
    "lasso_score = -grid_lasso.best_score_"
   ]
  },
  {
   "cell_type": "code",
   "execution_count": 172,
   "metadata": {},
   "outputs": [],
   "source": [
    "grid_ridge = GridSearchCV(estimator = Ridge(), param_grid = {'alpha':alpha_values},cv=10,scoring='neg_mean_squared_error')"
   ]
  },
  {
   "cell_type": "code",
   "execution_count": 173,
   "metadata": {},
   "outputs": [
    {
     "data": {
      "text/plain": [
       "GridSearchCV(cv=10, error_score=nan,\n",
       "             estimator=Ridge(alpha=1.0, copy_X=True, fit_intercept=True,\n",
       "                             max_iter=None, normalize=False, random_state=None,\n",
       "                             solver='auto', tol=0.001),\n",
       "             iid='deprecated', n_jobs=None,\n",
       "             param_grid={'alpha': [1.0, 0.1, 0.01, 0.001, 0.0001, 1e-05, 1e-06,\n",
       "                                   1e-07, 1e-08, 1e-09, 1, 2, 3, 4, 5, 10, 20,\n",
       "                                   30, 40, 50]},\n",
       "             pre_dispatch='2*n_jobs', refit=True, return_train_score=False,\n",
       "             scoring='neg_mean_squared_error', verbose=0)"
      ]
     },
     "execution_count": 173,
     "metadata": {},
     "output_type": "execute_result"
    }
   ],
   "source": [
    "grid_ridge.fit(lin_X,y)"
   ]
  },
  {
   "cell_type": "code",
   "execution_count": 174,
   "metadata": {},
   "outputs": [
    {
     "data": {
      "text/plain": [
       "Ridge(alpha=20, copy_X=True, fit_intercept=True, max_iter=None, normalize=False,\n",
       "      random_state=None, solver='auto', tol=0.001)"
      ]
     },
     "execution_count": 174,
     "metadata": {},
     "output_type": "execute_result"
    }
   ],
   "source": [
    "grid_ridge.best_estimator_"
   ]
  },
  {
   "cell_type": "code",
   "execution_count": 178,
   "metadata": {},
   "outputs": [],
   "source": [
    "ridge_score = -grid_ridge.best_score_"
   ]
  },
  {
   "cell_type": "code",
   "execution_count": 179,
   "metadata": {},
   "outputs": [
    {
     "data": {
      "text/plain": [
       "True"
      ]
     },
     "execution_count": 179,
     "metadata": {},
     "output_type": "execute_result"
    }
   ],
   "source": [
    "lasso_score > ridge_score"
   ]
  },
  {
   "cell_type": "markdown",
   "metadata": {},
   "source": [
    "Ridge is smaller than lasso,what means,that Ridge has better score"
   ]
  },
  {
   "cell_type": "markdown",
   "metadata": {},
   "source": [
    "### KNN"
   ]
  },
  {
   "cell_type": "code",
   "execution_count": 185,
   "metadata": {},
   "outputs": [],
   "source": [
    "knn = KNeighborsRegressor()\n",
    "knn.fit(X_train, y_train)\n",
    "knn_pred = knn.predict(X_test)"
   ]
  },
  {
   "cell_type": "code",
   "execution_count": 186,
   "metadata": {},
   "outputs": [
    {
     "data": {
      "text/plain": [
       "LassoCV(alphas=None, copy_X=True, cv=None, eps=0.001, fit_intercept=True,\n",
       "        max_iter=1000, n_alphas=100, n_jobs=None, normalize=False,\n",
       "        positive=False, precompute='auto', random_state=None,\n",
       "        selection='cyclic', tol=0.0001, verbose=False)"
      ]
     },
     "execution_count": 186,
     "metadata": {},
     "output_type": "execute_result"
    }
   ],
   "source": [
    "# Feature selection\n",
    "# Embedded method with LassoCV\n",
    "knn_lassoCV = LassoCV()\n",
    "knn_lassoCV.fit(X,y)"
   ]
  },
  {
   "cell_type": "code",
   "execution_count": 187,
   "metadata": {},
   "outputs": [
    {
     "name": "stdout",
     "output_type": "stream",
     "text": [
      "Best alpha using sklearn built-in LassoCV method is: 0.059272\n",
      "Best score using sklearn built-in LassoCV method is : 0.837921\n",
      "Lasso picked 8 variables and eliminated the other 4 variables\n"
     ]
    }
   ],
   "source": [
    "print(\"Best alpha using sklearn built-in LassoCV method is: %f\" % knn_lassoCV.alpha_)\n",
    "print(\"Best score using sklearn built-in LassoCV method is : %f\" % knn_lassoCV.score(X,y))\n",
    "\n",
    "coef = pd.Series(knn_lassoCV.coef_, index = data.drop('Price',axis=1).columns)\n",
    "\n",
    "print(\"Lasso picked \" + str(sum(coef != 0)) + \" variables and eliminated the other \" +  str(sum(coef == 0)) + \" variables\")"
   ]
  },
  {
   "cell_type": "code",
   "execution_count": 188,
   "metadata": {},
   "outputs": [
    {
     "data": {
      "text/plain": [
       "Text(0.5, 1.0, 'Feature importance using LassoCV Model')"
      ]
     },
     "execution_count": 188,
     "metadata": {},
     "output_type": "execute_result"
    },
    {
     "data": {
      "image/png": "[encoded data removed]",
      "text/plain": [
       "<Figure size 1080x720 with 1 Axes>"
      ]
     },
     "metadata": {
      "needs_background": "light"
     },
     "output_type": "display_data"
    }
   ],
   "source": [
    "imp_coef = coef.sort_values()\n",
    "import matplotlib\n",
    "matplotlib.rcParams['figure.figsize'] = (15.0, 10.0)\n",
    "imp_coef.plot(kind = \"barh\")\n",
    "plt.title(\"Feature importance using LassoCV Model\")"
   ]
  },
  {
   "cell_type": "code",
   "execution_count": 111,
   "metadata": {},
   "outputs": [
    {
     "data": {
      "text/plain": [
       "Transmission     -9.815792e-03\n",
       "Shell            -6.825976e-03\n",
       "Company          -1.287875e-03\n",
       "City             -1.687733e-04\n",
       "Rudder            0.000000e+00\n",
       "Gear              0.000000e+00\n",
       "CustomsCleared   -0.000000e+00\n",
       "Type Engine       0.000000e+00\n",
       "Mileage           1.771099e-17\n",
       "Model             2.872859e-04\n",
       "Volume            4.111766e-03\n",
       "Year              6.359698e-01\n",
       "dtype: float64"
      ]
     },
     "execution_count": 111,
     "metadata": {},
     "output_type": "execute_result"
    }
   ],
   "source": [
    "imp_coef"
   ]
  },
  {
   "cell_type": "code",
   "execution_count": 189,
   "metadata": {},
   "outputs": [],
   "source": [
    "# Model fitting\n",
    "cv_n_neighbors = list(range(1,31))\n",
    "params_knn = {\n",
    "    'n_neighbors' : cv_n_neighbors\n",
    "}\n",
    "\n",
    "grid_knn = GridSearchCV(estimator = KNeighborsRegressor(), param_grid = params_knn,cv=10,scoring='neg_mean_squared_error')"
   ]
  },
  {
   "cell_type": "code",
   "execution_count": 190,
   "metadata": {},
   "outputs": [
    {
     "data": {
      "text/plain": [
       "GridSearchCV(cv=10, error_score=nan,\n",
       "             estimator=KNeighborsRegressor(algorithm='auto', leaf_size=30,\n",
       "                                           metric='minkowski',\n",
       "                                           metric_params=None, n_jobs=None,\n",
       "                                           n_neighbors=5, p=2,\n",
       "                                           weights='uniform'),\n",
       "             iid='deprecated', n_jobs=None,\n",
       "             param_grid={'n_neighbors': [1, 2, 3, 4, 5, 6, 7, 8, 9, 10, 11, 12,\n",
       "                                         13, 14, 15, 16, 17, 18, 19, 20, 21, 22,\n",
       "                                         23, 24, 25, 26, 27, 28, 29, 30]},\n",
       "             pre_dispatch='2*n_jobs', refit=True, return_train_score=False,\n",
       "             scoring='neg_mean_squared_error', verbose=0)"
      ]
     },
     "execution_count": 190,
     "metadata": {},
     "output_type": "execute_result"
    }
   ],
   "source": [
    "grid_knn.fit(X,y)"
   ]
  },
  {
   "cell_type": "code",
   "execution_count": 191,
   "metadata": {},
   "outputs": [
    {
     "data": {
      "text/plain": [
       "KNeighborsRegressor(algorithm='auto', leaf_size=30, metric='minkowski',\n",
       "                    metric_params=None, n_jobs=None, n_neighbors=2, p=2,\n",
       "                    weights='uniform')"
      ]
     },
     "execution_count": 191,
     "metadata": {},
     "output_type": "execute_result"
    }
   ],
   "source": [
    "grid_knn.best_estimator_"
   ]
  },
  {
   "cell_type": "code",
   "execution_count": 192,
   "metadata": {},
   "outputs": [
    {
     "data": {
      "text/plain": [
       "0.17285939850171642"
      ]
     },
     "execution_count": 192,
     "metadata": {},
     "output_type": "execute_result"
    }
   ],
   "source": [
    "knn_score = -grid_knn.best_score_\n",
    "knn_score"
   ]
  },
  {
   "cell_type": "markdown",
   "metadata": {},
   "source": [
    "### Random Forest Tree"
   ]
  },
  {
   "cell_type": "code",
   "execution_count": 20,
   "metadata": {},
   "outputs": [
    {
     "data": {
      "text/plain": [
       "array([15.83041358, 14.84512998, 14.64841968, ..., 15.52025865,\n",
       "       13.81551055, 14.15198279])"
      ]
     },
     "execution_count": 20,
     "metadata": {},
     "output_type": "execute_result"
    }
   ],
   "source": [
    "rft = RandomForestRegressor()\n",
    "rft.fit(X_train,y_train)\n",
    "rft.predict(X_test)"
   ]
  },
  {
   "cell_type": "code",
   "execution_count": 21,
   "metadata": {},
   "outputs": [],
   "source": [
    "# Creating a DataFrame of feature importance for each feature\n",
    "rft_feature_importance = pd.DataFrame(rft.feature_importances_, index=data.drop('Price',axis=1).columns.values,columns=['feature importance']).sort_values('feature importance', ascending=True)"
   ]
  },
  {
   "cell_type": "code",
   "execution_count": 195,
   "metadata": {},
   "outputs": [
    {
     "data": {
      "text/plain": [
       "<matplotlib.axes._subplots.AxesSubplot at 0x7f68a95a3b50>"
      ]
     },
     "execution_count": 195,
     "metadata": {},
     "output_type": "execute_result"
    },
    {
     "data": {
      "image/png": "[encoded data removed]",
      "text/plain": [
       "<Figure size 720x720 with 1 Axes>"
      ]
     },
     "metadata": {
      "needs_background": "light"
     },
     "output_type": "display_data"
    }
   ],
   "source": [
    "rft_feature_importance.plot(kind='barh',figsize=(10,10))"
   ]
  },
  {
   "cell_type": "code",
   "execution_count": 196,
   "metadata": {},
   "outputs": [
    {
     "data": {
      "text/html": [
       "<div>\n",
       "<style scoped>\n",
       "    .dataframe tbody tr th:only-of-type {\n",
       "        vertical-align: middle;\n",
       "    }\n",
       "\n",
       "    .dataframe tbody tr th {\n",
       "        vertical-align: top;\n",
       "    }\n",
       "\n",
       "    .dataframe thead th {\n",
       "        text-align: right;\n",
       "    }\n",
       "</style>\n",
       "<table border=\"1\" class=\"dataframe\">\n",
       "  <thead>\n",
       "    <tr style=\"text-align: right;\">\n",
       "      <th></th>\n",
       "      <th>feature importance</th>\n",
       "    </tr>\n",
       "  </thead>\n",
       "  <tbody>\n",
       "    <tr>\n",
       "      <th>Type Engine</th>\n",
       "      <td>8.529007e-09</td>\n",
       "    </tr>\n",
       "    <tr>\n",
       "      <th>Rudder</th>\n",
       "      <td>1.229932e-08</td>\n",
       "    </tr>\n",
       "    <tr>\n",
       "      <th>Transmission</th>\n",
       "      <td>1.793319e-08</td>\n",
       "    </tr>\n",
       "    <tr>\n",
       "      <th>CustomsCleared</th>\n",
       "      <td>4.193430e-07</td>\n",
       "    </tr>\n",
       "    <tr>\n",
       "      <th>City</th>\n",
       "      <td>1.705956e-05</td>\n",
       "    </tr>\n",
       "    <tr>\n",
       "      <th>Shell</th>\n",
       "      <td>3.032912e-05</td>\n",
       "    </tr>\n",
       "    <tr>\n",
       "      <th>Model</th>\n",
       "      <td>3.174158e-05</td>\n",
       "    </tr>\n",
       "    <tr>\n",
       "      <th>Company</th>\n",
       "      <td>3.408634e-05</td>\n",
       "    </tr>\n",
       "    <tr>\n",
       "      <th>Gear</th>\n",
       "      <td>3.514313e-05</td>\n",
       "    </tr>\n",
       "    <tr>\n",
       "      <th>Year</th>\n",
       "      <td>2.854303e-01</td>\n",
       "    </tr>\n",
       "    <tr>\n",
       "      <th>Mileage</th>\n",
       "      <td>3.566202e-01</td>\n",
       "    </tr>\n",
       "    <tr>\n",
       "      <th>Volume</th>\n",
       "      <td>3.578007e-01</td>\n",
       "    </tr>\n",
       "  </tbody>\n",
       "</table>\n",
       "</div>"
      ],
      "text/plain": [
       "                feature importance\n",
       "Type Engine           8.529007e-09\n",
       "Rudder                1.229932e-08\n",
       "Transmission          1.793319e-08\n",
       "CustomsCleared        4.193430e-07\n",
       "City                  1.705956e-05\n",
       "Shell                 3.032912e-05\n",
       "Model                 3.174158e-05\n",
       "Company               3.408634e-05\n",
       "Gear                  3.514313e-05\n",
       "Year                  2.854303e-01\n",
       "Mileage               3.566202e-01\n",
       "Volume                3.578007e-01"
      ]
     },
     "execution_count": 196,
     "metadata": {},
     "output_type": "execute_result"
    }
   ],
   "source": [
    "# The lower importance the better it is\n",
    "rft_feature_importance"
   ]
  },
  {
   "cell_type": "code",
   "execution_count": 22,
   "metadata": {},
   "outputs": [],
   "source": [
    "rft_X = np.array(data[['Year','Volume','Mileage']])\n",
    "rft_X_train,rft_X_test,rft_y_train,rft_y_test=train_test_split(rft_X,y,train_size=0.8,test_size=0.2,random_state=0)"
   ]
  },
  {
   "cell_type": "code",
   "execution_count": 23,
   "metadata": {},
   "outputs": [],
   "source": [
    "# Model fitting\n",
    "cv_n_estimators = list(range(100,500,100))\n",
    "cv_random_state = list(range(1,5))\n",
    "cv_min_samples_leaf = list(range(1,10))\n",
    "cv_oob_score = [True, False]\n",
    "max_depth=list(range(1,9))\n",
    "params_rfr = {\n",
    "    'n_estimators' : cv_n_estimators,\n",
    "    'random_state': cv_random_state,\n",
    "    'min_samples_leaf': cv_min_samples_leaf,\n",
    "    'oob_score': cv_oob_score,\n",
    "    'max_depth':max_depth\n",
    "}\n",
    "\n",
    "grid_rft = GridSearchCV(estimator = RandomForestRegressor(), param_grid = params_rfr,cv=10,n_jobs=-1)"
   ]
  },
  {
   "cell_type": "code",
   "execution_count": 24,
   "metadata": {},
   "outputs": [
    {
     "data": {
      "text/plain": [
       "GridSearchCV(cv=10, estimator=RandomForestRegressor(), n_jobs=-1,\n",
       "             param_grid={'max_depth': [1, 2, 3, 4, 5, 6, 7, 8],\n",
       "                         'min_samples_leaf': [1, 2, 3, 4, 5, 6, 7, 8, 9],\n",
       "                         'n_estimators': [100, 200, 300, 400],\n",
       "                         'oob_score': [True, False],\n",
       "                         'random_state': [1, 2, 3, 4]})"
      ]
     },
     "execution_count": 24,
     "metadata": {},
     "output_type": "execute_result"
    }
   ],
   "source": [
    "grid_rft.fit(rft_X,y)"
   ]
  },
  {
   "cell_type": "code",
   "execution_count": 25,
   "metadata": {},
   "outputs": [
    {
     "data": {
      "text/plain": [
       "RandomForestRegressor(max_depth=8, min_samples_leaf=2, n_estimators=200,\n",
       "                      oob_score=True, random_state=2)"
      ]
     },
     "execution_count": 25,
     "metadata": {},
     "output_type": "execute_result"
    }
   ],
   "source": [
    "grid_rft.best_estimator_"
   ]
  },
  {
   "cell_type": "code",
   "execution_count": 27,
   "metadata": {},
   "outputs": [],
   "source": [
    "rft_score = -grid_rft.score(rft_X_test,y_test)"
   ]
  },
  {
   "cell_type": "code",
   "execution_count": 28,
   "metadata": {},
   "outputs": [
    {
     "data": {
      "text/plain": [
       "-0.9999958178807911"
      ]
     },
     "execution_count": 28,
     "metadata": {},
     "output_type": "execute_result"
    }
   ],
   "source": [
    "rft_score"
   ]
  },
  {
   "cell_type": "code",
   "execution_count": 44,
   "metadata": {},
   "outputs": [
    {
     "data": {
      "text/plain": [
       "RandomForestRegressor(max_depth=8, min_samples_leaf=2, n_estimators=200,\n",
       "                      oob_score=True, random_state=2)"
      ]
     },
     "execution_count": 44,
     "metadata": {},
     "output_type": "execute_result"
    }
   ],
   "source": [
    "rft = RandomForestRegressor(max_depth=8, min_samples_leaf=2, n_estimators=200,\n",
    "                      oob_score=True, random_state=2)\n",
    "rft.fit(rft_X_train,rft_y_train)"
   ]
  },
  {
   "cell_type": "code",
   "execution_count": 45,
   "metadata": {},
   "outputs": [],
   "source": [
    "import pickle\n",
    "file = open('betaV1.pkl','wb')\n",
    "pickle.dump(rft,file)\n",
    "file.close()"
   ]
  },
  {
   "cell_type": "code",
   "execution_count": 50,
   "metadata": {},
   "outputs": [
    {
     "name": "stdout",
     "output_type": "stream",
     "text": [
      "2898986.0\n"
     ]
    }
   ],
   "source": [
    "model = pickle.load(open('betaV1.pkl','rb'))\n",
    "p = model.predict([[-0.326838,-0.326838,-0.326838]]\n",
    "#14.880221\n",
    "print(round(np.e**p[0]))"
   ]
  },
  {
   "cell_type": "markdown",
   "metadata": {},
   "source": [
    "### Decision Tree"
   ]
  },
  {
   "cell_type": "markdown",
   "metadata": {},
   "source": [
    "#### Feature selection"
   ]
  },
  {
   "cell_type": "markdown",
   "metadata": {},
   "source": [
    "Before training our model. We need to select hyperparameters,what means that we need to choose only those features,with biggest weights or importance in predicting. So that will help up avoid such problems as overfitting"
   ]
  },
  {
   "cell_type": "markdown",
   "metadata": {},
   "source": [
    "**Forward/Backward methods.** As the name suggest, we feed all the possible features to the model at first. We check the performance of the model and then iteratively remove the worst performing features one by one till the overall performance of the model comes in acceptable range."
   ]
  },
  {
   "cell_type": "code",
   "execution_count": 93,
   "metadata": {},
   "outputs": [],
   "source": [
    "# Feature selection\n",
    "# Forward/Backward Selection\n",
    "dtr = DecisionTreeRegressor(random_state=0)\n",
    "dtr.fit(X_train,y_train)\n",
    "dtr_pred = dtr.predict(X_test)"
   ]
  },
  {
   "cell_type": "code",
   "execution_count": 94,
   "metadata": {},
   "outputs": [],
   "source": [
    "# Creating a DataFrame of feature importance for each feature\n",
    "dtr_feature_importance = pd.DataFrame(dtr.feature_importances_, index=data.drop('Price',axis=1).columns.values,columns=['feature importance']).sort_values('feature importance', ascending=True)"
   ]
  },
  {
   "cell_type": "code",
   "execution_count": 95,
   "metadata": {},
   "outputs": [
    {
     "data": {
      "text/plain": [
       "<matplotlib.axes._subplots.AxesSubplot at 0x7f68e435f7d0>"
      ]
     },
     "execution_count": 95,
     "metadata": {},
     "output_type": "execute_result"
    },
    {
     "data": {
      "image/png": "[encoded data removed]",
      "text/plain": [
       "<Figure size 720x720 with 1 Axes>"
      ]
     },
     "metadata": {
      "needs_background": "light"
     },
     "output_type": "display_data"
    }
   ],
   "source": [
    "dtr_feature_importance.plot(kind='barh',figsize=(10,10))"
   ]
  },
  {
   "cell_type": "markdown",
   "metadata": {},
   "source": [
    "\n",
    "**Embedded methods** are iterative in a sense that takes care of each iteration of the model training process and carefully extract those features which contribute the most to the training for a particular iteration. Regularization methods are the most commonly used embedded methods which penalize a feature given a coefficient threshold."
   ]
  },
  {
   "cell_type": "code",
   "execution_count": 57,
   "metadata": {},
   "outputs": [
    {
     "data": {
      "text/plain": [
       "LassoCV(alphas=None, copy_X=True, cv=None, eps=0.001, fit_intercept=True,\n",
       "        max_iter=1000, n_alphas=100, n_jobs=None, normalize=False,\n",
       "        positive=False, precompute='auto', random_state=None,\n",
       "        selection='cyclic', tol=0.0001, verbose=False)"
      ]
     },
     "execution_count": 57,
     "metadata": {},
     "output_type": "execute_result"
    }
   ],
   "source": [
    "# Feature selection\n",
    "# Embedded method with LassoCV\n",
    "dtr_lassoCV = LassoCV()\n",
    "dtr_lassoCV.fit(X,y)"
   ]
  },
  {
   "cell_type": "code",
   "execution_count": 62,
   "metadata": {},
   "outputs": [
    {
     "name": "stdout",
     "output_type": "stream",
     "text": [
      "Best alpha using sklearn built-in LassoCV method is: 0.059272\n",
      "Best score using sklearn built-in LassoCV method is : 0.837921\n",
      "Lasso picked 8 variables and eliminated the other 4 variables\n"
     ]
    }
   ],
   "source": [
    "print(\"Best alpha using sklearn built-in LassoCV method is: %f\" % dtr_lassoCV.alpha_)\n",
    "print(\"Best score using sklearn built-in LassoCV method is : %f\" %dtr_lassoCV.score(X,y))\n",
    "\n",
    "coef = pd.Series(dtr_lassoCV.coef_, index = data.drop('Price',axis=1).columns)\n",
    "\n",
    "print(\"Lasso picked \" + str(sum(coef != 0)) + \" variables and eliminated the other \" +  str(sum(coef == 0)) + \" variables\")"
   ]
  },
  {
   "cell_type": "code",
   "execution_count": 71,
   "metadata": {
    "scrolled": true
   },
   "outputs": [
    {
     "data": {
      "text/plain": [
       "Text(0.5, 1.0, 'Feature importance using LassoCV Model')"
      ]
     },
     "execution_count": 71,
     "metadata": {},
     "output_type": "execute_result"
    },
    {
     "data": {
      "image/png": "[encoded data removed]",
      "text/plain": [
       "<Figure size 1080x720 with 1 Axes>"
      ]
     },
     "metadata": {
      "needs_background": "light"
     },
     "output_type": "display_data"
    }
   ],
   "source": [
    "imp_coef = coef.sort_values()\n",
    "import matplotlib\n",
    "matplotlib.rcParams['figure.figsize'] = (15.0, 10.0)\n",
    "imp_coef.plot(kind = \"barh\")\n",
    "plt.title(\"Feature importance using LassoCV Model\")"
   ]
  },
  {
   "cell_type": "code",
   "execution_count": 76,
   "metadata": {
    "scrolled": true
   },
   "outputs": [],
   "source": [
    "dtr_X = np.array(data[['Year','Volume','Mileage']])\n",
    "dtr_X_train,dtr_X_test,dtr_y_train,dtr_y_test=train_test_split(dtr_X,y,train_size=0.8,test_size=0.2,random_state=0)"
   ]
  },
  {
   "cell_type": "code",
   "execution_count": 77,
   "metadata": {},
   "outputs": [],
   "source": [
    "# Model fitting\n",
    "cv_random_state = list(range(1,50))\n",
    "cv_max_depth = list(range(1,6))\n",
    "cv_criterion = ['mse','mae','friedman_mse']\n",
    "\n",
    "params_dtr = {\n",
    "    \"criterion\":cv_criterion,\n",
    "    \"max_depth\":cv_max_depth,\n",
    "    \"random_state\":cv_random_state\n",
    "}\n",
    "\n",
    "grid_dtr = GridSearchCV(estimator = DecisionTreeRegressor(), param_grid = params_dtr,cv=10,scoring=\"neg_mean_squared_error\")"
   ]
  },
  {
   "cell_type": "code",
   "execution_count": 78,
   "metadata": {},
   "outputs": [
    {
     "data": {
      "text/plain": [
       "GridSearchCV(cv=10, error_score=nan,\n",
       "             estimator=DecisionTreeRegressor(ccp_alpha=0.0, criterion='mse',\n",
       "                                             max_depth=None, max_features=None,\n",
       "                                             max_leaf_nodes=None,\n",
       "                                             min_impurity_decrease=0.0,\n",
       "                                             min_impurity_split=None,\n",
       "                                             min_samples_leaf=1,\n",
       "                                             min_samples_split=2,\n",
       "                                             min_weight_fraction_leaf=0.0,\n",
       "                                             presort='deprecated',\n",
       "                                             random_state=None,\n",
       "                                             splitter='best'),\n",
       "             iid='deprecated', n_jobs=None,\n",
       "             param_grid={'criterion': ['mse', 'mae', 'friedman_mse'],\n",
       "                         'max_depth': [1, 2, 3, 4, 5],\n",
       "                         'random_state': [1, 2, 3, 4, 5, 6, 7, 8, 9, 10, 11, 12,\n",
       "                                          13, 14, 15, 16, 17, 18, 19, 20, 21,\n",
       "                                          22, 23, 24, 25, 26, 27, 28, 29, 30, ...]},\n",
       "             pre_dispatch='2*n_jobs', refit=True, return_train_score=False,\n",
       "             scoring='neg_mean_squared_error', verbose=0)"
      ]
     },
     "execution_count": 78,
     "metadata": {},
     "output_type": "execute_result"
    }
   ],
   "source": [
    "grid_dtr.fit(dtr_X,y)"
   ]
  },
  {
   "cell_type": "code",
   "execution_count": 96,
   "metadata": {},
   "outputs": [
    {
     "data": {
      "text/plain": [
       "DecisionTreeRegressor(ccp_alpha=0.0, criterion='mse', max_depth=5,\n",
       "                      max_features=None, max_leaf_nodes=None,\n",
       "                      min_impurity_decrease=0.0, min_impurity_split=None,\n",
       "                      min_samples_leaf=1, min_samples_split=2,\n",
       "                      min_weight_fraction_leaf=0.0, presort='deprecated',\n",
       "                      random_state=1, splitter='best')"
      ]
     },
     "execution_count": 96,
     "metadata": {},
     "output_type": "execute_result"
    }
   ],
   "source": [
    "# Print the best estimator\n",
    "grid_dtr.best_estimator_"
   ]
  },
  {
   "cell_type": "code",
   "execution_count": 182,
   "metadata": {},
   "outputs": [
    {
     "data": {
      "text/plain": [
       "0.0019182566489762934"
      ]
     },
     "execution_count": 182,
     "metadata": {},
     "output_type": "execute_result"
    }
   ],
   "source": [
    "# Print the best CV mean score\n",
    "# The less this parameter ,the more better this model\n",
    "dtr_score = -grid_dtr.best_score_\n",
    "dtr_score"
   ]
  },
  {
   "cell_type": "code",
   "execution_count": 87,
   "metadata": {},
   "outputs": [],
   "source": [
    "# Building a model according to the best_estimator parameters\n",
    "dtr = DecisionTreeRegressor(ccp_alpha=0.0, criterion='mse', max_depth=5,\n",
    "                      max_features=None, max_leaf_nodes=None,\n",
    "                      min_impurity_decrease=0.0, min_impurity_split=None,\n",
    "                      min_samples_leaf=1, min_samples_split=2,\n",
    "                      min_weight_fraction_leaf=0.0, presort='deprecated',\n",
    "                      random_state=1, splitter='best')\n",
    "dtr.fit(dtr_X_train,dtr_y_train)\n",
    "dtr_pred = dtr.predict(dtr_X_test)"
   ]
  },
  {
   "cell_type": "code",
   "execution_count": 91,
   "metadata": {},
   "outputs": [
    {
     "data": {
      "text/plain": [
       "0.9976185411796433"
      ]
     },
     "execution_count": 91,
     "metadata": {},
     "output_type": "execute_result"
    }
   ],
   "source": [
    "from sklearn.metrics import r2_score\n",
    "r2_score(dtr_y_test,dtr_pred)"
   ]
  },
  {
   "cell_type": "markdown",
   "metadata": {},
   "source": [
    "## Score evaluation"
   ]
  },
  {
   "cell_type": "code",
   "execution_count": null,
   "metadata": {},
   "outputs": [],
   "source": [
    "print('KNN score: ', knn_score)\n",
    "print('RidgeR score: ', ridge_score)\n",
    "print('LassoR score: ', lasso_score)\n",
    "print('LinearR score: ', linReg_score)\n",
    "print('DecTreeReg score: ', dtr_score)\n",
    "print('RandomForest score: ', rft_score)\n",
    "\n",
    "best_score = min([knn_score,ridge_score,lasso_score,linReg_score,dtr_score,rft_score])\n",
    "\n",
    "print('Best score: ', best_score)"
   ]
  }
 ],
 "metadata": {
  "kernelspec": {
   "display_name": "Python 3",
   "language": "python",
   "name": "python3"
  },
  "language_info": {
   "codemirror_mode": {
    "name": "ipython",
    "version": 3
   },
   "file_extension": ".py",
   "mimetype": "text/x-python",
   "name": "python",
   "nbconvert_exporter": "python",
   "pygments_lexer": "ipython3",
   "version": "3.8.3"
  }
 },
 "nbformat": 4,
 "nbformat_minor": 4
}
