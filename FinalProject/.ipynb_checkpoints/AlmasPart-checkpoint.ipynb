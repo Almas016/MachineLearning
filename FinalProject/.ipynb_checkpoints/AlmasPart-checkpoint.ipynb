{
 "cells": [
  {
   "cell_type": "code",
   "execution_count": 1,
   "metadata": {},
   "outputs": [],
   "source": [
    "#importing the libraries\n",
    "import pandas as pd\n",
    "import numpy as np\n",
    "\n",
    "import matplotlib.pyplot as plt\n",
    "import seaborn as sns"
   ]
  },
  {
   "cell_type": "markdown",
   "metadata": {},
   "source": [
    "# Reading and Understanding the Data"
   ]
  },
  {
   "cell_type": "code",
   "execution_count": 15,
   "metadata": {},
   "outputs": [
    {
     "data": {
      "text/html": [
       "<div>\n",
       "<style scoped>\n",
       "    .dataframe tbody tr th:only-of-type {\n",
       "        vertical-align: middle;\n",
       "    }\n",
       "\n",
       "    .dataframe tbody tr th {\n",
       "        vertical-align: top;\n",
       "    }\n",
       "\n",
       "    .dataframe thead th {\n",
       "        text-align: right;\n",
       "    }\n",
       "</style>\n",
       "<table border=\"1\" class=\"dataframe\">\n",
       "  <thead>\n",
       "    <tr style=\"text-align: right;\">\n",
       "      <th></th>\n",
       "      <th>#</th>\n",
       "      <th>City</th>\n",
       "      <th>Name</th>\n",
       "      <th>Year</th>\n",
       "      <th>Shell</th>\n",
       "      <th>Engine volume, L</th>\n",
       "      <th>Mileage</th>\n",
       "      <th>Transmission</th>\n",
       "      <th>Rudder</th>\n",
       "      <th>Color</th>\n",
       "      <th>Gear</th>\n",
       "      <th>CustomsCleared</th>\n",
       "      <th>Price</th>\n",
       "    </tr>\n",
       "  </thead>\n",
       "  <tbody>\n",
       "    <tr>\n",
       "      <th>0</th>\n",
       "      <td>1</td>\n",
       "      <td>Атырау</td>\n",
       "      <td>ChevroletDamas</td>\n",
       "      <td>2020</td>\n",
       "      <td>микровэн</td>\n",
       "      <td>0.8 (бензин)</td>\n",
       "      <td>NaN</td>\n",
       "      <td>механика</td>\n",
       "      <td>слева</td>\n",
       "      <td>NaN</td>\n",
       "      <td>задний привод</td>\n",
       "      <td>Да</td>\n",
       "      <td>3 299 000\\n    ₸</td>\n",
       "    </tr>\n",
       "    <tr>\n",
       "      <th>1</th>\n",
       "      <td>2</td>\n",
       "      <td>Атырау</td>\n",
       "      <td>ChevroletDamas</td>\n",
       "      <td>2020</td>\n",
       "      <td>микровэн</td>\n",
       "      <td>0.8 (бензин)</td>\n",
       "      <td>NaN</td>\n",
       "      <td>механика</td>\n",
       "      <td>слева</td>\n",
       "      <td>NaN</td>\n",
       "      <td>задний привод</td>\n",
       "      <td>Да</td>\n",
       "      <td>3 299 000\\n    ₸</td>\n",
       "    </tr>\n",
       "    <tr>\n",
       "      <th>2</th>\n",
       "      <td>3</td>\n",
       "      <td>Актобе</td>\n",
       "      <td>ToyotaAlphard</td>\n",
       "      <td>2006</td>\n",
       "      <td>минивэн</td>\n",
       "      <td>2.4 (газ-бензин)</td>\n",
       "      <td>NaN</td>\n",
       "      <td>типтроник</td>\n",
       "      <td>слева</td>\n",
       "      <td>NaN</td>\n",
       "      <td>NaN</td>\n",
       "      <td>Нет</td>\n",
       "      <td>3 950 000\\n    ₸</td>\n",
       "    </tr>\n",
       "    <tr>\n",
       "      <th>3</th>\n",
       "      <td>4</td>\n",
       "      <td>Актобе</td>\n",
       "      <td>ToyotaAlphard</td>\n",
       "      <td>2006</td>\n",
       "      <td>минивэн</td>\n",
       "      <td>2.4 (газ-бензин)</td>\n",
       "      <td>NaN</td>\n",
       "      <td>типтроник</td>\n",
       "      <td>слева</td>\n",
       "      <td>NaN</td>\n",
       "      <td>NaN</td>\n",
       "      <td>Нет</td>\n",
       "      <td>3 950 000\\n    ₸</td>\n",
       "    </tr>\n",
       "    <tr>\n",
       "      <th>4</th>\n",
       "      <td>5</td>\n",
       "      <td>Павлодар</td>\n",
       "      <td>JACJ7</td>\n",
       "      <td>2020</td>\n",
       "      <td>лифтбек</td>\n",
       "      <td>1.5 (бензин)</td>\n",
       "      <td>NaN</td>\n",
       "      <td>вариатор</td>\n",
       "      <td>слева</td>\n",
       "      <td>NaN</td>\n",
       "      <td>передний привод</td>\n",
       "      <td>Да</td>\n",
       "      <td>7 290 000\\n    ₸</td>\n",
       "    </tr>\n",
       "  </tbody>\n",
       "</table>\n",
       "</div>"
      ],
      "text/plain": [
       "   #      City            Name   Year     Shell  Engine volume, L Mileage  \\\n",
       "0  1    Атырау  ChevroletDamas   2020  микровэн      0.8 (бензин)     NaN   \n",
       "1  2    Атырау  ChevroletDamas   2020  микровэн      0.8 (бензин)     NaN   \n",
       "2  3    Актобе   ToyotaAlphard   2006   минивэн  2.4 (газ-бензин)     NaN   \n",
       "3  4    Актобе   ToyotaAlphard   2006   минивэн  2.4 (газ-бензин)     NaN   \n",
       "4  5  Павлодар           JACJ7   2020   лифтбек      1.5 (бензин)     NaN   \n",
       "\n",
       "  Transmission Rudder Color             Gear CustomsCleared             Price  \n",
       "0     механика  слева   NaN    задний привод             Да  3 299 000\\n    ₸  \n",
       "1     механика  слева   NaN    задний привод             Да  3 299 000\\n    ₸  \n",
       "2    типтроник  слева   NaN              NaN            Нет  3 950 000\\n    ₸  \n",
       "3    типтроник  слева   NaN              NaN            Нет  3 950 000\\n    ₸  \n",
       "4     вариатор  слева   NaN  передний привод             Да  7 290 000\\n    ₸  "
      ]
     },
     "execution_count": 15,
     "metadata": {},
     "output_type": "execute_result"
    }
   ],
   "source": [
    "data1 = pd.read_excel('result.xls')\n",
    "data2 = pd.read_excel('result (2).xls')\n",
    "data3 = pd.read_excel('result (3).xls')\n",
    "data4 = pd.read_excel('result (4).xls')\n",
    "data5 = pd.read_excel('result (5).xls')\n",
    "frames = [data1,data2,data3,data4,data5]\n",
    "data = pd.concat(frames)\n",
    "data"
   ]
  },
  {
   "cell_type": "code",
   "execution_count": 17,
   "metadata": {},
   "outputs": [
    {
     "name": "stdout",
     "output_type": "stream",
     "text": [
      "<class 'pandas.core.frame.DataFrame'>\n",
      "Int64Index: 94407 entries, 0 to 38356\n",
      "Data columns (total 13 columns):\n",
      " #   Column            Non-Null Count  Dtype \n",
      "---  ------            --------------  ----- \n",
      " 0   #                 94407 non-null  int64 \n",
      " 1   City              94407 non-null  object\n",
      " 2   Name              94407 non-null  object\n",
      " 3   Year              94407 non-null  object\n",
      " 4   Shell             94407 non-null  object\n",
      " 5   Engine volume, L  94353 non-null  object\n",
      " 6   Mileage           59385 non-null  object\n",
      " 7   Transmission      94407 non-null  object\n",
      " 8   Rudder            94407 non-null  object\n",
      " 9   Color             84287 non-null  object\n",
      " 10  Gear              83835 non-null  object\n",
      " 11  CustomsCleared    94407 non-null  object\n",
      " 12  Price             94407 non-null  object\n",
      "dtypes: int64(1), object(12)\n",
      "memory usage: 10.1+ MB\n"
     ]
    }
   ],
   "source": [
    "data.info()"
   ]
  },
  {
   "cell_type": "markdown",
   "metadata": {},
   "source": [
    "# Data Cleaning and Preparation"
   ]
  },
  {
   "cell_type": "code",
   "execution_count": 18,
   "metadata": {},
   "outputs": [
    {
     "data": {
      "text/plain": [
       "(27370, 12)"
      ]
     },
     "execution_count": 18,
     "metadata": {},
     "output_type": "execute_result"
    }
   ],
   "source": [
    "# Drop the # as it is of no use\n",
    "data.drop('#', axis = 1, inplace = True)\n",
    "\n",
    "data = data.drop_duplicates()\n",
    "data.shape"
   ]
  },
  {
   "cell_type": "code",
   "execution_count": 6,
   "metadata": {},
   "outputs": [
    {
     "name": "stdout",
     "output_type": "stream",
     "text": [
      "<class 'pandas.core.frame.DataFrame'>\n",
      "Int64Index: 27370 entries, 0 to 38356\n",
      "Data columns (total 12 columns):\n",
      " #   Column            Non-Null Count  Dtype \n",
      "---  ------            --------------  ----- \n",
      " 0   City              27370 non-null  object\n",
      " 1   Name              27370 non-null  object\n",
      " 2   Year              27370 non-null  object\n",
      " 3   Shell             27370 non-null  object\n",
      " 4   Engine volume, L  27357 non-null  object\n",
      " 5   Mileage           17747 non-null  object\n",
      " 6   Transmission      27370 non-null  object\n",
      " 7   Rudder            27370 non-null  object\n",
      " 8   Color             24501 non-null  object\n",
      " 9   Gear              24400 non-null  object\n",
      " 10  CustomsCleared    27370 non-null  object\n",
      " 11  Price             27370 non-null  object\n",
      "dtypes: object(12)\n",
      "memory usage: 2.7+ MB\n"
     ]
    }
   ],
   "source": [
    "data.info()"
   ]
  },
  {
   "cell_type": "code",
   "execution_count": 19,
   "metadata": {},
   "outputs": [],
   "source": [
    "data['Price'] = data['Price'].str.replace(r'\\D', '').astype(int)"
   ]
  },
  {
   "cell_type": "code",
   "execution_count": 20,
   "metadata": {},
   "outputs": [],
   "source": [
    "data['Mileage'] = data['Mileage'].str.replace(r'\\D', '').astype(\"Float32\").astype('Int32')\n",
    "data = data[data['Mileage'].notna()]"
   ]
  },
  {
   "cell_type": "code",
   "execution_count": 21,
   "metadata": {},
   "outputs": [],
   "source": [
    "data.loc[data['Year']=='года','Year'] = data.loc[data['Year']=='года']['Name'].str.split().str[1]"
   ]
  },
  {
   "cell_type": "code",
   "execution_count": 22,
   "metadata": {},
   "outputs": [],
   "source": [
    "indexList = data.loc[data['Year']=='(Lada)','Year'].index\n",
    "data = data.drop(index=indexList)"
   ]
  },
  {
   "cell_type": "code",
   "execution_count": 23,
   "metadata": {},
   "outputs": [],
   "source": [
    "data['Year'] = data['Year'].astype(str).astype(int)"
   ]
  },
  {
   "cell_type": "code",
   "execution_count": 24,
   "metadata": {},
   "outputs": [],
   "source": [
    "#drop nan in column\n",
    "data = data[data['Engine volume, L'].notna()]"
   ]
  },
  {
   "cell_type": "code",
   "execution_count": 25,
   "metadata": {},
   "outputs": [],
   "source": [
    "data['Type Engine'] = data['Engine volume, L'].str.split().str[1]\n",
    "data['Type Engine'] = data['Type Engine'].str.replace(\"(\", \"\")\n",
    "data['Type Engine'] = data['Type Engine'].str.replace(\")\", \"\")\n",
    "\n",
    "data['Engine volume, L'] = data['Engine volume, L'].str.split().str[0].astype(float)\n",
    "\n",
    "data = data[['City','Name','Year','Shell','Engine volume, L','Mileage',\n",
    "             'Transmission','Rudder','Color','Gear','CustomsCleared','Type Engine','Price']]\n",
    "data = data.rename(columns={\"Engine volume, L\": \"Volume\"})"
   ]
  },
  {
   "cell_type": "code",
   "execution_count": 26,
   "metadata": {},
   "outputs": [
    {
     "name": "stdout",
     "output_type": "stream",
     "text": [
      "<class 'pandas.core.frame.DataFrame'>\n",
      "Int64Index: 17734 entries, 26 to 38356\n",
      "Data columns (total 13 columns):\n",
      " #   Column          Non-Null Count  Dtype  \n",
      "---  ------          --------------  -----  \n",
      " 0   City            17734 non-null  object \n",
      " 1   Name            17734 non-null  object \n",
      " 2   Year            17734 non-null  int32  \n",
      " 3   Shell           17734 non-null  object \n",
      " 4   Volume          17734 non-null  float64\n",
      " 5   Mileage         17734 non-null  Int32  \n",
      " 6   Transmission    17734 non-null  object \n",
      " 7   Rudder          17734 non-null  object \n",
      " 8   Color           16571 non-null  object \n",
      " 9   Gear            16396 non-null  object \n",
      " 10  CustomsCleared  17734 non-null  object \n",
      " 11  Type Engine     17734 non-null  object \n",
      " 12  Price           17734 non-null  int32  \n",
      "dtypes: Int32(1), float64(1), int32(2), object(9)\n",
      "memory usage: 1.7+ MB\n"
     ]
    }
   ],
   "source": [
    "data.info()"
   ]
  },
  {
   "cell_type": "code",
   "execution_count": 27,
   "metadata": {},
   "outputs": [],
   "source": [
    "data.to_csv(r'newdata.csv', index = False)"
   ]
  }
 ],
 "metadata": {
  "kernelspec": {
   "display_name": "Python 3",
   "language": "python",
   "name": "python3"
  },
  "language_info": {
   "codemirror_mode": {
    "name": "ipython",
    "version": 3
   },
   "file_extension": ".py",
   "mimetype": "text/x-python",
   "name": "python",
   "nbconvert_exporter": "python",
   "pygments_lexer": "ipython3",
   "version": "3.8.3"
  }
 },
 "nbformat": 4,
 "nbformat_minor": 4
}
