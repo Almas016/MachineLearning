{
 "cells": [
  {
   "cell_type": "code",
   "execution_count": 34,
   "metadata": {},
   "outputs": [],
   "source": [
    "#importing the libraries\n",
    "import pandas as pd\n",
    "import numpy as np\n",
    "import re"
   ]
  },
  {
   "cell_type": "markdown",
   "metadata": {},
   "source": [
    "# Reading and Understanding the Data"
   ]
  },
  {
   "cell_type": "code",
   "execution_count": 35,
   "metadata": {},
   "outputs": [
    {
     "data": {
      "text/html": [
       "<div>\n",
       "<style scoped>\n",
       "    .dataframe tbody tr th:only-of-type {\n",
       "        vertical-align: middle;\n",
       "    }\n",
       "\n",
       "    .dataframe tbody tr th {\n",
       "        vertical-align: top;\n",
       "    }\n",
       "\n",
       "    .dataframe thead th {\n",
       "        text-align: right;\n",
       "    }\n",
       "</style>\n",
       "<table border=\"1\" class=\"dataframe\">\n",
       "  <thead>\n",
       "    <tr style=\"text-align: right;\">\n",
       "      <th></th>\n",
       "      <th>City</th>\n",
       "      <th>Name</th>\n",
       "      <th>Year</th>\n",
       "      <th>Shell</th>\n",
       "      <th>Volume</th>\n",
       "      <th>Mileage</th>\n",
       "      <th>Transmission</th>\n",
       "      <th>Rudder</th>\n",
       "      <th>Color</th>\n",
       "      <th>Gear</th>\n",
       "      <th>CustomsCleared</th>\n",
       "      <th>Type Engine</th>\n",
       "      <th>Price</th>\n",
       "    </tr>\n",
       "  </thead>\n",
       "  <tbody>\n",
       "    <tr>\n",
       "      <th>0</th>\n",
       "      <td>Уральск</td>\n",
       "      <td>ChevroletNiva</td>\n",
       "      <td>2014</td>\n",
       "      <td>внедорожник</td>\n",
       "      <td>1.7</td>\n",
       "      <td>31000</td>\n",
       "      <td>механика</td>\n",
       "      <td>слева</td>\n",
       "      <td>серебристый</td>\n",
       "      <td>полный привод</td>\n",
       "      <td>Да</td>\n",
       "      <td>бензин</td>\n",
       "      <td>2900000</td>\n",
       "    </tr>\n",
       "    <tr>\n",
       "      <th>1</th>\n",
       "      <td>Нур-Султан (Астана)</td>\n",
       "      <td>KiaCadenza</td>\n",
       "      <td>2014</td>\n",
       "      <td>седан</td>\n",
       "      <td>3.5</td>\n",
       "      <td>59800</td>\n",
       "      <td>автомат</td>\n",
       "      <td>слева</td>\n",
       "      <td>черный металлик</td>\n",
       "      <td>передний привод</td>\n",
       "      <td>Да</td>\n",
       "      <td>бензин</td>\n",
       "      <td>8600000</td>\n",
       "    </tr>\n",
       "    <tr>\n",
       "      <th>2</th>\n",
       "      <td>Тараз</td>\n",
       "      <td>VolkswagenLT</td>\n",
       "      <td>1995</td>\n",
       "      <td>фургон</td>\n",
       "      <td>2.3</td>\n",
       "      <td>450650</td>\n",
       "      <td>механика</td>\n",
       "      <td>слева</td>\n",
       "      <td>белый</td>\n",
       "      <td>задний привод</td>\n",
       "      <td>Да</td>\n",
       "      <td>дизель</td>\n",
       "      <td>1100000</td>\n",
       "    </tr>\n",
       "    <tr>\n",
       "      <th>3</th>\n",
       "      <td>Алматы</td>\n",
       "      <td>ToyotaCamry</td>\n",
       "      <td>2018</td>\n",
       "      <td>седан</td>\n",
       "      <td>2.5</td>\n",
       "      <td>48000</td>\n",
       "      <td>типтроник</td>\n",
       "      <td>слева</td>\n",
       "      <td>белый</td>\n",
       "      <td>передний привод</td>\n",
       "      <td>Да</td>\n",
       "      <td>бензин</td>\n",
       "      <td>11300000</td>\n",
       "    </tr>\n",
       "    <tr>\n",
       "      <th>4</th>\n",
       "      <td>Караганда</td>\n",
       "      <td>MitsubishiPajero</td>\n",
       "      <td>1997</td>\n",
       "      <td>внедорожник</td>\n",
       "      <td>3.5</td>\n",
       "      <td>153000</td>\n",
       "      <td>автомат</td>\n",
       "      <td>справа</td>\n",
       "      <td>белый</td>\n",
       "      <td>полный привод</td>\n",
       "      <td>Нет</td>\n",
       "      <td>бензин</td>\n",
       "      <td>3350000</td>\n",
       "    </tr>\n",
       "  </tbody>\n",
       "</table>\n",
       "</div>"
      ],
      "text/plain": [
       "                  City              Name  Year        Shell  Volume  Mileage  \\\n",
       "0              Уральск     ChevroletNiva  2014  внедорожник     1.7    31000   \n",
       "1  Нур-Султан (Астана)        KiaCadenza  2014        седан     3.5    59800   \n",
       "2                Тараз      VolkswagenLT  1995       фургон     2.3   450650   \n",
       "3               Алматы       ToyotaCamry  2018        седан     2.5    48000   \n",
       "4            Караганда  MitsubishiPajero  1997  внедорожник     3.5   153000   \n",
       "\n",
       "  Transmission  Rudder            Color             Gear CustomsCleared  \\\n",
       "0     механика   слева      серебристый    полный привод             Да   \n",
       "1      автомат   слева  черный металлик  передний привод             Да   \n",
       "2     механика   слева            белый    задний привод             Да   \n",
       "3    типтроник   слева            белый  передний привод             Да   \n",
       "4      автомат  справа            белый    полный привод            Нет   \n",
       "\n",
       "  Type Engine     Price  \n",
       "0      бензин   2900000  \n",
       "1      бензин   8600000  \n",
       "2      дизель   1100000  \n",
       "3      бензин  11300000  \n",
       "4      бензин   3350000  "
      ]
     },
     "execution_count": 35,
     "metadata": {},
     "output_type": "execute_result"
    }
   ],
   "source": [
    "data = pd.read_csv('newdata.csv')\n",
    "data.head()"
   ]
  },
  {
   "cell_type": "code",
   "execution_count": 36,
   "metadata": {},
   "outputs": [],
   "source": [
    "#data['test'] = data['Name'].str.findall('[A-Z][^A-Z]*')\n",
    "a = 'Acura* Alfa Romeo* Alpina* Aston Martin* Audi* Aurus* * * BAIC* BAW* BMW* BYD* Bentley* Brilliance* Bugatti* Buick* * C* Cadillac* ChangFeng* Changan* Chery* Chevrolet* Chrysler* Citroen* * D* Dacia* Daewoo* Daihatsu* Datsun* Derways* Dodge* DongFeng* * E* Eagle* * F* FAW* Ferrari* Fiat* Ford* Foton* * G* GAC* GMC* Geely* Genesis* Gonow* Great Wall* * H* Hafei* Haima* Haval* Honda* HuangHai* Hummer* Hyundai* * I* Infiniti* Iran Khodro* Isuzu* * J* JAC* JMC* Jaguar* Jeep* Jinbei* * K* Kia* * L* Lamborghini* Lancia* Land Rover* Lexus* Lifan* Lincoln* Lotus* Lucid* Luxgen* * M* MG* Maserati* Maybach* Mazda* Mercedes-Benz* Mercedes-Maybach* Mercury* Mini* Mitsubishi* * N* Nissan* * O* Oldsmobile* Opel* * P* Peugeot* Plymouth* Pontiac* Porsche* Puch* * R* Ravon* Renault* Renault Samsung* Rolls-Royce* Rover* * S* SEAT* Saab* Santana* Saturn* Scion* ShuangHuan* Skoda* Smart* Soueast* SsangYong* Subaru* Suzuki* * T* Tesla* Tianma* Tianye* Toyota* * V* Volkswagen* Volvo* * W* Wuling* * X* Xinkai* * Z* ZX* Zotye* ВАЗ (Lada)* ВИС*  ГАЗ* ЕрАЗ* ЗАЗ* ЗИЛ* ИЖ* ЛуАЗ* Москвич* РАФ * СМЗ * ТагАЗ * УАЗ'\n",
    "a = a.split('* ')"
   ]
  },
  {
   "cell_type": "code",
   "execution_count": 42,
   "metadata": {},
   "outputs": [],
   "source": [
    "b = a\n",
    "for x in b:\n",
    "    if( len(x) < 2 ):\n",
    "        a.remove(x)"
   ]
  },
  {
   "cell_type": "code",
   "execution_count": 43,
   "metadata": {},
   "outputs": [
    {
     "data": {
      "text/plain": [
       "['Acura',\n",
       " 'Alfa Romeo',\n",
       " 'Alpina',\n",
       " 'Aston Martin',\n",
       " 'Audi',\n",
       " 'Aurus',\n",
       " 'BAIC',\n",
       " 'BAW',\n",
       " 'BMW',\n",
       " 'BYD',\n",
       " 'Bentley',\n",
       " 'Brilliance',\n",
       " 'Bugatti',\n",
       " 'Buick',\n",
       " 'Cadillac',\n",
       " 'ChangFeng',\n",
       " 'Changan',\n",
       " 'Chery',\n",
       " 'Chevrolet',\n",
       " 'Chrysler',\n",
       " 'Citroen',\n",
       " 'Dacia',\n",
       " 'Daewoo',\n",
       " 'Daihatsu',\n",
       " 'Datsun',\n",
       " 'Derways',\n",
       " 'Dodge',\n",
       " 'DongFeng',\n",
       " 'Eagle',\n",
       " 'FAW',\n",
       " 'Ferrari',\n",
       " 'Fiat',\n",
       " 'Ford',\n",
       " 'Foton',\n",
       " 'GAC',\n",
       " 'GMC',\n",
       " 'Geely',\n",
       " 'Genesis',\n",
       " 'Gonow',\n",
       " 'Great Wall',\n",
       " 'Hafei',\n",
       " 'Haima',\n",
       " 'Haval',\n",
       " 'Honda',\n",
       " 'HuangHai',\n",
       " 'Hummer',\n",
       " 'Hyundai',\n",
       " 'Infiniti',\n",
       " 'Iran Khodro',\n",
       " 'Isuzu',\n",
       " 'JAC',\n",
       " 'JMC',\n",
       " 'Jaguar',\n",
       " 'Jeep',\n",
       " 'Jinbei',\n",
       " 'Kia',\n",
       " 'Lamborghini',\n",
       " 'Lancia',\n",
       " 'Land Rover',\n",
       " 'Lexus',\n",
       " 'Lifan',\n",
       " 'Lincoln',\n",
       " 'Lotus',\n",
       " 'Lucid',\n",
       " 'Luxgen',\n",
       " 'MG',\n",
       " 'Maserati',\n",
       " 'Maybach',\n",
       " 'Mazda',\n",
       " 'Mercedes-Benz',\n",
       " 'Mercedes-Maybach',\n",
       " 'Mercury',\n",
       " 'Mini',\n",
       " 'Mitsubishi',\n",
       " 'Nissan',\n",
       " 'Oldsmobile',\n",
       " 'Opel',\n",
       " 'Peugeot',\n",
       " 'Plymouth',\n",
       " 'Pontiac',\n",
       " 'Porsche',\n",
       " 'Puch',\n",
       " 'Ravon',\n",
       " 'Renault',\n",
       " 'Renault Samsung',\n",
       " 'Rolls-Royce',\n",
       " 'Rover',\n",
       " 'SEAT',\n",
       " 'Saab',\n",
       " 'Santana',\n",
       " 'Saturn',\n",
       " 'Scion',\n",
       " 'ShuangHuan',\n",
       " 'Skoda',\n",
       " 'Smart',\n",
       " 'Soueast',\n",
       " 'SsangYong',\n",
       " 'Subaru',\n",
       " 'Suzuki',\n",
       " 'Tesla',\n",
       " 'Tianma',\n",
       " 'Tianye',\n",
       " 'Toyota',\n",
       " 'Volkswagen',\n",
       " 'Volvo',\n",
       " 'Wuling',\n",
       " 'Xinkai',\n",
       " 'Z',\n",
       " 'ZX',\n",
       " 'Zotye',\n",
       " 'ВАЗ (Lada)',\n",
       " 'ВИС',\n",
       " ' ГАЗ',\n",
       " 'ЕрАЗ',\n",
       " 'ЗАЗ',\n",
       " 'ЗИЛ',\n",
       " 'ИЖ',\n",
       " 'ЛуАЗ',\n",
       " 'Москвич',\n",
       " 'РАФ ',\n",
       " 'СМЗ ',\n",
       " 'ТагАЗ ',\n",
       " 'УАЗ']"
      ]
     },
     "execution_count": 43,
     "metadata": {},
     "output_type": "execute_result"
    }
   ],
   "source": [
    "a"
   ]
  },
  {
   "cell_type": "code",
   "execution_count": 44,
   "metadata": {},
   "outputs": [],
   "source": [
    "data['Company'] = data['Name']"
   ]
  },
  {
   "cell_type": "code",
   "execution_count": 45,
   "metadata": {},
   "outputs": [
    {
     "name": "stderr",
     "output_type": "stream",
     "text": [
      "<ipython-input-45-5926dfe158ce>:4: SettingWithCopyWarning: \n",
      "A value is trying to be set on a copy of a slice from a DataFrame\n",
      "\n",
      "See the caveats in the documentation: https://pandas.pydata.org/pandas-docs/stable/user_guide/indexing.html#returning-a-view-versus-a-copy\n",
      "  data['Company'][i] = j\n"
     ]
    }
   ],
   "source": [
    "for i in range(len(data['Name'])):\n",
    "    for j in a:\n",
    "        if data['Name'][i].find(j) != -1:\n",
    "            data['Company'][i] = j"
   ]
  },
  {
   "cell_type": "code",
   "execution_count": 41,
   "metadata": {},
   "outputs": [
    {
     "data": {
      "text/plain": [
       "0         \n",
       "1         \n",
       "2         \n",
       "3         \n",
       "4         \n",
       "        ..\n",
       "17729     \n",
       "17730     \n",
       "17731     \n",
       "17732     \n",
       "17733     \n",
       "Name: Company, Length: 17734, dtype: object"
      ]
     },
     "execution_count": 41,
     "metadata": {},
     "output_type": "execute_result"
    }
   ],
   "source": [
    "data[\n",
    "    'Company'\n",
    "]"
   ]
  },
  {
   "cell_type": "code",
   "execution_count": 46,
   "metadata": {},
   "outputs": [
    {
     "name": "stderr",
     "output_type": "stream",
     "text": [
      "<ipython-input-46-e3e66a31b6d8>:3: SettingWithCopyWarning: \n",
      "A value is trying to be set on a copy of a slice from a DataFrame\n",
      "\n",
      "See the caveats in the documentation: https://pandas.pydata.org/pandas-docs/stable/user_guide/indexing.html#returning-a-view-versus-a-copy\n",
      "  data['Model'][i] = data['Name'][i].replace(data['Company'][i], \"\")\n"
     ]
    }
   ],
   "source": [
    "data['Model'] = data['Name']\n",
    "for i in range(len(data['Name'])):\n",
    "    data['Model'][i] = data['Name'][i].replace(data['Company'][i], \"\")"
   ]
  },
  {
   "cell_type": "code",
   "execution_count": 47,
   "metadata": {},
   "outputs": [],
   "source": [
    "data.drop('Name', axis = 1, inplace = True)"
   ]
  },
  {
   "cell_type": "code",
   "execution_count": 48,
   "metadata": {},
   "outputs": [],
   "source": [
    "data.drop('Color', axis = 1, inplace = True)"
   ]
  },
  {
   "cell_type": "code",
   "execution_count": 49,
   "metadata": {},
   "outputs": [],
   "source": [
    "data = data[['City','Year','Shell','Volume','Mileage',\n",
    "             'Transmission','Rudder','Gear','CustomsCleared','Type Engine','Company','Model','Price']]"
   ]
  },
  {
   "cell_type": "code",
   "execution_count": 58,
   "metadata": {},
   "outputs": [],
   "source": [
    "data = data[data['Gear'].notna()]\n",
    "data = data[data['Company'].notna()]\n",
    "data = data[data['Model'].notna()]"
   ]
  },
  {
   "cell_type": "code",
   "execution_count": 59,
   "metadata": {},
   "outputs": [],
   "source": [
    "data.to_csv(r'FinalData.csv', index = False)"
   ]
  }
 ],
 "metadata": {
  "kernelspec": {
   "display_name": "Python 3",
   "language": "python",
   "name": "python3"
  },
  "language_info": {
   "codemirror_mode": {
    "name": "ipython",
    "version": 3
   },
   "file_extension": ".py",
   "mimetype": "text/x-python",
   "name": "python",
   "nbconvert_exporter": "python",
   "pygments_lexer": "ipython3",
   "version": "3.8.3"
  }
 },
 "nbformat": 4,
 "nbformat_minor": 4
}
