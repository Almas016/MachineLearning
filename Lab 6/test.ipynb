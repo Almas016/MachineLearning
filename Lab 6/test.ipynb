{
 "cells": [
  {
   "cell_type": "code",
   "execution_count": 31,
   "metadata": {},
   "outputs": [],
   "source": [
    "from time import sleep\n",
    "import numpy as np\n",
    "import pandas as pd\n",
    "import geopy\n",
    "from geopy.geocoders import Nominatim\n",
    "from sklearn.cluster import KMeans\n",
    "from pygmaps import gmaps\n",
    "import pygmaps\n",
    "#almatyPlaces.txt"
   ]
  },
  {
   "cell_type": "code",
   "execution_count": 32,
   "metadata": {},
   "outputs": [],
   "source": [
    "def geoGrab(address):\n",
    "    geolocator = Nominatim(user_agent=\"180107192@stu.sdu.edu.kz\")\n",
    "    location = geolocator.geocode(address)\n",
    "    if location is not None:\n",
    "        loc = {}\n",
    "        loc['latitude'] = location.latitude\n",
    "        loc['longitude'] = location.longitude\n",
    "        return loc\n",
    "    else:\n",
    "        return None"
   ]
  },
  {
   "cell_type": "code",
   "execution_count": 33,
   "metadata": {},
   "outputs": [
    {
     "name": "stdout",
     "output_type": "stream",
     "text": [
      "Error ['Caspian Training Group', 'Kablukov St 270 Almaty\\n']\n",
      "Error ['Salamat-5', 'Almaty, ul. Shevchenko, 204\\n']\n"
     ]
    }
   ],
   "source": [
    "def placeFind(fileName):\n",
    "    fw = open('places.txt', 'w')\n",
    "    for line in open(fileName).readlines():\n",
    "        place = line.split('\\t')\n",
    "        Coordinate  = geoGrab(place[1])\n",
    "        if type(Coordinate) is dict:\n",
    "            fw.write(\"{0} {1}\\n\".format(Coordinate [\"latitude\"],Coordinate [\"longitude\"]))\n",
    "        else:\n",
    "            print(\"Error {0}\".format(place))\n",
    "        sleep(2)\n",
    "    fw.close()\n",
    "\n",
    "placeFind('almatyPlaces.txt')"
   ]
  },
  {
   "cell_type": "code",
   "execution_count": 41,
   "metadata": {},
   "outputs": [],
   "source": [
    "def clusterPlaces(numClust):\n",
    "    array = []\n",
    "    for line in open('places.txt').readlines():\n",
    "        loc = line.split()\n",
    "        array.append([float(loc[0]), float(loc[1])])\n",
    "    x = np.array(array)\n",
    "    kmeans = KMeans(n_clusters = numClust).fit(x)\n",
    "    pred = kmeans.predict(x)\n",
    "    return pred"
   ]
  },
  {
   "cell_type": "code",
   "execution_count": 42,
   "metadata": {},
   "outputs": [],
   "source": [
    "from pygmaps import gmaps\n",
    "\n",
    "# red \"#FF0000\", Blue \"#0000FF\", Green \"#00FF00\"\n",
    "colors=[\"#FF0000\", \"#00FF00\", \"#0000FF\"]\n",
    "\n",
    "# PARAMETER1:latitude (float) latittude of map center point\n",
    "# PARAMETER2:longitude (float) latittude of map center point\n",
    "# PARAMETER3:zoom (int) map zoom level 0~20\n",
    "mymap = pygmaps.gmaps.maps()"
   ]
  },
  {
   "cell_type": "code",
   "execution_count": 43,
   "metadata": {},
   "outputs": [],
   "source": [
    "predictions = clusterPlaces(3)\n",
    "\n",
    "file = open('places.txt').readlines()\n",
    "\n",
    "for i in range(len(file)):\n",
    "    array = file[i].split()\n",
    "    \n",
    "    # PARAMETER1:latitude (float) latitude of the point\n",
    "    # PARAMETER2:longitude (float) longitude of the point\n",
    "    # PARAMETER3:color (string) color of the point showed in map, using HTML color code\n",
    "    mymap.add_point(float(array[0]), float(array[1]), colors[predictions[i]])\n",
    "    \n",
    "mymap.draw('mymap.html')"
   ]
  }
 ],
 "metadata": {
  "kernelspec": {
   "display_name": "Python 3",
   "language": "python",
   "name": "python3"
  },
  "language_info": {
   "codemirror_mode": {
    "name": "ipython",
    "version": 3
   },
   "file_extension": ".py",
   "mimetype": "text/x-python",
   "name": "python",
   "nbconvert_exporter": "python",
   "pygments_lexer": "ipython3",
   "version": "3.8.3"
  }
 },
 "nbformat": 4,
 "nbformat_minor": 4
}
