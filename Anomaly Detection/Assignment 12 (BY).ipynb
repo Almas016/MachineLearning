{
 "cells": [
  {
   "cell_type": "markdown",
   "metadata": {},
   "source": [
    "Imprt"
   ]
  },
  {
   "cell_type": "code",
   "execution_count": 10,
   "metadata": {},
   "outputs": [],
   "source": [
    "import scipy.io as s\n",
    "import numpy as np\n",
    "import matplotlib.pyplot as plt\n",
    "import pandas as pd"
   ]
  },
  {
   "cell_type": "markdown",
   "metadata": {},
   "source": [
    "Read the data"
   ]
  },
  {
   "cell_type": "code",
   "execution_count": 28,
   "metadata": {},
   "outputs": [],
   "source": [
    "data = s.loadmat(\"data.mat\")\n",
    "a = np.array(data['X'])\n",
    "# print(data)\n",
    "X = a[:, 0]\n",
    "# print(X)\n",
    "Y = a[:, 1]\n",
    "# print(Y)"
   ]
  },
  {
   "cell_type": "markdown",
   "metadata": {},
   "source": [
    "Plot the data"
   ]
  },
  {
   "cell_type": "code",
   "execution_count": 32,
   "metadata": {},
   "outputs": [
    {
     "data": {
      "image/png": "[encoded data removed]",
      "text/plain": [
       "<Figure size 432x288 with 1 Axes>"
      ]
     },
     "metadata": {
      "needs_background": "light"
     },
     "output_type": "display_data"
    }
   ],
   "source": [
    "def plot_data(X, Y):\n",
    "    plt.scatter(X, Y, s = 30)\n",
    "    plt.grid(True)\n",
    "    plt.show()\n",
    "\n",
    "plot_data(X, Y)"
   ]
  },
  {
   "cell_type": "markdown",
   "metadata": {},
   "source": [
    "Find outliers and color them in red. You need to choose your own epsilon"
   ]
  },
  {
   "cell_type": "code",
   "execution_count": 33,
   "metadata": {},
   "outputs": [],
   "source": [
    "def standard(x):\n",
    "    std = 0\n",
    "    for i in x:\n",
    "        std += ((i - mean(x))**2)/len(x)\n",
    "    return std\n",
    "\n",
    "def p(i, mean, std):\n",
    "    prob = (1/((2*np.pi)**0.5)*std)*(np.exp((-(i-mean)**2)/2*std))\n",
    "    return prob"
   ]
  },
  {
   "cell_type": "code",
   "execution_count": null,
   "metadata": {},
   "outputs": [],
   "source": [
    "eps = 0.0000000001\n",
    "anom = []\n",
    "x = data[\"Xval\"]\n",
    "\n",
    "mean = lambda x : sum(Xval)/len(Xval)\n",
    "for i,j in zip(x[:, 0], x[:, 1]):\n",
    "    mean1 = mean(x[:, 0])\n",
    "    mean2 = mean(x[:, 1])\n",
    "    std1 = standard(x[:, 0])\n",
    "    std2 = standard(x[:, 1])\n",
    "    prob = p(i, mean1, std1) * p(j, mean2, std2)\n",
    "    if prob < eps:\n",
    "        anom.append(1)\n",
    "    else:\n",
    "        anom.append(0)"
   ]
  },
  {
   "cell_type": "code",
   "execution_count": 6,
   "metadata": {},
   "outputs": [
    {
     "data": {
      "image/png": "[encoded data removed]",
      "text/plain": [
       "<Figure size 432x288 with 1 Axes>"
      ]
     },
     "metadata": {
      "needs_background": "light"
     },
     "output_type": "display_data"
    }
   ],
   "source": [
    "color = []\n",
    "\n",
    "def setColor(mylist, colorlist):\n",
    "    for i in mylist:\n",
    "        if i==0:\n",
    "            colorlist.append('b')\n",
    "        else: \n",
    "            colorlist.append('r')\n",
    "\n",
    "setColor(anom, color)\n",
    "def plotData(X):\n",
    "    dx, dy = X.T\n",
    "    plt.grid()\n",
    "    plt.scatter(a[:,0], a[:,1], color=color)\n",
    "plotData(Xval)"
   ]
  }
 ],
 "metadata": {
  "kernelspec": {
   "display_name": "Python 3",
   "language": "python",
   "name": "python3"
  },
  "language_info": {
   "codemirror_mode": {
    "name": "ipython",
    "version": 3
   },
   "file_extension": ".py",
   "mimetype": "text/x-python",
   "name": "python",
   "nbconvert_exporter": "python",
   "pygments_lexer": "ipython3",
   "version": "3.8.3"
  }
 },
 "nbformat": 4,
 "nbformat_minor": 2
}
