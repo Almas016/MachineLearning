{
 "cells": [
  {
   "cell_type": "markdown",
   "metadata": {},
   "source": [
    "# Namazbayev Almas 180107192"
   ]
  },
  {
   "cell_type": "markdown",
   "metadata": {},
   "source": [
    "Import the libraries"
   ]
  },
  {
   "cell_type": "code",
   "execution_count": 1,
   "metadata": {},
   "outputs": [],
   "source": [
    "import scipy.io as s\n",
    "import numpy as np\n",
    "import matplotlib.pyplot as plt\n",
    "import pandas as pd"
   ]
  },
  {
   "cell_type": "markdown",
   "metadata": {},
   "source": [
    "Read the data"
   ]
  },
  {
   "cell_type": "code",
   "execution_count": 2,
   "metadata": {},
   "outputs": [],
   "source": [
    "data = s.loadmat(\"data.mat\")\n",
    "a = np.array(data['X'])\n",
    "Xval = data[\"Xval\"]"
   ]
  },
  {
   "cell_type": "markdown",
   "metadata": {},
   "source": [
    "Plot the data"
   ]
  },
  {
   "cell_type": "code",
   "execution_count": 8,
   "metadata": {},
   "outputs": [
    {
     "data": {
      "image/png": "[encoded data removed]",
      "text/plain": [
       "<Figure size 432x288 with 1 Axes>"
      ]
     },
     "metadata": {
      "needs_background": "light"
     },
     "output_type": "display_data"
    }
   ],
   "source": [
    "def showplt():\n",
    "    plt.scatter(a[:,0],a[:,1])\n",
    "    plt.grid(True)\n",
    "    plt.show()\n",
    "showplt()"
   ]
  },
  {
   "cell_type": "markdown",
   "metadata": {},
   "source": [
    "Find outliers and color them in red. You need to choose your own epsilon"
   ]
  },
  {
   "cell_type": "code",
   "execution_count": 5,
   "metadata": {},
   "outputs": [],
   "source": [
    "def anomalyList(epsilon):\n",
    "    anomaly = []\n",
    "    a, b = Xval[:, 0], Xval[:, 1]\n",
    "    mean1, mean2 = sum(a)/len(a), sum(b)/len(b)\n",
    "    \n",
    "    std1, std2 = 0, 0\n",
    "    for i in a: std1 += ((i - mean1)**2)/len(a)\n",
    "    for i in b: std2 += ((i - mean2)**2)/len(b)  \n",
    "        \n",
    "    for i,j in zip(a,b):\n",
    "        p1 = (1 / ((2*np.pi)**0.5)*std1) * (np.exp((-(i-mean1)**2)/2*std1))\n",
    "        p2 = (1 / ((2*np.pi)**0.5)*std2) * (np.exp((-(j-mean2)**2)/2*std2))\n",
    "        \n",
    "        if p1*p2 >= epsilon:\n",
    "            anomaly.append('b')\n",
    "        else:\n",
    "            anomaly.append('r')\n",
    "            \n",
    "    return anomaly"
   ]
  },
  {
   "cell_type": "code",
   "execution_count": 6,
   "metadata": {},
   "outputs": [
    {
     "data": {
      "text/plain": [
       "<matplotlib.collections.PathCollection at 0x270e0e92e80>"
      ]
     },
     "execution_count": 6,
     "metadata": {},
     "output_type": "execute_result"
    },
    {
     "data": {
      "image/png": "[encoded data removed]",
      "text/plain": [
       "<Figure size 432x288 with 1 Axes>"
      ]
     },
     "metadata": {
      "needs_background": "light"
     },
     "output_type": "display_data"
    }
   ],
   "source": [
    "dx, dy = Xval.T\n",
    "plt.grid()\n",
    "plt.scatter(a[:,0], a[:,1], color=anomalyList(0.0000000001))"
   ]
  }
 ],
 "metadata": {
  "kernelspec": {
   "display_name": "Python 3",
   "language": "python",
   "name": "python3"
  },
  "language_info": {
   "codemirror_mode": {
    "name": "ipython",
    "version": 3
   },
   "file_extension": ".py",
   "mimetype": "text/x-python",
   "name": "python",
   "nbconvert_exporter": "python",
   "pygments_lexer": "ipython3",
   "version": "3.8.3"
  }
 },
 "nbformat": 4,
 "nbformat_minor": 2
}
