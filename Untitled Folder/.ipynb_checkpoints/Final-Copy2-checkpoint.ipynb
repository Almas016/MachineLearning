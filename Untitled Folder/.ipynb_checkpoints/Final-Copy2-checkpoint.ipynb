{
 "cells": [
  {
   "cell_type": "code",
   "execution_count": 41,
   "metadata": {},
   "outputs": [],
   "source": [
    "#importing the libraries\n",
    "import pandas as pd\n",
    "import numpy as np\n",
    "\n",
    "import matplotlib.pyplot as plt\n",
    "import seaborn as sns"
   ]
  },
  {
   "cell_type": "markdown",
   "metadata": {},
   "source": [
    "# Reading and Understanding the Data"
   ]
  },
  {
   "cell_type": "code",
   "execution_count": 42,
   "metadata": {},
   "outputs": [
    {
     "data": {
      "text/html": [
       "<div>\n",
       "<style scoped>\n",
       "    .dataframe tbody tr th:only-of-type {\n",
       "        vertical-align: middle;\n",
       "    }\n",
       "\n",
       "    .dataframe tbody tr th {\n",
       "        vertical-align: top;\n",
       "    }\n",
       "\n",
       "    .dataframe thead th {\n",
       "        text-align: right;\n",
       "    }\n",
       "</style>\n",
       "<table border=\"1\" class=\"dataframe\">\n",
       "  <thead>\n",
       "    <tr style=\"text-align: right;\">\n",
       "      <th></th>\n",
       "      <th>#</th>\n",
       "      <th>City</th>\n",
       "      <th>Name</th>\n",
       "      <th>Year</th>\n",
       "      <th>Shell</th>\n",
       "      <th>Engine volume, L</th>\n",
       "      <th>Mileage</th>\n",
       "      <th>Transmission</th>\n",
       "      <th>Rudder</th>\n",
       "      <th>Color</th>\n",
       "      <th>Gear</th>\n",
       "      <th>CustomsCleared</th>\n",
       "      <th>Price</th>\n",
       "    </tr>\n",
       "  </thead>\n",
       "  <tbody>\n",
       "    <tr>\n",
       "      <th>0</th>\n",
       "      <td>1</td>\n",
       "      <td>Нур-Султан (Астана)</td>\n",
       "      <td>ToyotaRAV 4</td>\n",
       "      <td>2019</td>\n",
       "      <td>кроссовер</td>\n",
       "      <td>2 (бензин)</td>\n",
       "      <td>16 000 км</td>\n",
       "      <td>вариатор</td>\n",
       "      <td>слева</td>\n",
       "      <td>белый металлик</td>\n",
       "      <td>полный привод</td>\n",
       "      <td>Да</td>\n",
       "      <td>13 800 000\\n    ₸</td>\n",
       "    </tr>\n",
       "    <tr>\n",
       "      <th>1</th>\n",
       "      <td>2</td>\n",
       "      <td>Нур-Султан (Астана)</td>\n",
       "      <td>ToyotaRAV 4</td>\n",
       "      <td>2019</td>\n",
       "      <td>кроссовер</td>\n",
       "      <td>2 (бензин)</td>\n",
       "      <td>16 000 км</td>\n",
       "      <td>вариатор</td>\n",
       "      <td>слева</td>\n",
       "      <td>белый металлик</td>\n",
       "      <td>полный привод</td>\n",
       "      <td>Да</td>\n",
       "      <td>13 800 000\\n    ₸</td>\n",
       "    </tr>\n",
       "    <tr>\n",
       "      <th>2</th>\n",
       "      <td>3</td>\n",
       "      <td>Шымкент</td>\n",
       "      <td>Mercedes-BenzE 230</td>\n",
       "      <td>1988</td>\n",
       "      <td>купе</td>\n",
       "      <td>2.3 (бензин)</td>\n",
       "      <td>NaN</td>\n",
       "      <td>автомат</td>\n",
       "      <td>слева</td>\n",
       "      <td>вишня металлик</td>\n",
       "      <td>задний привод</td>\n",
       "      <td>Да</td>\n",
       "      <td>1 500 000\\n    ₸</td>\n",
       "    </tr>\n",
       "    <tr>\n",
       "      <th>3</th>\n",
       "      <td>4</td>\n",
       "      <td>Шымкент</td>\n",
       "      <td>Mercedes-BenzE 230</td>\n",
       "      <td>1988</td>\n",
       "      <td>купе</td>\n",
       "      <td>2.3 (бензин)</td>\n",
       "      <td>NaN</td>\n",
       "      <td>автомат</td>\n",
       "      <td>слева</td>\n",
       "      <td>вишня металлик</td>\n",
       "      <td>задний привод</td>\n",
       "      <td>Да</td>\n",
       "      <td>1 500 000\\n    ₸</td>\n",
       "    </tr>\n",
       "    <tr>\n",
       "      <th>4</th>\n",
       "      <td>5</td>\n",
       "      <td>Алматы</td>\n",
       "      <td>BMWX5</td>\n",
       "      <td>2007</td>\n",
       "      <td>кроссовер</td>\n",
       "      <td>3 (бензин)</td>\n",
       "      <td>161 000 км</td>\n",
       "      <td>автомат</td>\n",
       "      <td>слева</td>\n",
       "      <td>серебристый</td>\n",
       "      <td>полный привод</td>\n",
       "      <td>Да</td>\n",
       "      <td>7 400 000\\n    ₸</td>\n",
       "    </tr>\n",
       "  </tbody>\n",
       "</table>\n",
       "</div>"
      ],
      "text/plain": [
       "   #                 City                Name   Year      Shell  \\\n",
       "0  1  Нур-Султан (Астана)         ToyotaRAV 4   2019  кроссовер   \n",
       "1  2  Нур-Султан (Астана)         ToyotaRAV 4   2019  кроссовер   \n",
       "2  3              Шымкент  Mercedes-BenzE 230   1988       купе   \n",
       "3  4              Шымкент  Mercedes-BenzE 230   1988       купе   \n",
       "4  5               Алматы               BMWX5   2007  кроссовер   \n",
       "\n",
       "  Engine volume, L     Mileage Transmission Rudder           Color  \\\n",
       "0       2 (бензин)   16 000 км     вариатор  слева  белый металлик   \n",
       "1       2 (бензин)   16 000 км     вариатор  слева  белый металлик   \n",
       "2     2.3 (бензин)         NaN      автомат  слева  вишня металлик   \n",
       "3     2.3 (бензин)         NaN      автомат  слева  вишня металлик   \n",
       "4       3 (бензин)  161 000 км      автомат  слева     серебристый   \n",
       "\n",
       "            Gear CustomsCleared              Price  \n",
       "0  полный привод             Да  13 800 000\\n    ₸  \n",
       "1  полный привод             Да  13 800 000\\n    ₸  \n",
       "2  задний привод             Да   1 500 000\\n    ₸  \n",
       "3  задний привод             Да   1 500 000\\n    ₸  \n",
       "4  полный привод             Да   7 400 000\\n    ₸  "
      ]
     },
     "execution_count": 42,
     "metadata": {},
     "output_type": "execute_result"
    }
   ],
   "source": [
    "data = pd.read_excel('result (2).xls')\n",
    "data.head()"
   ]
  },
  {
   "cell_type": "markdown",
   "metadata": {},
   "source": [
    "# Data Cleaning and Preparation"
   ]
  },
  {
   "cell_type": "code",
   "execution_count": 43,
   "metadata": {},
   "outputs": [],
   "source": [
    "# Drop the # as it is of no use\n",
    "data.drop('#', axis = 1, inplace = True)\n",
    "\n",
    "data = data.drop_duplicates()\n",
    "\n",
    "data['Price'] = data['Price'].str.replace(r'\\D', '').astype(int)\n",
    "\n",
    "data['Mileage'] = data['Mileage'].str.replace(r'\\D', '').astype(\"Float32\").astype('Int32')\n",
    "data = data[data['Mileage'].notna()]\n",
    "#data['Mileage'] = data['Mileage'].replace(np.nan, 0)\n",
    "\n",
    "data.loc[data['Year']=='года','Year'] = data.loc[data['Year']=='года']['Name'].str.split().str[1]\n",
    "data['Year'] = data['Year'].astype(str).astype(int)\n",
    "\n",
    "#drop nan in column\n",
    "data = data[data['Engine volume, L'].notna()]\n",
    "\n",
    "data['Type Engine'] = data['Engine volume, L'].str.split().str[1]\n",
    "data['Type Engine'] = data['Type Engine'].str.replace(\"(\", \"\")\n",
    "data['Type Engine'] = data['Type Engine'].str.replace(\")\", \"\")\n",
    "\n",
    "data['Engine volume, L'] = data['Engine volume, L'].str.split().str[0].astype(float)\n",
    "\n",
    "data = data[['City','Name','Year','Shell','Engine volume, L','Mileage',\n",
    "             'Transmission','Rudder','Color','Gear','CustomsCleared','Type Engine','Price']]\n",
    "data = data.rename(columns={\"Engine volume, L\": \"Volume\"})"
   ]
  },
  {
   "cell_type": "code",
   "execution_count": 44,
   "metadata": {},
   "outputs": [],
   "source": [
    "data = data[data['Gear'].notna()]\n",
    "data.drop('City', axis = 1, inplace = True)\n",
    "data.drop('Name', axis = 1, inplace = True)\n",
    "data.drop('Color', axis = 1, inplace = True)\n",
    "data.drop('Shell', axis = 1, inplace = True)"
   ]
  },
  {
   "cell_type": "code",
   "execution_count": 45,
   "metadata": {},
   "outputs": [],
   "source": [
    "data.drop('Transmission', axis = 1, inplace = True)\n",
    "data.drop('Type Engine', axis = 1, inplace = True)"
   ]
  },
  {
   "cell_type": "code",
   "execution_count": 46,
   "metadata": {},
   "outputs": [],
   "source": [
    "data = data[['Price','Volume','Year','Mileage','Rudder','Gear','CustomsCleared']]"
   ]
  },
  {
   "cell_type": "code",
   "execution_count": 47,
   "metadata": {},
   "outputs": [],
   "source": [
    "data['Year'] = 2020 - data['Year']"
   ]
  },
  {
   "cell_type": "code",
   "execution_count": 48,
   "metadata": {},
   "outputs": [],
   "source": [
    "data=pd.get_dummies(data, drop_first=True)"
   ]
  },
  {
   "cell_type": "code",
   "execution_count": 49,
   "metadata": {},
   "outputs": [
    {
     "data": {
      "text/html": [
       "<div>\n",
       "<style scoped>\n",
       "    .dataframe tbody tr th:only-of-type {\n",
       "        vertical-align: middle;\n",
       "    }\n",
       "\n",
       "    .dataframe tbody tr th {\n",
       "        vertical-align: top;\n",
       "    }\n",
       "\n",
       "    .dataframe thead th {\n",
       "        text-align: right;\n",
       "    }\n",
       "</style>\n",
       "<table border=\"1\" class=\"dataframe\">\n",
       "  <thead>\n",
       "    <tr style=\"text-align: right;\">\n",
       "      <th></th>\n",
       "      <th>Price</th>\n",
       "      <th>Volume</th>\n",
       "      <th>Year</th>\n",
       "      <th>Mileage</th>\n",
       "      <th>Rudder_справа</th>\n",
       "      <th>Gear_передний привод</th>\n",
       "      <th>Gear_полный привод</th>\n",
       "      <th>CustomsCleared_Нет</th>\n",
       "    </tr>\n",
       "  </thead>\n",
       "  <tbody>\n",
       "    <tr>\n",
       "      <th>0</th>\n",
       "      <td>13800000</td>\n",
       "      <td>2.0</td>\n",
       "      <td>1</td>\n",
       "      <td>16000</td>\n",
       "      <td>0</td>\n",
       "      <td>0</td>\n",
       "      <td>1</td>\n",
       "      <td>0</td>\n",
       "    </tr>\n",
       "    <tr>\n",
       "      <th>4</th>\n",
       "      <td>7400000</td>\n",
       "      <td>3.0</td>\n",
       "      <td>13</td>\n",
       "      <td>161000</td>\n",
       "      <td>0</td>\n",
       "      <td>0</td>\n",
       "      <td>1</td>\n",
       "      <td>0</td>\n",
       "    </tr>\n",
       "    <tr>\n",
       "      <th>6</th>\n",
       "      <td>1700000</td>\n",
       "      <td>1.6</td>\n",
       "      <td>7</td>\n",
       "      <td>57000</td>\n",
       "      <td>0</td>\n",
       "      <td>1</td>\n",
       "      <td>0</td>\n",
       "      <td>0</td>\n",
       "    </tr>\n",
       "    <tr>\n",
       "      <th>8</th>\n",
       "      <td>6200000</td>\n",
       "      <td>1.6</td>\n",
       "      <td>6</td>\n",
       "      <td>36400</td>\n",
       "      <td>0</td>\n",
       "      <td>1</td>\n",
       "      <td>0</td>\n",
       "      <td>0</td>\n",
       "    </tr>\n",
       "    <tr>\n",
       "      <th>14</th>\n",
       "      <td>3500000</td>\n",
       "      <td>2.2</td>\n",
       "      <td>12</td>\n",
       "      <td>209000</td>\n",
       "      <td>0</td>\n",
       "      <td>0</td>\n",
       "      <td>0</td>\n",
       "      <td>1</td>\n",
       "    </tr>\n",
       "  </tbody>\n",
       "</table>\n",
       "</div>"
      ],
      "text/plain": [
       "       Price  Volume  Year  Mileage  Rudder_справа  Gear_передний привод  \\\n",
       "0   13800000     2.0     1    16000              0                     0   \n",
       "4    7400000     3.0    13   161000              0                     0   \n",
       "6    1700000     1.6     7    57000              0                     1   \n",
       "8    6200000     1.6     6    36400              0                     1   \n",
       "14   3500000     2.2    12   209000              0                     0   \n",
       "\n",
       "    Gear_полный привод  CustomsCleared_Нет  \n",
       "0                    1                   0  \n",
       "4                    1                   0  \n",
       "6                    0                   0  \n",
       "8                    0                   0  \n",
       "14                   0                   1  "
      ]
     },
     "execution_count": 49,
     "metadata": {},
     "output_type": "execute_result"
    }
   ],
   "source": [
    "data.head()"
   ]
  },
  {
   "cell_type": "code",
   "execution_count": 50,
   "metadata": {},
   "outputs": [],
   "source": [
    "X = data.iloc[:, 1:]\n",
    "\n",
    "y = data.iloc[:, 0]"
   ]
  },
  {
   "cell_type": "code",
   "execution_count": 51,
   "metadata": {},
   "outputs": [
    {
     "data": {
      "text/plain": [
       "ExtraTreesRegressor()"
      ]
     },
     "execution_count": 51,
     "metadata": {},
     "output_type": "execute_result"
    }
   ],
   "source": [
    "from sklearn.ensemble import ExtraTreesRegressor\n",
    "model = ExtraTreesRegressor()\n",
    "model.fit(X,y)"
   ]
  },
  {
   "cell_type": "code",
   "execution_count": 52,
   "metadata": {},
   "outputs": [
    {
     "name": "stdout",
     "output_type": "stream",
     "text": [
      "[0.28052303 0.33823404 0.16242043 0.01024948 0.00516547 0.18748297\n",
      " 0.01592457]\n"
     ]
    }
   ],
   "source": [
    "print(model.feature_importances_)"
   ]
  },
  {
   "cell_type": "code",
   "execution_count": 53,
   "metadata": {},
   "outputs": [],
   "source": [
    "from sklearn.model_selection import train_test_split\n",
    "X_train, X_test, y_train, y_test = train_test_split(X, y, test_size = 0.2)"
   ]
  },
  {
   "cell_type": "code",
   "execution_count": 54,
   "metadata": {},
   "outputs": [],
   "source": [
    "from sklearn.ensemble import RandomForestRegressor\n",
    "rf_random = RandomForestRegressor()"
   ]
  },
  {
   "cell_type": "code",
   "execution_count": 55,
   "metadata": {},
   "outputs": [
    {
     "name": "stdout",
     "output_type": "stream",
     "text": [
      "[100, 200, 300, 400, 500, 600, 700, 800, 900, 1000, 1100, 1200]\n"
     ]
    }
   ],
   "source": [
    "## Hyperparameters\n",
    "n_estimators = [int(x) for x in np.linspace(start=100 ,stop=1200, num=12)]\n",
    "print(n_estimators)"
   ]
  },
  {
   "cell_type": "code",
   "execution_count": 56,
   "metadata": {},
   "outputs": [],
   "source": [
    "# Randomized search CV\n",
    "\n",
    "# no of trees in random forest \n",
    "n_estimators = [int(x) for x in np.linspace(start=100 ,stop=1200, num=12)]\n",
    "\n",
    "# No of features to consider at every split \n",
    "max_features = ['auto', 'sqrt']\n",
    "\n",
    "# Maximum no of levels in a tree\n",
    "max_depth = [int(x) for x in np.linspace(5, 30, num=6)]\n",
    "\n",
    "# minimum number of samples required to split a node \n",
    "min_samples_split = [2, 5, 10, 15, 100]\n",
    "\n",
    "# minimum number of samples required at each leaf node\n",
    "min_samples_leaf = [1, 2, 5, 10]"
   ]
  },
  {
   "cell_type": "code",
   "execution_count": 57,
   "metadata": {},
   "outputs": [
    {
     "name": "stdout",
     "output_type": "stream",
     "text": [
      "{'n_estimators': [100, 200, 300, 400, 500, 600, 700, 800, 900, 1000, 1100, 1200], 'max_features': ['auto', 'sqrt'], 'max_depth': [5, 10, 15, 20, 25, 30], 'min_samples_split': [2, 5, 10, 15, 100], 'min_samples_leaf': [1, 2, 5, 10]}\n"
     ]
    }
   ],
   "source": [
    "from sklearn.model_selection import RandomizedSearchCV\n",
    "random_grid = { 'n_estimators':n_estimators,\n",
    "                'max_features': max_features,\n",
    "                'max_depth': max_depth,\n",
    "                'min_samples_split': min_samples_split,\n",
    "                'min_samples_leaf': min_samples_leaf}\n",
    "print(random_grid)"
   ]
  },
  {
   "cell_type": "code",
   "execution_count": 58,
   "metadata": {},
   "outputs": [],
   "source": [
    "rf = RandomForestRegressor()\n",
    "rf_random = RandomizedSearchCV(estimator=rf, param_distributions=random_grid, \n",
    "                               scoring='neg_mean_squared_error', n_iter=10, cv=5, verbose=2, random_state=42, n_jobs=1)"
   ]
  },
  {
   "cell_type": "code",
   "execution_count": 59,
   "metadata": {},
   "outputs": [
    {
     "name": "stdout",
     "output_type": "stream",
     "text": [
      "Fitting 5 folds for each of 10 candidates, totalling 50 fits\n",
      "[CV] n_estimators=900, min_samples_split=5, min_samples_leaf=5, max_features=sqrt, max_depth=10 \n"
     ]
    },
    {
     "name": "stderr",
     "output_type": "stream",
     "text": [
      "[Parallel(n_jobs=1)]: Using backend SequentialBackend with 1 concurrent workers.\n"
     ]
    },
    {
     "name": "stdout",
     "output_type": "stream",
     "text": [
      "[CV]  n_estimators=900, min_samples_split=5, min_samples_leaf=5, max_features=sqrt, max_depth=10, total=   2.2s\n",
      "[CV] n_estimators=900, min_samples_split=5, min_samples_leaf=5, max_features=sqrt, max_depth=10 \n"
     ]
    },
    {
     "name": "stderr",
     "output_type": "stream",
     "text": [
      "[Parallel(n_jobs=1)]: Done   1 out of   1 | elapsed:    2.1s remaining:    0.0s\n"
     ]
    },
    {
     "name": "stdout",
     "output_type": "stream",
     "text": [
      "[CV]  n_estimators=900, min_samples_split=5, min_samples_leaf=5, max_features=sqrt, max_depth=10, total=   2.5s\n",
      "[CV] n_estimators=900, min_samples_split=5, min_samples_leaf=5, max_features=sqrt, max_depth=10 \n",
      "[CV]  n_estimators=900, min_samples_split=5, min_samples_leaf=5, max_features=sqrt, max_depth=10, total=   2.3s\n",
      "[CV] n_estimators=900, min_samples_split=5, min_samples_leaf=5, max_features=sqrt, max_depth=10 \n",
      "[CV]  n_estimators=900, min_samples_split=5, min_samples_leaf=5, max_features=sqrt, max_depth=10, total=   2.3s\n",
      "[CV] n_estimators=900, min_samples_split=5, min_samples_leaf=5, max_features=sqrt, max_depth=10 \n",
      "[CV]  n_estimators=900, min_samples_split=5, min_samples_leaf=5, max_features=sqrt, max_depth=10, total=   2.3s\n",
      "[CV] n_estimators=1100, min_samples_split=10, min_samples_leaf=2, max_features=sqrt, max_depth=15 \n",
      "[CV]  n_estimators=1100, min_samples_split=10, min_samples_leaf=2, max_features=sqrt, max_depth=15, total=   2.8s\n",
      "[CV] n_estimators=1100, min_samples_split=10, min_samples_leaf=2, max_features=sqrt, max_depth=15 \n",
      "[CV]  n_estimators=1100, min_samples_split=10, min_samples_leaf=2, max_features=sqrt, max_depth=15, total=   2.8s\n",
      "[CV] n_estimators=1100, min_samples_split=10, min_samples_leaf=2, max_features=sqrt, max_depth=15 \n",
      "[CV]  n_estimators=1100, min_samples_split=10, min_samples_leaf=2, max_features=sqrt, max_depth=15, total=   3.0s\n",
      "[CV] n_estimators=1100, min_samples_split=10, min_samples_leaf=2, max_features=sqrt, max_depth=15 \n",
      "[CV]  n_estimators=1100, min_samples_split=10, min_samples_leaf=2, max_features=sqrt, max_depth=15, total=   2.7s\n",
      "[CV] n_estimators=1100, min_samples_split=10, min_samples_leaf=2, max_features=sqrt, max_depth=15 \n",
      "[CV]  n_estimators=1100, min_samples_split=10, min_samples_leaf=2, max_features=sqrt, max_depth=15, total=   2.3s\n",
      "[CV] n_estimators=300, min_samples_split=100, min_samples_leaf=5, max_features=auto, max_depth=15 \n",
      "[CV]  n_estimators=300, min_samples_split=100, min_samples_leaf=5, max_features=auto, max_depth=15, total=   0.8s\n",
      "[CV] n_estimators=300, min_samples_split=100, min_samples_leaf=5, max_features=auto, max_depth=15 \n",
      "[CV]  n_estimators=300, min_samples_split=100, min_samples_leaf=5, max_features=auto, max_depth=15, total=   0.7s\n",
      "[CV] n_estimators=300, min_samples_split=100, min_samples_leaf=5, max_features=auto, max_depth=15 \n",
      "[CV]  n_estimators=300, min_samples_split=100, min_samples_leaf=5, max_features=auto, max_depth=15, total=   0.8s\n",
      "[CV] n_estimators=300, min_samples_split=100, min_samples_leaf=5, max_features=auto, max_depth=15 \n",
      "[CV]  n_estimators=300, min_samples_split=100, min_samples_leaf=5, max_features=auto, max_depth=15, total=   0.7s\n",
      "[CV] n_estimators=300, min_samples_split=100, min_samples_leaf=5, max_features=auto, max_depth=15 \n",
      "[CV]  n_estimators=300, min_samples_split=100, min_samples_leaf=5, max_features=auto, max_depth=15, total=   0.8s\n",
      "[CV] n_estimators=400, min_samples_split=5, min_samples_leaf=5, max_features=auto, max_depth=15 \n",
      "[CV]  n_estimators=400, min_samples_split=5, min_samples_leaf=5, max_features=auto, max_depth=15, total=   1.3s\n",
      "[CV] n_estimators=400, min_samples_split=5, min_samples_leaf=5, max_features=auto, max_depth=15 \n",
      "[CV]  n_estimators=400, min_samples_split=5, min_samples_leaf=5, max_features=auto, max_depth=15, total=   1.1s\n",
      "[CV] n_estimators=400, min_samples_split=5, min_samples_leaf=5, max_features=auto, max_depth=15 \n",
      "[CV]  n_estimators=400, min_samples_split=5, min_samples_leaf=5, max_features=auto, max_depth=15, total=   1.5s\n",
      "[CV] n_estimators=400, min_samples_split=5, min_samples_leaf=5, max_features=auto, max_depth=15 \n",
      "[CV]  n_estimators=400, min_samples_split=5, min_samples_leaf=5, max_features=auto, max_depth=15, total=   1.4s\n",
      "[CV] n_estimators=400, min_samples_split=5, min_samples_leaf=5, max_features=auto, max_depth=15 \n",
      "[CV]  n_estimators=400, min_samples_split=5, min_samples_leaf=5, max_features=auto, max_depth=15, total=   1.5s\n",
      "[CV] n_estimators=700, min_samples_split=5, min_samples_leaf=10, max_features=auto, max_depth=20 \n",
      "[CV]  n_estimators=700, min_samples_split=5, min_samples_leaf=10, max_features=auto, max_depth=20, total=   1.9s\n",
      "[CV] n_estimators=700, min_samples_split=5, min_samples_leaf=10, max_features=auto, max_depth=20 \n",
      "[CV]  n_estimators=700, min_samples_split=5, min_samples_leaf=10, max_features=auto, max_depth=20, total=   2.0s\n",
      "[CV] n_estimators=700, min_samples_split=5, min_samples_leaf=10, max_features=auto, max_depth=20 \n",
      "[CV]  n_estimators=700, min_samples_split=5, min_samples_leaf=10, max_features=auto, max_depth=20, total=   2.0s\n",
      "[CV] n_estimators=700, min_samples_split=5, min_samples_leaf=10, max_features=auto, max_depth=20 \n",
      "[CV]  n_estimators=700, min_samples_split=5, min_samples_leaf=10, max_features=auto, max_depth=20, total=   1.9s\n",
      "[CV] n_estimators=700, min_samples_split=5, min_samples_leaf=10, max_features=auto, max_depth=20 \n",
      "[CV]  n_estimators=700, min_samples_split=5, min_samples_leaf=10, max_features=auto, max_depth=20, total=   2.0s\n",
      "[CV] n_estimators=1000, min_samples_split=2, min_samples_leaf=1, max_features=sqrt, max_depth=25 \n",
      "[CV]  n_estimators=1000, min_samples_split=2, min_samples_leaf=1, max_features=sqrt, max_depth=25, total=   2.9s\n",
      "[CV] n_estimators=1000, min_samples_split=2, min_samples_leaf=1, max_features=sqrt, max_depth=25 \n",
      "[CV]  n_estimators=1000, min_samples_split=2, min_samples_leaf=1, max_features=sqrt, max_depth=25, total=   3.3s\n",
      "[CV] n_estimators=1000, min_samples_split=2, min_samples_leaf=1, max_features=sqrt, max_depth=25 \n",
      "[CV]  n_estimators=1000, min_samples_split=2, min_samples_leaf=1, max_features=sqrt, max_depth=25, total=   3.2s\n",
      "[CV] n_estimators=1000, min_samples_split=2, min_samples_leaf=1, max_features=sqrt, max_depth=25 \n",
      "[CV]  n_estimators=1000, min_samples_split=2, min_samples_leaf=1, max_features=sqrt, max_depth=25, total=   2.9s\n",
      "[CV] n_estimators=1000, min_samples_split=2, min_samples_leaf=1, max_features=sqrt, max_depth=25 \n",
      "[CV]  n_estimators=1000, min_samples_split=2, min_samples_leaf=1, max_features=sqrt, max_depth=25, total=   3.0s\n",
      "[CV] n_estimators=1100, min_samples_split=15, min_samples_leaf=10, max_features=sqrt, max_depth=5 \n",
      "[CV]  n_estimators=1100, min_samples_split=15, min_samples_leaf=10, max_features=sqrt, max_depth=5, total=   2.4s\n",
      "[CV] n_estimators=1100, min_samples_split=15, min_samples_leaf=10, max_features=sqrt, max_depth=5 \n",
      "[CV]  n_estimators=1100, min_samples_split=15, min_samples_leaf=10, max_features=sqrt, max_depth=5, total=   2.3s\n",
      "[CV] n_estimators=1100, min_samples_split=15, min_samples_leaf=10, max_features=sqrt, max_depth=5 \n",
      "[CV]  n_estimators=1100, min_samples_split=15, min_samples_leaf=10, max_features=sqrt, max_depth=5, total=   2.7s\n",
      "[CV] n_estimators=1100, min_samples_split=15, min_samples_leaf=10, max_features=sqrt, max_depth=5 \n",
      "[CV]  n_estimators=1100, min_samples_split=15, min_samples_leaf=10, max_features=sqrt, max_depth=5, total=   2.5s\n",
      "[CV] n_estimators=1100, min_samples_split=15, min_samples_leaf=10, max_features=sqrt, max_depth=5 \n",
      "[CV]  n_estimators=1100, min_samples_split=15, min_samples_leaf=10, max_features=sqrt, max_depth=5, total=   2.5s\n",
      "[CV] n_estimators=300, min_samples_split=15, min_samples_leaf=1, max_features=sqrt, max_depth=15 \n",
      "[CV]  n_estimators=300, min_samples_split=15, min_samples_leaf=1, max_features=sqrt, max_depth=15, total=   0.7s\n",
      "[CV] n_estimators=300, min_samples_split=15, min_samples_leaf=1, max_features=sqrt, max_depth=15 \n",
      "[CV]  n_estimators=300, min_samples_split=15, min_samples_leaf=1, max_features=sqrt, max_depth=15, total=   0.8s\n",
      "[CV] n_estimators=300, min_samples_split=15, min_samples_leaf=1, max_features=sqrt, max_depth=15 \n",
      "[CV]  n_estimators=300, min_samples_split=15, min_samples_leaf=1, max_features=sqrt, max_depth=15, total=   0.6s\n",
      "[CV] n_estimators=300, min_samples_split=15, min_samples_leaf=1, max_features=sqrt, max_depth=15 \n",
      "[CV]  n_estimators=300, min_samples_split=15, min_samples_leaf=1, max_features=sqrt, max_depth=15, total=   0.8s\n",
      "[CV] n_estimators=300, min_samples_split=15, min_samples_leaf=1, max_features=sqrt, max_depth=15 \n",
      "[CV]  n_estimators=300, min_samples_split=15, min_samples_leaf=1, max_features=sqrt, max_depth=15, total=   0.7s\n",
      "[CV] n_estimators=700, min_samples_split=10, min_samples_leaf=2, max_features=sqrt, max_depth=5 \n"
     ]
    },
    {
     "name": "stdout",
     "output_type": "stream",
     "text": [
      "[CV]  n_estimators=700, min_samples_split=10, min_samples_leaf=2, max_features=sqrt, max_depth=5, total=   1.9s\n",
      "[CV] n_estimators=700, min_samples_split=10, min_samples_leaf=2, max_features=sqrt, max_depth=5 \n",
      "[CV]  n_estimators=700, min_samples_split=10, min_samples_leaf=2, max_features=sqrt, max_depth=5, total=   1.9s\n",
      "[CV] n_estimators=700, min_samples_split=10, min_samples_leaf=2, max_features=sqrt, max_depth=5 \n",
      "[CV]  n_estimators=700, min_samples_split=10, min_samples_leaf=2, max_features=sqrt, max_depth=5, total=   1.7s\n",
      "[CV] n_estimators=700, min_samples_split=10, min_samples_leaf=2, max_features=sqrt, max_depth=5 \n",
      "[CV]  n_estimators=700, min_samples_split=10, min_samples_leaf=2, max_features=sqrt, max_depth=5, total=   2.0s\n",
      "[CV] n_estimators=700, min_samples_split=10, min_samples_leaf=2, max_features=sqrt, max_depth=5 \n",
      "[CV]  n_estimators=700, min_samples_split=10, min_samples_leaf=2, max_features=sqrt, max_depth=5, total=   1.6s\n",
      "[CV] n_estimators=700, min_samples_split=15, min_samples_leaf=1, max_features=auto, max_depth=20 \n",
      "[CV]  n_estimators=700, min_samples_split=15, min_samples_leaf=1, max_features=auto, max_depth=20, total=   2.0s\n",
      "[CV] n_estimators=700, min_samples_split=15, min_samples_leaf=1, max_features=auto, max_depth=20 \n",
      "[CV]  n_estimators=700, min_samples_split=15, min_samples_leaf=1, max_features=auto, max_depth=20, total=   2.2s\n",
      "[CV] n_estimators=700, min_samples_split=15, min_samples_leaf=1, max_features=auto, max_depth=20 \n",
      "[CV]  n_estimators=700, min_samples_split=15, min_samples_leaf=1, max_features=auto, max_depth=20, total=   2.2s\n",
      "[CV] n_estimators=700, min_samples_split=15, min_samples_leaf=1, max_features=auto, max_depth=20 \n",
      "[CV]  n_estimators=700, min_samples_split=15, min_samples_leaf=1, max_features=auto, max_depth=20, total=   2.1s\n",
      "[CV] n_estimators=700, min_samples_split=15, min_samples_leaf=1, max_features=auto, max_depth=20 \n",
      "[CV]  n_estimators=700, min_samples_split=15, min_samples_leaf=1, max_features=auto, max_depth=20, total=   2.2s\n"
     ]
    },
    {
     "name": "stderr",
     "output_type": "stream",
     "text": [
      "[Parallel(n_jobs=1)]: Done  50 out of  50 | elapsed:  1.6min finished\n"
     ]
    },
    {
     "data": {
      "text/plain": [
       "RandomizedSearchCV(cv=5, estimator=RandomForestRegressor(), n_jobs=1,\n",
       "                   param_distributions={'max_depth': [5, 10, 15, 20, 25, 30],\n",
       "                                        'max_features': ['auto', 'sqrt'],\n",
       "                                        'min_samples_leaf': [1, 2, 5, 10],\n",
       "                                        'min_samples_split': [2, 5, 10, 15,\n",
       "                                                              100],\n",
       "                                        'n_estimators': [100, 200, 300, 400,\n",
       "                                                         500, 600, 700, 800,\n",
       "                                                         900, 1000, 1100,\n",
       "                                                         1200]},\n",
       "                   random_state=42, scoring='neg_mean_squared_error',\n",
       "                   verbose=2)"
      ]
     },
     "execution_count": 59,
     "metadata": {},
     "output_type": "execute_result"
    }
   ],
   "source": [
    "rf_random.fit(X_train, y_train)"
   ]
  },
  {
   "cell_type": "code",
   "execution_count": 60,
   "metadata": {},
   "outputs": [
    {
     "data": {
      "text/plain": [
       "array([ 7784600.        ,  5380250.        ,  6652475.989     ,\n",
       "       14152759.53      , 47928130.78785184, 10934270.973     ,\n",
       "        8828139.919     ,  1105390.        , 13042615.43644444,\n",
       "        4321060.        ,  3171885.        ,  7115063.        ,\n",
       "        1923696.        ,  6456949.        , 10275119.938     ,\n",
       "        2764780.        , 16977387.998     ,  4333359.978     ,\n",
       "        3486875.        ,  1584455.6       ,  6263890.        ,\n",
       "        4921670.47619048, 11306329.997     ,  8159000.        ,\n",
       "        4303709.        ,  8064300.        ,  8468080.27619047,\n",
       "        1119260.        ,  4618749.979     ,  3068070.        ,\n",
       "         952660.        ,  3451130.        , 12111299.997     ,\n",
       "        3939926.66666667, 10493799.998     ,  4630529.196     ,\n",
       "        3164393.166     ,  6932129.598     ,  5407970.        ,\n",
       "        7455554.322     ,  4574010.        ,  5882899.993     ,\n",
       "        7018720.        ,  7539189.        ,  4928047.974     ,\n",
       "        4834496.66666667,  6908430.        ,  3342825.        ,\n",
       "        4324370.        ,  9224750.        ,  1590710.        ,\n",
       "        4642013.33333333,  4481860.        , 13305109.937     ,\n",
       "        1291220.        , 12818519.99      , 16422549.953     ,\n",
       "        1310170.        ,  3687610.        ,  2055100.8       ,\n",
       "        1008010.        ,  6923470.        ,  3616580.        ,\n",
       "        4230867.        ,  3680917.        ,  1722090.2       ,\n",
       "        4440756.66666667, 12384960.        , 12882439.        ,\n",
       "        3373365.        , 16444240.        ,  2529038.894     ,\n",
       "        8062757.        ,  1332652.7       , 13191499.992     ,\n",
       "        4326174.        ,  1597465.        ,  6173767.498     ,\n",
       "        2858450.        , 18678600.        , 10681070.        ,\n",
       "        4110490.        ,  9166226.66666667,  9001744.80744444,\n",
       "        7419311.        , 19592200.        ,  9537050.        ,\n",
       "        3560690.07257143,  4391010.        ,  4435530.        ,\n",
       "        4879530.        ,  3033285.        ,  8165150.        ,\n",
       "        8472529.598     ,  8654179.999     ,  7642400.        ,\n",
       "        9081179.        , 13710926.4265873 ,  1223698.997     ,\n",
       "       21790289.976     ,  7322370.        ,  8304700.        ,\n",
       "        3180010.        ,  6206930.        ,  1244900.        ,\n",
       "       13054944.933     ,  4079329.322     ,  3843292.        ,\n",
       "        7060575.558     ,  1687130.        , 11287789.06923809,\n",
       "        2028179.598     ,  1869279.999     ,  6390345.778     ,\n",
       "        5681169.999     ,  1037910.        ,  9175130.        ,\n",
       "        7888749.997     ,  2959599.999     ,  7839340.        ,\n",
       "        1608104.996     ,  3535711.182     ,  2943179.997     ,\n",
       "       10108749.992     ,  5020122.        ,  2949040.        ,\n",
       "        1304200.        ,  1172800.5       ,  8468080.27619047,\n",
       "        5854225.        ,  4730261.66666667,  8997082.999     ,\n",
       "        1880804.598     ,  3520500.        , 32231087.096     ,\n",
       "        4797868.        ,  4687420.        , 36651459.999     ,\n",
       "        1177890.        , 13190963.59244444,  4186459.196     ,\n",
       "       12594410.        ,  8279396.66666667,  6573140.        ,\n",
       "        4661036.66666667,  7531574.975     ,   833360.        ,\n",
       "        2737210.        ,  5375049.997     ,  7245441.        ,\n",
       "        2026562.        ,  5600320.        ,  4775180.        ,\n",
       "        5157523.33333333, 10090604.        ,  5502290.        ,\n",
       "       47928130.78785184,  3036680.        ,  4897820.        ,\n",
       "       13016879.995     , 12583949.832     ,  6447913.576     ,\n",
       "        3629099.        ,  2038581.6       ,  2746845.        ,\n",
       "       14304453.991     ,   976970.        ,  4905520.        ,\n",
       "        4924380.        ,  2313639.498     ,  5937155.        ,\n",
       "        1368900.        ,  3490425.        ,  1291800.        ,\n",
       "        3457340.        ,  2098235.47619048,  3426328.644     ,\n",
       "        6674839.        , 11451148.894     ,  6549790.        ,\n",
       "        7088030.        ,  4674081.4       ,  4314158.0952381 ,\n",
       "        7975900.        ,  8126199.999     , 24079701.84444444,\n",
       "        8564899.        ,  6596196.        , 44190613.79455267,\n",
       "        9382315.994     ,  7224849.994     ,  2039335.        ,\n",
       "       13029388.808     ,   978640.        ,  5341908.        ,\n",
       "        4465783.33333333,  5258780.        ,  6784630.        ,\n",
       "        1902374.        ,  2806075.        ,  3782494.        ,\n",
       "        2561760.1       , 11969824.        ,  6652368.376     ,\n",
       "        3847879.598     ,  3032120.        ,  7122490.        ,\n",
       "        2042749.8       ,  2503500.        ,  4884640.        ,\n",
       "        4170250.        ,  4706010.        ])"
      ]
     },
     "execution_count": 60,
     "metadata": {},
     "output_type": "execute_result"
    }
   ],
   "source": [
    "predictions = rf_random.predict(X_test)\n",
    "predictions"
   ]
  },
  {
   "cell_type": "code",
   "execution_count": 61,
   "metadata": {},
   "outputs": [],
   "source": [
    "import pickle\n",
    "\n",
    "# open a file where you want to store the data\n",
    "file = open('random_forest_regression_model.pkl', 'wb')\n",
    "\n",
    "# dump info to that file\n",
    "pickle.dump(rf_random, file)"
   ]
  },
  {
   "cell_type": "code",
   "execution_count": 66,
   "metadata": {},
   "outputs": [],
   "source": [
    "test = pickle.load(open('random_forest_regression_model.pkl','rb'))\n",
    "prediction = test.predict([[1.6,6,36400,0,1,0,0]])"
   ]
  },
  {
   "cell_type": "code",
   "execution_count": 67,
   "metadata": {},
   "outputs": [
    {
     "name": "stdout",
     "output_type": "stream",
     "text": [
      "[5570960.]\n"
     ]
    }
   ],
   "source": [
    "print(prediction)"
   ]
  }
 ],
 "metadata": {
  "kernelspec": {
   "display_name": "Python 3",
   "language": "python",
   "name": "python3"
  },
  "language_info": {
   "codemirror_mode": {
    "name": "ipython",
    "version": 3
   },
   "file_extension": ".py",
   "mimetype": "text/x-python",
   "name": "python",
   "nbconvert_exporter": "python",
   "pygments_lexer": "ipython3",
   "version": "3.8.3"
  }
 },
 "nbformat": 4,
 "nbformat_minor": 4
}
