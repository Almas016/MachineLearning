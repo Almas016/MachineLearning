{
 "cells": [
  {
   "cell_type": "code",
   "execution_count": 1,
   "metadata": {},
   "outputs": [],
   "source": [
    "#importing the libraries\n",
    "import pandas as pd\n",
    "import numpy as np\n",
    "\n",
    "import matplotlib.pyplot as plt\n",
    "import seaborn as sns"
   ]
  },
  {
   "cell_type": "markdown",
   "metadata": {},
   "source": [
    "# Reading and Understanding the Data"
   ]
  },
  {
   "cell_type": "code",
   "execution_count": 2,
   "metadata": {},
   "outputs": [
    {
     "data": {
      "text/html": [
       "<div>\n",
       "<style scoped>\n",
       "    .dataframe tbody tr th:only-of-type {\n",
       "        vertical-align: middle;\n",
       "    }\n",
       "\n",
       "    .dataframe tbody tr th {\n",
       "        vertical-align: top;\n",
       "    }\n",
       "\n",
       "    .dataframe thead th {\n",
       "        text-align: right;\n",
       "    }\n",
       "</style>\n",
       "<table border=\"1\" class=\"dataframe\">\n",
       "  <thead>\n",
       "    <tr style=\"text-align: right;\">\n",
       "      <th></th>\n",
       "      <th>#</th>\n",
       "      <th>City</th>\n",
       "      <th>Name</th>\n",
       "      <th>Year</th>\n",
       "      <th>Shell</th>\n",
       "      <th>Engine volume, L</th>\n",
       "      <th>Mileage</th>\n",
       "      <th>Transmission</th>\n",
       "      <th>Rudder</th>\n",
       "      <th>Color</th>\n",
       "      <th>Gear</th>\n",
       "      <th>CustomsCleared</th>\n",
       "      <th>Price</th>\n",
       "    </tr>\n",
       "  </thead>\n",
       "  <tbody>\n",
       "    <tr>\n",
       "      <th>0</th>\n",
       "      <td>1</td>\n",
       "      <td>Нур-Султан (Астана)</td>\n",
       "      <td>ToyotaRAV 4</td>\n",
       "      <td>2019</td>\n",
       "      <td>кроссовер</td>\n",
       "      <td>2 (бензин)</td>\n",
       "      <td>16 000 км</td>\n",
       "      <td>вариатор</td>\n",
       "      <td>слева</td>\n",
       "      <td>белый металлик</td>\n",
       "      <td>полный привод</td>\n",
       "      <td>Да</td>\n",
       "      <td>13 800 000\\n    ₸</td>\n",
       "    </tr>\n",
       "    <tr>\n",
       "      <th>1</th>\n",
       "      <td>2</td>\n",
       "      <td>Нур-Султан (Астана)</td>\n",
       "      <td>ToyotaRAV 4</td>\n",
       "      <td>2019</td>\n",
       "      <td>кроссовер</td>\n",
       "      <td>2 (бензин)</td>\n",
       "      <td>16 000 км</td>\n",
       "      <td>вариатор</td>\n",
       "      <td>слева</td>\n",
       "      <td>белый металлик</td>\n",
       "      <td>полный привод</td>\n",
       "      <td>Да</td>\n",
       "      <td>13 800 000\\n    ₸</td>\n",
       "    </tr>\n",
       "    <tr>\n",
       "      <th>2</th>\n",
       "      <td>3</td>\n",
       "      <td>Шымкент</td>\n",
       "      <td>Mercedes-BenzE 230</td>\n",
       "      <td>1988</td>\n",
       "      <td>купе</td>\n",
       "      <td>2.3 (бензин)</td>\n",
       "      <td>NaN</td>\n",
       "      <td>автомат</td>\n",
       "      <td>слева</td>\n",
       "      <td>вишня металлик</td>\n",
       "      <td>задний привод</td>\n",
       "      <td>Да</td>\n",
       "      <td>1 500 000\\n    ₸</td>\n",
       "    </tr>\n",
       "    <tr>\n",
       "      <th>3</th>\n",
       "      <td>4</td>\n",
       "      <td>Шымкент</td>\n",
       "      <td>Mercedes-BenzE 230</td>\n",
       "      <td>1988</td>\n",
       "      <td>купе</td>\n",
       "      <td>2.3 (бензин)</td>\n",
       "      <td>NaN</td>\n",
       "      <td>автомат</td>\n",
       "      <td>слева</td>\n",
       "      <td>вишня металлик</td>\n",
       "      <td>задний привод</td>\n",
       "      <td>Да</td>\n",
       "      <td>1 500 000\\n    ₸</td>\n",
       "    </tr>\n",
       "    <tr>\n",
       "      <th>4</th>\n",
       "      <td>5</td>\n",
       "      <td>Алматы</td>\n",
       "      <td>BMWX5</td>\n",
       "      <td>2007</td>\n",
       "      <td>кроссовер</td>\n",
       "      <td>3 (бензин)</td>\n",
       "      <td>161 000 км</td>\n",
       "      <td>автомат</td>\n",
       "      <td>слева</td>\n",
       "      <td>серебристый</td>\n",
       "      <td>полный привод</td>\n",
       "      <td>Да</td>\n",
       "      <td>7 400 000\\n    ₸</td>\n",
       "    </tr>\n",
       "  </tbody>\n",
       "</table>\n",
       "</div>"
      ],
      "text/plain": [
       "   #                 City                Name   Year      Shell  \\\n",
       "0  1  Нур-Султан (Астана)         ToyotaRAV 4   2019  кроссовер   \n",
       "1  2  Нур-Султан (Астана)         ToyotaRAV 4   2019  кроссовер   \n",
       "2  3              Шымкент  Mercedes-BenzE 230   1988       купе   \n",
       "3  4              Шымкент  Mercedes-BenzE 230   1988       купе   \n",
       "4  5               Алматы               BMWX5   2007  кроссовер   \n",
       "\n",
       "  Engine volume, L     Mileage Transmission Rudder           Color  \\\n",
       "0       2 (бензин)   16 000 км     вариатор  слева  белый металлик   \n",
       "1       2 (бензин)   16 000 км     вариатор  слева  белый металлик   \n",
       "2     2.3 (бензин)         NaN      автомат  слева  вишня металлик   \n",
       "3     2.3 (бензин)         NaN      автомат  слева  вишня металлик   \n",
       "4       3 (бензин)  161 000 км      автомат  слева     серебристый   \n",
       "\n",
       "            Gear CustomsCleared              Price  \n",
       "0  полный привод             Да  13 800 000\\n    ₸  \n",
       "1  полный привод             Да  13 800 000\\n    ₸  \n",
       "2  задний привод             Да   1 500 000\\n    ₸  \n",
       "3  задний привод             Да   1 500 000\\n    ₸  \n",
       "4  полный привод             Да   7 400 000\\n    ₸  "
      ]
     },
     "execution_count": 2,
     "metadata": {},
     "output_type": "execute_result"
    }
   ],
   "source": [
    "data = pd.read_excel('result (2).xls')\n",
    "data.head()"
   ]
  },
  {
   "cell_type": "code",
   "execution_count": 3,
   "metadata": {},
   "outputs": [
    {
     "data": {
      "text/plain": [
       "(4000, 13)"
      ]
     },
     "execution_count": 3,
     "metadata": {},
     "output_type": "execute_result"
    }
   ],
   "source": [
    "data.shape"
   ]
  },
  {
   "cell_type": "code",
   "execution_count": 4,
   "metadata": {},
   "outputs": [
    {
     "name": "stdout",
     "output_type": "stream",
     "text": [
      "<class 'pandas.core.frame.DataFrame'>\n",
      "RangeIndex: 4000 entries, 0 to 3999\n",
      "Data columns (total 13 columns):\n",
      " #   Column            Non-Null Count  Dtype \n",
      "---  ------            --------------  ----- \n",
      " 0   #                 4000 non-null   int64 \n",
      " 1   City              4000 non-null   object\n",
      " 2   Name              4000 non-null   object\n",
      " 3   Year              4000 non-null   object\n",
      " 4   Shell             4000 non-null   object\n",
      " 5   Engine volume, L  3998 non-null   object\n",
      " 6   Mileage           2524 non-null   object\n",
      " 7   Transmission      4000 non-null   object\n",
      " 8   Rudder            4000 non-null   object\n",
      " 9   Color             3182 non-null   object\n",
      " 10  Gear              3642 non-null   object\n",
      " 11  CustomsCleared    4000 non-null   object\n",
      " 12  Price             4000 non-null   object\n",
      "dtypes: int64(1), object(12)\n",
      "memory usage: 406.4+ KB\n"
     ]
    }
   ],
   "source": [
    "data.info()"
   ]
  },
  {
   "cell_type": "markdown",
   "metadata": {},
   "source": [
    "# Data Cleaning and Preparation"
   ]
  },
  {
   "cell_type": "code",
   "execution_count": 5,
   "metadata": {},
   "outputs": [],
   "source": [
    "# Drop the # as it is of no use\n",
    "data.drop('#', axis = 1, inplace = True)\n",
    "\n",
    "data = data.drop_duplicates()\n",
    "\n",
    "data['Price'] = data['Price'].str.replace(r'\\D', '').astype(int)\n",
    "\n",
    "data['Mileage'] = data['Mileage'].str.replace(r'\\D', '').astype(\"Float32\").astype('Int32')\n",
    "data = data[data['Mileage'].notna()]\n",
    "#data['Mileage'] = data['Mileage'].replace(np.nan, 0)\n",
    "\n",
    "data.loc[data['Year']=='года','Year'] = data.loc[data['Year']=='года']['Name'].str.split().str[1]\n",
    "data['Year'] = data['Year'].astype(str).astype(int)\n",
    "\n",
    "#drop nan in column\n",
    "data = data[data['Engine volume, L'].notna()]\n",
    "\n",
    "data['Type Engine'] = data['Engine volume, L'].str.split().str[1]\n",
    "data['Type Engine'] = data['Type Engine'].str.replace(\"(\", \"\")\n",
    "data['Type Engine'] = data['Type Engine'].str.replace(\")\", \"\")\n",
    "\n",
    "data['Engine volume, L'] = data['Engine volume, L'].str.split().str[0].astype(float)\n",
    "\n",
    "data = data[['City','Name','Year','Shell','Engine volume, L','Mileage',\n",
    "             'Transmission','Rudder','Color','Gear','CustomsCleared','Type Engine','Price']]\n",
    "data = data.rename(columns={\"Engine volume, L\": \"Volume\"})\n",
    "\n",
    "indexList = data.loc[data['Type Engine']=='газ','Type Engine'].index\n",
    "data = data.drop(index=indexList)\n",
    "\n",
    "indexList = data.loc[data['Type Engine']=='гибрид','Type Engine'].index\n",
    "data = data.drop(index=indexList)\n",
    "\n",
    "indexList = data.loc[data['Transmission']=='робот','Transmission'].index\n",
    "data = data.drop(index=indexList)\n",
    "\n",
    "indexList = data.loc[data['Transmission']=='вариатор','Transmission'].index\n",
    "data = data.drop(index=indexList)"
   ]
  },
  {
   "cell_type": "markdown",
   "metadata": {},
   "source": [
    "# Data Inspection"
   ]
  },
  {
   "cell_type": "code",
   "execution_count": null,
   "metadata": {},
   "outputs": [],
   "source": [
    "Q3 = data['Price'].quantile(0.75)\n",
    "Q1 = data['Price'].quantile(0.75)"
   ]
  },
  {
   "cell_type": "code",
   "execution_count": 9,
   "metadata": {},
   "outputs": [
    {
     "data": {
      "text/html": [
       "<div>\n",
       "<style scoped>\n",
       "    .dataframe tbody tr th:only-of-type {\n",
       "        vertical-align: middle;\n",
       "    }\n",
       "\n",
       "    .dataframe tbody tr th {\n",
       "        vertical-align: top;\n",
       "    }\n",
       "\n",
       "    .dataframe thead th {\n",
       "        text-align: right;\n",
       "    }\n",
       "</style>\n",
       "<table border=\"1\" class=\"dataframe\">\n",
       "  <thead>\n",
       "    <tr style=\"text-align: right;\">\n",
       "      <th></th>\n",
       "      <th>City</th>\n",
       "      <th>Name</th>\n",
       "      <th>Year</th>\n",
       "      <th>Shell</th>\n",
       "      <th>Volume</th>\n",
       "      <th>Mileage</th>\n",
       "      <th>Transmission</th>\n",
       "      <th>Rudder</th>\n",
       "      <th>Color</th>\n",
       "      <th>Gear</th>\n",
       "      <th>CustomsCleared</th>\n",
       "      <th>Type Engine</th>\n",
       "      <th>Price</th>\n",
       "    </tr>\n",
       "  </thead>\n",
       "  <tbody>\n",
       "    <tr>\n",
       "      <th>4</th>\n",
       "      <td>Алматы</td>\n",
       "      <td>BMWX5</td>\n",
       "      <td>2007</td>\n",
       "      <td>кроссовер</td>\n",
       "      <td>3.0</td>\n",
       "      <td>161000</td>\n",
       "      <td>автомат</td>\n",
       "      <td>слева</td>\n",
       "      <td>серебристый</td>\n",
       "      <td>полный привод</td>\n",
       "      <td>Да</td>\n",
       "      <td>бензин</td>\n",
       "      <td>7400000</td>\n",
       "    </tr>\n",
       "    <tr>\n",
       "      <th>6</th>\n",
       "      <td>Усть-Каменогорск</td>\n",
       "      <td>ВАЗ (Lada)2114 (хэтчбек)</td>\n",
       "      <td>2013</td>\n",
       "      <td>хэтчбек</td>\n",
       "      <td>1.6</td>\n",
       "      <td>57000</td>\n",
       "      <td>механика</td>\n",
       "      <td>слева</td>\n",
       "      <td>белый</td>\n",
       "      <td>передний привод</td>\n",
       "      <td>Да</td>\n",
       "      <td>бензин</td>\n",
       "      <td>1700000</td>\n",
       "    </tr>\n",
       "    <tr>\n",
       "      <th>14</th>\n",
       "      <td>Алматы</td>\n",
       "      <td>Mercedes-BenzE 200</td>\n",
       "      <td>2008</td>\n",
       "      <td>седан</td>\n",
       "      <td>2.2</td>\n",
       "      <td>209000</td>\n",
       "      <td>автомат</td>\n",
       "      <td>слева</td>\n",
       "      <td>черный металлик</td>\n",
       "      <td>задний привод</td>\n",
       "      <td>Нет</td>\n",
       "      <td>дизель</td>\n",
       "      <td>3500000</td>\n",
       "    </tr>\n",
       "    <tr>\n",
       "      <th>16</th>\n",
       "      <td>Шымкент</td>\n",
       "      <td>ВАЗ (Lada)2190 (седан)</td>\n",
       "      <td>2018</td>\n",
       "      <td>седан</td>\n",
       "      <td>1.6</td>\n",
       "      <td>19500</td>\n",
       "      <td>механика</td>\n",
       "      <td>слева</td>\n",
       "      <td>серебристый металлик</td>\n",
       "      <td>передний привод</td>\n",
       "      <td>Да</td>\n",
       "      <td>бензин</td>\n",
       "      <td>3450000</td>\n",
       "    </tr>\n",
       "    <tr>\n",
       "      <th>18</th>\n",
       "      <td>Шымкент</td>\n",
       "      <td>LexusLX 570</td>\n",
       "      <td>2017</td>\n",
       "      <td>внедорожник</td>\n",
       "      <td>5.7</td>\n",
       "      <td>43000</td>\n",
       "      <td>автомат</td>\n",
       "      <td>слева</td>\n",
       "      <td>белый</td>\n",
       "      <td>NaN</td>\n",
       "      <td>Да</td>\n",
       "      <td>бензин</td>\n",
       "      <td>40000000</td>\n",
       "    </tr>\n",
       "    <tr>\n",
       "      <th>...</th>\n",
       "      <td>...</td>\n",
       "      <td>...</td>\n",
       "      <td>...</td>\n",
       "      <td>...</td>\n",
       "      <td>...</td>\n",
       "      <td>...</td>\n",
       "      <td>...</td>\n",
       "      <td>...</td>\n",
       "      <td>...</td>\n",
       "      <td>...</td>\n",
       "      <td>...</td>\n",
       "      <td>...</td>\n",
       "      <td>...</td>\n",
       "    </tr>\n",
       "    <tr>\n",
       "      <th>3988</th>\n",
       "      <td>Алматы</td>\n",
       "      <td>HyundaiSonata</td>\n",
       "      <td>2020</td>\n",
       "      <td>седан</td>\n",
       "      <td>2.5</td>\n",
       "      <td>25000</td>\n",
       "      <td>автомат</td>\n",
       "      <td>слева</td>\n",
       "      <td>белый металлик</td>\n",
       "      <td>передний привод</td>\n",
       "      <td>Да</td>\n",
       "      <td>бензин</td>\n",
       "      <td>13200000</td>\n",
       "    </tr>\n",
       "    <tr>\n",
       "      <th>3990</th>\n",
       "      <td>Павлодар</td>\n",
       "      <td>ToyotaCamry</td>\n",
       "      <td>2006</td>\n",
       "      <td>седан</td>\n",
       "      <td>2.4</td>\n",
       "      <td>229000</td>\n",
       "      <td>автомат</td>\n",
       "      <td>слева</td>\n",
       "      <td>серебристый</td>\n",
       "      <td>передний привод</td>\n",
       "      <td>Нет</td>\n",
       "      <td>бензин</td>\n",
       "      <td>4000000</td>\n",
       "    </tr>\n",
       "    <tr>\n",
       "      <th>3994</th>\n",
       "      <td>Алматы</td>\n",
       "      <td>SkodaRapid</td>\n",
       "      <td>2013</td>\n",
       "      <td>хэтчбек</td>\n",
       "      <td>1.6</td>\n",
       "      <td>112500</td>\n",
       "      <td>механика</td>\n",
       "      <td>слева</td>\n",
       "      <td>серый</td>\n",
       "      <td>передний привод</td>\n",
       "      <td>Да</td>\n",
       "      <td>бензин</td>\n",
       "      <td>3350000</td>\n",
       "    </tr>\n",
       "    <tr>\n",
       "      <th>3996</th>\n",
       "      <td>Алматы</td>\n",
       "      <td>ToyotaCamry</td>\n",
       "      <td>2017</td>\n",
       "      <td>седан</td>\n",
       "      <td>2.5</td>\n",
       "      <td>67800</td>\n",
       "      <td>автомат</td>\n",
       "      <td>слева</td>\n",
       "      <td>коричневый</td>\n",
       "      <td>NaN</td>\n",
       "      <td>Да</td>\n",
       "      <td>бензин</td>\n",
       "      <td>11500000</td>\n",
       "    </tr>\n",
       "    <tr>\n",
       "      <th>3998</th>\n",
       "      <td>Алматы</td>\n",
       "      <td>ГАЗ21 (Волга)</td>\n",
       "      <td>1964</td>\n",
       "      <td>седан</td>\n",
       "      <td>2.4</td>\n",
       "      <td>60000</td>\n",
       "      <td>механика</td>\n",
       "      <td>слева</td>\n",
       "      <td>синий</td>\n",
       "      <td>задний привод</td>\n",
       "      <td>Да</td>\n",
       "      <td>бензин</td>\n",
       "      <td>3500000</td>\n",
       "    </tr>\n",
       "  </tbody>\n",
       "</table>\n",
       "<p>1072 rows × 13 columns</p>\n",
       "</div>"
      ],
      "text/plain": [
       "                  City                      Name  Year        Shell  Volume  \\\n",
       "4               Алматы                     BMWX5  2007    кроссовер     3.0   \n",
       "6     Усть-Каменогорск  ВАЗ (Lada)2114 (хэтчбек)  2013      хэтчбек     1.6   \n",
       "14              Алматы        Mercedes-BenzE 200  2008        седан     2.2   \n",
       "16             Шымкент    ВАЗ (Lada)2190 (седан)  2018        седан     1.6   \n",
       "18             Шымкент               LexusLX 570  2017  внедорожник     5.7   \n",
       "...                ...                       ...   ...          ...     ...   \n",
       "3988            Алматы             HyundaiSonata  2020        седан     2.5   \n",
       "3990          Павлодар               ToyotaCamry  2006        седан     2.4   \n",
       "3994            Алматы                SkodaRapid  2013      хэтчбек     1.6   \n",
       "3996            Алматы               ToyotaCamry  2017        седан     2.5   \n",
       "3998            Алматы             ГАЗ21 (Волга)  1964        седан     2.4   \n",
       "\n",
       "      Mileage Transmission Rudder                 Color             Gear  \\\n",
       "4      161000      автомат  слева           серебристый    полный привод   \n",
       "6       57000     механика  слева                 белый  передний привод   \n",
       "14     209000      автомат  слева       черный металлик    задний привод   \n",
       "16      19500     механика  слева  серебристый металлик  передний привод   \n",
       "18      43000      автомат  слева                 белый              NaN   \n",
       "...       ...          ...    ...                   ...              ...   \n",
       "3988    25000      автомат  слева        белый металлик  передний привод   \n",
       "3990   229000      автомат  слева           серебристый  передний привод   \n",
       "3994   112500     механика  слева                 серый  передний привод   \n",
       "3996    67800      автомат  слева            коричневый              NaN   \n",
       "3998    60000     механика  слева                 синий    задний привод   \n",
       "\n",
       "     CustomsCleared Type Engine     Price  \n",
       "4                Да      бензин   7400000  \n",
       "6                Да      бензин   1700000  \n",
       "14              Нет      дизель   3500000  \n",
       "16               Да      бензин   3450000  \n",
       "18               Да      бензин  40000000  \n",
       "...             ...         ...       ...  \n",
       "3988             Да      бензин  13200000  \n",
       "3990            Нет      бензин   4000000  \n",
       "3994             Да      бензин   3350000  \n",
       "3996             Да      бензин  11500000  \n",
       "3998             Да      бензин   3500000  \n",
       "\n",
       "[1072 rows x 13 columns]"
      ]
     },
     "execution_count": 9,
     "metadata": {},
     "output_type": "execute_result"
    }
   ],
   "source": [
    "data"
   ]
  },
  {
   "cell_type": "code",
   "execution_count": 37,
   "metadata": {},
   "outputs": [
    {
     "data": {
      "text/plain": [
       "array(['автомат', 'механика', 'типтроник'], dtype=object)"
      ]
     },
     "execution_count": 37,
     "metadata": {},
     "output_type": "execute_result"
    }
   ],
   "source": [
    "data['Transmission'].unique()"
   ]
  },
  {
   "cell_type": "code",
   "execution_count": 38,
   "metadata": {},
   "outputs": [
    {
     "data": {
      "text/html": [
       "<div>\n",
       "<style scoped>\n",
       "    .dataframe tbody tr th:only-of-type {\n",
       "        vertical-align: middle;\n",
       "    }\n",
       "\n",
       "    .dataframe tbody tr th {\n",
       "        vertical-align: top;\n",
       "    }\n",
       "\n",
       "    .dataframe thead th {\n",
       "        text-align: right;\n",
       "    }\n",
       "</style>\n",
       "<table border=\"1\" class=\"dataframe\">\n",
       "  <thead>\n",
       "    <tr style=\"text-align: right;\">\n",
       "      <th></th>\n",
       "      <th>Year</th>\n",
       "      <th>Volume</th>\n",
       "      <th>Mileage</th>\n",
       "      <th>Price</th>\n",
       "    </tr>\n",
       "  </thead>\n",
       "  <tbody>\n",
       "    <tr>\n",
       "      <th>count</th>\n",
       "      <td>1072.000000</td>\n",
       "      <td>1072.000000</td>\n",
       "      <td>1.072000e+03</td>\n",
       "      <td>1.072000e+03</td>\n",
       "    </tr>\n",
       "    <tr>\n",
       "      <th>mean</th>\n",
       "      <td>2008.722948</td>\n",
       "      <td>2.498320</td>\n",
       "      <td>1.944599e+05</td>\n",
       "      <td>7.253390e+06</td>\n",
       "    </tr>\n",
       "    <tr>\n",
       "      <th>std</th>\n",
       "      <td>7.985322</td>\n",
       "      <td>1.056966</td>\n",
       "      <td>5.648863e+05</td>\n",
       "      <td>9.074366e+06</td>\n",
       "    </tr>\n",
       "    <tr>\n",
       "      <th>min</th>\n",
       "      <td>1964.000000</td>\n",
       "      <td>0.800000</td>\n",
       "      <td>1.000000e+00</td>\n",
       "      <td>3.750000e+05</td>\n",
       "    </tr>\n",
       "    <tr>\n",
       "      <th>25%</th>\n",
       "      <td>2005.000000</td>\n",
       "      <td>1.600000</td>\n",
       "      <td>6.500000e+04</td>\n",
       "      <td>2.500000e+06</td>\n",
       "    </tr>\n",
       "    <tr>\n",
       "      <th>50%</th>\n",
       "      <td>2010.500000</td>\n",
       "      <td>2.250000</td>\n",
       "      <td>1.297280e+05</td>\n",
       "      <td>4.500000e+06</td>\n",
       "    </tr>\n",
       "    <tr>\n",
       "      <th>75%</th>\n",
       "      <td>2014.000000</td>\n",
       "      <td>3.000000</td>\n",
       "      <td>2.180000e+05</td>\n",
       "      <td>8.562500e+06</td>\n",
       "    </tr>\n",
       "    <tr>\n",
       "      <th>max</th>\n",
       "      <td>2020.000000</td>\n",
       "      <td>6.400000</td>\n",
       "      <td>9.999999e+06</td>\n",
       "      <td>1.180000e+08</td>\n",
       "    </tr>\n",
       "  </tbody>\n",
       "</table>\n",
       "</div>"
      ],
      "text/plain": [
       "              Year       Volume       Mileage         Price\n",
       "count  1072.000000  1072.000000  1.072000e+03  1.072000e+03\n",
       "mean   2008.722948     2.498320  1.944599e+05  7.253390e+06\n",
       "std       7.985322     1.056966  5.648863e+05  9.074366e+06\n",
       "min    1964.000000     0.800000  1.000000e+00  3.750000e+05\n",
       "25%    2005.000000     1.600000  6.500000e+04  2.500000e+06\n",
       "50%    2010.500000     2.250000  1.297280e+05  4.500000e+06\n",
       "75%    2014.000000     3.000000  2.180000e+05  8.562500e+06\n",
       "max    2020.000000     6.400000  9.999999e+06  1.180000e+08"
      ]
     },
     "execution_count": 38,
     "metadata": {},
     "output_type": "execute_result"
    }
   ],
   "source": [
    "data.describe()"
   ]
  },
  {
   "cell_type": "markdown",
   "metadata": {},
   "source": [
    "# Visualizing the data"
   ]
  },
  {
   "cell_type": "code",
   "execution_count": 24,
   "metadata": {},
   "outputs": [
    {
     "data": {
      "image/png": "[encoded data removed]",
      "text/plain": [
       "<Figure size 1440x576 with 2 Axes>"
      ]
     },
     "metadata": {
      "needs_background": "light"
     },
     "output_type": "display_data"
    },
    {
     "name": "stdout",
     "output_type": "stream",
     "text": [
      "Skewness: 4.667707\n",
      "Kurtosis: 36.148079\n"
     ]
    }
   ],
   "source": [
    "plt.figure(figsize=(20,8))\n",
    "\n",
    "plt.subplot(1,2,1)\n",
    "plt.title('Car Price Distribution Plot')\n",
    "sns.distplot(data['Price'])\n",
    "\n",
    "plt.subplot(1,2,2)\n",
    "plt.title('Car Price Spread')\n",
    "sns.boxplot(y=data['Price'])\n",
    "\n",
    "plt.show()\n",
    "\n",
    "#skewness and kurtosis\n",
    "print(\"Skewness: %f\" % data['Price'].skew())\n",
    "print(\"Kurtosis: %f\" % data['Price'].kurt())"
   ]
  },
  {
   "cell_type": "code",
   "execution_count": 25,
   "metadata": {},
   "outputs": [
    {
     "data": {
      "text/plain": [
       "<matplotlib.axes._subplots.AxesSubplot at 0x1b33f57ab20>"
      ]
     },
     "execution_count": 25,
     "metadata": {},
     "output_type": "execute_result"
    },
    {
     "data": {
      "image/png": "[encoded data removed]",
      "text/plain": [
       "<Figure size 432x288 with 1 Axes>"
      ]
     },
     "metadata": {
      "needs_background": "light"
     },
     "output_type": "display_data"
    }
   ],
   "source": [
    "# Record distribution over the year\n",
    "sns.distplot((data[\"Year\"]))"
   ]
  },
  {
   "cell_type": "code",
   "execution_count": 26,
   "metadata": {},
   "outputs": [
    {
     "data": {
      "image/png": "[encoded data removed]",
      "text/plain": [
       "<Figure size 432x288 with 1 Axes>"
      ]
     },
     "metadata": {
      "needs_background": "light"
     },
     "output_type": "display_data"
    }
   ],
   "source": [
    "plt1 = sns.scatterplot(x = 'Mileage', y = 'Price', data = data)\n",
    "plt1.set_xlabel('Mileage')\n",
    "plt1.set_ylabel('Price of Car (Tenge)')\n",
    "plt.show()"
   ]
  },
  {
   "cell_type": "code",
   "execution_count": 44,
   "metadata": {},
   "outputs": [
    {
     "data": {
      "image/png": "[encoded data removed]",
      "text/plain": [
       "<Figure size 432x288 with 1 Axes>"
      ]
     },
     "metadata": {
      "needs_background": "light"
     },
     "output_type": "display_data"
    }
   ],
   "source": [
    "plt1 = sns.scatterplot(x = 'Mileage', y = 'Price', hue = 'Transmission', data = data)\n",
    "plt1.set_xlabel('Mileage')\n",
    "plt1.set_ylabel('Price of Car (Tenge)')\n",
    "plt.show()"
   ]
  },
  {
   "cell_type": "code",
   "execution_count": 39,
   "metadata": {},
   "outputs": [
    {
     "data": {
      "image/png": "[encoded data removed]",
      "text/plain": [
       "<Figure size 1080x720 with 1 Axes>"
      ]
     },
     "metadata": {},
     "output_type": "display_data"
    },
    {
     "data": {
      "text/plain": [
       "<Figure size 432x288 with 0 Axes>"
      ]
     },
     "metadata": {},
     "output_type": "display_data"
    }
   ],
   "source": [
    "def showpie(columnName):\n",
    "    df_sym = pd.DataFrame(data[columnName].value_counts())\n",
    "    df_sym.plot.pie(subplots=True,labels = df_sym.index.values, autopct='%1.1f%%', figsize = (15,10))\n",
    "    # Unsquish the pie.\n",
    "    plt.gca().set_aspect('equal')\n",
    "    plt.show()\n",
    "    plt.tight_layout()\n",
    "    \n",
    "showpie('Transmission')"
   ]
  },
  {
   "cell_type": "code",
   "execution_count": 40,
   "metadata": {},
   "outputs": [
    {
     "data": {
      "image/png": "[encoded data removed]",
      "text/plain": [
       "<Figure size 1152x576 with 1 Axes>"
      ]
     },
     "metadata": {
      "needs_background": "light"
     },
     "output_type": "display_data"
    }
   ],
   "source": [
    "year_price_means = []\n",
    "years = sorted(data['Year'].unique())\n",
    "for year in years:\n",
    "    year_price_means.append(data[data['Year'] == year]['Price'].mean())\n",
    "year_price_df = pd.DataFrame(year_price_means, index=years, columns = ['Average_price'])\n",
    "year_price_df.plot(kind = 'bar', figsize = (16, 8))\n",
    "plt.title('Average price - year distribution', size = 12)\n",
    "plt.xlabel('Year')\n",
    "plt.ylabel('Average price for year');"
   ]
  },
  {
   "cell_type": "code",
   "execution_count": 41,
   "metadata": {},
   "outputs": [
    {
     "data": {
      "text/plain": [
       "Text(0.5, 1.0, 'Car amount - price distribution')"
      ]
     },
     "execution_count": 41,
     "metadata": {},
     "output_type": "execute_result"
    },
    {
     "data": {
      "image/png": "[encoded data removed]",
      "text/plain": [
       "<Figure size 1008x576 with 1 Axes>"
      ]
     },
     "metadata": {
      "needs_background": "light"
     },
     "output_type": "display_data"
    }
   ],
   "source": [
    "data['Price'].hist(figsize = (14, 8), grid = False, edgecolor = 'black');\n",
    "plt.xlabel('Price')\n",
    "plt.ylabel('Number of cars')\n",
    "plt.title('Car amount - price distribution', size = 12)"
   ]
  },
  {
   "cell_type": "code",
   "execution_count": 42,
   "metadata": {},
   "outputs": [
    {
     "data": {
      "image/png": "[encoded data removed]",
      "text/plain": [
       "<Figure size 1008x576 with 1 Axes>"
      ]
     },
     "metadata": {
      "needs_background": "light"
     },
     "output_type": "display_data"
    }
   ],
   "source": [
    "data['Mileage'].hist(figsize = (14, 8), grid = False, edgecolor = 'black');\n",
    "plt.xlabel('Mileage')\n",
    "plt.ylabel('Number of cars')\n",
    "plt.title('Car amount - mileage distribution', size = 12);"
   ]
  },
  {
   "cell_type": "code",
   "execution_count": 45,
   "metadata": {},
   "outputs": [],
   "source": [
    "data.to_csv(r'newdata.csv', index = False)"
   ]
  }
 ],
 "metadata": {
  "kernelspec": {
   "display_name": "Python 3",
   "language": "python",
   "name": "python3"
  },
  "language_info": {
   "codemirror_mode": {
    "name": "ipython",
    "version": 3
   },
   "file_extension": ".py",
   "mimetype": "text/x-python",
   "name": "python",
   "nbconvert_exporter": "python",
   "pygments_lexer": "ipython3",
   "version": "3.8.3"
  }
 },
 "nbformat": 4,
 "nbformat_minor": 4
}
